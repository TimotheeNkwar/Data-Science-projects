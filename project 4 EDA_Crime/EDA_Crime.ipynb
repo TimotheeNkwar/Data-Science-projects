{
 "cells": [
  {
   "cell_type": "markdown",
   "metadata": {},
   "source": [
    "<h1 align=\"center\">🕵️ Crime in USA </h1>"
   ]
  },
  {
   "cell_type": "markdown",
   "metadata": {},
   "source": [
    "- **import usefull libraries**"
   ]
  },
  {
   "cell_type": "code",
   "execution_count": 49,
   "metadata": {},
   "outputs": [],
   "source": [
    "# import usefull libraries\n",
    "import numpy as np\n",
    "import matplotlib.pyplot as plt\n",
    "import pandas as pd\n",
    "import morethemes as mt\n",
    "mt.set_theme(\"ft\")\n",
    "import plotly.express as px\n",
    "import matplotlib\n",
    "matplotlib.pyplot.close()"
   ]
  },
  {
   "cell_type": "markdown",
   "metadata": {},
   "source": [
    "### Available Styles\n",
    "\n",
    "- `wsj`\n",
    "- `urban`\n",
    "- `minimal`\n",
    "- `ft`\n",
    "- `nature`\n",
    "- `economist`\n",
    "- `retro`\n",
    "- `yellowish`\n",
    "- `darker`\n",
    "- `monoblue`\n"
   ]
  },
  {
   "cell_type": "markdown",
   "metadata": {},
   "source": [
    "- **Data**"
   ]
  },
  {
   "cell_type": "code",
   "execution_count": 27,
   "metadata": {},
   "outputs": [
    {
     "name": "stderr",
     "output_type": "stream",
     "text": [
      "C:\\Users\\KOVVO\\AppData\\Local\\Temp\\ipykernel_25540\\923187114.py:1: FutureWarning:\n",
      "\n",
      "Support for nested sequences for 'parse_dates' in pd.read_csv is deprecated. Combine the desired columns with pd.to_datetime after parsing instead.\n",
      "\n"
     ]
    },
    {
     "data": {
      "application/vnd.microsoft.datawrangler.viewer.v0+json": {
       "columns": [
        {
         "name": "index",
         "rawType": "int64",
         "type": "integer"
        },
        {
         "name": "DATE OCC_TIME OCC",
         "rawType": "datetime64[ns]",
         "type": "datetime"
        },
        {
         "name": "DR_NO",
         "rawType": "int64",
         "type": "integer"
        },
        {
         "name": "Date Rptd",
         "rawType": "object",
         "type": "string"
        },
        {
         "name": "AREA NAME",
         "rawType": "object",
         "type": "string"
        },
        {
         "name": "Crm Cd Desc",
         "rawType": "object",
         "type": "string"
        },
        {
         "name": "Vict Age",
         "rawType": "int64",
         "type": "integer"
        },
        {
         "name": "Vict Sex",
         "rawType": "object",
         "type": "string"
        },
        {
         "name": "Vict Descent",
         "rawType": "object",
         "type": "string"
        },
        {
         "name": "Weapon Desc",
         "rawType": "object",
         "type": "unknown"
        },
        {
         "name": "Status Desc",
         "rawType": "object",
         "type": "string"
        },
        {
         "name": "LOCATION",
         "rawType": "object",
         "type": "string"
        }
       ],
       "ref": "8258773b-45b7-43dd-9e8a-08186c7500c7",
       "rows": [
        [
         "0",
         "2020-05-12 11:10:00",
         "220314085",
         "2022-07-22",
         "Southwest",
         "THEFT OF IDENTITY",
         "27",
         "F",
         "B",
         null,
         "Invest Cont",
         "2500 S  SYCAMORE                     AV"
        ],
        [
         "1",
         "2020-06-04 16:20:00",
         "222013040",
         "2022-08-06",
         "Olympic",
         "THEFT OF IDENTITY",
         "60",
         "M",
         "H",
         null,
         "Invest Cont",
         "3300    SAN MARINO                   ST"
        ],
        [
         "2",
         "2020-08-17 12:00:00",
         "220614831",
         "2022-08-18",
         "Hollywood",
         "THEFT OF IDENTITY",
         "28",
         "M",
         "H",
         null,
         "Invest Cont",
         "1900    TRANSIENT"
        ],
        [
         "3",
         "2020-01-27 06:35:00",
         "231207725",
         "2023-02-27",
         "77th Street",
         "THEFT OF IDENTITY",
         "37",
         "M",
         "H",
         null,
         "Invest Cont",
         "6200    4TH                          AV"
        ],
        [
         "4",
         "2020-07-14 09:00:00",
         "220213256",
         "2022-07-14",
         "Rampart",
         "THEFT OF IDENTITY",
         "79",
         "M",
         "B",
         null,
         "Invest Cont",
         "1200 W  7TH                          ST"
        ]
       ],
       "shape": {
        "columns": 11,
        "rows": 5
       }
      },
      "text/html": [
       "<div>\n",
       "<style scoped>\n",
       "    .dataframe tbody tr th:only-of-type {\n",
       "        vertical-align: middle;\n",
       "    }\n",
       "\n",
       "    .dataframe tbody tr th {\n",
       "        vertical-align: top;\n",
       "    }\n",
       "\n",
       "    .dataframe thead th {\n",
       "        text-align: right;\n",
       "    }\n",
       "</style>\n",
       "<table border=\"1\" class=\"dataframe\">\n",
       "  <thead>\n",
       "    <tr style=\"text-align: right;\">\n",
       "      <th></th>\n",
       "      <th>DATE OCC_TIME OCC</th>\n",
       "      <th>DR_NO</th>\n",
       "      <th>Date Rptd</th>\n",
       "      <th>AREA NAME</th>\n",
       "      <th>Crm Cd Desc</th>\n",
       "      <th>Vict Age</th>\n",
       "      <th>Vict Sex</th>\n",
       "      <th>Vict Descent</th>\n",
       "      <th>Weapon Desc</th>\n",
       "      <th>Status Desc</th>\n",
       "      <th>LOCATION</th>\n",
       "    </tr>\n",
       "  </thead>\n",
       "  <tbody>\n",
       "    <tr>\n",
       "      <th>0</th>\n",
       "      <td>2020-05-12 11:10:00</td>\n",
       "      <td>220314085</td>\n",
       "      <td>2022-07-22</td>\n",
       "      <td>Southwest</td>\n",
       "      <td>THEFT OF IDENTITY</td>\n",
       "      <td>27</td>\n",
       "      <td>F</td>\n",
       "      <td>B</td>\n",
       "      <td>NaN</td>\n",
       "      <td>Invest Cont</td>\n",
       "      <td>2500 S  SYCAMORE                     AV</td>\n",
       "    </tr>\n",
       "    <tr>\n",
       "      <th>1</th>\n",
       "      <td>2020-06-04 16:20:00</td>\n",
       "      <td>222013040</td>\n",
       "      <td>2022-08-06</td>\n",
       "      <td>Olympic</td>\n",
       "      <td>THEFT OF IDENTITY</td>\n",
       "      <td>60</td>\n",
       "      <td>M</td>\n",
       "      <td>H</td>\n",
       "      <td>NaN</td>\n",
       "      <td>Invest Cont</td>\n",
       "      <td>3300    SAN MARINO                   ST</td>\n",
       "    </tr>\n",
       "    <tr>\n",
       "      <th>2</th>\n",
       "      <td>2020-08-17 12:00:00</td>\n",
       "      <td>220614831</td>\n",
       "      <td>2022-08-18</td>\n",
       "      <td>Hollywood</td>\n",
       "      <td>THEFT OF IDENTITY</td>\n",
       "      <td>28</td>\n",
       "      <td>M</td>\n",
       "      <td>H</td>\n",
       "      <td>NaN</td>\n",
       "      <td>Invest Cont</td>\n",
       "      <td>1900    TRANSIENT</td>\n",
       "    </tr>\n",
       "    <tr>\n",
       "      <th>3</th>\n",
       "      <td>2020-01-27 06:35:00</td>\n",
       "      <td>231207725</td>\n",
       "      <td>2023-02-27</td>\n",
       "      <td>77th Street</td>\n",
       "      <td>THEFT OF IDENTITY</td>\n",
       "      <td>37</td>\n",
       "      <td>M</td>\n",
       "      <td>H</td>\n",
       "      <td>NaN</td>\n",
       "      <td>Invest Cont</td>\n",
       "      <td>6200    4TH                          AV</td>\n",
       "    </tr>\n",
       "    <tr>\n",
       "      <th>4</th>\n",
       "      <td>2020-07-14 09:00:00</td>\n",
       "      <td>220213256</td>\n",
       "      <td>2022-07-14</td>\n",
       "      <td>Rampart</td>\n",
       "      <td>THEFT OF IDENTITY</td>\n",
       "      <td>79</td>\n",
       "      <td>M</td>\n",
       "      <td>B</td>\n",
       "      <td>NaN</td>\n",
       "      <td>Invest Cont</td>\n",
       "      <td>1200 W  7TH                          ST</td>\n",
       "    </tr>\n",
       "  </tbody>\n",
       "</table>\n",
       "</div>"
      ],
      "text/plain": [
       "    DATE OCC_TIME OCC      DR_NO   Date Rptd    AREA NAME        Crm Cd Desc  \\\n",
       "0 2020-05-12 11:10:00  220314085  2022-07-22    Southwest  THEFT OF IDENTITY   \n",
       "1 2020-06-04 16:20:00  222013040  2022-08-06      Olympic  THEFT OF IDENTITY   \n",
       "2 2020-08-17 12:00:00  220614831  2022-08-18    Hollywood  THEFT OF IDENTITY   \n",
       "3 2020-01-27 06:35:00  231207725  2023-02-27  77th Street  THEFT OF IDENTITY   \n",
       "4 2020-07-14 09:00:00  220213256  2022-07-14      Rampart  THEFT OF IDENTITY   \n",
       "\n",
       "   Vict Age Vict Sex Vict Descent Weapon Desc  Status Desc  \\\n",
       "0        27        F            B         NaN  Invest Cont   \n",
       "1        60        M            H         NaN  Invest Cont   \n",
       "2        28        M            H         NaN  Invest Cont   \n",
       "3        37        M            H         NaN  Invest Cont   \n",
       "4        79        M            B         NaN  Invest Cont   \n",
       "\n",
       "                                  LOCATION  \n",
       "0  2500 S  SYCAMORE                     AV  \n",
       "1  3300    SAN MARINO                   ST  \n",
       "2                        1900    TRANSIENT  \n",
       "3  6200    4TH                          AV  \n",
       "4  1200 W  7TH                          ST  "
      ]
     },
     "execution_count": 27,
     "metadata": {},
     "output_type": "execute_result"
    }
   ],
   "source": [
    "data = pd.read_csv('crimes.csv',parse_dates=[[\"DATE OCC\",\"TIME OCC\"]])\n",
    "data.head()"
   ]
  },
  {
   "cell_type": "code",
   "execution_count": 28,
   "metadata": {},
   "outputs": [],
   "source": [
    "data.rename(columns={\"DATA OCC_TIME OCC\": \"Date\"}, inplace=True)\n"
   ]
  },
  {
   "cell_type": "code",
   "execution_count": 29,
   "metadata": {},
   "outputs": [
    {
     "name": "stdout",
     "output_type": "stream",
     "text": [
      "<class 'pandas.core.frame.DataFrame'>\n",
      "RangeIndex: 185715 entries, 0 to 185714\n",
      "Data columns (total 11 columns):\n",
      " #   Column             Non-Null Count   Dtype         \n",
      "---  ------             --------------   -----         \n",
      " 0   DATE OCC_TIME OCC  185715 non-null  datetime64[ns]\n",
      " 1   DR_NO              185715 non-null  int64         \n",
      " 2   Date Rptd          185715 non-null  object        \n",
      " 3   AREA NAME          185715 non-null  object        \n",
      " 4   Crm Cd Desc        185715 non-null  object        \n",
      " 5   Vict Age           185715 non-null  int64         \n",
      " 6   Vict Sex           185704 non-null  object        \n",
      " 7   Vict Descent       185705 non-null  object        \n",
      " 8   Weapon Desc        73502 non-null   object        \n",
      " 9   Status Desc        185715 non-null  object        \n",
      " 10  LOCATION           185715 non-null  object        \n",
      "dtypes: datetime64[ns](1), int64(2), object(8)\n",
      "memory usage: 15.6+ MB\n"
     ]
    }
   ],
   "source": [
    "data.info()"
   ]
  },
  {
   "cell_type": "code",
   "execution_count": 36,
   "metadata": {},
   "outputs": [],
   "source": [
    "data[\"Month\"] = data[\"DATE OCC_TIME OCC\"].dt.month"
   ]
  },
  {
   "cell_type": "code",
   "execution_count": 34,
   "metadata": {},
   "outputs": [
    {
     "data": {
      "application/vnd.microsoft.datawrangler.viewer.v0+json": {
       "columns": [
        {
         "name": "index",
         "rawType": "int64",
         "type": "integer"
        },
        {
         "name": "Month_txt",
         "rawType": "object",
         "type": "string"
        }
       ],
       "ref": "147a0000-ced8-4518-a664-346743f392c6",
       "rows": [
        [
         "0",
         "May"
        ],
        [
         "1",
         "June"
        ],
        [
         "2",
         "August"
        ],
        [
         "3",
         "January"
        ],
        [
         "4",
         "July"
        ],
        [
         "5",
         "February"
        ],
        [
         "6",
         "April"
        ],
        [
         "7",
         "January"
        ],
        [
         "8",
         "August"
        ],
        [
         "9",
         "July"
        ],
        [
         "10",
         "May"
        ],
        [
         "11",
         "July"
        ],
        [
         "12",
         "June"
        ],
        [
         "13",
         "November"
        ],
        [
         "14",
         "April"
        ],
        [
         "15",
         "February"
        ],
        [
         "16",
         "September"
        ],
        [
         "17",
         "December"
        ],
        [
         "18",
         "November"
        ],
        [
         "19",
         "September"
        ],
        [
         "20",
         "January"
        ],
        [
         "21",
         "February"
        ],
        [
         "22",
         "July"
        ],
        [
         "23",
         "February"
        ],
        [
         "24",
         "May"
        ],
        [
         "25",
         "June"
        ],
        [
         "26",
         "January"
        ],
        [
         "27",
         "December"
        ],
        [
         "28",
         "March"
        ],
        [
         "29",
         "March"
        ],
        [
         "30",
         "April"
        ],
        [
         "31",
         "June"
        ],
        [
         "32",
         "July"
        ],
        [
         "33",
         "July"
        ],
        [
         "34",
         "October"
        ],
        [
         "35",
         "June"
        ],
        [
         "36",
         "January"
        ],
        [
         "37",
         "July"
        ],
        [
         "38",
         "January"
        ],
        [
         "39",
         "July"
        ],
        [
         "40",
         "February"
        ],
        [
         "41",
         "November"
        ],
        [
         "42",
         "January"
        ],
        [
         "43",
         "May"
        ],
        [
         "44",
         "December"
        ],
        [
         "45",
         "September"
        ],
        [
         "46",
         "June"
        ],
        [
         "47",
         "January"
        ],
        [
         "48",
         "July"
        ],
        [
         "49",
         "July"
        ]
       ],
       "shape": {
        "columns": 1,
        "rows": 185715
       }
      },
      "text/plain": [
       "0             May\n",
       "1            June\n",
       "2          August\n",
       "3         January\n",
       "4            July\n",
       "           ...   \n",
       "185710        May\n",
       "185711    January\n",
       "185712      March\n",
       "185713      April\n",
       "185714      March\n",
       "Name: Month_txt, Length: 185715, dtype: object"
      ]
     },
     "execution_count": 34,
     "metadata": {},
     "output_type": "execute_result"
    }
   ],
   "source": [
    "data[\"Month_txt\"] = data[\"DATE OCC_TIME OCC\"].dt.month_name()\n",
    "data[\"Month_txt\"]"
   ]
  },
  {
   "cell_type": "code",
   "execution_count": 37,
   "metadata": {},
   "outputs": [
    {
     "data": {
      "application/vnd.microsoft.datawrangler.viewer.v0+json": {
       "columns": [
        {
         "name": "index",
         "rawType": "int64",
         "type": "integer"
        },
        {
         "name": "DATE OCC_TIME OCC",
         "rawType": "datetime64[ns]",
         "type": "datetime"
        },
        {
         "name": "DR_NO",
         "rawType": "int64",
         "type": "integer"
        },
        {
         "name": "Date Rptd",
         "rawType": "object",
         "type": "string"
        },
        {
         "name": "AREA NAME",
         "rawType": "object",
         "type": "string"
        },
        {
         "name": "Crm Cd Desc",
         "rawType": "object",
         "type": "string"
        },
        {
         "name": "Vict Age",
         "rawType": "int64",
         "type": "integer"
        },
        {
         "name": "Vict Sex",
         "rawType": "object",
         "type": "unknown"
        },
        {
         "name": "Vict Descent",
         "rawType": "object",
         "type": "unknown"
        },
        {
         "name": "Weapon Desc",
         "rawType": "object",
         "type": "unknown"
        },
        {
         "name": "Status Desc",
         "rawType": "object",
         "type": "string"
        },
        {
         "name": "LOCATION",
         "rawType": "object",
         "type": "string"
        },
        {
         "name": "Month_txt",
         "rawType": "object",
         "type": "string"
        },
        {
         "name": "Month",
         "rawType": "int32",
         "type": "integer"
        }
       ],
       "ref": "53bd749d-b497-467d-843a-98d1afbb5b8e",
       "rows": [
        [
         "0",
         "2020-05-12 11:10:00",
         "220314085",
         "2022-07-22",
         "Southwest",
         "THEFT OF IDENTITY",
         "27",
         "F",
         "B",
         null,
         "Invest Cont",
         "2500 S  SYCAMORE                     AV",
         "May",
         "5"
        ],
        [
         "1",
         "2020-06-04 16:20:00",
         "222013040",
         "2022-08-06",
         "Olympic",
         "THEFT OF IDENTITY",
         "60",
         "M",
         "H",
         null,
         "Invest Cont",
         "3300    SAN MARINO                   ST",
         "June",
         "6"
        ],
        [
         "2",
         "2020-08-17 12:00:00",
         "220614831",
         "2022-08-18",
         "Hollywood",
         "THEFT OF IDENTITY",
         "28",
         "M",
         "H",
         null,
         "Invest Cont",
         "1900    TRANSIENT",
         "August",
         "8"
        ],
        [
         "3",
         "2020-01-27 06:35:00",
         "231207725",
         "2023-02-27",
         "77th Street",
         "THEFT OF IDENTITY",
         "37",
         "M",
         "H",
         null,
         "Invest Cont",
         "6200    4TH                          AV",
         "January",
         "1"
        ],
        [
         "4",
         "2020-07-14 09:00:00",
         "220213256",
         "2022-07-14",
         "Rampart",
         "THEFT OF IDENTITY",
         "79",
         "M",
         "B",
         null,
         "Invest Cont",
         "1200 W  7TH                          ST",
         "July",
         "7"
        ],
        [
         "5",
         "2020-02-23 10:00:00",
         "221216052",
         "2022-07-07",
         "77th Street",
         "THEFT OF IDENTITY",
         "28",
         "F",
         "B",
         null,
         "Invest Cont",
         "500 W  75TH                         ST",
         "February",
         "2"
        ],
        [
         "6",
         "2020-04-01 12:00:00",
         "221515929",
         "2022-10-10",
         "N Hollywood",
         "THEFT OF IDENTITY",
         "33",
         "M",
         "W",
         null,
         "Invest Cont",
         "5700    CARTWRIGHT                   AV",
         "April",
         "4"
        ],
        [
         "7",
         "2020-01-14 13:35:00",
         "231906599",
         "2023-03-03",
         "Mission",
         "THEFT OF IDENTITY",
         "35",
         "M",
         "O",
         null,
         "Invest Cont",
         "14500    WILLOWGREEN                  LN",
         "January",
         "1"
        ],
        [
         "8",
         "2020-08-15 00:01:00",
         "231207476",
         "2023-02-27",
         "77th Street",
         "BURGLARY",
         "72",
         "M",
         "B",
         null,
         "Invest Cont",
         "8800    HAAS                         AV",
         "August",
         "8"
        ],
        [
         "9",
         "2020-07-15 17:00:00",
         "231506571",
         "2023-03-03",
         "N Hollywood",
         "OTHER MISCELLANEOUS CRIME",
         "21",
         "F",
         "W",
         "VERBAL THREAT",
         "Invest Cont",
         "12300    EMELITA                      ST",
         "July",
         "7"
        ],
        [
         "10",
         "2020-05-15 01:55:00",
         "221711184",
         "2022-06-15",
         "Devonshire",
         "THEFT OF IDENTITY",
         "27",
         "M",
         "B",
         null,
         "Invest Cont",
         "8300    WHITE OAK                    AV",
         "May",
         "5"
        ],
        [
         "11",
         "2020-07-01 11:30:00",
         "220119956",
         "2022-09-06",
         "Central",
         "THEFT OF IDENTITY",
         "22",
         "F",
         "B",
         null,
         "Invest Cont",
         "800 S  HOPE                         ST",
         "July",
         "7"
        ],
        [
         "12",
         "2020-06-01 12:00:00",
         "221516944",
         "2022-11-03",
         "N Hollywood",
         "THEFT OF IDENTITY",
         "59",
         "M",
         "O",
         null,
         "Invest Cont",
         "6700    BAKMAN                       AV",
         "June",
         "6"
        ],
        [
         "13",
         "2020-11-08 10:05:00",
         "220712955",
         "2022-08-16",
         "Wilshire",
         "THEFT PLAIN - PETTY ($950 & UNDER)",
         "59",
         "F",
         "O",
         null,
         "Invest Cont",
         "100 S  FLORES                       ST",
         "November",
         "11"
        ],
        [
         "14",
         "2020-04-17 09:55:00",
         "221913440",
         "2022-08-20",
         "Mission",
         "THEFT OF IDENTITY",
         "78",
         "F",
         "W",
         null,
         "Invest Cont",
         "15200    COBALT                       ST",
         "April",
         "4"
        ],
        [
         "15",
         "2020-02-17 12:40:00",
         "231207740",
         "2023-02-17",
         "77th Street",
         "THEFT OF IDENTITY",
         "52",
         "M",
         "O",
         null,
         "Invest Cont",
         "700 E  80TH                         ST",
         "February",
         "2"
        ],
        [
         "16",
         "2020-09-11 21:00:00",
         "220316688",
         "2022-09-12",
         "Southwest",
         "THEFT FROM MOTOR VEHICLE - GRAND ($950.01 AND OVER)",
         "27",
         "F",
         "O",
         null,
         "Invest Cont",
         "1300 W  37TH                         DR",
         "September",
         "9"
        ],
        [
         "17",
         "2020-12-10 07:00:00",
         "221312369",
         "2022-06-03",
         "Newton",
         "THEFT OF IDENTITY",
         "33",
         "M",
         "H",
         null,
         "Invest Cont",
         "2700 S  CENTRAL                      AV",
         "December",
         "12"
        ],
        [
         "18",
         "2020-11-01 11:00:00",
         "221912723",
         "2022-08-02",
         "Mission",
         "DOCUMENT FORGERY / STOLEN FELONY",
         "56",
         "F",
         "H",
         null,
         "Invest Cont",
         "8900    BURNET                       AV",
         "November",
         "11"
        ],
        [
         "19",
         "2020-09-15 15:41:00",
         "220120619",
         "2022-09-16",
         "Central",
         "VANDALISM - FELONY ($400 & OVER, ALL CHURCH VANDALISMS)",
         "26",
         "M",
         "H",
         null,
         "Invest Cont",
         "900 S  MAIN                         ST",
         "September",
         "9"
        ],
        [
         "20",
         "2020-01-01 12:00:00",
         "221216517",
         "2022-07-14",
         "77th Street",
         "HUMAN TRAFFICKING - INVOLUNTARY SERVITUDE",
         "22",
         "F",
         "B",
         "STRONG-ARM (HANDS, FIST, FEET OR BODILY FORCE)",
         "Invest Cont",
         "FIGUEROA",
         "January",
         "1"
        ],
        [
         "21",
         "2020-02-28 16:25:00",
         "221110658",
         "2022-06-21",
         "Northeast",
         "THEFT OF IDENTITY",
         "39",
         "M",
         "C",
         null,
         "Invest Cont",
         "3600    TRACY                        ST",
         "February",
         "2"
        ],
        [
         "22",
         "2020-07-11 12:00:00",
         "221511470",
         "2022-06-22",
         "N Hollywood",
         "THEFT OF IDENTITY",
         "63",
         "M",
         "W",
         null,
         "Invest Cont",
         "12600    OTSEGO                       ST",
         "July",
         "7"
        ],
        [
         "23",
         "2020-02-01 05:05:00",
         "220911866",
         "2022-07-26",
         "Van Nuys",
         "THEFT OF IDENTITY",
         "34",
         "F",
         "W",
         null,
         "Invest Cont",
         "15200    LA MAIDA                     ST",
         "February",
         "2"
        ],
        [
         "24",
         "2020-05-17 16:20:00",
         "220321807",
         "2022-12-13",
         "Southwest",
         "THEFT OF IDENTITY",
         "50",
         "M",
         "B",
         null,
         "Invest Cont",
         "1400 W  25TH                         ST",
         "May",
         "5"
        ],
        [
         "25",
         "2020-06-22 13:00:00",
         "220411016",
         "2022-07-18",
         "Hollenbeck",
         "BURGLARY",
         "68",
         "M",
         "H",
         null,
         "Invest Cont",
         "4800    VALLEY                       BL",
         "June",
         "6"
        ],
        [
         "26",
         "2020-01-01 12:00:00",
         "222017787",
         "2022-11-30",
         "Olympic",
         "ORAL COPULATION",
         "12",
         "F",
         "H",
         "STRONG-ARM (HANDS, FIST, FEET OR BODILY FORCE)",
         "Invest Cont",
         "1100    ARAPAHOE                     ST",
         "January",
         "1"
        ],
        [
         "27",
         "2020-12-02 15:10:00",
         "221718084",
         "2022-12-20",
         "Devonshire",
         "THEFT PLAIN - PETTY ($950 & UNDER)",
         "15",
         "F",
         "H",
         null,
         "Invest Cont",
         "9300    TAMPA                        AV",
         "December",
         "12"
        ],
        [
         "28",
         "2020-03-23 12:00:00",
         "220116036",
         "2022-06-17",
         "Central",
         "THEFT OF IDENTITY",
         "48",
         "M",
         "B",
         null,
         "Invest Cont",
         "100 E  3RD                          ST",
         "March",
         "3"
        ],
        [
         "29",
         "2020-03-10 18:00:00",
         "221713038",
         "2022-08-31",
         "Devonshire",
         "BUNCO, GRAND THEFT",
         "32",
         "M",
         "O",
         null,
         "Invest Cont",
         "18400    PLUMMER                      ST",
         "March",
         "3"
        ],
        [
         "30",
         "2020-04-07 00:01:00",
         "221314362",
         "2022-07-11",
         "Newton",
         "THEFT OF IDENTITY",
         "53",
         "F",
         "H",
         null,
         "Invest Cont",
         "1600 E  OLYMPIC                      BL",
         "April",
         "4"
        ],
        [
         "31",
         "2020-06-02 19:16:00",
         "231006256",
         "2023-02-27",
         "West Valley",
         "VANDALISM - FELONY ($400 & OVER, ALL CHURCH VANDALISMS)",
         "50",
         "M",
         "O",
         null,
         "Adult Other",
         "16200    VENTURA                      BL",
         "June",
         "6"
        ],
        [
         "32",
         "2020-07-19 18:00:00",
         "221011819",
         "2022-07-20",
         "West Valley",
         "THEFT FROM MOTOR VEHICLE - GRAND ($950.01 AND OVER)",
         "80",
         "F",
         "K",
         null,
         "Invest Cont",
         "18400    INGOMAR                      ST",
         "July",
         "7"
        ],
        [
         "33",
         "2020-07-05 23:05:00",
         "231307252",
         "2023-03-03",
         "Newton",
         "THEFT OF IDENTITY",
         "22",
         "F",
         "B",
         null,
         "Invest Cont",
         "6600 S  BROADWAY",
         "July",
         "7"
        ],
        [
         "34",
         "2020-10-24 09:55:00",
         "221110416",
         "2022-06-14",
         "Northeast",
         "THEFT OF IDENTITY",
         "37",
         "M",
         "O",
         null,
         "Invest Cont",
         "3900    GLENFELIZ                    BL",
         "October",
         "10"
        ],
        [
         "35",
         "2020-06-30 14:00:00",
         "220313293",
         "2022-07-06",
         "Southwest",
         "INTIMATE PARTNER - SIMPLE ASSAULT",
         "25",
         "F",
         "B",
         "STRONG-ARM (HANDS, FIST, FEET OR BODILY FORCE)",
         "Invest Cont",
         "VERMONT                      AV",
         "June",
         "6"
        ],
        [
         "36",
         "2020-01-01 00:01:00",
         "221614254",
         "2022-11-13",
         "Foothill",
         "THEFT OF IDENTITY",
         "22",
         "F",
         "H",
         null,
         "Invest Cont",
         "10200    TELFAIR                      AV",
         "January",
         "1"
        ],
        [
         "37",
         "2020-07-12 19:25:00",
         "230706782",
         "2023-03-01",
         "Wilshire",
         "THEFT OF IDENTITY",
         "47",
         "F",
         "W",
         null,
         "Invest Cont",
         "100 S  POINSETTIA                   PL",
         "July",
         "7"
        ],
        [
         "38",
         "2020-01-01 10:30:00",
         "220214942",
         "2022-08-11",
         "Rampart",
         "THEFT FROM MOTOR VEHICLE - GRAND ($950.01 AND OVER)",
         "43",
         "M",
         "V",
         null,
         "Invest Cont",
         "1500 W  OLYMPIC                      BL",
         "January",
         "1"
        ],
        [
         "39",
         "2020-07-01 00:01:00",
         "220710510",
         "2022-06-16",
         "Wilshire",
         "EMBEZZLEMENT, GRAND THEFT ($950.01 & OVER)",
         "19",
         "X",
         "X",
         null,
         "Invest Cont",
         "6100    WILSHIRE                     BL",
         "July",
         "7"
        ],
        [
         "40",
         "2020-02-25 00:01:00",
         "220114107",
         "2022-06-13",
         "Central",
         "THEFT OF IDENTITY",
         "23",
         "M",
         "B",
         null,
         "Invest Cont",
         "600 S  MAIN                         ST",
         "February",
         "2"
        ],
        [
         "41",
         "2020-11-19 00:01:00",
         "220910623",
         "2022-06-21",
         "Van Nuys",
         "THEFT OF IDENTITY",
         "53",
         "F",
         "W",
         null,
         "Invest Cont",
         "6300    MORSE                        AV",
         "November",
         "11"
        ],
        [
         "42",
         "2020-01-24 14:15:00",
         "221510639",
         "2022-06-05",
         "N Hollywood",
         "THEFT OF IDENTITY",
         "58",
         "M",
         "H",
         null,
         "Invest Cont",
         "5500    STROHM                       AV",
         "January",
         "1"
        ],
        [
         "43",
         "2020-05-29 06:11:00",
         "220113458",
         "2022-06-02",
         "Central",
         "THEFT OF IDENTITY",
         "38",
         "M",
         "B",
         null,
         "Invest Cont",
         "500 E  6TH                          ST",
         "May",
         "5"
        ],
        [
         "44",
         "2020-12-01 14:00:00",
         "221213066",
         "2022-06-03",
         "77th Street",
         "TRESPASSING",
         "34",
         "F",
         "B",
         "PHYSICAL PRESENCE",
         "Invest Cont",
         "1100 W  49TH                         ST",
         "December",
         "12"
        ],
        [
         "45",
         "2020-09-02 12:00:00",
         "220113408",
         "2022-06-01",
         "Central",
         "THEFT OF IDENTITY",
         "30",
         "F",
         "B",
         null,
         "Invest Cont",
         "600 S  SANTA FE                     AV",
         "September",
         "9"
        ],
        [
         "46",
         "2020-06-01 12:00:00",
         "221910282",
         "2022-06-02",
         "Mission",
         "THEFT OF IDENTITY",
         "23",
         "F",
         "W",
         null,
         "Invest Cont",
         "15300    RAYEN                        ST",
         "June",
         "6"
        ],
        [
         "47",
         "2020-01-01 00:01:00",
         "222110021",
         "2022-06-02",
         "Topanga",
         "THEFT OF IDENTITY",
         "25",
         "F",
         "B",
         null,
         "Invest Cont",
         "23100    AVENUE SAN LUIS",
         "January",
         "1"
        ],
        [
         "48",
         "2020-07-15 12:30:00",
         "220211247",
         "2022-06-02",
         "Rampart",
         "THEFT OF IDENTITY",
         "38",
         "F",
         "B",
         null,
         "Invest Cont",
         "1200 W  8TH                          ST",
         "July",
         "7"
        ],
        [
         "49",
         "2020-07-01 07:45:00",
         "220710105",
         "2022-06-06",
         "Wilshire",
         "THEFT OF IDENTITY",
         "70",
         "M",
         "W",
         null,
         "Invest Cont",
         "1100 S  RIDGELEY                     DR",
         "July",
         "7"
        ]
       ],
       "shape": {
        "columns": 13,
        "rows": 185715
       }
      },
      "text/html": [
       "<div>\n",
       "<style scoped>\n",
       "    .dataframe tbody tr th:only-of-type {\n",
       "        vertical-align: middle;\n",
       "    }\n",
       "\n",
       "    .dataframe tbody tr th {\n",
       "        vertical-align: top;\n",
       "    }\n",
       "\n",
       "    .dataframe thead th {\n",
       "        text-align: right;\n",
       "    }\n",
       "</style>\n",
       "<table border=\"1\" class=\"dataframe\">\n",
       "  <thead>\n",
       "    <tr style=\"text-align: right;\">\n",
       "      <th></th>\n",
       "      <th>DATE OCC_TIME OCC</th>\n",
       "      <th>DR_NO</th>\n",
       "      <th>Date Rptd</th>\n",
       "      <th>AREA NAME</th>\n",
       "      <th>Crm Cd Desc</th>\n",
       "      <th>Vict Age</th>\n",
       "      <th>Vict Sex</th>\n",
       "      <th>Vict Descent</th>\n",
       "      <th>Weapon Desc</th>\n",
       "      <th>Status Desc</th>\n",
       "      <th>LOCATION</th>\n",
       "      <th>Month_txt</th>\n",
       "      <th>Month</th>\n",
       "    </tr>\n",
       "  </thead>\n",
       "  <tbody>\n",
       "    <tr>\n",
       "      <th>0</th>\n",
       "      <td>2020-05-12 11:10:00</td>\n",
       "      <td>220314085</td>\n",
       "      <td>2022-07-22</td>\n",
       "      <td>Southwest</td>\n",
       "      <td>THEFT OF IDENTITY</td>\n",
       "      <td>27</td>\n",
       "      <td>F</td>\n",
       "      <td>B</td>\n",
       "      <td>NaN</td>\n",
       "      <td>Invest Cont</td>\n",
       "      <td>2500 S  SYCAMORE                     AV</td>\n",
       "      <td>May</td>\n",
       "      <td>5</td>\n",
       "    </tr>\n",
       "    <tr>\n",
       "      <th>1</th>\n",
       "      <td>2020-06-04 16:20:00</td>\n",
       "      <td>222013040</td>\n",
       "      <td>2022-08-06</td>\n",
       "      <td>Olympic</td>\n",
       "      <td>THEFT OF IDENTITY</td>\n",
       "      <td>60</td>\n",
       "      <td>M</td>\n",
       "      <td>H</td>\n",
       "      <td>NaN</td>\n",
       "      <td>Invest Cont</td>\n",
       "      <td>3300    SAN MARINO                   ST</td>\n",
       "      <td>June</td>\n",
       "      <td>6</td>\n",
       "    </tr>\n",
       "    <tr>\n",
       "      <th>2</th>\n",
       "      <td>2020-08-17 12:00:00</td>\n",
       "      <td>220614831</td>\n",
       "      <td>2022-08-18</td>\n",
       "      <td>Hollywood</td>\n",
       "      <td>THEFT OF IDENTITY</td>\n",
       "      <td>28</td>\n",
       "      <td>M</td>\n",
       "      <td>H</td>\n",
       "      <td>NaN</td>\n",
       "      <td>Invest Cont</td>\n",
       "      <td>1900    TRANSIENT</td>\n",
       "      <td>August</td>\n",
       "      <td>8</td>\n",
       "    </tr>\n",
       "    <tr>\n",
       "      <th>3</th>\n",
       "      <td>2020-01-27 06:35:00</td>\n",
       "      <td>231207725</td>\n",
       "      <td>2023-02-27</td>\n",
       "      <td>77th Street</td>\n",
       "      <td>THEFT OF IDENTITY</td>\n",
       "      <td>37</td>\n",
       "      <td>M</td>\n",
       "      <td>H</td>\n",
       "      <td>NaN</td>\n",
       "      <td>Invest Cont</td>\n",
       "      <td>6200    4TH                          AV</td>\n",
       "      <td>January</td>\n",
       "      <td>1</td>\n",
       "    </tr>\n",
       "    <tr>\n",
       "      <th>4</th>\n",
       "      <td>2020-07-14 09:00:00</td>\n",
       "      <td>220213256</td>\n",
       "      <td>2022-07-14</td>\n",
       "      <td>Rampart</td>\n",
       "      <td>THEFT OF IDENTITY</td>\n",
       "      <td>79</td>\n",
       "      <td>M</td>\n",
       "      <td>B</td>\n",
       "      <td>NaN</td>\n",
       "      <td>Invest Cont</td>\n",
       "      <td>1200 W  7TH                          ST</td>\n",
       "      <td>July</td>\n",
       "      <td>7</td>\n",
       "    </tr>\n",
       "    <tr>\n",
       "      <th>...</th>\n",
       "      <td>...</td>\n",
       "      <td>...</td>\n",
       "      <td>...</td>\n",
       "      <td>...</td>\n",
       "      <td>...</td>\n",
       "      <td>...</td>\n",
       "      <td>...</td>\n",
       "      <td>...</td>\n",
       "      <td>...</td>\n",
       "      <td>...</td>\n",
       "      <td>...</td>\n",
       "      <td>...</td>\n",
       "      <td>...</td>\n",
       "    </tr>\n",
       "    <tr>\n",
       "      <th>185710</th>\n",
       "      <td>2023-05-25 11:00:00</td>\n",
       "      <td>231510379</td>\n",
       "      <td>2023-05-29</td>\n",
       "      <td>N Hollywood</td>\n",
       "      <td>BUNCO, GRAND THEFT</td>\n",
       "      <td>25</td>\n",
       "      <td>M</td>\n",
       "      <td>W</td>\n",
       "      <td>NaN</td>\n",
       "      <td>Invest Cont</td>\n",
       "      <td>5300    DENNY                        AV</td>\n",
       "      <td>May</td>\n",
       "      <td>5</td>\n",
       "    </tr>\n",
       "    <tr>\n",
       "      <th>185711</th>\n",
       "      <td>2023-01-26 18:00:00</td>\n",
       "      <td>231604807</td>\n",
       "      <td>2023-01-27</td>\n",
       "      <td>Foothill</td>\n",
       "      <td>VANDALISM - FELONY ($400 &amp; OVER, ALL CHURCH VA...</td>\n",
       "      <td>23</td>\n",
       "      <td>M</td>\n",
       "      <td>H</td>\n",
       "      <td>NaN</td>\n",
       "      <td>Invest Cont</td>\n",
       "      <td>12500    BRANFORD                     ST</td>\n",
       "      <td>January</td>\n",
       "      <td>1</td>\n",
       "    </tr>\n",
       "    <tr>\n",
       "      <th>185712</th>\n",
       "      <td>2023-03-22 10:00:00</td>\n",
       "      <td>231606525</td>\n",
       "      <td>2023-03-22</td>\n",
       "      <td>Foothill</td>\n",
       "      <td>ASSAULT WITH DEADLY WEAPON, AGGRAVATED ASSAULT</td>\n",
       "      <td>25</td>\n",
       "      <td>F</td>\n",
       "      <td>H</td>\n",
       "      <td>STRONG-ARM (HANDS, FIST, FEET OR BODILY FORCE)</td>\n",
       "      <td>Invest Cont</td>\n",
       "      <td>12800    FILMORE                      ST</td>\n",
       "      <td>March</td>\n",
       "      <td>3</td>\n",
       "    </tr>\n",
       "    <tr>\n",
       "      <th>185713</th>\n",
       "      <td>2023-04-12 16:30:00</td>\n",
       "      <td>231210064</td>\n",
       "      <td>2023-04-12</td>\n",
       "      <td>77th Street</td>\n",
       "      <td>ASSAULT WITH DEADLY WEAPON, AGGRAVATED ASSAULT</td>\n",
       "      <td>29</td>\n",
       "      <td>M</td>\n",
       "      <td>B</td>\n",
       "      <td>UNKNOWN WEAPON/OTHER WEAPON</td>\n",
       "      <td>Invest Cont</td>\n",
       "      <td>6100 S  VERMONT                      AV</td>\n",
       "      <td>April</td>\n",
       "      <td>4</td>\n",
       "    </tr>\n",
       "    <tr>\n",
       "      <th>185714</th>\n",
       "      <td>2023-03-05 09:00:00</td>\n",
       "      <td>230906458</td>\n",
       "      <td>2023-03-05</td>\n",
       "      <td>Van Nuys</td>\n",
       "      <td>VANDALISM - MISDEAMEANOR ($399 OR UNDER)</td>\n",
       "      <td>53</td>\n",
       "      <td>F</td>\n",
       "      <td>H</td>\n",
       "      <td>NaN</td>\n",
       "      <td>Invest Cont</td>\n",
       "      <td>14500    HARTLAND                     ST</td>\n",
       "      <td>March</td>\n",
       "      <td>3</td>\n",
       "    </tr>\n",
       "  </tbody>\n",
       "</table>\n",
       "<p>185715 rows × 13 columns</p>\n",
       "</div>"
      ],
      "text/plain": [
       "         DATE OCC_TIME OCC      DR_NO   Date Rptd    AREA NAME  \\\n",
       "0      2020-05-12 11:10:00  220314085  2022-07-22    Southwest   \n",
       "1      2020-06-04 16:20:00  222013040  2022-08-06      Olympic   \n",
       "2      2020-08-17 12:00:00  220614831  2022-08-18    Hollywood   \n",
       "3      2020-01-27 06:35:00  231207725  2023-02-27  77th Street   \n",
       "4      2020-07-14 09:00:00  220213256  2022-07-14      Rampart   \n",
       "...                    ...        ...         ...          ...   \n",
       "185710 2023-05-25 11:00:00  231510379  2023-05-29  N Hollywood   \n",
       "185711 2023-01-26 18:00:00  231604807  2023-01-27     Foothill   \n",
       "185712 2023-03-22 10:00:00  231606525  2023-03-22     Foothill   \n",
       "185713 2023-04-12 16:30:00  231210064  2023-04-12  77th Street   \n",
       "185714 2023-03-05 09:00:00  230906458  2023-03-05     Van Nuys   \n",
       "\n",
       "                                              Crm Cd Desc  Vict Age Vict Sex  \\\n",
       "0                                       THEFT OF IDENTITY        27        F   \n",
       "1                                       THEFT OF IDENTITY        60        M   \n",
       "2                                       THEFT OF IDENTITY        28        M   \n",
       "3                                       THEFT OF IDENTITY        37        M   \n",
       "4                                       THEFT OF IDENTITY        79        M   \n",
       "...                                                   ...       ...      ...   \n",
       "185710                                 BUNCO, GRAND THEFT        25        M   \n",
       "185711  VANDALISM - FELONY ($400 & OVER, ALL CHURCH VA...        23        M   \n",
       "185712     ASSAULT WITH DEADLY WEAPON, AGGRAVATED ASSAULT        25        F   \n",
       "185713     ASSAULT WITH DEADLY WEAPON, AGGRAVATED ASSAULT        29        M   \n",
       "185714           VANDALISM - MISDEAMEANOR ($399 OR UNDER)        53        F   \n",
       "\n",
       "       Vict Descent                                     Weapon Desc  \\\n",
       "0                 B                                             NaN   \n",
       "1                 H                                             NaN   \n",
       "2                 H                                             NaN   \n",
       "3                 H                                             NaN   \n",
       "4                 B                                             NaN   \n",
       "...             ...                                             ...   \n",
       "185710            W                                             NaN   \n",
       "185711            H                                             NaN   \n",
       "185712            H  STRONG-ARM (HANDS, FIST, FEET OR BODILY FORCE)   \n",
       "185713            B                     UNKNOWN WEAPON/OTHER WEAPON   \n",
       "185714            H                                             NaN   \n",
       "\n",
       "        Status Desc                                  LOCATION Month_txt  Month  \n",
       "0       Invest Cont   2500 S  SYCAMORE                     AV       May      5  \n",
       "1       Invest Cont   3300    SAN MARINO                   ST      June      6  \n",
       "2       Invest Cont                         1900    TRANSIENT    August      8  \n",
       "3       Invest Cont   6200    4TH                          AV   January      1  \n",
       "4       Invest Cont   1200 W  7TH                          ST      July      7  \n",
       "...             ...                                       ...       ...    ...  \n",
       "185710  Invest Cont   5300    DENNY                        AV       May      5  \n",
       "185711  Invest Cont  12500    BRANFORD                     ST   January      1  \n",
       "185712  Invest Cont  12800    FILMORE                      ST     March      3  \n",
       "185713  Invest Cont   6100 S  VERMONT                      AV     April      4  \n",
       "185714  Invest Cont  14500    HARTLAND                     ST     March      3  \n",
       "\n",
       "[185715 rows x 13 columns]"
      ]
     },
     "execution_count": 37,
     "metadata": {},
     "output_type": "execute_result"
    }
   ],
   "source": [
    "data"
   ]
  },
  {
   "cell_type": "code",
   "execution_count": 46,
   "metadata": {},
   "outputs": [
    {
     "data": {
      "application/vnd.microsoft.datawrangler.viewer.v0+json": {
       "columns": [
        {
         "name": "index",
         "rawType": "int64",
         "type": "integer"
        },
        {
         "name": "Month",
         "rawType": "int32",
         "type": "integer"
        },
        {
         "name": "Month_txt",
         "rawType": "object",
         "type": "string"
        },
        {
         "name": "Total",
         "rawType": "int64",
         "type": "integer"
        }
       ],
       "ref": "fd6e33ff-d7f2-493c-a88b-d34214af837a",
       "rows": [
        [
         "0",
         "1",
         "January",
         "14755"
        ],
        [
         "1",
         "2",
         "February",
         "13626"
        ],
        [
         "2",
         "3",
         "March",
         "13854"
        ],
        [
         "3",
         "4",
         "April",
         "13505"
        ],
        [
         "4",
         "5",
         "May",
         "14505"
        ],
        [
         "5",
         "6",
         "June",
         "26997"
        ],
        [
         "6",
         "7",
         "July",
         "15430"
        ],
        [
         "7",
         "8",
         "August",
         "14891"
        ],
        [
         "8",
         "9",
         "September",
         "14312"
        ],
        [
         "9",
         "10",
         "October",
         "15110"
        ],
        [
         "10",
         "11",
         "November",
         "13769"
        ],
        [
         "11",
         "12",
         "December",
         "14961"
        ]
       ],
       "shape": {
        "columns": 3,
        "rows": 12
       }
      },
      "text/html": [
       "<div>\n",
       "<style scoped>\n",
       "    .dataframe tbody tr th:only-of-type {\n",
       "        vertical-align: middle;\n",
       "    }\n",
       "\n",
       "    .dataframe tbody tr th {\n",
       "        vertical-align: top;\n",
       "    }\n",
       "\n",
       "    .dataframe thead th {\n",
       "        text-align: right;\n",
       "    }\n",
       "</style>\n",
       "<table border=\"1\" class=\"dataframe\">\n",
       "  <thead>\n",
       "    <tr style=\"text-align: right;\">\n",
       "      <th></th>\n",
       "      <th>Month</th>\n",
       "      <th>Month_txt</th>\n",
       "      <th>Total</th>\n",
       "    </tr>\n",
       "  </thead>\n",
       "  <tbody>\n",
       "    <tr>\n",
       "      <th>0</th>\n",
       "      <td>1</td>\n",
       "      <td>January</td>\n",
       "      <td>14755</td>\n",
       "    </tr>\n",
       "    <tr>\n",
       "      <th>1</th>\n",
       "      <td>2</td>\n",
       "      <td>February</td>\n",
       "      <td>13626</td>\n",
       "    </tr>\n",
       "    <tr>\n",
       "      <th>2</th>\n",
       "      <td>3</td>\n",
       "      <td>March</td>\n",
       "      <td>13854</td>\n",
       "    </tr>\n",
       "    <tr>\n",
       "      <th>3</th>\n",
       "      <td>4</td>\n",
       "      <td>April</td>\n",
       "      <td>13505</td>\n",
       "    </tr>\n",
       "    <tr>\n",
       "      <th>4</th>\n",
       "      <td>5</td>\n",
       "      <td>May</td>\n",
       "      <td>14505</td>\n",
       "    </tr>\n",
       "    <tr>\n",
       "      <th>5</th>\n",
       "      <td>6</td>\n",
       "      <td>June</td>\n",
       "      <td>26997</td>\n",
       "    </tr>\n",
       "    <tr>\n",
       "      <th>6</th>\n",
       "      <td>7</td>\n",
       "      <td>July</td>\n",
       "      <td>15430</td>\n",
       "    </tr>\n",
       "    <tr>\n",
       "      <th>7</th>\n",
       "      <td>8</td>\n",
       "      <td>August</td>\n",
       "      <td>14891</td>\n",
       "    </tr>\n",
       "    <tr>\n",
       "      <th>8</th>\n",
       "      <td>9</td>\n",
       "      <td>September</td>\n",
       "      <td>14312</td>\n",
       "    </tr>\n",
       "    <tr>\n",
       "      <th>9</th>\n",
       "      <td>10</td>\n",
       "      <td>October</td>\n",
       "      <td>15110</td>\n",
       "    </tr>\n",
       "    <tr>\n",
       "      <th>10</th>\n",
       "      <td>11</td>\n",
       "      <td>November</td>\n",
       "      <td>13769</td>\n",
       "    </tr>\n",
       "    <tr>\n",
       "      <th>11</th>\n",
       "      <td>12</td>\n",
       "      <td>December</td>\n",
       "      <td>14961</td>\n",
       "    </tr>\n",
       "  </tbody>\n",
       "</table>\n",
       "</div>"
      ],
      "text/plain": [
       "    Month  Month_txt  Total\n",
       "0       1    January  14755\n",
       "1       2   February  13626\n",
       "2       3      March  13854\n",
       "3       4      April  13505\n",
       "4       5        May  14505\n",
       "5       6       June  26997\n",
       "6       7       July  15430\n",
       "7       8     August  14891\n",
       "8       9  September  14312\n",
       "9      10    October  15110\n",
       "10     11   November  13769\n",
       "11     12   December  14961"
      ]
     },
     "execution_count": 46,
     "metadata": {},
     "output_type": "execute_result"
    }
   ],
   "source": [
    "data_group = (\n",
    "    data.groupby([\"Month\", \"Month_txt\"])\n",
    "    .size()\n",
    "    .reset_index(name=\"Total\")\n",
    ")\n",
    "data_group"
   ]
  },
  {
   "cell_type": "code",
   "execution_count": 3,
   "metadata": {},
   "outputs": [
    {
     "data": {
      "application/vnd.microsoft.datawrangler.viewer.v0+json": {
       "columns": [
        {
         "name": "index",
         "rawType": "int64",
         "type": "integer"
        },
        {
         "name": "DR_NO",
         "rawType": "int64",
         "type": "integer"
        },
        {
         "name": "Date Rptd",
         "rawType": "object",
         "type": "string"
        },
        {
         "name": "DATE OCC",
         "rawType": "object",
         "type": "string"
        },
        {
         "name": "TIME OCC",
         "rawType": "int64",
         "type": "integer"
        },
        {
         "name": "AREA NAME",
         "rawType": "object",
         "type": "string"
        },
        {
         "name": "Crm Cd Desc",
         "rawType": "object",
         "type": "string"
        },
        {
         "name": "Vict Age",
         "rawType": "int64",
         "type": "integer"
        },
        {
         "name": "Vict Sex",
         "rawType": "object",
         "type": "string"
        },
        {
         "name": "Vict Descent",
         "rawType": "object",
         "type": "string"
        },
        {
         "name": "Weapon Desc",
         "rawType": "object",
         "type": "unknown"
        },
        {
         "name": "Status Desc",
         "rawType": "object",
         "type": "string"
        },
        {
         "name": "LOCATION",
         "rawType": "object",
         "type": "string"
        }
       ],
       "ref": "e42418f0-1b7a-4ef3-9d41-6f441173c012",
       "rows": [
        [
         "185710",
         "231510379",
         "2023-05-29",
         "2023-05-25",
         "1100",
         "N Hollywood",
         "BUNCO, GRAND THEFT",
         "25",
         "M",
         "W",
         null,
         "Invest Cont",
         "5300    DENNY                        AV"
        ],
        [
         "185711",
         "231604807",
         "2023-01-27",
         "2023-01-26",
         "1800",
         "Foothill",
         "VANDALISM - FELONY ($400 & OVER, ALL CHURCH VANDALISMS)",
         "23",
         "M",
         "H",
         null,
         "Invest Cont",
         "12500    BRANFORD                     ST"
        ],
        [
         "185712",
         "231606525",
         "2023-03-22",
         "2023-03-22",
         "1000",
         "Foothill",
         "ASSAULT WITH DEADLY WEAPON, AGGRAVATED ASSAULT",
         "25",
         "F",
         "H",
         "STRONG-ARM (HANDS, FIST, FEET OR BODILY FORCE)",
         "Invest Cont",
         "12800    FILMORE                      ST"
        ],
        [
         "185713",
         "231210064",
         "2023-04-12",
         "2023-04-12",
         "1630",
         "77th Street",
         "ASSAULT WITH DEADLY WEAPON, AGGRAVATED ASSAULT",
         "29",
         "M",
         "B",
         "UNKNOWN WEAPON/OTHER WEAPON",
         "Invest Cont",
         "6100 S  VERMONT                      AV"
        ],
        [
         "185714",
         "230906458",
         "2023-03-05",
         "2023-03-05",
         "900",
         "Van Nuys",
         "VANDALISM - MISDEAMEANOR ($399 OR UNDER)",
         "53",
         "F",
         "H",
         null,
         "Invest Cont",
         "14500    HARTLAND                     ST"
        ]
       ],
       "shape": {
        "columns": 12,
        "rows": 5
       }
      },
      "text/html": [
       "<div>\n",
       "<style scoped>\n",
       "    .dataframe tbody tr th:only-of-type {\n",
       "        vertical-align: middle;\n",
       "    }\n",
       "\n",
       "    .dataframe tbody tr th {\n",
       "        vertical-align: top;\n",
       "    }\n",
       "\n",
       "    .dataframe thead th {\n",
       "        text-align: right;\n",
       "    }\n",
       "</style>\n",
       "<table border=\"1\" class=\"dataframe\">\n",
       "  <thead>\n",
       "    <tr style=\"text-align: right;\">\n",
       "      <th></th>\n",
       "      <th>DR_NO</th>\n",
       "      <th>Date Rptd</th>\n",
       "      <th>DATE OCC</th>\n",
       "      <th>TIME OCC</th>\n",
       "      <th>AREA NAME</th>\n",
       "      <th>Crm Cd Desc</th>\n",
       "      <th>Vict Age</th>\n",
       "      <th>Vict Sex</th>\n",
       "      <th>Vict Descent</th>\n",
       "      <th>Weapon Desc</th>\n",
       "      <th>Status Desc</th>\n",
       "      <th>LOCATION</th>\n",
       "    </tr>\n",
       "  </thead>\n",
       "  <tbody>\n",
       "    <tr>\n",
       "      <th>185710</th>\n",
       "      <td>231510379</td>\n",
       "      <td>2023-05-29</td>\n",
       "      <td>2023-05-25</td>\n",
       "      <td>1100</td>\n",
       "      <td>N Hollywood</td>\n",
       "      <td>BUNCO, GRAND THEFT</td>\n",
       "      <td>25</td>\n",
       "      <td>M</td>\n",
       "      <td>W</td>\n",
       "      <td>NaN</td>\n",
       "      <td>Invest Cont</td>\n",
       "      <td>5300    DENNY                        AV</td>\n",
       "    </tr>\n",
       "    <tr>\n",
       "      <th>185711</th>\n",
       "      <td>231604807</td>\n",
       "      <td>2023-01-27</td>\n",
       "      <td>2023-01-26</td>\n",
       "      <td>1800</td>\n",
       "      <td>Foothill</td>\n",
       "      <td>VANDALISM - FELONY ($400 &amp; OVER, ALL CHURCH VA...</td>\n",
       "      <td>23</td>\n",
       "      <td>M</td>\n",
       "      <td>H</td>\n",
       "      <td>NaN</td>\n",
       "      <td>Invest Cont</td>\n",
       "      <td>12500    BRANFORD                     ST</td>\n",
       "    </tr>\n",
       "    <tr>\n",
       "      <th>185712</th>\n",
       "      <td>231606525</td>\n",
       "      <td>2023-03-22</td>\n",
       "      <td>2023-03-22</td>\n",
       "      <td>1000</td>\n",
       "      <td>Foothill</td>\n",
       "      <td>ASSAULT WITH DEADLY WEAPON, AGGRAVATED ASSAULT</td>\n",
       "      <td>25</td>\n",
       "      <td>F</td>\n",
       "      <td>H</td>\n",
       "      <td>STRONG-ARM (HANDS, FIST, FEET OR BODILY FORCE)</td>\n",
       "      <td>Invest Cont</td>\n",
       "      <td>12800    FILMORE                      ST</td>\n",
       "    </tr>\n",
       "    <tr>\n",
       "      <th>185713</th>\n",
       "      <td>231210064</td>\n",
       "      <td>2023-04-12</td>\n",
       "      <td>2023-04-12</td>\n",
       "      <td>1630</td>\n",
       "      <td>77th Street</td>\n",
       "      <td>ASSAULT WITH DEADLY WEAPON, AGGRAVATED ASSAULT</td>\n",
       "      <td>29</td>\n",
       "      <td>M</td>\n",
       "      <td>B</td>\n",
       "      <td>UNKNOWN WEAPON/OTHER WEAPON</td>\n",
       "      <td>Invest Cont</td>\n",
       "      <td>6100 S  VERMONT                      AV</td>\n",
       "    </tr>\n",
       "    <tr>\n",
       "      <th>185714</th>\n",
       "      <td>230906458</td>\n",
       "      <td>2023-03-05</td>\n",
       "      <td>2023-03-05</td>\n",
       "      <td>900</td>\n",
       "      <td>Van Nuys</td>\n",
       "      <td>VANDALISM - MISDEAMEANOR ($399 OR UNDER)</td>\n",
       "      <td>53</td>\n",
       "      <td>F</td>\n",
       "      <td>H</td>\n",
       "      <td>NaN</td>\n",
       "      <td>Invest Cont</td>\n",
       "      <td>14500    HARTLAND                     ST</td>\n",
       "    </tr>\n",
       "  </tbody>\n",
       "</table>\n",
       "</div>"
      ],
      "text/plain": [
       "            DR_NO   Date Rptd    DATE OCC  TIME OCC    AREA NAME  \\\n",
       "185710  231510379  2023-05-29  2023-05-25      1100  N Hollywood   \n",
       "185711  231604807  2023-01-27  2023-01-26      1800     Foothill   \n",
       "185712  231606525  2023-03-22  2023-03-22      1000     Foothill   \n",
       "185713  231210064  2023-04-12  2023-04-12      1630  77th Street   \n",
       "185714  230906458  2023-03-05  2023-03-05       900     Van Nuys   \n",
       "\n",
       "                                              Crm Cd Desc  Vict Age Vict Sex  \\\n",
       "185710                                 BUNCO, GRAND THEFT        25        M   \n",
       "185711  VANDALISM - FELONY ($400 & OVER, ALL CHURCH VA...        23        M   \n",
       "185712     ASSAULT WITH DEADLY WEAPON, AGGRAVATED ASSAULT        25        F   \n",
       "185713     ASSAULT WITH DEADLY WEAPON, AGGRAVATED ASSAULT        29        M   \n",
       "185714           VANDALISM - MISDEAMEANOR ($399 OR UNDER)        53        F   \n",
       "\n",
       "       Vict Descent                                     Weapon Desc  \\\n",
       "185710            W                                             NaN   \n",
       "185711            H                                             NaN   \n",
       "185712            H  STRONG-ARM (HANDS, FIST, FEET OR BODILY FORCE)   \n",
       "185713            B                     UNKNOWN WEAPON/OTHER WEAPON   \n",
       "185714            H                                             NaN   \n",
       "\n",
       "        Status Desc                                  LOCATION  \n",
       "185710  Invest Cont   5300    DENNY                        AV  \n",
       "185711  Invest Cont  12500    BRANFORD                     ST  \n",
       "185712  Invest Cont  12800    FILMORE                      ST  \n",
       "185713  Invest Cont   6100 S  VERMONT                      AV  \n",
       "185714  Invest Cont  14500    HARTLAND                     ST  "
      ]
     },
     "execution_count": 3,
     "metadata": {},
     "output_type": "execute_result"
    }
   ],
   "source": [
    "# show the last 5 rows of the data\n",
    "data.tail()"
   ]
  },
  {
   "cell_type": "code",
   "execution_count": 4,
   "metadata": {},
   "outputs": [
    {
     "name": "stdout",
     "output_type": "stream",
     "text": [
      "<class 'pandas.core.frame.DataFrame'>\n",
      "RangeIndex: 185715 entries, 0 to 185714\n",
      "Data columns (total 12 columns):\n",
      " #   Column        Non-Null Count   Dtype \n",
      "---  ------        --------------   ----- \n",
      " 0   DR_NO         185715 non-null  int64 \n",
      " 1   Date Rptd     185715 non-null  object\n",
      " 2   DATE OCC      185715 non-null  object\n",
      " 3   TIME OCC      185715 non-null  int64 \n",
      " 4   AREA NAME     185715 non-null  object\n",
      " 5   Crm Cd Desc   185715 non-null  object\n",
      " 6   Vict Age      185715 non-null  int64 \n",
      " 7   Vict Sex      185704 non-null  object\n",
      " 8   Vict Descent  185705 non-null  object\n",
      " 9   Weapon Desc   73502 non-null   object\n",
      " 10  Status Desc   185715 non-null  object\n",
      " 11  LOCATION      185715 non-null  object\n",
      "dtypes: int64(3), object(9)\n",
      "memory usage: 17.0+ MB\n"
     ]
    }
   ],
   "source": [
    "data.info()"
   ]
  },
  {
   "cell_type": "code",
   "execution_count": 5,
   "metadata": {},
   "outputs": [
    {
     "data": {
      "application/vnd.microsoft.datawrangler.viewer.v0+json": {
       "columns": [
        {
         "name": "AREA NAME",
         "rawType": "object",
         "type": "string"
        },
        {
         "name": "count",
         "rawType": "int64",
         "type": "integer"
        }
       ],
       "ref": "68c0b02d-ed0f-4c22-8cb7-0836fe4d5614",
       "rows": [
        [
         "Central",
         "14944"
        ],
        [
         "Southwest",
         "11945"
        ],
        [
         "77th Street",
         "11739"
        ],
        [
         "Pacific",
         "9923"
        ],
        [
         "Hollywood",
         "9762"
        ],
        [
         "Southeast",
         "9571"
        ],
        [
         "Olympic",
         "9414"
        ],
        [
         "Newton",
         "9152"
        ],
        [
         "Van Nuys",
         "8621"
        ],
        [
         "N Hollywood",
         "8502"
        ],
        [
         "Wilshire",
         "8482"
        ],
        [
         "Topanga",
         "8478"
        ],
        [
         "Rampart",
         "8346"
        ],
        [
         "West Valley",
         "8102"
        ],
        [
         "West LA",
         "7911"
        ],
        [
         "Northeast",
         "7628"
        ],
        [
         "Devonshire",
         "7411"
        ],
        [
         "Mission",
         "6990"
        ],
        [
         "Harbor",
         "6618"
        ],
        [
         "Hollenbeck",
         "6193"
        ],
        [
         "Foothill",
         "5983"
        ]
       ],
       "shape": {
        "columns": 1,
        "rows": 21
       }
      },
      "text/plain": [
       "AREA NAME\n",
       "Central        14944\n",
       "Southwest      11945\n",
       "77th Street    11739\n",
       "Pacific         9923\n",
       "Hollywood       9762\n",
       "Southeast       9571\n",
       "Olympic         9414\n",
       "Newton          9152\n",
       "Van Nuys        8621\n",
       "N Hollywood     8502\n",
       "Wilshire        8482\n",
       "Topanga         8478\n",
       "Rampart         8346\n",
       "West Valley     8102\n",
       "West LA         7911\n",
       "Northeast       7628\n",
       "Devonshire      7411\n",
       "Mission         6990\n",
       "Harbor          6618\n",
       "Hollenbeck      6193\n",
       "Foothill        5983\n",
       "Name: count, dtype: int64"
      ]
     },
     "execution_count": 5,
     "metadata": {},
     "output_type": "execute_result"
    }
   ],
   "source": [
    "data[\"AREA NAME\"].value_counts()"
   ]
  },
  {
   "cell_type": "code",
   "execution_count": 6,
   "metadata": {},
   "outputs": [
    {
     "data": {
      "application/vnd.microsoft.datawrangler.viewer.v0+json": {
       "columns": [
        {
         "name": "index",
         "rawType": "object",
         "type": "string"
        },
        {
         "name": "DR_NO",
         "rawType": "float64",
         "type": "float"
        },
        {
         "name": "TIME OCC",
         "rawType": "float64",
         "type": "float"
        },
        {
         "name": "Vict Age",
         "rawType": "float64",
         "type": "float"
        }
       ],
       "ref": "1258a7b5-1165-4f5a-bfc0-4cbd0b4bbb84",
       "rows": [
        [
         "count",
         "185715.0",
         "185715.0",
         "185715.0"
        ],
        [
         "mean",
         "225578132.11017418",
         "1300.0244137522548",
         "39.9992569259349"
        ],
        [
         "std",
         "5017437.992076425",
         "655.7531625224052",
         "15.45022685173786"
        ],
        [
         "min",
         "200907217.0",
         "1.0",
         "2.0"
        ],
        [
         "25%",
         "221010755.5",
         "830.0",
         "28.0"
        ],
        [
         "50%",
         "222011410.0",
         "1340.0",
         "37.0"
        ],
        [
         "75%",
         "231004407.5",
         "1830.0",
         "50.0"
        ],
        [
         "max",
         "239909747.0",
         "2359.0",
         "99.0"
        ]
       ],
       "shape": {
        "columns": 3,
        "rows": 8
       }
      },
      "text/html": [
       "<div>\n",
       "<style scoped>\n",
       "    .dataframe tbody tr th:only-of-type {\n",
       "        vertical-align: middle;\n",
       "    }\n",
       "\n",
       "    .dataframe tbody tr th {\n",
       "        vertical-align: top;\n",
       "    }\n",
       "\n",
       "    .dataframe thead th {\n",
       "        text-align: right;\n",
       "    }\n",
       "</style>\n",
       "<table border=\"1\" class=\"dataframe\">\n",
       "  <thead>\n",
       "    <tr style=\"text-align: right;\">\n",
       "      <th></th>\n",
       "      <th>DR_NO</th>\n",
       "      <th>TIME OCC</th>\n",
       "      <th>Vict Age</th>\n",
       "    </tr>\n",
       "  </thead>\n",
       "  <tbody>\n",
       "    <tr>\n",
       "      <th>count</th>\n",
       "      <td>1.857150e+05</td>\n",
       "      <td>185715.000000</td>\n",
       "      <td>185715.000000</td>\n",
       "    </tr>\n",
       "    <tr>\n",
       "      <th>mean</th>\n",
       "      <td>2.255781e+08</td>\n",
       "      <td>1300.024414</td>\n",
       "      <td>39.999257</td>\n",
       "    </tr>\n",
       "    <tr>\n",
       "      <th>std</th>\n",
       "      <td>5.017438e+06</td>\n",
       "      <td>655.753163</td>\n",
       "      <td>15.450227</td>\n",
       "    </tr>\n",
       "    <tr>\n",
       "      <th>min</th>\n",
       "      <td>2.009072e+08</td>\n",
       "      <td>1.000000</td>\n",
       "      <td>2.000000</td>\n",
       "    </tr>\n",
       "    <tr>\n",
       "      <th>25%</th>\n",
       "      <td>2.210108e+08</td>\n",
       "      <td>830.000000</td>\n",
       "      <td>28.000000</td>\n",
       "    </tr>\n",
       "    <tr>\n",
       "      <th>50%</th>\n",
       "      <td>2.220114e+08</td>\n",
       "      <td>1340.000000</td>\n",
       "      <td>37.000000</td>\n",
       "    </tr>\n",
       "    <tr>\n",
       "      <th>75%</th>\n",
       "      <td>2.310044e+08</td>\n",
       "      <td>1830.000000</td>\n",
       "      <td>50.000000</td>\n",
       "    </tr>\n",
       "    <tr>\n",
       "      <th>max</th>\n",
       "      <td>2.399097e+08</td>\n",
       "      <td>2359.000000</td>\n",
       "      <td>99.000000</td>\n",
       "    </tr>\n",
       "  </tbody>\n",
       "</table>\n",
       "</div>"
      ],
      "text/plain": [
       "              DR_NO       TIME OCC       Vict Age\n",
       "count  1.857150e+05  185715.000000  185715.000000\n",
       "mean   2.255781e+08    1300.024414      39.999257\n",
       "std    5.017438e+06     655.753163      15.450227\n",
       "min    2.009072e+08       1.000000       2.000000\n",
       "25%    2.210108e+08     830.000000      28.000000\n",
       "50%    2.220114e+08    1340.000000      37.000000\n",
       "75%    2.310044e+08    1830.000000      50.000000\n",
       "max    2.399097e+08    2359.000000      99.000000"
      ]
     },
     "execution_count": 6,
     "metadata": {},
     "output_type": "execute_result"
    }
   ],
   "source": [
    "data.describe()"
   ]
  },
  {
   "cell_type": "code",
   "execution_count": 7,
   "metadata": {},
   "outputs": [
    {
     "data": {
      "application/vnd.microsoft.datawrangler.viewer.v0+json": {
       "columns": [
        {
         "name": "index",
         "rawType": "object",
         "type": "string"
        },
        {
         "name": "0",
         "rawType": "float64",
         "type": "float"
        }
       ],
       "ref": "f2c8eb2e-5cf2-4fba-b1bb-7428f7e4a321",
       "rows": [
        [
         "Weapon Desc",
         "60.422152222491455"
        ],
        [
         "Vict Sex",
         "0.005923054142099453"
        ],
        [
         "Vict Descent",
         "0.005384594674635867"
        ],
        [
         "DR_NO",
         "0.0"
        ],
        [
         "TIME OCC",
         "0.0"
        ],
        [
         "DATE OCC",
         "0.0"
        ],
        [
         "Date Rptd",
         "0.0"
        ],
        [
         "AREA NAME",
         "0.0"
        ],
        [
         "Vict Age",
         "0.0"
        ],
        [
         "Crm Cd Desc",
         "0.0"
        ],
        [
         "Status Desc",
         "0.0"
        ],
        [
         "LOCATION",
         "0.0"
        ]
       ],
       "shape": {
        "columns": 1,
        "rows": 12
       }
      },
      "text/plain": [
       "Weapon Desc     60.422152\n",
       "Vict Sex         0.005923\n",
       "Vict Descent     0.005385\n",
       "DR_NO            0.000000\n",
       "TIME OCC         0.000000\n",
       "DATE OCC         0.000000\n",
       "Date Rptd        0.000000\n",
       "AREA NAME        0.000000\n",
       "Vict Age         0.000000\n",
       "Crm Cd Desc      0.000000\n",
       "Status Desc      0.000000\n",
       "LOCATION         0.000000\n",
       "dtype: float64"
      ]
     },
     "execution_count": 7,
     "metadata": {},
     "output_type": "execute_result"
    }
   ],
   "source": [
    "percent_missing_values=data.isnull().sum()*100/data.shape[0]\n",
    "percent_missing_values.sort_values(ascending=False)"
   ]
  },
  {
   "cell_type": "code",
   "execution_count": 8,
   "metadata": {},
   "outputs": [
    {
     "data": {
      "application/vnd.microsoft.datawrangler.viewer.v0+json": {
       "columns": [
        {
         "name": "Weapon Desc",
         "rawType": "object",
         "type": "string"
        },
        {
         "name": "count",
         "rawType": "int64",
         "type": "integer"
        }
       ],
       "ref": "d5d932fc-af5f-46f0-8753-5c12f527e263",
       "rows": [
        [
         "STRONG-ARM (HANDS, FIST, FEET OR BODILY FORCE)",
         "39889"
        ],
        [
         "UNKNOWN WEAPON/OTHER WEAPON",
         "7376"
        ],
        [
         "VERBAL THREAT",
         "5894"
        ],
        [
         "HAND GUN",
         "4395"
        ],
        [
         "KNIFE WITH BLADE 6INCHES OR LESS",
         "1608"
        ]
       ],
       "shape": {
        "columns": 1,
        "rows": 5
       }
      },
      "text/plain": [
       "Weapon Desc\n",
       "STRONG-ARM (HANDS, FIST, FEET OR BODILY FORCE)    39889\n",
       "UNKNOWN WEAPON/OTHER WEAPON                        7376\n",
       "VERBAL THREAT                                      5894\n",
       "HAND GUN                                           4395\n",
       "KNIFE WITH BLADE 6INCHES OR LESS                   1608\n",
       "Name: count, dtype: int64"
      ]
     },
     "execution_count": 8,
     "metadata": {},
     "output_type": "execute_result"
    }
   ],
   "source": [
    "# the top 5 weapons in the data\n",
    "\n",
    "weapon = data[\"Weapon Desc\"].value_counts().head(5)            \n",
    "weapon          "
   ]
  },
  {
   "cell_type": "code",
   "execution_count": 9,
   "metadata": {},
   "outputs": [
    {
     "data": {
      "application/vnd.plotly.v1+json": {
       "config": {
        "plotlyServerURL": "https://plot.ly"
       },
       "data": [
        {
         "hovertemplate": "variable=count<br>Weapon Desc=%{x}<br>value=%{y}<extra></extra>",
         "legendgroup": "count",
         "marker": {
          "color": "#636efa",
          "pattern": {
           "shape": ""
          }
         },
         "name": "count",
         "orientation": "v",
         "showlegend": true,
         "textposition": "auto",
         "type": "bar",
         "x": [
          "STRONG-ARM (HANDS, FIST, FEET OR BODILY FORCE)",
          "UNKNOWN WEAPON/OTHER WEAPON",
          "VERBAL THREAT",
          "HAND GUN",
          "KNIFE WITH BLADE 6INCHES OR LESS"
         ],
         "xaxis": "x",
         "y": {
          "bdata": "0ZsAANAcAAAGFwAAKxEAAEgGAAA=",
          "dtype": "i4"
         },
         "yaxis": "y"
        }
       ],
       "layout": {
        "barmode": "relative",
        "legend": {
         "title": {
          "text": "variable"
         },
         "tracegroupgap": 0
        },
        "margin": {
         "t": 60
        },
        "template": {
         "data": {
          "bar": [
           {
            "error_x": {
             "color": "#2a3f5f"
            },
            "error_y": {
             "color": "#2a3f5f"
            },
            "marker": {
             "line": {
              "color": "#E5ECF6",
              "width": 0.5
             },
             "pattern": {
              "fillmode": "overlay",
              "size": 10,
              "solidity": 0.2
             }
            },
            "type": "bar"
           }
          ],
          "barpolar": [
           {
            "marker": {
             "line": {
              "color": "#E5ECF6",
              "width": 0.5
             },
             "pattern": {
              "fillmode": "overlay",
              "size": 10,
              "solidity": 0.2
             }
            },
            "type": "barpolar"
           }
          ],
          "carpet": [
           {
            "aaxis": {
             "endlinecolor": "#2a3f5f",
             "gridcolor": "white",
             "linecolor": "white",
             "minorgridcolor": "white",
             "startlinecolor": "#2a3f5f"
            },
            "baxis": {
             "endlinecolor": "#2a3f5f",
             "gridcolor": "white",
             "linecolor": "white",
             "minorgridcolor": "white",
             "startlinecolor": "#2a3f5f"
            },
            "type": "carpet"
           }
          ],
          "choropleth": [
           {
            "colorbar": {
             "outlinewidth": 0,
             "ticks": ""
            },
            "type": "choropleth"
           }
          ],
          "contour": [
           {
            "colorbar": {
             "outlinewidth": 0,
             "ticks": ""
            },
            "colorscale": [
             [
              0,
              "#0d0887"
             ],
             [
              0.1111111111111111,
              "#46039f"
             ],
             [
              0.2222222222222222,
              "#7201a8"
             ],
             [
              0.3333333333333333,
              "#9c179e"
             ],
             [
              0.4444444444444444,
              "#bd3786"
             ],
             [
              0.5555555555555556,
              "#d8576b"
             ],
             [
              0.6666666666666666,
              "#ed7953"
             ],
             [
              0.7777777777777778,
              "#fb9f3a"
             ],
             [
              0.8888888888888888,
              "#fdca26"
             ],
             [
              1,
              "#f0f921"
             ]
            ],
            "type": "contour"
           }
          ],
          "contourcarpet": [
           {
            "colorbar": {
             "outlinewidth": 0,
             "ticks": ""
            },
            "type": "contourcarpet"
           }
          ],
          "heatmap": [
           {
            "colorbar": {
             "outlinewidth": 0,
             "ticks": ""
            },
            "colorscale": [
             [
              0,
              "#0d0887"
             ],
             [
              0.1111111111111111,
              "#46039f"
             ],
             [
              0.2222222222222222,
              "#7201a8"
             ],
             [
              0.3333333333333333,
              "#9c179e"
             ],
             [
              0.4444444444444444,
              "#bd3786"
             ],
             [
              0.5555555555555556,
              "#d8576b"
             ],
             [
              0.6666666666666666,
              "#ed7953"
             ],
             [
              0.7777777777777778,
              "#fb9f3a"
             ],
             [
              0.8888888888888888,
              "#fdca26"
             ],
             [
              1,
              "#f0f921"
             ]
            ],
            "type": "heatmap"
           }
          ],
          "histogram": [
           {
            "marker": {
             "pattern": {
              "fillmode": "overlay",
              "size": 10,
              "solidity": 0.2
             }
            },
            "type": "histogram"
           }
          ],
          "histogram2d": [
           {
            "colorbar": {
             "outlinewidth": 0,
             "ticks": ""
            },
            "colorscale": [
             [
              0,
              "#0d0887"
             ],
             [
              0.1111111111111111,
              "#46039f"
             ],
             [
              0.2222222222222222,
              "#7201a8"
             ],
             [
              0.3333333333333333,
              "#9c179e"
             ],
             [
              0.4444444444444444,
              "#bd3786"
             ],
             [
              0.5555555555555556,
              "#d8576b"
             ],
             [
              0.6666666666666666,
              "#ed7953"
             ],
             [
              0.7777777777777778,
              "#fb9f3a"
             ],
             [
              0.8888888888888888,
              "#fdca26"
             ],
             [
              1,
              "#f0f921"
             ]
            ],
            "type": "histogram2d"
           }
          ],
          "histogram2dcontour": [
           {
            "colorbar": {
             "outlinewidth": 0,
             "ticks": ""
            },
            "colorscale": [
             [
              0,
              "#0d0887"
             ],
             [
              0.1111111111111111,
              "#46039f"
             ],
             [
              0.2222222222222222,
              "#7201a8"
             ],
             [
              0.3333333333333333,
              "#9c179e"
             ],
             [
              0.4444444444444444,
              "#bd3786"
             ],
             [
              0.5555555555555556,
              "#d8576b"
             ],
             [
              0.6666666666666666,
              "#ed7953"
             ],
             [
              0.7777777777777778,
              "#fb9f3a"
             ],
             [
              0.8888888888888888,
              "#fdca26"
             ],
             [
              1,
              "#f0f921"
             ]
            ],
            "type": "histogram2dcontour"
           }
          ],
          "mesh3d": [
           {
            "colorbar": {
             "outlinewidth": 0,
             "ticks": ""
            },
            "type": "mesh3d"
           }
          ],
          "parcoords": [
           {
            "line": {
             "colorbar": {
              "outlinewidth": 0,
              "ticks": ""
             }
            },
            "type": "parcoords"
           }
          ],
          "pie": [
           {
            "automargin": true,
            "type": "pie"
           }
          ],
          "scatter": [
           {
            "fillpattern": {
             "fillmode": "overlay",
             "size": 10,
             "solidity": 0.2
            },
            "type": "scatter"
           }
          ],
          "scatter3d": [
           {
            "line": {
             "colorbar": {
              "outlinewidth": 0,
              "ticks": ""
             }
            },
            "marker": {
             "colorbar": {
              "outlinewidth": 0,
              "ticks": ""
             }
            },
            "type": "scatter3d"
           }
          ],
          "scattercarpet": [
           {
            "marker": {
             "colorbar": {
              "outlinewidth": 0,
              "ticks": ""
             }
            },
            "type": "scattercarpet"
           }
          ],
          "scattergeo": [
           {
            "marker": {
             "colorbar": {
              "outlinewidth": 0,
              "ticks": ""
             }
            },
            "type": "scattergeo"
           }
          ],
          "scattergl": [
           {
            "marker": {
             "colorbar": {
              "outlinewidth": 0,
              "ticks": ""
             }
            },
            "type": "scattergl"
           }
          ],
          "scattermap": [
           {
            "marker": {
             "colorbar": {
              "outlinewidth": 0,
              "ticks": ""
             }
            },
            "type": "scattermap"
           }
          ],
          "scattermapbox": [
           {
            "marker": {
             "colorbar": {
              "outlinewidth": 0,
              "ticks": ""
             }
            },
            "type": "scattermapbox"
           }
          ],
          "scatterpolar": [
           {
            "marker": {
             "colorbar": {
              "outlinewidth": 0,
              "ticks": ""
             }
            },
            "type": "scatterpolar"
           }
          ],
          "scatterpolargl": [
           {
            "marker": {
             "colorbar": {
              "outlinewidth": 0,
              "ticks": ""
             }
            },
            "type": "scatterpolargl"
           }
          ],
          "scatterternary": [
           {
            "marker": {
             "colorbar": {
              "outlinewidth": 0,
              "ticks": ""
             }
            },
            "type": "scatterternary"
           }
          ],
          "surface": [
           {
            "colorbar": {
             "outlinewidth": 0,
             "ticks": ""
            },
            "colorscale": [
             [
              0,
              "#0d0887"
             ],
             [
              0.1111111111111111,
              "#46039f"
             ],
             [
              0.2222222222222222,
              "#7201a8"
             ],
             [
              0.3333333333333333,
              "#9c179e"
             ],
             [
              0.4444444444444444,
              "#bd3786"
             ],
             [
              0.5555555555555556,
              "#d8576b"
             ],
             [
              0.6666666666666666,
              "#ed7953"
             ],
             [
              0.7777777777777778,
              "#fb9f3a"
             ],
             [
              0.8888888888888888,
              "#fdca26"
             ],
             [
              1,
              "#f0f921"
             ]
            ],
            "type": "surface"
           }
          ],
          "table": [
           {
            "cells": {
             "fill": {
              "color": "#EBF0F8"
             },
             "line": {
              "color": "white"
             }
            },
            "header": {
             "fill": {
              "color": "#C8D4E3"
             },
             "line": {
              "color": "white"
             }
            },
            "type": "table"
           }
          ]
         },
         "layout": {
          "annotationdefaults": {
           "arrowcolor": "#2a3f5f",
           "arrowhead": 0,
           "arrowwidth": 1
          },
          "autotypenumbers": "strict",
          "coloraxis": {
           "colorbar": {
            "outlinewidth": 0,
            "ticks": ""
           }
          },
          "colorscale": {
           "diverging": [
            [
             0,
             "#8e0152"
            ],
            [
             0.1,
             "#c51b7d"
            ],
            [
             0.2,
             "#de77ae"
            ],
            [
             0.3,
             "#f1b6da"
            ],
            [
             0.4,
             "#fde0ef"
            ],
            [
             0.5,
             "#f7f7f7"
            ],
            [
             0.6,
             "#e6f5d0"
            ],
            [
             0.7,
             "#b8e186"
            ],
            [
             0.8,
             "#7fbc41"
            ],
            [
             0.9,
             "#4d9221"
            ],
            [
             1,
             "#276419"
            ]
           ],
           "sequential": [
            [
             0,
             "#0d0887"
            ],
            [
             0.1111111111111111,
             "#46039f"
            ],
            [
             0.2222222222222222,
             "#7201a8"
            ],
            [
             0.3333333333333333,
             "#9c179e"
            ],
            [
             0.4444444444444444,
             "#bd3786"
            ],
            [
             0.5555555555555556,
             "#d8576b"
            ],
            [
             0.6666666666666666,
             "#ed7953"
            ],
            [
             0.7777777777777778,
             "#fb9f3a"
            ],
            [
             0.8888888888888888,
             "#fdca26"
            ],
            [
             1,
             "#f0f921"
            ]
           ],
           "sequentialminus": [
            [
             0,
             "#0d0887"
            ],
            [
             0.1111111111111111,
             "#46039f"
            ],
            [
             0.2222222222222222,
             "#7201a8"
            ],
            [
             0.3333333333333333,
             "#9c179e"
            ],
            [
             0.4444444444444444,
             "#bd3786"
            ],
            [
             0.5555555555555556,
             "#d8576b"
            ],
            [
             0.6666666666666666,
             "#ed7953"
            ],
            [
             0.7777777777777778,
             "#fb9f3a"
            ],
            [
             0.8888888888888888,
             "#fdca26"
            ],
            [
             1,
             "#f0f921"
            ]
           ]
          },
          "colorway": [
           "#636efa",
           "#EF553B",
           "#00cc96",
           "#ab63fa",
           "#FFA15A",
           "#19d3f3",
           "#FF6692",
           "#B6E880",
           "#FF97FF",
           "#FECB52"
          ],
          "font": {
           "color": "#2a3f5f"
          },
          "geo": {
           "bgcolor": "white",
           "lakecolor": "white",
           "landcolor": "#E5ECF6",
           "showlakes": true,
           "showland": true,
           "subunitcolor": "white"
          },
          "hoverlabel": {
           "align": "left"
          },
          "hovermode": "closest",
          "mapbox": {
           "style": "light"
          },
          "paper_bgcolor": "white",
          "plot_bgcolor": "#E5ECF6",
          "polar": {
           "angularaxis": {
            "gridcolor": "white",
            "linecolor": "white",
            "ticks": ""
           },
           "bgcolor": "#E5ECF6",
           "radialaxis": {
            "gridcolor": "white",
            "linecolor": "white",
            "ticks": ""
           }
          },
          "scene": {
           "xaxis": {
            "backgroundcolor": "#E5ECF6",
            "gridcolor": "white",
            "gridwidth": 2,
            "linecolor": "white",
            "showbackground": true,
            "ticks": "",
            "zerolinecolor": "white"
           },
           "yaxis": {
            "backgroundcolor": "#E5ECF6",
            "gridcolor": "white",
            "gridwidth": 2,
            "linecolor": "white",
            "showbackground": true,
            "ticks": "",
            "zerolinecolor": "white"
           },
           "zaxis": {
            "backgroundcolor": "#E5ECF6",
            "gridcolor": "white",
            "gridwidth": 2,
            "linecolor": "white",
            "showbackground": true,
            "ticks": "",
            "zerolinecolor": "white"
           }
          },
          "shapedefaults": {
           "line": {
            "color": "#2a3f5f"
           }
          },
          "ternary": {
           "aaxis": {
            "gridcolor": "white",
            "linecolor": "white",
            "ticks": ""
           },
           "baxis": {
            "gridcolor": "white",
            "linecolor": "white",
            "ticks": ""
           },
           "bgcolor": "#E5ECF6",
           "caxis": {
            "gridcolor": "white",
            "linecolor": "white",
            "ticks": ""
           }
          },
          "title": {
           "x": 0.05
          },
          "xaxis": {
           "automargin": true,
           "gridcolor": "white",
           "linecolor": "white",
           "ticks": "",
           "title": {
            "standoff": 15
           },
           "zerolinecolor": "white",
           "zerolinewidth": 2
          },
          "yaxis": {
           "automargin": true,
           "gridcolor": "white",
           "linecolor": "white",
           "ticks": "",
           "title": {
            "standoff": 15
           },
           "zerolinecolor": "white",
           "zerolinewidth": 2
          }
         }
        },
        "xaxis": {
         "anchor": "y",
         "domain": [
          0,
          1
         ],
         "title": {
          "text": "Weapon Desc"
         }
        },
        "yaxis": {
         "anchor": "x",
         "domain": [
          0,
          1
         ],
         "title": {
          "text": "value"
         }
        }
       }
      }
     },
     "metadata": {},
     "output_type": "display_data"
    }
   ],
   "source": [
    "px.bar( data[\"Weapon Desc\"].value_counts().head(5))"
   ]
  },
  {
   "cell_type": "code",
   "execution_count": 10,
   "metadata": {},
   "outputs": [
    {
     "data": {
      "application/vnd.microsoft.datawrangler.viewer.v0+json": {
       "columns": [
        {
         "name": "Age Group",
         "rawType": "category",
         "type": "unknown"
        },
        {
         "name": "count",
         "rawType": "int64",
         "type": "integer"
        }
       ],
       "ref": "b33385c9-1e70-46ac-9010-1019c1e24f5d",
       "rows": [
        [
         "Senior",
         "63269"
        ],
        [
         "Young Adult",
         "52299"
        ],
        [
         "Adult",
         "42157"
        ],
        [
         "Teenager",
         "23462"
        ],
        [
         "Child",
         "4528"
        ]
       ],
       "shape": {
        "columns": 1,
        "rows": 5
       }
      },
      "text/plain": [
       "Age Group\n",
       "Senior         63269\n",
       "Young Adult    52299\n",
       "Adult          42157\n",
       "Teenager       23462\n",
       "Child           4528\n",
       "Name: count, dtype: int64"
      ]
     },
     "execution_count": 10,
     "metadata": {},
     "output_type": "execute_result"
    }
   ],
   "source": [
    "\n",
    "# create the binning for the 'Vict Age' column\n",
    "bins = [0, 18, 25, 35, 45, 100]  \n",
    "\n",
    "# create the labels for the bins\n",
    "labels = ['Child', 'Teenager', 'Young Adult', 'Adult', 'Senior']\n",
    "\n",
    "# Application of the binning\n",
    "data['Age Group'] = pd.cut(data['Vict Age'], bins=bins, labels=labels, right=False)\n",
    "\n",
    "# Display the number of crimes per age group\n",
    "data['Age Group'].value_counts()\n"
   ]
  },
  {
   "cell_type": "code",
   "execution_count": 11,
   "metadata": {},
   "outputs": [
    {
     "data": {
      "application/vnd.plotly.v1+json": {
       "config": {
        "plotlyServerURL": "https://plot.ly"
       },
       "data": [
        {
         "hovertemplate": "variable=count<br>Age Group=%{x}<br>value=%{y}<extra></extra>",
         "legendgroup": "count",
         "marker": {
          "color": "#636efa",
          "pattern": {
           "shape": ""
          }
         },
         "name": "count",
         "orientation": "v",
         "showlegend": true,
         "textposition": "auto",
         "type": "bar",
         "x": [
          "Senior",
          "Young Adult",
          "Adult",
          "Teenager",
          "Child"
         ],
         "xaxis": "x",
         "y": {
          "bdata": "JfcAAEvMAACtpAAAplsAALARAAA=",
          "dtype": "i4"
         },
         "yaxis": "y"
        }
       ],
       "layout": {
        "barmode": "relative",
        "legend": {
         "title": {
          "text": "variable"
         },
         "tracegroupgap": 0
        },
        "margin": {
         "t": 60
        },
        "template": {
         "data": {
          "bar": [
           {
            "error_x": {
             "color": "#2a3f5f"
            },
            "error_y": {
             "color": "#2a3f5f"
            },
            "marker": {
             "line": {
              "color": "#E5ECF6",
              "width": 0.5
             },
             "pattern": {
              "fillmode": "overlay",
              "size": 10,
              "solidity": 0.2
             }
            },
            "type": "bar"
           }
          ],
          "barpolar": [
           {
            "marker": {
             "line": {
              "color": "#E5ECF6",
              "width": 0.5
             },
             "pattern": {
              "fillmode": "overlay",
              "size": 10,
              "solidity": 0.2
             }
            },
            "type": "barpolar"
           }
          ],
          "carpet": [
           {
            "aaxis": {
             "endlinecolor": "#2a3f5f",
             "gridcolor": "white",
             "linecolor": "white",
             "minorgridcolor": "white",
             "startlinecolor": "#2a3f5f"
            },
            "baxis": {
             "endlinecolor": "#2a3f5f",
             "gridcolor": "white",
             "linecolor": "white",
             "minorgridcolor": "white",
             "startlinecolor": "#2a3f5f"
            },
            "type": "carpet"
           }
          ],
          "choropleth": [
           {
            "colorbar": {
             "outlinewidth": 0,
             "ticks": ""
            },
            "type": "choropleth"
           }
          ],
          "contour": [
           {
            "colorbar": {
             "outlinewidth": 0,
             "ticks": ""
            },
            "colorscale": [
             [
              0,
              "#0d0887"
             ],
             [
              0.1111111111111111,
              "#46039f"
             ],
             [
              0.2222222222222222,
              "#7201a8"
             ],
             [
              0.3333333333333333,
              "#9c179e"
             ],
             [
              0.4444444444444444,
              "#bd3786"
             ],
             [
              0.5555555555555556,
              "#d8576b"
             ],
             [
              0.6666666666666666,
              "#ed7953"
             ],
             [
              0.7777777777777778,
              "#fb9f3a"
             ],
             [
              0.8888888888888888,
              "#fdca26"
             ],
             [
              1,
              "#f0f921"
             ]
            ],
            "type": "contour"
           }
          ],
          "contourcarpet": [
           {
            "colorbar": {
             "outlinewidth": 0,
             "ticks": ""
            },
            "type": "contourcarpet"
           }
          ],
          "heatmap": [
           {
            "colorbar": {
             "outlinewidth": 0,
             "ticks": ""
            },
            "colorscale": [
             [
              0,
              "#0d0887"
             ],
             [
              0.1111111111111111,
              "#46039f"
             ],
             [
              0.2222222222222222,
              "#7201a8"
             ],
             [
              0.3333333333333333,
              "#9c179e"
             ],
             [
              0.4444444444444444,
              "#bd3786"
             ],
             [
              0.5555555555555556,
              "#d8576b"
             ],
             [
              0.6666666666666666,
              "#ed7953"
             ],
             [
              0.7777777777777778,
              "#fb9f3a"
             ],
             [
              0.8888888888888888,
              "#fdca26"
             ],
             [
              1,
              "#f0f921"
             ]
            ],
            "type": "heatmap"
           }
          ],
          "histogram": [
           {
            "marker": {
             "pattern": {
              "fillmode": "overlay",
              "size": 10,
              "solidity": 0.2
             }
            },
            "type": "histogram"
           }
          ],
          "histogram2d": [
           {
            "colorbar": {
             "outlinewidth": 0,
             "ticks": ""
            },
            "colorscale": [
             [
              0,
              "#0d0887"
             ],
             [
              0.1111111111111111,
              "#46039f"
             ],
             [
              0.2222222222222222,
              "#7201a8"
             ],
             [
              0.3333333333333333,
              "#9c179e"
             ],
             [
              0.4444444444444444,
              "#bd3786"
             ],
             [
              0.5555555555555556,
              "#d8576b"
             ],
             [
              0.6666666666666666,
              "#ed7953"
             ],
             [
              0.7777777777777778,
              "#fb9f3a"
             ],
             [
              0.8888888888888888,
              "#fdca26"
             ],
             [
              1,
              "#f0f921"
             ]
            ],
            "type": "histogram2d"
           }
          ],
          "histogram2dcontour": [
           {
            "colorbar": {
             "outlinewidth": 0,
             "ticks": ""
            },
            "colorscale": [
             [
              0,
              "#0d0887"
             ],
             [
              0.1111111111111111,
              "#46039f"
             ],
             [
              0.2222222222222222,
              "#7201a8"
             ],
             [
              0.3333333333333333,
              "#9c179e"
             ],
             [
              0.4444444444444444,
              "#bd3786"
             ],
             [
              0.5555555555555556,
              "#d8576b"
             ],
             [
              0.6666666666666666,
              "#ed7953"
             ],
             [
              0.7777777777777778,
              "#fb9f3a"
             ],
             [
              0.8888888888888888,
              "#fdca26"
             ],
             [
              1,
              "#f0f921"
             ]
            ],
            "type": "histogram2dcontour"
           }
          ],
          "mesh3d": [
           {
            "colorbar": {
             "outlinewidth": 0,
             "ticks": ""
            },
            "type": "mesh3d"
           }
          ],
          "parcoords": [
           {
            "line": {
             "colorbar": {
              "outlinewidth": 0,
              "ticks": ""
             }
            },
            "type": "parcoords"
           }
          ],
          "pie": [
           {
            "automargin": true,
            "type": "pie"
           }
          ],
          "scatter": [
           {
            "fillpattern": {
             "fillmode": "overlay",
             "size": 10,
             "solidity": 0.2
            },
            "type": "scatter"
           }
          ],
          "scatter3d": [
           {
            "line": {
             "colorbar": {
              "outlinewidth": 0,
              "ticks": ""
             }
            },
            "marker": {
             "colorbar": {
              "outlinewidth": 0,
              "ticks": ""
             }
            },
            "type": "scatter3d"
           }
          ],
          "scattercarpet": [
           {
            "marker": {
             "colorbar": {
              "outlinewidth": 0,
              "ticks": ""
             }
            },
            "type": "scattercarpet"
           }
          ],
          "scattergeo": [
           {
            "marker": {
             "colorbar": {
              "outlinewidth": 0,
              "ticks": ""
             }
            },
            "type": "scattergeo"
           }
          ],
          "scattergl": [
           {
            "marker": {
             "colorbar": {
              "outlinewidth": 0,
              "ticks": ""
             }
            },
            "type": "scattergl"
           }
          ],
          "scattermap": [
           {
            "marker": {
             "colorbar": {
              "outlinewidth": 0,
              "ticks": ""
             }
            },
            "type": "scattermap"
           }
          ],
          "scattermapbox": [
           {
            "marker": {
             "colorbar": {
              "outlinewidth": 0,
              "ticks": ""
             }
            },
            "type": "scattermapbox"
           }
          ],
          "scatterpolar": [
           {
            "marker": {
             "colorbar": {
              "outlinewidth": 0,
              "ticks": ""
             }
            },
            "type": "scatterpolar"
           }
          ],
          "scatterpolargl": [
           {
            "marker": {
             "colorbar": {
              "outlinewidth": 0,
              "ticks": ""
             }
            },
            "type": "scatterpolargl"
           }
          ],
          "scatterternary": [
           {
            "marker": {
             "colorbar": {
              "outlinewidth": 0,
              "ticks": ""
             }
            },
            "type": "scatterternary"
           }
          ],
          "surface": [
           {
            "colorbar": {
             "outlinewidth": 0,
             "ticks": ""
            },
            "colorscale": [
             [
              0,
              "#0d0887"
             ],
             [
              0.1111111111111111,
              "#46039f"
             ],
             [
              0.2222222222222222,
              "#7201a8"
             ],
             [
              0.3333333333333333,
              "#9c179e"
             ],
             [
              0.4444444444444444,
              "#bd3786"
             ],
             [
              0.5555555555555556,
              "#d8576b"
             ],
             [
              0.6666666666666666,
              "#ed7953"
             ],
             [
              0.7777777777777778,
              "#fb9f3a"
             ],
             [
              0.8888888888888888,
              "#fdca26"
             ],
             [
              1,
              "#f0f921"
             ]
            ],
            "type": "surface"
           }
          ],
          "table": [
           {
            "cells": {
             "fill": {
              "color": "#EBF0F8"
             },
             "line": {
              "color": "white"
             }
            },
            "header": {
             "fill": {
              "color": "#C8D4E3"
             },
             "line": {
              "color": "white"
             }
            },
            "type": "table"
           }
          ]
         },
         "layout": {
          "annotationdefaults": {
           "arrowcolor": "#2a3f5f",
           "arrowhead": 0,
           "arrowwidth": 1
          },
          "autotypenumbers": "strict",
          "coloraxis": {
           "colorbar": {
            "outlinewidth": 0,
            "ticks": ""
           }
          },
          "colorscale": {
           "diverging": [
            [
             0,
             "#8e0152"
            ],
            [
             0.1,
             "#c51b7d"
            ],
            [
             0.2,
             "#de77ae"
            ],
            [
             0.3,
             "#f1b6da"
            ],
            [
             0.4,
             "#fde0ef"
            ],
            [
             0.5,
             "#f7f7f7"
            ],
            [
             0.6,
             "#e6f5d0"
            ],
            [
             0.7,
             "#b8e186"
            ],
            [
             0.8,
             "#7fbc41"
            ],
            [
             0.9,
             "#4d9221"
            ],
            [
             1,
             "#276419"
            ]
           ],
           "sequential": [
            [
             0,
             "#0d0887"
            ],
            [
             0.1111111111111111,
             "#46039f"
            ],
            [
             0.2222222222222222,
             "#7201a8"
            ],
            [
             0.3333333333333333,
             "#9c179e"
            ],
            [
             0.4444444444444444,
             "#bd3786"
            ],
            [
             0.5555555555555556,
             "#d8576b"
            ],
            [
             0.6666666666666666,
             "#ed7953"
            ],
            [
             0.7777777777777778,
             "#fb9f3a"
            ],
            [
             0.8888888888888888,
             "#fdca26"
            ],
            [
             1,
             "#f0f921"
            ]
           ],
           "sequentialminus": [
            [
             0,
             "#0d0887"
            ],
            [
             0.1111111111111111,
             "#46039f"
            ],
            [
             0.2222222222222222,
             "#7201a8"
            ],
            [
             0.3333333333333333,
             "#9c179e"
            ],
            [
             0.4444444444444444,
             "#bd3786"
            ],
            [
             0.5555555555555556,
             "#d8576b"
            ],
            [
             0.6666666666666666,
             "#ed7953"
            ],
            [
             0.7777777777777778,
             "#fb9f3a"
            ],
            [
             0.8888888888888888,
             "#fdca26"
            ],
            [
             1,
             "#f0f921"
            ]
           ]
          },
          "colorway": [
           "#636efa",
           "#EF553B",
           "#00cc96",
           "#ab63fa",
           "#FFA15A",
           "#19d3f3",
           "#FF6692",
           "#B6E880",
           "#FF97FF",
           "#FECB52"
          ],
          "font": {
           "color": "#2a3f5f"
          },
          "geo": {
           "bgcolor": "white",
           "lakecolor": "white",
           "landcolor": "#E5ECF6",
           "showlakes": true,
           "showland": true,
           "subunitcolor": "white"
          },
          "hoverlabel": {
           "align": "left"
          },
          "hovermode": "closest",
          "mapbox": {
           "style": "light"
          },
          "paper_bgcolor": "white",
          "plot_bgcolor": "#E5ECF6",
          "polar": {
           "angularaxis": {
            "gridcolor": "white",
            "linecolor": "white",
            "ticks": ""
           },
           "bgcolor": "#E5ECF6",
           "radialaxis": {
            "gridcolor": "white",
            "linecolor": "white",
            "ticks": ""
           }
          },
          "scene": {
           "xaxis": {
            "backgroundcolor": "#E5ECF6",
            "gridcolor": "white",
            "gridwidth": 2,
            "linecolor": "white",
            "showbackground": true,
            "ticks": "",
            "zerolinecolor": "white"
           },
           "yaxis": {
            "backgroundcolor": "#E5ECF6",
            "gridcolor": "white",
            "gridwidth": 2,
            "linecolor": "white",
            "showbackground": true,
            "ticks": "",
            "zerolinecolor": "white"
           },
           "zaxis": {
            "backgroundcolor": "#E5ECF6",
            "gridcolor": "white",
            "gridwidth": 2,
            "linecolor": "white",
            "showbackground": true,
            "ticks": "",
            "zerolinecolor": "white"
           }
          },
          "shapedefaults": {
           "line": {
            "color": "#2a3f5f"
           }
          },
          "ternary": {
           "aaxis": {
            "gridcolor": "white",
            "linecolor": "white",
            "ticks": ""
           },
           "baxis": {
            "gridcolor": "white",
            "linecolor": "white",
            "ticks": ""
           },
           "bgcolor": "#E5ECF6",
           "caxis": {
            "gridcolor": "white",
            "linecolor": "white",
            "ticks": ""
           }
          },
          "title": {
           "x": 0.05
          },
          "xaxis": {
           "automargin": true,
           "gridcolor": "white",
           "linecolor": "white",
           "ticks": "",
           "title": {
            "standoff": 15
           },
           "zerolinecolor": "white",
           "zerolinewidth": 2
          },
          "yaxis": {
           "automargin": true,
           "gridcolor": "white",
           "linecolor": "white",
           "ticks": "",
           "title": {
            "standoff": 15
           },
           "zerolinecolor": "white",
           "zerolinewidth": 2
          }
         }
        },
        "xaxis": {
         "anchor": "y",
         "domain": [
          0,
          1
         ],
         "title": {
          "text": "Age Group"
         }
        },
        "yaxis": {
         "anchor": "x",
         "domain": [
          0,
          1
         ],
         "title": {
          "text": "value"
         }
        }
       }
      }
     },
     "metadata": {},
     "output_type": "display_data"
    }
   ],
   "source": [
    "px.bar(data['Age Group'].value_counts())"
   ]
  },
  {
   "cell_type": "code",
   "execution_count": 12,
   "metadata": {},
   "outputs": [
    {
     "data": {
      "text/plain": [
       "Index(['DR_NO', 'Date Rptd', 'DATE OCC', 'TIME OCC', 'AREA NAME',\n",
       "       'Crm Cd Desc', 'Vict Age', 'Vict Sex', 'Vict Descent', 'Weapon Desc',\n",
       "       'Status Desc', 'LOCATION', 'Age Group'],\n",
       "      dtype='object')"
      ]
     },
     "execution_count": 12,
     "metadata": {},
     "output_type": "execute_result"
    }
   ],
   "source": [
    "data.columns"
   ]
  },
  {
   "cell_type": "code",
   "execution_count": 13,
   "metadata": {},
   "outputs": [
    {
     "data": {
      "application/vnd.microsoft.datawrangler.viewer.v0+json": {
       "columns": [
        {
         "name": "Age Group",
         "rawType": "category",
         "type": "unknown"
        },
        {
         "name": "F",
         "rawType": "int64",
         "type": "integer"
        },
        {
         "name": "H",
         "rawType": "int64",
         "type": "integer"
        },
        {
         "name": "M",
         "rawType": "int64",
         "type": "integer"
        },
        {
         "name": "X",
         "rawType": "int64",
         "type": "integer"
        }
       ],
       "ref": "eb796655-0f1a-4764-b5ed-94772f5c283a",
       "rows": [
        [
         "Child",
         "2275",
         "0",
         "2185",
         "68"
        ],
        [
         "Teenager",
         "11230",
         "4",
         "10014",
         "2206"
        ],
        [
         "Young Adult",
         "27615",
         "11",
         "24432",
         "241"
        ],
        [
         "Adult",
         "20242",
         "6",
         "21763",
         "144"
        ],
        [
         "Senior",
         "28492",
         "9",
         "34614",
         "153"
        ]
       ],
       "shape": {
        "columns": 4,
        "rows": 5
       }
      },
      "text/html": [
       "<div>\n",
       "<style scoped>\n",
       "    .dataframe tbody tr th:only-of-type {\n",
       "        vertical-align: middle;\n",
       "    }\n",
       "\n",
       "    .dataframe tbody tr th {\n",
       "        vertical-align: top;\n",
       "    }\n",
       "\n",
       "    .dataframe thead th {\n",
       "        text-align: right;\n",
       "    }\n",
       "</style>\n",
       "<table border=\"1\" class=\"dataframe\">\n",
       "  <thead>\n",
       "    <tr style=\"text-align: right;\">\n",
       "      <th>Vict Sex</th>\n",
       "      <th>F</th>\n",
       "      <th>H</th>\n",
       "      <th>M</th>\n",
       "      <th>X</th>\n",
       "    </tr>\n",
       "    <tr>\n",
       "      <th>Age Group</th>\n",
       "      <th></th>\n",
       "      <th></th>\n",
       "      <th></th>\n",
       "      <th></th>\n",
       "    </tr>\n",
       "  </thead>\n",
       "  <tbody>\n",
       "    <tr>\n",
       "      <th>Child</th>\n",
       "      <td>2275</td>\n",
       "      <td>0</td>\n",
       "      <td>2185</td>\n",
       "      <td>68</td>\n",
       "    </tr>\n",
       "    <tr>\n",
       "      <th>Teenager</th>\n",
       "      <td>11230</td>\n",
       "      <td>4</td>\n",
       "      <td>10014</td>\n",
       "      <td>2206</td>\n",
       "    </tr>\n",
       "    <tr>\n",
       "      <th>Young Adult</th>\n",
       "      <td>27615</td>\n",
       "      <td>11</td>\n",
       "      <td>24432</td>\n",
       "      <td>241</td>\n",
       "    </tr>\n",
       "    <tr>\n",
       "      <th>Adult</th>\n",
       "      <td>20242</td>\n",
       "      <td>6</td>\n",
       "      <td>21763</td>\n",
       "      <td>144</td>\n",
       "    </tr>\n",
       "    <tr>\n",
       "      <th>Senior</th>\n",
       "      <td>28492</td>\n",
       "      <td>9</td>\n",
       "      <td>34614</td>\n",
       "      <td>153</td>\n",
       "    </tr>\n",
       "  </tbody>\n",
       "</table>\n",
       "</div>"
      ],
      "text/plain": [
       "Vict Sex         F   H      M     X\n",
       "Age Group                          \n",
       "Child         2275   0   2185    68\n",
       "Teenager     11230   4  10014  2206\n",
       "Young Adult  27615  11  24432   241\n",
       "Adult        20242   6  21763   144\n",
       "Senior       28492   9  34614   153"
      ]
     },
     "execution_count": 13,
     "metadata": {},
     "output_type": "execute_result"
    }
   ],
   "source": [
    "#contigeny table\n",
    "table = pd.crosstab(data[\"Age Group\"], data[\"Vict Sex\"]).astype(int)\n",
    "table"
   ]
  },
  {
   "cell_type": "code",
   "execution_count": 14,
   "metadata": {},
   "outputs": [
    {
     "data": {
      "application/vnd.plotly.v1+json": {
       "config": {
        "plotlyServerURL": "https://plot.ly"
       },
       "data": [
        {
         "hovertemplate": "Vict Sex=F<br>Age Group=%{x}<br>value=%{y}<extra></extra>",
         "legendgroup": "F",
         "marker": {
          "color": "#636efa",
          "pattern": {
           "shape": ""
          }
         },
         "name": "F",
         "orientation": "v",
         "showlegend": true,
         "textposition": "auto",
         "type": "bar",
         "x": [
          "Child",
          "Teenager",
          "Young Adult",
          "Adult",
          "Senior"
         ],
         "xaxis": "x",
         "y": {
          "bdata": "4wjeK99rEk9Mbw==",
          "dtype": "i2"
         },
         "yaxis": "y"
        },
        {
         "hovertemplate": "Vict Sex=H<br>Age Group=%{x}<br>value=%{y}<extra></extra>",
         "legendgroup": "H",
         "marker": {
          "color": "#EF553B",
          "pattern": {
           "shape": ""
          }
         },
         "name": "H",
         "orientation": "v",
         "showlegend": true,
         "textposition": "auto",
         "type": "bar",
         "x": [
          "Child",
          "Teenager",
          "Young Adult",
          "Adult",
          "Senior"
         ],
         "xaxis": "x",
         "y": {
          "bdata": "AAQLBgk=",
          "dtype": "i1"
         },
         "yaxis": "y"
        },
        {
         "hovertemplate": "Vict Sex=M<br>Age Group=%{x}<br>value=%{y}<extra></extra>",
         "legendgroup": "M",
         "marker": {
          "color": "#00cc96",
          "pattern": {
           "shape": ""
          }
         },
         "name": "M",
         "orientation": "v",
         "showlegend": true,
         "textposition": "auto",
         "type": "bar",
         "x": [
          "Child",
          "Teenager",
          "Young Adult",
          "Adult",
          "Senior"
         ],
         "xaxis": "x",
         "y": {
          "bdata": "iQgAAB4nAABwXwAAA1UAADaHAAA=",
          "dtype": "i4"
         },
         "yaxis": "y"
        },
        {
         "hovertemplate": "Vict Sex=X<br>Age Group=%{x}<br>value=%{y}<extra></extra>",
         "legendgroup": "X",
         "marker": {
          "color": "#ab63fa",
          "pattern": {
           "shape": ""
          }
         },
         "name": "X",
         "orientation": "v",
         "showlegend": true,
         "textposition": "auto",
         "type": "bar",
         "x": [
          "Child",
          "Teenager",
          "Young Adult",
          "Adult",
          "Senior"
         ],
         "xaxis": "x",
         "y": {
          "bdata": "RACeCPEAkACZAA==",
          "dtype": "i2"
         },
         "yaxis": "y"
        }
       ],
       "layout": {
        "barmode": "relative",
        "legend": {
         "title": {
          "text": "Vict Sex"
         },
         "tracegroupgap": 0
        },
        "margin": {
         "t": 60
        },
        "template": {
         "data": {
          "bar": [
           {
            "error_x": {
             "color": "#2a3f5f"
            },
            "error_y": {
             "color": "#2a3f5f"
            },
            "marker": {
             "line": {
              "color": "#E5ECF6",
              "width": 0.5
             },
             "pattern": {
              "fillmode": "overlay",
              "size": 10,
              "solidity": 0.2
             }
            },
            "type": "bar"
           }
          ],
          "barpolar": [
           {
            "marker": {
             "line": {
              "color": "#E5ECF6",
              "width": 0.5
             },
             "pattern": {
              "fillmode": "overlay",
              "size": 10,
              "solidity": 0.2
             }
            },
            "type": "barpolar"
           }
          ],
          "carpet": [
           {
            "aaxis": {
             "endlinecolor": "#2a3f5f",
             "gridcolor": "white",
             "linecolor": "white",
             "minorgridcolor": "white",
             "startlinecolor": "#2a3f5f"
            },
            "baxis": {
             "endlinecolor": "#2a3f5f",
             "gridcolor": "white",
             "linecolor": "white",
             "minorgridcolor": "white",
             "startlinecolor": "#2a3f5f"
            },
            "type": "carpet"
           }
          ],
          "choropleth": [
           {
            "colorbar": {
             "outlinewidth": 0,
             "ticks": ""
            },
            "type": "choropleth"
           }
          ],
          "contour": [
           {
            "colorbar": {
             "outlinewidth": 0,
             "ticks": ""
            },
            "colorscale": [
             [
              0,
              "#0d0887"
             ],
             [
              0.1111111111111111,
              "#46039f"
             ],
             [
              0.2222222222222222,
              "#7201a8"
             ],
             [
              0.3333333333333333,
              "#9c179e"
             ],
             [
              0.4444444444444444,
              "#bd3786"
             ],
             [
              0.5555555555555556,
              "#d8576b"
             ],
             [
              0.6666666666666666,
              "#ed7953"
             ],
             [
              0.7777777777777778,
              "#fb9f3a"
             ],
             [
              0.8888888888888888,
              "#fdca26"
             ],
             [
              1,
              "#f0f921"
             ]
            ],
            "type": "contour"
           }
          ],
          "contourcarpet": [
           {
            "colorbar": {
             "outlinewidth": 0,
             "ticks": ""
            },
            "type": "contourcarpet"
           }
          ],
          "heatmap": [
           {
            "colorbar": {
             "outlinewidth": 0,
             "ticks": ""
            },
            "colorscale": [
             [
              0,
              "#0d0887"
             ],
             [
              0.1111111111111111,
              "#46039f"
             ],
             [
              0.2222222222222222,
              "#7201a8"
             ],
             [
              0.3333333333333333,
              "#9c179e"
             ],
             [
              0.4444444444444444,
              "#bd3786"
             ],
             [
              0.5555555555555556,
              "#d8576b"
             ],
             [
              0.6666666666666666,
              "#ed7953"
             ],
             [
              0.7777777777777778,
              "#fb9f3a"
             ],
             [
              0.8888888888888888,
              "#fdca26"
             ],
             [
              1,
              "#f0f921"
             ]
            ],
            "type": "heatmap"
           }
          ],
          "histogram": [
           {
            "marker": {
             "pattern": {
              "fillmode": "overlay",
              "size": 10,
              "solidity": 0.2
             }
            },
            "type": "histogram"
           }
          ],
          "histogram2d": [
           {
            "colorbar": {
             "outlinewidth": 0,
             "ticks": ""
            },
            "colorscale": [
             [
              0,
              "#0d0887"
             ],
             [
              0.1111111111111111,
              "#46039f"
             ],
             [
              0.2222222222222222,
              "#7201a8"
             ],
             [
              0.3333333333333333,
              "#9c179e"
             ],
             [
              0.4444444444444444,
              "#bd3786"
             ],
             [
              0.5555555555555556,
              "#d8576b"
             ],
             [
              0.6666666666666666,
              "#ed7953"
             ],
             [
              0.7777777777777778,
              "#fb9f3a"
             ],
             [
              0.8888888888888888,
              "#fdca26"
             ],
             [
              1,
              "#f0f921"
             ]
            ],
            "type": "histogram2d"
           }
          ],
          "histogram2dcontour": [
           {
            "colorbar": {
             "outlinewidth": 0,
             "ticks": ""
            },
            "colorscale": [
             [
              0,
              "#0d0887"
             ],
             [
              0.1111111111111111,
              "#46039f"
             ],
             [
              0.2222222222222222,
              "#7201a8"
             ],
             [
              0.3333333333333333,
              "#9c179e"
             ],
             [
              0.4444444444444444,
              "#bd3786"
             ],
             [
              0.5555555555555556,
              "#d8576b"
             ],
             [
              0.6666666666666666,
              "#ed7953"
             ],
             [
              0.7777777777777778,
              "#fb9f3a"
             ],
             [
              0.8888888888888888,
              "#fdca26"
             ],
             [
              1,
              "#f0f921"
             ]
            ],
            "type": "histogram2dcontour"
           }
          ],
          "mesh3d": [
           {
            "colorbar": {
             "outlinewidth": 0,
             "ticks": ""
            },
            "type": "mesh3d"
           }
          ],
          "parcoords": [
           {
            "line": {
             "colorbar": {
              "outlinewidth": 0,
              "ticks": ""
             }
            },
            "type": "parcoords"
           }
          ],
          "pie": [
           {
            "automargin": true,
            "type": "pie"
           }
          ],
          "scatter": [
           {
            "fillpattern": {
             "fillmode": "overlay",
             "size": 10,
             "solidity": 0.2
            },
            "type": "scatter"
           }
          ],
          "scatter3d": [
           {
            "line": {
             "colorbar": {
              "outlinewidth": 0,
              "ticks": ""
             }
            },
            "marker": {
             "colorbar": {
              "outlinewidth": 0,
              "ticks": ""
             }
            },
            "type": "scatter3d"
           }
          ],
          "scattercarpet": [
           {
            "marker": {
             "colorbar": {
              "outlinewidth": 0,
              "ticks": ""
             }
            },
            "type": "scattercarpet"
           }
          ],
          "scattergeo": [
           {
            "marker": {
             "colorbar": {
              "outlinewidth": 0,
              "ticks": ""
             }
            },
            "type": "scattergeo"
           }
          ],
          "scattergl": [
           {
            "marker": {
             "colorbar": {
              "outlinewidth": 0,
              "ticks": ""
             }
            },
            "type": "scattergl"
           }
          ],
          "scattermap": [
           {
            "marker": {
             "colorbar": {
              "outlinewidth": 0,
              "ticks": ""
             }
            },
            "type": "scattermap"
           }
          ],
          "scattermapbox": [
           {
            "marker": {
             "colorbar": {
              "outlinewidth": 0,
              "ticks": ""
             }
            },
            "type": "scattermapbox"
           }
          ],
          "scatterpolar": [
           {
            "marker": {
             "colorbar": {
              "outlinewidth": 0,
              "ticks": ""
             }
            },
            "type": "scatterpolar"
           }
          ],
          "scatterpolargl": [
           {
            "marker": {
             "colorbar": {
              "outlinewidth": 0,
              "ticks": ""
             }
            },
            "type": "scatterpolargl"
           }
          ],
          "scatterternary": [
           {
            "marker": {
             "colorbar": {
              "outlinewidth": 0,
              "ticks": ""
             }
            },
            "type": "scatterternary"
           }
          ],
          "surface": [
           {
            "colorbar": {
             "outlinewidth": 0,
             "ticks": ""
            },
            "colorscale": [
             [
              0,
              "#0d0887"
             ],
             [
              0.1111111111111111,
              "#46039f"
             ],
             [
              0.2222222222222222,
              "#7201a8"
             ],
             [
              0.3333333333333333,
              "#9c179e"
             ],
             [
              0.4444444444444444,
              "#bd3786"
             ],
             [
              0.5555555555555556,
              "#d8576b"
             ],
             [
              0.6666666666666666,
              "#ed7953"
             ],
             [
              0.7777777777777778,
              "#fb9f3a"
             ],
             [
              0.8888888888888888,
              "#fdca26"
             ],
             [
              1,
              "#f0f921"
             ]
            ],
            "type": "surface"
           }
          ],
          "table": [
           {
            "cells": {
             "fill": {
              "color": "#EBF0F8"
             },
             "line": {
              "color": "white"
             }
            },
            "header": {
             "fill": {
              "color": "#C8D4E3"
             },
             "line": {
              "color": "white"
             }
            },
            "type": "table"
           }
          ]
         },
         "layout": {
          "annotationdefaults": {
           "arrowcolor": "#2a3f5f",
           "arrowhead": 0,
           "arrowwidth": 1
          },
          "autotypenumbers": "strict",
          "coloraxis": {
           "colorbar": {
            "outlinewidth": 0,
            "ticks": ""
           }
          },
          "colorscale": {
           "diverging": [
            [
             0,
             "#8e0152"
            ],
            [
             0.1,
             "#c51b7d"
            ],
            [
             0.2,
             "#de77ae"
            ],
            [
             0.3,
             "#f1b6da"
            ],
            [
             0.4,
             "#fde0ef"
            ],
            [
             0.5,
             "#f7f7f7"
            ],
            [
             0.6,
             "#e6f5d0"
            ],
            [
             0.7,
             "#b8e186"
            ],
            [
             0.8,
             "#7fbc41"
            ],
            [
             0.9,
             "#4d9221"
            ],
            [
             1,
             "#276419"
            ]
           ],
           "sequential": [
            [
             0,
             "#0d0887"
            ],
            [
             0.1111111111111111,
             "#46039f"
            ],
            [
             0.2222222222222222,
             "#7201a8"
            ],
            [
             0.3333333333333333,
             "#9c179e"
            ],
            [
             0.4444444444444444,
             "#bd3786"
            ],
            [
             0.5555555555555556,
             "#d8576b"
            ],
            [
             0.6666666666666666,
             "#ed7953"
            ],
            [
             0.7777777777777778,
             "#fb9f3a"
            ],
            [
             0.8888888888888888,
             "#fdca26"
            ],
            [
             1,
             "#f0f921"
            ]
           ],
           "sequentialminus": [
            [
             0,
             "#0d0887"
            ],
            [
             0.1111111111111111,
             "#46039f"
            ],
            [
             0.2222222222222222,
             "#7201a8"
            ],
            [
             0.3333333333333333,
             "#9c179e"
            ],
            [
             0.4444444444444444,
             "#bd3786"
            ],
            [
             0.5555555555555556,
             "#d8576b"
            ],
            [
             0.6666666666666666,
             "#ed7953"
            ],
            [
             0.7777777777777778,
             "#fb9f3a"
            ],
            [
             0.8888888888888888,
             "#fdca26"
            ],
            [
             1,
             "#f0f921"
            ]
           ]
          },
          "colorway": [
           "#636efa",
           "#EF553B",
           "#00cc96",
           "#ab63fa",
           "#FFA15A",
           "#19d3f3",
           "#FF6692",
           "#B6E880",
           "#FF97FF",
           "#FECB52"
          ],
          "font": {
           "color": "#2a3f5f"
          },
          "geo": {
           "bgcolor": "white",
           "lakecolor": "white",
           "landcolor": "#E5ECF6",
           "showlakes": true,
           "showland": true,
           "subunitcolor": "white"
          },
          "hoverlabel": {
           "align": "left"
          },
          "hovermode": "closest",
          "mapbox": {
           "style": "light"
          },
          "paper_bgcolor": "white",
          "plot_bgcolor": "#E5ECF6",
          "polar": {
           "angularaxis": {
            "gridcolor": "white",
            "linecolor": "white",
            "ticks": ""
           },
           "bgcolor": "#E5ECF6",
           "radialaxis": {
            "gridcolor": "white",
            "linecolor": "white",
            "ticks": ""
           }
          },
          "scene": {
           "xaxis": {
            "backgroundcolor": "#E5ECF6",
            "gridcolor": "white",
            "gridwidth": 2,
            "linecolor": "white",
            "showbackground": true,
            "ticks": "",
            "zerolinecolor": "white"
           },
           "yaxis": {
            "backgroundcolor": "#E5ECF6",
            "gridcolor": "white",
            "gridwidth": 2,
            "linecolor": "white",
            "showbackground": true,
            "ticks": "",
            "zerolinecolor": "white"
           },
           "zaxis": {
            "backgroundcolor": "#E5ECF6",
            "gridcolor": "white",
            "gridwidth": 2,
            "linecolor": "white",
            "showbackground": true,
            "ticks": "",
            "zerolinecolor": "white"
           }
          },
          "shapedefaults": {
           "line": {
            "color": "#2a3f5f"
           }
          },
          "ternary": {
           "aaxis": {
            "gridcolor": "white",
            "linecolor": "white",
            "ticks": ""
           },
           "baxis": {
            "gridcolor": "white",
            "linecolor": "white",
            "ticks": ""
           },
           "bgcolor": "#E5ECF6",
           "caxis": {
            "gridcolor": "white",
            "linecolor": "white",
            "ticks": ""
           }
          },
          "title": {
           "x": 0.05
          },
          "xaxis": {
           "automargin": true,
           "gridcolor": "white",
           "linecolor": "white",
           "ticks": "",
           "title": {
            "standoff": 15
           },
           "zerolinecolor": "white",
           "zerolinewidth": 2
          },
          "yaxis": {
           "automargin": true,
           "gridcolor": "white",
           "linecolor": "white",
           "ticks": "",
           "title": {
            "standoff": 15
           },
           "zerolinecolor": "white",
           "zerolinewidth": 2
          }
         }
        },
        "xaxis": {
         "anchor": "y",
         "domain": [
          0,
          1
         ],
         "title": {
          "text": "Age Group"
         }
        },
        "yaxis": {
         "anchor": "x",
         "domain": [
          0,
          1
         ],
         "title": {
          "text": "value"
         }
        }
       }
      }
     },
     "metadata": {},
     "output_type": "display_data"
    }
   ],
   "source": [
    "px.bar(table)"
   ]
  }
 ],
 "metadata": {
  "kernelspec": {
   "display_name": "Timo",
   "language": "python",
   "name": "python3"
  },
  "language_info": {
   "codemirror_mode": {
    "name": "ipython",
    "version": 3
   },
   "file_extension": ".py",
   "mimetype": "text/x-python",
   "name": "python",
   "nbconvert_exporter": "python",
   "pygments_lexer": "ipython3",
   "version": "3.13.2"
  }
 },
 "nbformat": 4,
 "nbformat_minor": 2
}
