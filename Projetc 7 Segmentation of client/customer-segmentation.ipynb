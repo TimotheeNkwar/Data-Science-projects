{
 "cells": [
  {
   "cell_type": "markdown",
   "metadata": {},
   "source": [
    "<h1 align=\"center\">Customer Segmentation </h1>"
   ]
  },
  {
   "cell_type": "code",
   "execution_count": 2,
   "metadata": {},
   "outputs": [],
   "source": [
    "import matplotlib.pyplot as plt\n",
    "import pandas as pd \n",
    "import morethemes as mt\n",
    "mt.set_theme(\"ft\")\n",
    "import warnings\n",
    "warnings.filterwarnings(\"ignore\")"
   ]
  },
  {
   "cell_type": "code",
   "execution_count": 3,
   "metadata": {},
   "outputs": [
    {
     "data": {
      "application/vnd.microsoft.datawrangler.viewer.v0+json": {
       "columns": [
        {
         "name": "index",
         "rawType": "int64",
         "type": "integer"
        },
        {
         "name": "CustomerID",
         "rawType": "int64",
         "type": "integer"
        },
        {
         "name": "Gender",
         "rawType": "object",
         "type": "string"
        },
        {
         "name": "Age",
         "rawType": "int64",
         "type": "integer"
        },
        {
         "name": "Annual Income (k$)",
         "rawType": "int64",
         "type": "integer"
        },
        {
         "name": "Spending Score (1-100)",
         "rawType": "int64",
         "type": "integer"
        }
       ],
       "conversionMethod": "pd.DataFrame",
       "ref": "49dba7a1-1fcb-47f6-9289-cf1242b2057d",
       "rows": [
        [
         "0",
         "1",
         "Male",
         "19",
         "15",
         "39"
        ],
        [
         "1",
         "2",
         "Male",
         "21",
         "15",
         "81"
        ],
        [
         "2",
         "3",
         "Female",
         "20",
         "16",
         "6"
        ],
        [
         "3",
         "4",
         "Female",
         "23",
         "16",
         "77"
        ],
        [
         "4",
         "5",
         "Female",
         "31",
         "17",
         "40"
        ]
       ],
       "shape": {
        "columns": 5,
        "rows": 5
       }
      },
      "text/html": [
       "<div>\n",
       "<style scoped>\n",
       "    .dataframe tbody tr th:only-of-type {\n",
       "        vertical-align: middle;\n",
       "    }\n",
       "\n",
       "    .dataframe tbody tr th {\n",
       "        vertical-align: top;\n",
       "    }\n",
       "\n",
       "    .dataframe thead th {\n",
       "        text-align: right;\n",
       "    }\n",
       "</style>\n",
       "<table border=\"1\" class=\"dataframe\">\n",
       "  <thead>\n",
       "    <tr style=\"text-align: right;\">\n",
       "      <th></th>\n",
       "      <th>CustomerID</th>\n",
       "      <th>Gender</th>\n",
       "      <th>Age</th>\n",
       "      <th>Annual Income (k$)</th>\n",
       "      <th>Spending Score (1-100)</th>\n",
       "    </tr>\n",
       "  </thead>\n",
       "  <tbody>\n",
       "    <tr>\n",
       "      <th>0</th>\n",
       "      <td>1</td>\n",
       "      <td>Male</td>\n",
       "      <td>19</td>\n",
       "      <td>15</td>\n",
       "      <td>39</td>\n",
       "    </tr>\n",
       "    <tr>\n",
       "      <th>1</th>\n",
       "      <td>2</td>\n",
       "      <td>Male</td>\n",
       "      <td>21</td>\n",
       "      <td>15</td>\n",
       "      <td>81</td>\n",
       "    </tr>\n",
       "    <tr>\n",
       "      <th>2</th>\n",
       "      <td>3</td>\n",
       "      <td>Female</td>\n",
       "      <td>20</td>\n",
       "      <td>16</td>\n",
       "      <td>6</td>\n",
       "    </tr>\n",
       "    <tr>\n",
       "      <th>3</th>\n",
       "      <td>4</td>\n",
       "      <td>Female</td>\n",
       "      <td>23</td>\n",
       "      <td>16</td>\n",
       "      <td>77</td>\n",
       "    </tr>\n",
       "    <tr>\n",
       "      <th>4</th>\n",
       "      <td>5</td>\n",
       "      <td>Female</td>\n",
       "      <td>31</td>\n",
       "      <td>17</td>\n",
       "      <td>40</td>\n",
       "    </tr>\n",
       "  </tbody>\n",
       "</table>\n",
       "</div>"
      ],
      "text/plain": [
       "   CustomerID  Gender  Age  Annual Income (k$)  Spending Score (1-100)\n",
       "0           1    Male   19                  15                      39\n",
       "1           2    Male   21                  15                      81\n",
       "2           3  Female   20                  16                       6\n",
       "3           4  Female   23                  16                      77\n",
       "4           5  Female   31                  17                      40"
      ]
     },
     "execution_count": 3,
     "metadata": {},
     "output_type": "execute_result"
    }
   ],
   "source": [
    "data = pd.read_csv(\"Mall_Customers.csv\")\n",
    "data.head()"
   ]
  },
  {
   "cell_type": "code",
   "execution_count": 4,
   "metadata": {},
   "outputs": [
    {
     "data": {
      "text/plain": [
       "array([[-1.73899919, -0.43480148],\n",
       "       [-1.73899919,  1.19570407],\n",
       "       [-1.70082976, -1.71591298],\n",
       "       [-1.70082976,  1.04041783],\n",
       "       [-1.66266033, -0.39597992],\n",
       "       [-1.66266033,  1.00159627],\n",
       "       [-1.62449091, -1.71591298],\n",
       "       [-1.62449091,  1.70038436],\n",
       "       [-1.58632148, -1.83237767],\n",
       "       [-1.58632148,  0.84631002],\n",
       "       [-1.58632148, -1.4053405 ],\n",
       "       [-1.58632148,  1.89449216],\n",
       "       [-1.54815205, -1.36651894],\n",
       "       [-1.54815205,  1.04041783],\n",
       "       [-1.54815205, -1.44416206],\n",
       "       [-1.54815205,  1.11806095],\n",
       "       [-1.50998262, -0.59008772],\n",
       "       [-1.50998262,  0.61338066],\n",
       "       [-1.43364376, -0.82301709],\n",
       "       [-1.43364376,  1.8556706 ],\n",
       "       [-1.39547433, -0.59008772],\n",
       "       [-1.39547433,  0.88513158],\n",
       "       [-1.3573049 , -1.75473454],\n",
       "       [-1.3573049 ,  0.88513158],\n",
       "       [-1.24279661, -1.4053405 ],\n",
       "       [-1.24279661,  1.23452563],\n",
       "       [-1.24279661, -0.7065524 ],\n",
       "       [-1.24279661,  0.41927286],\n",
       "       [-1.20462718, -0.74537397],\n",
       "       [-1.20462718,  1.42863343],\n",
       "       [-1.16645776, -1.7935561 ],\n",
       "       [-1.16645776,  0.88513158],\n",
       "       [-1.05194947, -1.7935561 ],\n",
       "       [-1.05194947,  1.62274124],\n",
       "       [-1.05194947, -1.4053405 ],\n",
       "       [-1.05194947,  1.19570407],\n",
       "       [-1.01378004, -1.28887582],\n",
       "       [-1.01378004,  0.88513158],\n",
       "       [-0.89927175, -0.93948177],\n",
       "       [-0.89927175,  0.96277471],\n",
       "       [-0.86110232, -0.59008772],\n",
       "       [-0.86110232,  1.62274124],\n",
       "       [-0.82293289, -0.55126616],\n",
       "       [-0.82293289,  0.41927286],\n",
       "       [-0.82293289, -0.86183865],\n",
       "       [-0.82293289,  0.5745591 ],\n",
       "       [-0.78476346,  0.18634349],\n",
       "       [-0.78476346, -0.12422899],\n",
       "       [-0.78476346, -0.3183368 ],\n",
       "       [-0.78476346, -0.3183368 ],\n",
       "       [-0.70842461,  0.06987881],\n",
       "       [-0.70842461,  0.38045129],\n",
       "       [-0.67025518,  0.14752193],\n",
       "       [-0.67025518,  0.38045129],\n",
       "       [-0.67025518, -0.20187212],\n",
       "       [-0.67025518, -0.35715836],\n",
       "       [-0.63208575, -0.00776431],\n",
       "       [-0.63208575, -0.16305055],\n",
       "       [-0.55574689,  0.03105725],\n",
       "       [-0.55574689, -0.16305055],\n",
       "       [-0.55574689,  0.22516505],\n",
       "       [-0.55574689,  0.18634349],\n",
       "       [-0.51757746,  0.06987881],\n",
       "       [-0.51757746,  0.34162973],\n",
       "       [-0.47940803,  0.03105725],\n",
       "       [-0.47940803,  0.34162973],\n",
       "       [-0.47940803, -0.00776431],\n",
       "       [-0.47940803, -0.08540743],\n",
       "       [-0.47940803,  0.34162973],\n",
       "       [-0.47940803, -0.12422899],\n",
       "       [-0.4412386 ,  0.18634349],\n",
       "       [-0.4412386 , -0.3183368 ],\n",
       "       [-0.40306917, -0.04658587],\n",
       "       [-0.40306917,  0.22516505],\n",
       "       [-0.25039146, -0.12422899],\n",
       "       [-0.25039146,  0.14752193],\n",
       "       [-0.25039146,  0.10870037],\n",
       "       [-0.25039146, -0.08540743],\n",
       "       [-0.25039146,  0.06987881],\n",
       "       [-0.25039146, -0.3183368 ],\n",
       "       [-0.25039146,  0.03105725],\n",
       "       [-0.25039146,  0.18634349],\n",
       "       [-0.25039146, -0.35715836],\n",
       "       [-0.25039146, -0.24069368],\n",
       "       [-0.25039146,  0.26398661],\n",
       "       [-0.25039146, -0.16305055],\n",
       "       [-0.13588317,  0.30280817],\n",
       "       [-0.13588317,  0.18634349],\n",
       "       [-0.09771374,  0.38045129],\n",
       "       [-0.09771374, -0.16305055],\n",
       "       [-0.05954431,  0.18634349],\n",
       "       [-0.05954431, -0.35715836],\n",
       "       [-0.02137488, -0.04658587],\n",
       "       [-0.02137488, -0.39597992],\n",
       "       [-0.02137488, -0.3183368 ],\n",
       "       [-0.02137488,  0.06987881],\n",
       "       [-0.02137488, -0.12422899],\n",
       "       [-0.02137488, -0.00776431],\n",
       "       [ 0.01679455, -0.3183368 ],\n",
       "       [ 0.01679455, -0.04658587],\n",
       "       [ 0.05496398, -0.35715836],\n",
       "       [ 0.05496398, -0.08540743],\n",
       "       [ 0.05496398,  0.34162973],\n",
       "       [ 0.05496398,  0.18634349],\n",
       "       [ 0.05496398,  0.22516505],\n",
       "       [ 0.05496398, -0.3183368 ],\n",
       "       [ 0.09313341, -0.00776431],\n",
       "       [ 0.09313341, -0.16305055],\n",
       "       [ 0.09313341, -0.27951524],\n",
       "       [ 0.09313341, -0.08540743],\n",
       "       [ 0.09313341,  0.06987881],\n",
       "       [ 0.09313341,  0.14752193],\n",
       "       [ 0.13130284, -0.3183368 ],\n",
       "       [ 0.13130284, -0.16305055],\n",
       "       [ 0.16947227, -0.08540743],\n",
       "       [ 0.16947227, -0.00776431],\n",
       "       [ 0.16947227, -0.27951524],\n",
       "       [ 0.16947227,  0.34162973],\n",
       "       [ 0.24581112, -0.27951524],\n",
       "       [ 0.24581112,  0.26398661],\n",
       "       [ 0.24581112,  0.22516505],\n",
       "       [ 0.24581112, -0.39597992],\n",
       "       [ 0.32214998,  0.30280817],\n",
       "       [ 0.32214998,  1.58391968],\n",
       "       [ 0.36031941, -0.82301709],\n",
       "       [ 0.36031941,  1.04041783],\n",
       "       [ 0.39848884, -0.59008772],\n",
       "       [ 0.39848884,  1.73920592],\n",
       "       [ 0.39848884, -1.52180518],\n",
       "       [ 0.39848884,  0.96277471],\n",
       "       [ 0.39848884, -1.5994483 ],\n",
       "       [ 0.39848884,  0.96277471],\n",
       "       [ 0.43665827, -0.62890928],\n",
       "       [ 0.43665827,  0.80748846],\n",
       "       [ 0.4748277 , -1.75473454],\n",
       "       [ 0.4748277 ,  1.46745499],\n",
       "       [ 0.4748277 , -1.67709142],\n",
       "       [ 0.4748277 ,  0.88513158],\n",
       "       [ 0.51299713, -1.56062674],\n",
       "       [ 0.51299713,  0.84631002],\n",
       "       [ 0.55116656, -1.75473454],\n",
       "       [ 0.55116656,  1.6615628 ],\n",
       "       [ 0.58933599, -0.39597992],\n",
       "       [ 0.58933599,  1.42863343],\n",
       "       [ 0.62750542, -1.48298362],\n",
       "       [ 0.62750542,  1.81684904],\n",
       "       [ 0.62750542, -0.55126616],\n",
       "       [ 0.62750542,  0.92395314],\n",
       "       [ 0.66567484, -1.09476801],\n",
       "       [ 0.66567484,  1.54509812],\n",
       "       [ 0.66567484, -1.28887582],\n",
       "       [ 0.66567484,  1.46745499],\n",
       "       [ 0.66567484, -1.17241113],\n",
       "       [ 0.66567484,  1.00159627],\n",
       "       [ 0.66567484, -1.32769738],\n",
       "       [ 0.66567484,  1.50627656],\n",
       "       [ 0.66567484, -1.91002079],\n",
       "       [ 0.66567484,  1.07923939],\n",
       "       [ 0.66567484, -1.91002079],\n",
       "       [ 0.66567484,  0.88513158],\n",
       "       [ 0.70384427, -0.59008772],\n",
       "       [ 0.70384427,  1.27334719],\n",
       "       [ 0.78018313, -1.75473454],\n",
       "       [ 0.78018313,  1.6615628 ],\n",
       "       [ 0.93286085, -0.93948177],\n",
       "       [ 0.93286085,  0.96277471],\n",
       "       [ 0.97103028, -1.17241113],\n",
       "       [ 0.97103028,  1.73920592],\n",
       "       [ 1.00919971, -0.90066021],\n",
       "       [ 1.00919971,  0.49691598],\n",
       "       [ 1.00919971, -1.44416206],\n",
       "       [ 1.00919971,  0.96277471],\n",
       "       [ 1.00919971, -1.56062674],\n",
       "       [ 1.00919971,  1.62274124],\n",
       "       [ 1.04736914, -1.44416206],\n",
       "       [ 1.04736914,  1.38981187],\n",
       "       [ 1.04736914, -1.36651894],\n",
       "       [ 1.04736914,  0.72984534],\n",
       "       [ 1.23821628, -1.4053405 ],\n",
       "       [ 1.23821628,  1.54509812],\n",
       "       [ 1.390894  , -0.7065524 ],\n",
       "       [ 1.390894  ,  1.38981187],\n",
       "       [ 1.42906343, -1.36651894],\n",
       "       [ 1.42906343,  1.46745499],\n",
       "       [ 1.46723286, -0.43480148],\n",
       "       [ 1.46723286,  1.81684904],\n",
       "       [ 1.54357172, -1.01712489],\n",
       "       [ 1.54357172,  0.69102378],\n",
       "       [ 1.61991057, -1.28887582],\n",
       "       [ 1.61991057,  1.35099031],\n",
       "       [ 1.61991057, -1.05594645],\n",
       "       [ 1.61991057,  0.72984534],\n",
       "       [ 2.00160487, -1.63826986],\n",
       "       [ 2.00160487,  1.58391968],\n",
       "       [ 2.26879087, -1.32769738],\n",
       "       [ 2.26879087,  1.11806095],\n",
       "       [ 2.49780745, -0.86183865],\n",
       "       [ 2.49780745,  0.92395314],\n",
       "       [ 2.91767117, -1.25005425],\n",
       "       [ 2.91767117,  1.27334719]])"
      ]
     },
     "execution_count": 4,
     "metadata": {},
     "output_type": "execute_result"
    }
   ],
   "source": [
    "from sklearn.preprocessing import StandardScaler\n",
    "from sklearn.cluster import KMeans\n",
    "from sklearn.metrics import silhouette_score\n",
    "X_scaled = data[[\"Annual Income (k$)\",\"Spending Score (1-100)\"]]\n",
    "scaler = StandardScaler()\n",
    "X_scaled = scaler.fit_transform(X_scaled)\n",
    "X_scaled"
   ]
  },
  {
   "cell_type": "code",
   "execution_count": 5,
   "metadata": {},
   "outputs": [
    {
     "data": {
      "text/html": [
       "<style>#sk-container-id-1 {\n",
       "  /* Definition of color scheme common for light and dark mode */\n",
       "  --sklearn-color-text: #000;\n",
       "  --sklearn-color-text-muted: #666;\n",
       "  --sklearn-color-line: gray;\n",
       "  /* Definition of color scheme for unfitted estimators */\n",
       "  --sklearn-color-unfitted-level-0: #fff5e6;\n",
       "  --sklearn-color-unfitted-level-1: #f6e4d2;\n",
       "  --sklearn-color-unfitted-level-2: #ffe0b3;\n",
       "  --sklearn-color-unfitted-level-3: chocolate;\n",
       "  /* Definition of color scheme for fitted estimators */\n",
       "  --sklearn-color-fitted-level-0: #f0f8ff;\n",
       "  --sklearn-color-fitted-level-1: #d4ebff;\n",
       "  --sklearn-color-fitted-level-2: #b3dbfd;\n",
       "  --sklearn-color-fitted-level-3: cornflowerblue;\n",
       "\n",
       "  /* Specific color for light theme */\n",
       "  --sklearn-color-text-on-default-background: var(--sg-text-color, var(--theme-code-foreground, var(--jp-content-font-color1, black)));\n",
       "  --sklearn-color-background: var(--sg-background-color, var(--theme-background, var(--jp-layout-color0, white)));\n",
       "  --sklearn-color-border-box: var(--sg-text-color, var(--theme-code-foreground, var(--jp-content-font-color1, black)));\n",
       "  --sklearn-color-icon: #696969;\n",
       "\n",
       "  @media (prefers-color-scheme: dark) {\n",
       "    /* Redefinition of color scheme for dark theme */\n",
       "    --sklearn-color-text-on-default-background: var(--sg-text-color, var(--theme-code-foreground, var(--jp-content-font-color1, white)));\n",
       "    --sklearn-color-background: var(--sg-background-color, var(--theme-background, var(--jp-layout-color0, #111)));\n",
       "    --sklearn-color-border-box: var(--sg-text-color, var(--theme-code-foreground, var(--jp-content-font-color1, white)));\n",
       "    --sklearn-color-icon: #878787;\n",
       "  }\n",
       "}\n",
       "\n",
       "#sk-container-id-1 {\n",
       "  color: var(--sklearn-color-text);\n",
       "}\n",
       "\n",
       "#sk-container-id-1 pre {\n",
       "  padding: 0;\n",
       "}\n",
       "\n",
       "#sk-container-id-1 input.sk-hidden--visually {\n",
       "  border: 0;\n",
       "  clip: rect(1px 1px 1px 1px);\n",
       "  clip: rect(1px, 1px, 1px, 1px);\n",
       "  height: 1px;\n",
       "  margin: -1px;\n",
       "  overflow: hidden;\n",
       "  padding: 0;\n",
       "  position: absolute;\n",
       "  width: 1px;\n",
       "}\n",
       "\n",
       "#sk-container-id-1 div.sk-dashed-wrapped {\n",
       "  border: 1px dashed var(--sklearn-color-line);\n",
       "  margin: 0 0.4em 0.5em 0.4em;\n",
       "  box-sizing: border-box;\n",
       "  padding-bottom: 0.4em;\n",
       "  background-color: var(--sklearn-color-background);\n",
       "}\n",
       "\n",
       "#sk-container-id-1 div.sk-container {\n",
       "  /* jupyter's `normalize.less` sets `[hidden] { display: none; }`\n",
       "     but bootstrap.min.css set `[hidden] { display: none !important; }`\n",
       "     so we also need the `!important` here to be able to override the\n",
       "     default hidden behavior on the sphinx rendered scikit-learn.org.\n",
       "     See: https://github.com/scikit-learn/scikit-learn/issues/21755 */\n",
       "  display: inline-block !important;\n",
       "  position: relative;\n",
       "}\n",
       "\n",
       "#sk-container-id-1 div.sk-text-repr-fallback {\n",
       "  display: none;\n",
       "}\n",
       "\n",
       "div.sk-parallel-item,\n",
       "div.sk-serial,\n",
       "div.sk-item {\n",
       "  /* draw centered vertical line to link estimators */\n",
       "  background-image: linear-gradient(var(--sklearn-color-text-on-default-background), var(--sklearn-color-text-on-default-background));\n",
       "  background-size: 2px 100%;\n",
       "  background-repeat: no-repeat;\n",
       "  background-position: center center;\n",
       "}\n",
       "\n",
       "/* Parallel-specific style estimator block */\n",
       "\n",
       "#sk-container-id-1 div.sk-parallel-item::after {\n",
       "  content: \"\";\n",
       "  width: 100%;\n",
       "  border-bottom: 2px solid var(--sklearn-color-text-on-default-background);\n",
       "  flex-grow: 1;\n",
       "}\n",
       "\n",
       "#sk-container-id-1 div.sk-parallel {\n",
       "  display: flex;\n",
       "  align-items: stretch;\n",
       "  justify-content: center;\n",
       "  background-color: var(--sklearn-color-background);\n",
       "  position: relative;\n",
       "}\n",
       "\n",
       "#sk-container-id-1 div.sk-parallel-item {\n",
       "  display: flex;\n",
       "  flex-direction: column;\n",
       "}\n",
       "\n",
       "#sk-container-id-1 div.sk-parallel-item:first-child::after {\n",
       "  align-self: flex-end;\n",
       "  width: 50%;\n",
       "}\n",
       "\n",
       "#sk-container-id-1 div.sk-parallel-item:last-child::after {\n",
       "  align-self: flex-start;\n",
       "  width: 50%;\n",
       "}\n",
       "\n",
       "#sk-container-id-1 div.sk-parallel-item:only-child::after {\n",
       "  width: 0;\n",
       "}\n",
       "\n",
       "/* Serial-specific style estimator block */\n",
       "\n",
       "#sk-container-id-1 div.sk-serial {\n",
       "  display: flex;\n",
       "  flex-direction: column;\n",
       "  align-items: center;\n",
       "  background-color: var(--sklearn-color-background);\n",
       "  padding-right: 1em;\n",
       "  padding-left: 1em;\n",
       "}\n",
       "\n",
       "\n",
       "/* Toggleable style: style used for estimator/Pipeline/ColumnTransformer box that is\n",
       "clickable and can be expanded/collapsed.\n",
       "- Pipeline and ColumnTransformer use this feature and define the default style\n",
       "- Estimators will overwrite some part of the style using the `sk-estimator` class\n",
       "*/\n",
       "\n",
       "/* Pipeline and ColumnTransformer style (default) */\n",
       "\n",
       "#sk-container-id-1 div.sk-toggleable {\n",
       "  /* Default theme specific background. It is overwritten whether we have a\n",
       "  specific estimator or a Pipeline/ColumnTransformer */\n",
       "  background-color: var(--sklearn-color-background);\n",
       "}\n",
       "\n",
       "/* Toggleable label */\n",
       "#sk-container-id-1 label.sk-toggleable__label {\n",
       "  cursor: pointer;\n",
       "  display: flex;\n",
       "  width: 100%;\n",
       "  margin-bottom: 0;\n",
       "  padding: 0.5em;\n",
       "  box-sizing: border-box;\n",
       "  text-align: center;\n",
       "  align-items: start;\n",
       "  justify-content: space-between;\n",
       "  gap: 0.5em;\n",
       "}\n",
       "\n",
       "#sk-container-id-1 label.sk-toggleable__label .caption {\n",
       "  font-size: 0.6rem;\n",
       "  font-weight: lighter;\n",
       "  color: var(--sklearn-color-text-muted);\n",
       "}\n",
       "\n",
       "#sk-container-id-1 label.sk-toggleable__label-arrow:before {\n",
       "  /* Arrow on the left of the label */\n",
       "  content: \"▸\";\n",
       "  float: left;\n",
       "  margin-right: 0.25em;\n",
       "  color: var(--sklearn-color-icon);\n",
       "}\n",
       "\n",
       "#sk-container-id-1 label.sk-toggleable__label-arrow:hover:before {\n",
       "  color: var(--sklearn-color-text);\n",
       "}\n",
       "\n",
       "/* Toggleable content - dropdown */\n",
       "\n",
       "#sk-container-id-1 div.sk-toggleable__content {\n",
       "  max-height: 0;\n",
       "  max-width: 0;\n",
       "  overflow: hidden;\n",
       "  text-align: left;\n",
       "  /* unfitted */\n",
       "  background-color: var(--sklearn-color-unfitted-level-0);\n",
       "}\n",
       "\n",
       "#sk-container-id-1 div.sk-toggleable__content.fitted {\n",
       "  /* fitted */\n",
       "  background-color: var(--sklearn-color-fitted-level-0);\n",
       "}\n",
       "\n",
       "#sk-container-id-1 div.sk-toggleable__content pre {\n",
       "  margin: 0.2em;\n",
       "  border-radius: 0.25em;\n",
       "  color: var(--sklearn-color-text);\n",
       "  /* unfitted */\n",
       "  background-color: var(--sklearn-color-unfitted-level-0);\n",
       "}\n",
       "\n",
       "#sk-container-id-1 div.sk-toggleable__content.fitted pre {\n",
       "  /* unfitted */\n",
       "  background-color: var(--sklearn-color-fitted-level-0);\n",
       "}\n",
       "\n",
       "#sk-container-id-1 input.sk-toggleable__control:checked~div.sk-toggleable__content {\n",
       "  /* Expand drop-down */\n",
       "  max-height: 200px;\n",
       "  max-width: 100%;\n",
       "  overflow: auto;\n",
       "}\n",
       "\n",
       "#sk-container-id-1 input.sk-toggleable__control:checked~label.sk-toggleable__label-arrow:before {\n",
       "  content: \"▾\";\n",
       "}\n",
       "\n",
       "/* Pipeline/ColumnTransformer-specific style */\n",
       "\n",
       "#sk-container-id-1 div.sk-label input.sk-toggleable__control:checked~label.sk-toggleable__label {\n",
       "  color: var(--sklearn-color-text);\n",
       "  background-color: var(--sklearn-color-unfitted-level-2);\n",
       "}\n",
       "\n",
       "#sk-container-id-1 div.sk-label.fitted input.sk-toggleable__control:checked~label.sk-toggleable__label {\n",
       "  background-color: var(--sklearn-color-fitted-level-2);\n",
       "}\n",
       "\n",
       "/* Estimator-specific style */\n",
       "\n",
       "/* Colorize estimator box */\n",
       "#sk-container-id-1 div.sk-estimator input.sk-toggleable__control:checked~label.sk-toggleable__label {\n",
       "  /* unfitted */\n",
       "  background-color: var(--sklearn-color-unfitted-level-2);\n",
       "}\n",
       "\n",
       "#sk-container-id-1 div.sk-estimator.fitted input.sk-toggleable__control:checked~label.sk-toggleable__label {\n",
       "  /* fitted */\n",
       "  background-color: var(--sklearn-color-fitted-level-2);\n",
       "}\n",
       "\n",
       "#sk-container-id-1 div.sk-label label.sk-toggleable__label,\n",
       "#sk-container-id-1 div.sk-label label {\n",
       "  /* The background is the default theme color */\n",
       "  color: var(--sklearn-color-text-on-default-background);\n",
       "}\n",
       "\n",
       "/* On hover, darken the color of the background */\n",
       "#sk-container-id-1 div.sk-label:hover label.sk-toggleable__label {\n",
       "  color: var(--sklearn-color-text);\n",
       "  background-color: var(--sklearn-color-unfitted-level-2);\n",
       "}\n",
       "\n",
       "/* Label box, darken color on hover, fitted */\n",
       "#sk-container-id-1 div.sk-label.fitted:hover label.sk-toggleable__label.fitted {\n",
       "  color: var(--sklearn-color-text);\n",
       "  background-color: var(--sklearn-color-fitted-level-2);\n",
       "}\n",
       "\n",
       "/* Estimator label */\n",
       "\n",
       "#sk-container-id-1 div.sk-label label {\n",
       "  font-family: monospace;\n",
       "  font-weight: bold;\n",
       "  display: inline-block;\n",
       "  line-height: 1.2em;\n",
       "}\n",
       "\n",
       "#sk-container-id-1 div.sk-label-container {\n",
       "  text-align: center;\n",
       "}\n",
       "\n",
       "/* Estimator-specific */\n",
       "#sk-container-id-1 div.sk-estimator {\n",
       "  font-family: monospace;\n",
       "  border: 1px dotted var(--sklearn-color-border-box);\n",
       "  border-radius: 0.25em;\n",
       "  box-sizing: border-box;\n",
       "  margin-bottom: 0.5em;\n",
       "  /* unfitted */\n",
       "  background-color: var(--sklearn-color-unfitted-level-0);\n",
       "}\n",
       "\n",
       "#sk-container-id-1 div.sk-estimator.fitted {\n",
       "  /* fitted */\n",
       "  background-color: var(--sklearn-color-fitted-level-0);\n",
       "}\n",
       "\n",
       "/* on hover */\n",
       "#sk-container-id-1 div.sk-estimator:hover {\n",
       "  /* unfitted */\n",
       "  background-color: var(--sklearn-color-unfitted-level-2);\n",
       "}\n",
       "\n",
       "#sk-container-id-1 div.sk-estimator.fitted:hover {\n",
       "  /* fitted */\n",
       "  background-color: var(--sklearn-color-fitted-level-2);\n",
       "}\n",
       "\n",
       "/* Specification for estimator info (e.g. \"i\" and \"?\") */\n",
       "\n",
       "/* Common style for \"i\" and \"?\" */\n",
       "\n",
       ".sk-estimator-doc-link,\n",
       "a:link.sk-estimator-doc-link,\n",
       "a:visited.sk-estimator-doc-link {\n",
       "  float: right;\n",
       "  font-size: smaller;\n",
       "  line-height: 1em;\n",
       "  font-family: monospace;\n",
       "  background-color: var(--sklearn-color-background);\n",
       "  border-radius: 1em;\n",
       "  height: 1em;\n",
       "  width: 1em;\n",
       "  text-decoration: none !important;\n",
       "  margin-left: 0.5em;\n",
       "  text-align: center;\n",
       "  /* unfitted */\n",
       "  border: var(--sklearn-color-unfitted-level-1) 1pt solid;\n",
       "  color: var(--sklearn-color-unfitted-level-1);\n",
       "}\n",
       "\n",
       ".sk-estimator-doc-link.fitted,\n",
       "a:link.sk-estimator-doc-link.fitted,\n",
       "a:visited.sk-estimator-doc-link.fitted {\n",
       "  /* fitted */\n",
       "  border: var(--sklearn-color-fitted-level-1) 1pt solid;\n",
       "  color: var(--sklearn-color-fitted-level-1);\n",
       "}\n",
       "\n",
       "/* On hover */\n",
       "div.sk-estimator:hover .sk-estimator-doc-link:hover,\n",
       ".sk-estimator-doc-link:hover,\n",
       "div.sk-label-container:hover .sk-estimator-doc-link:hover,\n",
       ".sk-estimator-doc-link:hover {\n",
       "  /* unfitted */\n",
       "  background-color: var(--sklearn-color-unfitted-level-3);\n",
       "  color: var(--sklearn-color-background);\n",
       "  text-decoration: none;\n",
       "}\n",
       "\n",
       "div.sk-estimator.fitted:hover .sk-estimator-doc-link.fitted:hover,\n",
       ".sk-estimator-doc-link.fitted:hover,\n",
       "div.sk-label-container:hover .sk-estimator-doc-link.fitted:hover,\n",
       ".sk-estimator-doc-link.fitted:hover {\n",
       "  /* fitted */\n",
       "  background-color: var(--sklearn-color-fitted-level-3);\n",
       "  color: var(--sklearn-color-background);\n",
       "  text-decoration: none;\n",
       "}\n",
       "\n",
       "/* Span, style for the box shown on hovering the info icon */\n",
       ".sk-estimator-doc-link span {\n",
       "  display: none;\n",
       "  z-index: 9999;\n",
       "  position: relative;\n",
       "  font-weight: normal;\n",
       "  right: .2ex;\n",
       "  padding: .5ex;\n",
       "  margin: .5ex;\n",
       "  width: min-content;\n",
       "  min-width: 20ex;\n",
       "  max-width: 50ex;\n",
       "  color: var(--sklearn-color-text);\n",
       "  box-shadow: 2pt 2pt 4pt #999;\n",
       "  /* unfitted */\n",
       "  background: var(--sklearn-color-unfitted-level-0);\n",
       "  border: .5pt solid var(--sklearn-color-unfitted-level-3);\n",
       "}\n",
       "\n",
       ".sk-estimator-doc-link.fitted span {\n",
       "  /* fitted */\n",
       "  background: var(--sklearn-color-fitted-level-0);\n",
       "  border: var(--sklearn-color-fitted-level-3);\n",
       "}\n",
       "\n",
       ".sk-estimator-doc-link:hover span {\n",
       "  display: block;\n",
       "}\n",
       "\n",
       "/* \"?\"-specific style due to the `<a>` HTML tag */\n",
       "\n",
       "#sk-container-id-1 a.estimator_doc_link {\n",
       "  float: right;\n",
       "  font-size: 1rem;\n",
       "  line-height: 1em;\n",
       "  font-family: monospace;\n",
       "  background-color: var(--sklearn-color-background);\n",
       "  border-radius: 1rem;\n",
       "  height: 1rem;\n",
       "  width: 1rem;\n",
       "  text-decoration: none;\n",
       "  /* unfitted */\n",
       "  color: var(--sklearn-color-unfitted-level-1);\n",
       "  border: var(--sklearn-color-unfitted-level-1) 1pt solid;\n",
       "}\n",
       "\n",
       "#sk-container-id-1 a.estimator_doc_link.fitted {\n",
       "  /* fitted */\n",
       "  border: var(--sklearn-color-fitted-level-1) 1pt solid;\n",
       "  color: var(--sklearn-color-fitted-level-1);\n",
       "}\n",
       "\n",
       "/* On hover */\n",
       "#sk-container-id-1 a.estimator_doc_link:hover {\n",
       "  /* unfitted */\n",
       "  background-color: var(--sklearn-color-unfitted-level-3);\n",
       "  color: var(--sklearn-color-background);\n",
       "  text-decoration: none;\n",
       "}\n",
       "\n",
       "#sk-container-id-1 a.estimator_doc_link.fitted:hover {\n",
       "  /* fitted */\n",
       "  background-color: var(--sklearn-color-fitted-level-3);\n",
       "}\n",
       "</style><div id=\"sk-container-id-1\" class=\"sk-top-container\"><div class=\"sk-text-repr-fallback\"><pre>KMeans(n_clusters=5, random_state=42)</pre><b>In a Jupyter environment, please rerun this cell to show the HTML representation or trust the notebook. <br />On GitHub, the HTML representation is unable to render, please try loading this page with nbviewer.org.</b></div><div class=\"sk-container\" hidden><div class=\"sk-item\"><div class=\"sk-estimator fitted sk-toggleable\"><input class=\"sk-toggleable__control sk-hidden--visually\" id=\"sk-estimator-id-1\" type=\"checkbox\" checked><label for=\"sk-estimator-id-1\" class=\"sk-toggleable__label fitted sk-toggleable__label-arrow\"><div><div>KMeans</div></div><div><a class=\"sk-estimator-doc-link fitted\" rel=\"noreferrer\" target=\"_blank\" href=\"https://scikit-learn.org/1.6/modules/generated/sklearn.cluster.KMeans.html\">?<span>Documentation for KMeans</span></a><span class=\"sk-estimator-doc-link fitted\">i<span>Fitted</span></span></div></label><div class=\"sk-toggleable__content fitted\"><pre>KMeans(n_clusters=5, random_state=42)</pre></div> </div></div></div></div>"
      ],
      "text/plain": [
       "KMeans(n_clusters=5, random_state=42)"
      ]
     },
     "execution_count": 5,
     "metadata": {},
     "output_type": "execute_result"
    }
   ],
   "source": [
    "kmeans = KMeans(n_clusters=5,random_state=42)\n",
    "kmeans.fit(X_scaled)"
   ]
  },
  {
   "cell_type": "code",
   "execution_count": 6,
   "metadata": {},
   "outputs": [],
   "source": [
    "labels = kmeans.labels_\n",
    "centers = kmeans.cluster_centers_\n",
    "data['Cluster'] = labels"
   ]
  },
  {
   "cell_type": "code",
   "execution_count": 7,
   "metadata": {},
   "outputs": [
    {
     "data": {
      "text/plain": [
       "array([[-0.20091257, -0.02645617],\n",
       "       [ 0.99158305,  1.23950275],\n",
       "       [-1.32954532,  1.13217788],\n",
       "       [ 1.05500302, -1.28443907],\n",
       "       [-1.30751869, -1.13696536]])"
      ]
     },
     "execution_count": 7,
     "metadata": {},
     "output_type": "execute_result"
    }
   ],
   "source": [
    "centers"
   ]
  },
  {
   "cell_type": "code",
   "execution_count": 8,
   "metadata": {},
   "outputs": [
    {
     "data": {
      "text/plain": [
       "array([4, 2, 4, 2, 4, 2, 4, 2, 4, 2, 4, 2, 4, 2, 4, 2, 4, 2, 4, 2, 4, 2,\n",
       "       4, 2, 4, 2, 4, 2, 4, 2, 4, 2, 4, 2, 4, 2, 4, 2, 4, 2, 4, 2, 4, 0,\n",
       "       4, 2, 0, 0, 0, 0, 0, 0, 0, 0, 0, 0, 0, 0, 0, 0, 0, 0, 0, 0, 0, 0,\n",
       "       0, 0, 0, 0, 0, 0, 0, 0, 0, 0, 0, 0, 0, 0, 0, 0, 0, 0, 0, 0, 0, 0,\n",
       "       0, 0, 0, 0, 0, 0, 0, 0, 0, 0, 0, 0, 0, 0, 0, 0, 0, 0, 0, 0, 0, 0,\n",
       "       0, 0, 0, 0, 0, 0, 0, 0, 0, 0, 0, 0, 0, 1, 3, 1, 0, 1, 3, 1, 3, 1,\n",
       "       0, 1, 3, 1, 3, 1, 3, 1, 3, 1, 0, 1, 3, 1, 3, 1, 3, 1, 3, 1, 3, 1,\n",
       "       3, 1, 3, 1, 3, 1, 3, 1, 3, 1, 3, 1, 3, 1, 3, 1, 3, 1, 3, 1, 3, 1,\n",
       "       3, 1, 3, 1, 3, 1, 3, 1, 3, 1, 3, 1, 3, 1, 3, 1, 3, 1, 3, 1, 3, 1,\n",
       "       3, 1], dtype=int32)"
      ]
     },
     "execution_count": 8,
     "metadata": {},
     "output_type": "execute_result"
    }
   ],
   "source": [
    "labels"
   ]
  },
  {
   "cell_type": "code",
   "execution_count": 11,
   "metadata": {},
   "outputs": [
    {
     "data": {
      "image/png": "[encoded data removed]",
      "text/plain": [
       "<Figure size 800x600 with 1 Axes>"
      ]
     },
     "metadata": {},
     "output_type": "display_data"
    }
   ],
   "source": [
    "plt.figure(figsize=(8, 6))\n",
    "plt.scatter(X_scaled[:, 0], X_scaled[:, 1], c=labels, cmap='rainbow', s=50)\n",
    "plt.scatter(centers[:, 0], centers[:, 1], c='black', s=200, marker='X')\n",
    "plt.xlabel(\"Revenu annuel (normalisé)\")\n",
    "plt.ylabel(\"Score de dépense (normalisé)\")\n",
    "plt.title(\"Segmentation des clients avec KMeans\")\n",
    "plt.grid(True)\n",
    "plt.show()\n"
   ]
  },
  {
   "cell_type": "code",
   "execution_count": null,
   "metadata": {},
   "outputs": [
    {
     "name": "stdout",
     "output_type": "stream",
     "text": [
      "Silhouette Score: 0.555\n"
     ]
    }
   ],
   "source": [
    "score = silhouette_score(X_scaled, labels)\n",
    "print(\"Silhouette Score:\", round(score, 3))\n"
   ]
  },
  {
   "cell_type": "code",
   "execution_count": 17,
   "metadata": {},
   "outputs": [
    {
     "name": "stdout",
     "output_type": "stream",
     "text": [
      "Inertia (WCSS): 65.57\n",
      "Silhouette Score: 0.555\n",
      "Davies-Bouldin Index: 0.572\n",
      "Calinski-Harabasz Index: 248.65\n"
     ]
    }
   ],
   "source": [
    "from sklearn.metrics import silhouette_score, davies_bouldin_score, calinski_harabasz_score\n",
    "from sklearn.metrics import adjusted_rand_score, normalized_mutual_info_score\n",
    "\n",
    "# Calculate Inertia (WCSS)\n",
    "inertia = kmeans.inertia_\n",
    "print(f\"Inertia (WCSS): {inertia:.2f}\")\n",
    "# Interpretation: Lower values mean points are closer to their centroids.\n",
    "\n",
    "# Calculate Silhouette Score\n",
    "silhouette = silhouette_score(X_scaled, labels)\n",
    "print(f\"Silhouette Score: {silhouette:.3f}\")\n",
    "# Interpretation: Close to 1 = good clusters, close to 0 = ambiguous, negative = poor clustering.\n",
    "\n",
    "# Calculate Davies-Bouldin Index\n",
    "db_score = davies_bouldin_score(X_scaled, labels)\n",
    "print(f\"Davies-Bouldin Index: {db_score:.3f}\")\n",
    "# Interpretation: Lower values indicate more compact and better-separated clusters.\n",
    "\n",
    "# Calculate Calinski-Harabasz Index\n",
    "ch_score = calinski_harabasz_score(X_scaled, labels)\n",
    "print(f\"Calinski-Harabasz Index: {ch_score:.2f}\")\n",
    "# Interpretation: Higher values indicate denser and well-separated clusters.\n",
    "\n"
   ]
  },
  {
   "cell_type": "code",
   "execution_count": null,
   "metadata": {},
   "outputs": [
    {
     "data": {
      "image/png": "[encoded data removed]",
      "text/plain": [
       "<Figure size 640x480 with 1 Axes>"
      ]
     },
     "metadata": {},
     "output_type": "display_data"
    }
   ],
   "source": [
    "import matplotlib.pyplot as plt\n",
    "from sklearn.cluster import KMeans\n",
    "from sklearn.preprocessing import StandardScaler\n",
    "import pandas as pd\n",
    "\n",
    "\n",
    "inertias = []\n",
    "K_range = range(1, 11)\n",
    "\n",
    "for k in K_range:\n",
    "    kmeans = KMeans(n_clusters=k, random_state=42)\n",
    "    kmeans.fit(X_scaled)\n",
    "    inertias.append(kmeans.inertia_)\n",
    "\n",
    "# Visualiser la méthode du coude\n",
    "plt.plot(K_range, inertias, 'bo-')\n",
    "plt.xlabel('Nombre de clusters (k)')\n",
    "plt.ylabel('Inertie')\n",
    "plt.title(\"Méthode du coude pour choisir k\")\n",
    "plt.grid(True)\n",
    "plt.show()\n"
   ]
  },
  {
   "cell_type": "code",
   "execution_count": null,
   "metadata": {},
   "outputs": [
    {
     "data": {
      "text/plain": [
       "Cluster\n",
       "0    81\n",
       "1    39\n",
       "3    35\n",
       "4    23\n",
       "2    22\n",
       "Name: count, dtype: int64"
      ]
     },
     "execution_count": 27,
     "metadata": {},
     "output_type": "execute_result"
    }
   ],
   "source": [
    "data[\"Cluster\"].value_counts()"
   ]
  },
  {
   "cell_type": "code",
   "execution_count": null,
   "metadata": {},
   "outputs": [
    {
     "data": {
      "application/vnd.microsoft.datawrangler.viewer.v0+json": {
       "columns": [
        {
         "name": "Cluster",
         "rawType": "int32",
         "type": "integer"
        },
        {
         "name": "Annual Income (k$)",
         "rawType": "float64",
         "type": "float"
        },
        {
         "name": "Spending Score (1-100)",
         "rawType": "float64",
         "type": "float"
        }
       ],
       "conversionMethod": "pd.DataFrame",
       "ref": "e3e06a45-6fbf-46f2-87dc-7c2b43f2e808",
       "rows": [
        [
         "0",
         "55.2962962962963",
         "49.51851851851852"
        ],
        [
         "1",
         "86.53846153846153",
         "82.12820512820512"
        ],
        [
         "2",
         "25.727272727272727",
         "79.36363636363636"
        ],
        [
         "3",
         "88.2",
         "17.114285714285714"
        ],
        [
         "4",
         "26.304347826086957",
         "20.91304347826087"
        ]
       ],
       "shape": {
        "columns": 2,
        "rows": 5
       }
      },
      "text/html": [
       "<div>\n",
       "<style scoped>\n",
       "    .dataframe tbody tr th:only-of-type {\n",
       "        vertical-align: middle;\n",
       "    }\n",
       "\n",
       "    .dataframe tbody tr th {\n",
       "        vertical-align: top;\n",
       "    }\n",
       "\n",
       "    .dataframe thead th {\n",
       "        text-align: right;\n",
       "    }\n",
       "</style>\n",
       "<table border=\"1\" class=\"dataframe\">\n",
       "  <thead>\n",
       "    <tr style=\"text-align: right;\">\n",
       "      <th></th>\n",
       "      <th>Annual Income (k$)</th>\n",
       "      <th>Spending Score (1-100)</th>\n",
       "    </tr>\n",
       "    <tr>\n",
       "      <th>Cluster</th>\n",
       "      <th></th>\n",
       "      <th></th>\n",
       "    </tr>\n",
       "  </thead>\n",
       "  <tbody>\n",
       "    <tr>\n",
       "      <th>0</th>\n",
       "      <td>55.296296</td>\n",
       "      <td>49.518519</td>\n",
       "    </tr>\n",
       "    <tr>\n",
       "      <th>1</th>\n",
       "      <td>86.538462</td>\n",
       "      <td>82.128205</td>\n",
       "    </tr>\n",
       "    <tr>\n",
       "      <th>2</th>\n",
       "      <td>25.727273</td>\n",
       "      <td>79.363636</td>\n",
       "    </tr>\n",
       "    <tr>\n",
       "      <th>3</th>\n",
       "      <td>88.200000</td>\n",
       "      <td>17.114286</td>\n",
       "    </tr>\n",
       "    <tr>\n",
       "      <th>4</th>\n",
       "      <td>26.304348</td>\n",
       "      <td>20.913043</td>\n",
       "    </tr>\n",
       "  </tbody>\n",
       "</table>\n",
       "</div>"
      ],
      "text/plain": [
       "         Annual Income (k$)  Spending Score (1-100)\n",
       "Cluster                                            \n",
       "0                 55.296296               49.518519\n",
       "1                 86.538462               82.128205\n",
       "2                 25.727273               79.363636\n",
       "3                 88.200000               17.114286\n",
       "4                 26.304348               20.913043"
      ]
     },
     "execution_count": 15,
     "metadata": {},
     "output_type": "execute_result"
    }
   ],
   "source": [
    "data.groupby('Cluster')[['Annual Income (k$)', 'Spending Score (1-100)']].mean()\n"
   ]
  },
  {
   "cell_type": "code",
   "execution_count": null,
   "metadata": {},
   "outputs": [
    {
     "data": {
      "application/vnd.microsoft.datawrangler.viewer.v0+json": {
       "columns": [
        {
         "name": "index",
         "rawType": "int64",
         "type": "integer"
        },
        {
         "name": "CustomerID",
         "rawType": "int64",
         "type": "integer"
        },
        {
         "name": "Gender",
         "rawType": "object",
         "type": "string"
        },
        {
         "name": "Age",
         "rawType": "int64",
         "type": "integer"
        },
        {
         "name": "Annual Income (k$)",
         "rawType": "int64",
         "type": "integer"
        },
        {
         "name": "Spending Score (1-100)",
         "rawType": "int64",
         "type": "integer"
        },
        {
         "name": "Cluster",
         "rawType": "int32",
         "type": "integer"
        },
        {
         "name": "Segment",
         "rawType": "object",
         "type": "string"
        }
       ],
       "conversionMethod": "pd.DataFrame",
       "ref": "fe800725-8f06-4c48-8118-caf702acd37e",
       "rows": [
        [
         "0",
         "1",
         "Male",
         "19",
         "15",
         "39",
         "4",
         "VIP"
        ],
        [
         "1",
         "2",
         "Male",
         "21",
         "15",
         "81",
         "2",
         "Clients moyens"
        ],
        [
         "2",
         "3",
         "Female",
         "20",
         "16",
         "6",
         "4",
         "VIP"
        ],
        [
         "3",
         "4",
         "Female",
         "23",
         "16",
         "77",
         "2",
         "Clients moyens"
        ],
        [
         "4",
         "5",
         "Female",
         "31",
         "17",
         "40",
         "4",
         "VIP"
        ],
        [
         "5",
         "6",
         "Female",
         "22",
         "17",
         "76",
         "2",
         "Clients moyens"
        ],
        [
         "6",
         "7",
         "Female",
         "35",
         "18",
         "6",
         "4",
         "VIP"
        ],
        [
         "7",
         "8",
         "Female",
         "23",
         "18",
         "94",
         "2",
         "Clients moyens"
        ],
        [
         "8",
         "9",
         "Male",
         "64",
         "19",
         "3",
         "4",
         "VIP"
        ],
        [
         "9",
         "10",
         "Female",
         "30",
         "19",
         "72",
         "2",
         "Clients moyens"
        ],
        [
         "10",
         "11",
         "Male",
         "67",
         "19",
         "14",
         "4",
         "VIP"
        ],
        [
         "11",
         "12",
         "Female",
         "35",
         "19",
         "99",
         "2",
         "Clients moyens"
        ],
        [
         "12",
         "13",
         "Female",
         "58",
         "20",
         "15",
         "4",
         "VIP"
        ],
        [
         "13",
         "14",
         "Female",
         "24",
         "20",
         "77",
         "2",
         "Clients moyens"
        ],
        [
         "14",
         "15",
         "Male",
         "37",
         "20",
         "13",
         "4",
         "VIP"
        ],
        [
         "15",
         "16",
         "Male",
         "22",
         "20",
         "79",
         "2",
         "Clients moyens"
        ],
        [
         "16",
         "17",
         "Female",
         "35",
         "21",
         "35",
         "4",
         "VIP"
        ],
        [
         "17",
         "18",
         "Male",
         "20",
         "21",
         "66",
         "2",
         "Clients moyens"
        ],
        [
         "18",
         "19",
         "Male",
         "52",
         "23",
         "29",
         "4",
         "VIP"
        ],
        [
         "19",
         "20",
         "Female",
         "35",
         "23",
         "98",
         "2",
         "Clients moyens"
        ],
        [
         "20",
         "21",
         "Male",
         "35",
         "24",
         "35",
         "4",
         "VIP"
        ],
        [
         "21",
         "22",
         "Male",
         "25",
         "24",
         "73",
         "2",
         "Clients moyens"
        ],
        [
         "22",
         "23",
         "Female",
         "46",
         "25",
         "5",
         "4",
         "VIP"
        ],
        [
         "23",
         "24",
         "Male",
         "31",
         "25",
         "73",
         "2",
         "Clients moyens"
        ],
        [
         "24",
         "25",
         "Female",
         "54",
         "28",
         "14",
         "4",
         "VIP"
        ],
        [
         "25",
         "26",
         "Male",
         "29",
         "28",
         "82",
         "2",
         "Clients moyens"
        ],
        [
         "26",
         "27",
         "Female",
         "45",
         "28",
         "32",
         "4",
         "VIP"
        ],
        [
         "27",
         "28",
         "Male",
         "35",
         "28",
         "61",
         "2",
         "Clients moyens"
        ],
        [
         "28",
         "29",
         "Female",
         "40",
         "29",
         "31",
         "4",
         "VIP"
        ],
        [
         "29",
         "30",
         "Female",
         "23",
         "29",
         "87",
         "2",
         "Clients moyens"
        ],
        [
         "30",
         "31",
         "Male",
         "60",
         "30",
         "4",
         "4",
         "VIP"
        ],
        [
         "31",
         "32",
         "Female",
         "21",
         "30",
         "73",
         "2",
         "Clients moyens"
        ],
        [
         "32",
         "33",
         "Male",
         "53",
         "33",
         "4",
         "4",
         "VIP"
        ],
        [
         "33",
         "34",
         "Male",
         "18",
         "33",
         "92",
         "2",
         "Clients moyens"
        ],
        [
         "34",
         "35",
         "Female",
         "49",
         "33",
         "14",
         "4",
         "VIP"
        ],
        [
         "35",
         "36",
         "Female",
         "21",
         "33",
         "81",
         "2",
         "Clients moyens"
        ],
        [
         "36",
         "37",
         "Female",
         "42",
         "34",
         "17",
         "4",
         "VIP"
        ],
        [
         "37",
         "38",
         "Female",
         "30",
         "34",
         "73",
         "2",
         "Clients moyens"
        ],
        [
         "38",
         "39",
         "Female",
         "36",
         "37",
         "26",
         "4",
         "VIP"
        ],
        [
         "39",
         "40",
         "Female",
         "20",
         "37",
         "75",
         "2",
         "Clients moyens"
        ],
        [
         "40",
         "41",
         "Female",
         "65",
         "38",
         "35",
         "4",
         "VIP"
        ],
        [
         "41",
         "42",
         "Male",
         "24",
         "38",
         "92",
         "2",
         "Clients moyens"
        ],
        [
         "42",
         "43",
         "Male",
         "48",
         "39",
         "36",
         "4",
         "VIP"
        ],
        [
         "43",
         "44",
         "Female",
         "31",
         "39",
         "61",
         "0",
         "Prudents"
        ],
        [
         "44",
         "45",
         "Female",
         "49",
         "39",
         "28",
         "4",
         "VIP"
        ],
        [
         "45",
         "46",
         "Female",
         "24",
         "39",
         "65",
         "2",
         "Clients moyens"
        ],
        [
         "46",
         "47",
         "Female",
         "50",
         "40",
         "55",
         "0",
         "Prudents"
        ],
        [
         "47",
         "48",
         "Female",
         "27",
         "40",
         "47",
         "0",
         "Prudents"
        ],
        [
         "48",
         "49",
         "Female",
         "29",
         "40",
         "42",
         "0",
         "Prudents"
        ],
        [
         "49",
         "50",
         "Female",
         "31",
         "40",
         "42",
         "0",
         "Prudents"
        ]
       ],
       "shape": {
        "columns": 7,
        "rows": 200
       }
      },
      "text/html": [
       "<div>\n",
       "<style scoped>\n",
       "    .dataframe tbody tr th:only-of-type {\n",
       "        vertical-align: middle;\n",
       "    }\n",
       "\n",
       "    .dataframe tbody tr th {\n",
       "        vertical-align: top;\n",
       "    }\n",
       "\n",
       "    .dataframe thead th {\n",
       "        text-align: right;\n",
       "    }\n",
       "</style>\n",
       "<table border=\"1\" class=\"dataframe\">\n",
       "  <thead>\n",
       "    <tr style=\"text-align: right;\">\n",
       "      <th></th>\n",
       "      <th>CustomerID</th>\n",
       "      <th>Gender</th>\n",
       "      <th>Age</th>\n",
       "      <th>Annual Income (k$)</th>\n",
       "      <th>Spending Score (1-100)</th>\n",
       "      <th>Cluster</th>\n",
       "      <th>Segment</th>\n",
       "    </tr>\n",
       "  </thead>\n",
       "  <tbody>\n",
       "    <tr>\n",
       "      <th>0</th>\n",
       "      <td>1</td>\n",
       "      <td>Male</td>\n",
       "      <td>19</td>\n",
       "      <td>15</td>\n",
       "      <td>39</td>\n",
       "      <td>4</td>\n",
       "      <td>VIP</td>\n",
       "    </tr>\n",
       "    <tr>\n",
       "      <th>1</th>\n",
       "      <td>2</td>\n",
       "      <td>Male</td>\n",
       "      <td>21</td>\n",
       "      <td>15</td>\n",
       "      <td>81</td>\n",
       "      <td>2</td>\n",
       "      <td>Clients moyens</td>\n",
       "    </tr>\n",
       "    <tr>\n",
       "      <th>2</th>\n",
       "      <td>3</td>\n",
       "      <td>Female</td>\n",
       "      <td>20</td>\n",
       "      <td>16</td>\n",
       "      <td>6</td>\n",
       "      <td>4</td>\n",
       "      <td>VIP</td>\n",
       "    </tr>\n",
       "    <tr>\n",
       "      <th>3</th>\n",
       "      <td>4</td>\n",
       "      <td>Female</td>\n",
       "      <td>23</td>\n",
       "      <td>16</td>\n",
       "      <td>77</td>\n",
       "      <td>2</td>\n",
       "      <td>Clients moyens</td>\n",
       "    </tr>\n",
       "    <tr>\n",
       "      <th>4</th>\n",
       "      <td>5</td>\n",
       "      <td>Female</td>\n",
       "      <td>31</td>\n",
       "      <td>17</td>\n",
       "      <td>40</td>\n",
       "      <td>4</td>\n",
       "      <td>VIP</td>\n",
       "    </tr>\n",
       "    <tr>\n",
       "      <th>...</th>\n",
       "      <td>...</td>\n",
       "      <td>...</td>\n",
       "      <td>...</td>\n",
       "      <td>...</td>\n",
       "      <td>...</td>\n",
       "      <td>...</td>\n",
       "      <td>...</td>\n",
       "    </tr>\n",
       "    <tr>\n",
       "      <th>195</th>\n",
       "      <td>196</td>\n",
       "      <td>Female</td>\n",
       "      <td>35</td>\n",
       "      <td>120</td>\n",
       "      <td>79</td>\n",
       "      <td>1</td>\n",
       "      <td>Gros dépensiers</td>\n",
       "    </tr>\n",
       "    <tr>\n",
       "      <th>196</th>\n",
       "      <td>197</td>\n",
       "      <td>Female</td>\n",
       "      <td>45</td>\n",
       "      <td>126</td>\n",
       "      <td>28</td>\n",
       "      <td>3</td>\n",
       "      <td>Faible revenu</td>\n",
       "    </tr>\n",
       "    <tr>\n",
       "      <th>197</th>\n",
       "      <td>198</td>\n",
       "      <td>Male</td>\n",
       "      <td>32</td>\n",
       "      <td>126</td>\n",
       "      <td>74</td>\n",
       "      <td>1</td>\n",
       "      <td>Gros dépensiers</td>\n",
       "    </tr>\n",
       "    <tr>\n",
       "      <th>198</th>\n",
       "      <td>199</td>\n",
       "      <td>Male</td>\n",
       "      <td>32</td>\n",
       "      <td>137</td>\n",
       "      <td>18</td>\n",
       "      <td>3</td>\n",
       "      <td>Faible revenu</td>\n",
       "    </tr>\n",
       "    <tr>\n",
       "      <th>199</th>\n",
       "      <td>200</td>\n",
       "      <td>Male</td>\n",
       "      <td>30</td>\n",
       "      <td>137</td>\n",
       "      <td>83</td>\n",
       "      <td>1</td>\n",
       "      <td>Gros dépensiers</td>\n",
       "    </tr>\n",
       "  </tbody>\n",
       "</table>\n",
       "<p>200 rows × 7 columns</p>\n",
       "</div>"
      ],
      "text/plain": [
       "     CustomerID  Gender  Age  ...  Spending Score (1-100)  Cluster          Segment\n",
       "0             1    Male   19  ...                      39        4              VIP\n",
       "1             2    Male   21  ...                      81        2   Clients moyens\n",
       "2             3  Female   20  ...                       6        4              VIP\n",
       "3             4  Female   23  ...                      77        2   Clients moyens\n",
       "4             5  Female   31  ...                      40        4              VIP\n",
       "..          ...     ...  ...  ...                     ...      ...              ...\n",
       "195         196  Female   35  ...                      79        1  Gros dépensiers\n",
       "196         197  Female   45  ...                      28        3    Faible revenu\n",
       "197         198    Male   32  ...                      74        1  Gros dépensiers\n",
       "198         199    Male   32  ...                      18        3    Faible revenu\n",
       "199         200    Male   30  ...                      83        1  Gros dépensiers\n",
       "\n",
       "[200 rows x 7 columns]"
      ]
     },
     "execution_count": 16,
     "metadata": {},
     "output_type": "execute_result"
    }
   ],
   "source": [
    "# Exemple : si cluster 1 = gros dépensiers\n",
    "data['Segment'] = data['Cluster'].map({\n",
    "    0: 'Prudents',\n",
    "    1: 'Gros dépensiers',\n",
    "    2: 'Clients moyens',\n",
    "    3: 'Faible revenu',\n",
    "    4: 'VIP'\n",
    "})\n",
    "\n",
    "data"
   ]
  },
  {
   "cell_type": "code",
   "execution_count": null,
   "metadata": {},
   "outputs": [
    {
     "data": {
      "text/plain": [
       "Cluster\n",
       "0    55.296296\n",
       "1    86.538462\n",
       "2    25.727273\n",
       "3    88.200000\n",
       "4    26.304348\n",
       "Name: Annual Income (k$), dtype: float64"
      ]
     },
     "execution_count": 17,
     "metadata": {},
     "output_type": "execute_result"
    }
   ],
   "source": [
    "data.groupby('Cluster')[\"Annual Income (k$)\"].mean()\n"
   ]
  },
  {
   "cell_type": "code",
   "execution_count": null,
   "metadata": {},
   "outputs": [
    {
     "data": {
      "image/png": "[encoded data removed]",
      "text/plain": [
       "<Figure size 640x480 with 1 Axes>"
      ]
     },
     "metadata": {},
     "output_type": "display_data"
    }
   ],
   "source": [
    "import seaborn as sns\n",
    "\n",
    "sns.boxplot(x='Segment', y='Annual Income (k$)', data=data)\n",
    "plt.show()"
   ]
  },
  {
   "cell_type": "code",
   "execution_count": null,
   "metadata": {},
   "outputs": [
    {
     "data": {
      "application/vnd.plotly.v1+json": {
       "config": {
        "plotlyServerURL": "https://plot.ly"
       },
       "data": [
        {
         "customdata": [
          [
           "Male"
          ],
          [
           "Male"
          ],
          [
           "Female"
          ],
          [
           "Female"
          ],
          [
           "Female"
          ],
          [
           "Female"
          ],
          [
           "Female"
          ],
          [
           "Female"
          ],
          [
           "Male"
          ],
          [
           "Female"
          ],
          [
           "Male"
          ],
          [
           "Female"
          ],
          [
           "Female"
          ],
          [
           "Female"
          ],
          [
           "Male"
          ],
          [
           "Male"
          ],
          [
           "Female"
          ],
          [
           "Male"
          ],
          [
           "Male"
          ],
          [
           "Female"
          ],
          [
           "Male"
          ],
          [
           "Male"
          ],
          [
           "Female"
          ],
          [
           "Male"
          ],
          [
           "Female"
          ],
          [
           "Male"
          ],
          [
           "Female"
          ],
          [
           "Male"
          ],
          [
           "Female"
          ],
          [
           "Female"
          ],
          [
           "Male"
          ],
          [
           "Female"
          ],
          [
           "Male"
          ],
          [
           "Male"
          ],
          [
           "Female"
          ],
          [
           "Female"
          ],
          [
           "Female"
          ],
          [
           "Female"
          ],
          [
           "Female"
          ],
          [
           "Female"
          ],
          [
           "Female"
          ],
          [
           "Male"
          ],
          [
           "Male"
          ],
          [
           "Female"
          ],
          [
           "Female"
          ],
          [
           "Female"
          ],
          [
           "Female"
          ],
          [
           "Female"
          ],
          [
           "Female"
          ],
          [
           "Female"
          ],
          [
           "Female"
          ],
          [
           "Male"
          ],
          [
           "Female"
          ],
          [
           "Male"
          ],
          [
           "Female"
          ],
          [
           "Male"
          ],
          [
           "Female"
          ],
          [
           "Male"
          ],
          [
           "Female"
          ],
          [
           "Male"
          ],
          [
           "Male"
          ],
          [
           "Male"
          ],
          [
           "Female"
          ],
          [
           "Female"
          ],
          [
           "Male"
          ],
          [
           "Male"
          ],
          [
           "Female"
          ],
          [
           "Female"
          ],
          [
           "Male"
          ],
          [
           "Female"
          ],
          [
           "Male"
          ],
          [
           "Female"
          ],
          [
           "Female"
          ],
          [
           "Female"
          ],
          [
           "Male"
          ],
          [
           "Male"
          ],
          [
           "Female"
          ],
          [
           "Male"
          ],
          [
           "Female"
          ],
          [
           "Female"
          ],
          [
           "Male"
          ],
          [
           "Male"
          ],
          [
           "Male"
          ],
          [
           "Female"
          ],
          [
           "Female"
          ],
          [
           "Male"
          ],
          [
           "Female"
          ],
          [
           "Female"
          ],
          [
           "Female"
          ],
          [
           "Female"
          ],
          [
           "Female"
          ],
          [
           "Male"
          ],
          [
           "Male"
          ],
          [
           "Female"
          ],
          [
           "Female"
          ],
          [
           "Male"
          ],
          [
           "Female"
          ],
          [
           "Female"
          ],
          [
           "Male"
          ],
          [
           "Male"
          ],
          [
           "Female"
          ],
          [
           "Female"
          ],
          [
           "Male"
          ],
          [
           "Male"
          ],
          [
           "Male"
          ],
          [
           "Female"
          ],
          [
           "Female"
          ],
          [
           "Male"
          ],
          [
           "Male"
          ],
          [
           "Male"
          ],
          [
           "Male"
          ],
          [
           "Female"
          ],
          [
           "Female"
          ],
          [
           "Male"
          ],
          [
           "Female"
          ],
          [
           "Female"
          ],
          [
           "Female"
          ],
          [
           "Female"
          ],
          [
           "Female"
          ],
          [
           "Female"
          ],
          [
           "Male"
          ],
          [
           "Female"
          ],
          [
           "Female"
          ],
          [
           "Male"
          ],
          [
           "Female"
          ],
          [
           "Female"
          ],
          [
           "Male"
          ],
          [
           "Male"
          ],
          [
           "Male"
          ],
          [
           "Male"
          ],
          [
           "Male"
          ],
          [
           "Male"
          ],
          [
           "Female"
          ],
          [
           "Female"
          ],
          [
           "Male"
          ],
          [
           "Female"
          ],
          [
           "Female"
          ],
          [
           "Male"
          ],
          [
           "Male"
          ],
          [
           "Female"
          ],
          [
           "Female"
          ],
          [
           "Male"
          ],
          [
           "Female"
          ],
          [
           "Female"
          ],
          [
           "Male"
          ],
          [
           "Male"
          ],
          [
           "Male"
          ],
          [
           "Female"
          ],
          [
           "Female"
          ],
          [
           "Male"
          ],
          [
           "Male"
          ],
          [
           "Male"
          ],
          [
           "Female"
          ],
          [
           "Female"
          ],
          [
           "Female"
          ],
          [
           "Female"
          ],
          [
           "Male"
          ],
          [
           "Female"
          ],
          [
           "Male"
          ],
          [
           "Female"
          ],
          [
           "Female"
          ],
          [
           "Female"
          ],
          [
           "Male"
          ],
          [
           "Female"
          ],
          [
           "Male"
          ],
          [
           "Female"
          ],
          [
           "Male"
          ],
          [
           "Female"
          ],
          [
           "Female"
          ],
          [
           "Male"
          ],
          [
           "Male"
          ],
          [
           "Male"
          ],
          [
           "Male"
          ],
          [
           "Male"
          ],
          [
           "Female"
          ],
          [
           "Female"
          ],
          [
           "Male"
          ],
          [
           "Male"
          ],
          [
           "Male"
          ],
          [
           "Male"
          ],
          [
           "Female"
          ],
          [
           "Female"
          ],
          [
           "Male"
          ],
          [
           "Female"
          ],
          [
           "Female"
          ],
          [
           "Male"
          ],
          [
           "Female"
          ],
          [
           "Male"
          ],
          [
           "Female"
          ],
          [
           "Female"
          ],
          [
           "Female"
          ],
          [
           "Female"
          ],
          [
           "Male"
          ],
          [
           "Female"
          ],
          [
           "Female"
          ],
          [
           "Female"
          ],
          [
           "Female"
          ],
          [
           "Male"
          ],
          [
           "Male"
          ],
          [
           "Male"
          ]
         ],
         "hovertemplate": "Annual Income (k$)=%{x}<br>Spending Score (1-100)=%{y}<br>Gender=%{customdata[0]}<br>Cluster=%{marker.color}<extra></extra>",
         "legendgroup": "",
         "marker": {
          "color": {
           "bdata": "BAAAAAIAAAAEAAAAAgAAAAQAAAACAAAABAAAAAIAAAAEAAAAAgAAAAQAAAACAAAABAAAAAIAAAAEAAAAAgAAAAQAAAACAAAABAAAAAIAAAAEAAAAAgAAAAQAAAACAAAABAAAAAIAAAAEAAAAAgAAAAQAAAACAAAABAAAAAIAAAAEAAAAAgAAAAQAAAACAAAABAAAAAIAAAAEAAAAAgAAAAQAAAACAAAABAAAAAAAAAAEAAAAAgAAAAAAAAAAAAAAAAAAAAAAAAAAAAAAAAAAAAAAAAAAAAAAAAAAAAAAAAAAAAAAAAAAAAAAAAAAAAAAAAAAAAAAAAAAAAAAAAAAAAAAAAAAAAAAAAAAAAAAAAAAAAAAAAAAAAAAAAAAAAAAAAAAAAAAAAAAAAAAAAAAAAAAAAAAAAAAAAAAAAAAAAAAAAAAAAAAAAAAAAAAAAAAAAAAAAAAAAAAAAAAAAAAAAAAAAAAAAAAAAAAAAAAAAAAAAAAAAAAAAAAAAAAAAAAAAAAAAAAAAAAAAAAAAAAAAAAAAAAAAAAAAAAAAAAAAAAAAAAAAAAAAAAAAAAAAAAAAAAAAAAAAAAAAAAAAAAAAAAAAAAAAAAAAAAAAAAAAAAAAAAAAAAAAAAAAAAAAAAAAAAAAAAAAAAAAAAAQAAAAMAAAABAAAAAAAAAAEAAAADAAAAAQAAAAMAAAABAAAAAAAAAAEAAAADAAAAAQAAAAMAAAABAAAAAwAAAAEAAAADAAAAAQAAAAAAAAABAAAAAwAAAAEAAAADAAAAAQAAAAMAAAABAAAAAwAAAAEAAAADAAAAAQAAAAMAAAABAAAAAwAAAAEAAAADAAAAAQAAAAMAAAABAAAAAwAAAAEAAAADAAAAAQAAAAMAAAABAAAAAwAAAAEAAAADAAAAAQAAAAMAAAABAAAAAwAAAAEAAAADAAAAAQAAAAMAAAABAAAAAwAAAAEAAAADAAAAAQAAAAMAAAABAAAAAwAAAAEAAAADAAAAAQAAAAMAAAABAAAAAwAAAAEAAAADAAAAAQAAAAMAAAABAAAAAwAAAAEAAAA=",
           "dtype": "i4"
          },
          "coloraxis": "coloraxis",
          "symbol": "circle"
         },
         "mode": "markers",
         "name": "",
         "orientation": "v",
         "showlegend": false,
         "type": "scatter",
         "x": {
          "bdata": "DwAPABAAEAARABEAEgASABMAEwATABMAFAAUABQAFAAVABUAFwAXABgAGAAZABkAHAAcABwAHAAdAB0AHgAeACEAIQAhACEAIgAiACUAJQAmACYAJwAnACcAJwAoACgAKAAoACoAKgArACsAKwArACwALAAuAC4ALgAuAC8ALwAwADAAMAAwADAAMAAxADEAMgAyADYANgA2ADYANgA2ADYANgA2ADYANgA2ADkAOQA6ADoAOwA7ADwAPAA8ADwAPAA8AD0APQA+AD4APgA+AD4APgA/AD8APwA/AD8APwBAAEAAQQBBAEEAQQBDAEMAQwBDAEUARQBGAEYARwBHAEcARwBHAEcASABIAEkASQBJAEkASgBKAEsASwBMAEwATQBNAE0ATQBOAE4ATgBOAE4ATgBOAE4ATgBOAE4ATgBPAE8AUQBRAFUAVQBWAFYAVwBXAFcAVwBXAFcAWABYAFgAWABdAF0AYQBhAGIAYgBjAGMAZQBlAGcAZwBnAGcAcQBxAHgAeAB+AH4AiQCJAA==",
          "dtype": "i2"
         },
         "xaxis": "x",
         "y": {
          "bdata": "J1EGTShMBl4DSA5jD00NTyNCHWIjSQVJDlIgPR9XBEkEXA5REUkaSyNcJD0cQTcvKio0PDY8LSkyLjMuODc0OzM7MjA7LzcqMTgvNjUwNCozNyksOS46NzwuNykxKCo0LzIqMSkwOzc4KjIuKzA0NiouMDIrOys5OCg6Wx1NI18LSwlLIkcFWAdJCkgFXShXDGEkShZaEVgUTBBZAU4BSSNTBV0aSxRfGz8NSwpcDVYPRQ5aIFYPWCdhGEQRVRdFCFsQTxxKElM=",
          "dtype": "i1"
         },
         "yaxis": "y"
        }
       ],
       "layout": {
        "coloraxis": {
         "colorbar": {
          "title": {
           "text": "Cluster"
          }
         },
         "colorscale": [
          [
           0,
           "#0d0887"
          ],
          [
           0.1111111111111111,
           "#46039f"
          ],
          [
           0.2222222222222222,
           "#7201a8"
          ],
          [
           0.3333333333333333,
           "#9c179e"
          ],
          [
           0.4444444444444444,
           "#bd3786"
          ],
          [
           0.5555555555555556,
           "#d8576b"
          ],
          [
           0.6666666666666666,
           "#ed7953"
          ],
          [
           0.7777777777777778,
           "#fb9f3a"
          ],
          [
           0.8888888888888888,
           "#fdca26"
          ],
          [
           1,
           "#f0f921"
          ]
         ]
        },
        "font": {
         "size": 12
        },
        "height": 600,
        "legend": {
         "title": {
          "text": "Cluster"
         },
         "tracegroupgap": 0
        },
        "showlegend": true,
        "template": {
         "data": {
          "bar": [
           {
            "error_x": {
             "color": "#2a3f5f"
            },
            "error_y": {
             "color": "#2a3f5f"
            },
            "marker": {
             "line": {
              "color": "#E5ECF6",
              "width": 0.5
             },
             "pattern": {
              "fillmode": "overlay",
              "size": 10,
              "solidity": 0.2
             }
            },
            "type": "bar"
           }
          ],
          "barpolar": [
           {
            "marker": {
             "line": {
              "color": "#E5ECF6",
              "width": 0.5
             },
             "pattern": {
              "fillmode": "overlay",
              "size": 10,
              "solidity": 0.2
             }
            },
            "type": "barpolar"
           }
          ],
          "carpet": [
           {
            "aaxis": {
             "endlinecolor": "#2a3f5f",
             "gridcolor": "white",
             "linecolor": "white",
             "minorgridcolor": "white",
             "startlinecolor": "#2a3f5f"
            },
            "baxis": {
             "endlinecolor": "#2a3f5f",
             "gridcolor": "white",
             "linecolor": "white",
             "minorgridcolor": "white",
             "startlinecolor": "#2a3f5f"
            },
            "type": "carpet"
           }
          ],
          "choropleth": [
           {
            "colorbar": {
             "outlinewidth": 0,
             "ticks": ""
            },
            "type": "choropleth"
           }
          ],
          "contour": [
           {
            "colorbar": {
             "outlinewidth": 0,
             "ticks": ""
            },
            "colorscale": [
             [
              0,
              "#0d0887"
             ],
             [
              0.1111111111111111,
              "#46039f"
             ],
             [
              0.2222222222222222,
              "#7201a8"
             ],
             [
              0.3333333333333333,
              "#9c179e"
             ],
             [
              0.4444444444444444,
              "#bd3786"
             ],
             [
              0.5555555555555556,
              "#d8576b"
             ],
             [
              0.6666666666666666,
              "#ed7953"
             ],
             [
              0.7777777777777778,
              "#fb9f3a"
             ],
             [
              0.8888888888888888,
              "#fdca26"
             ],
             [
              1,
              "#f0f921"
             ]
            ],
            "type": "contour"
           }
          ],
          "contourcarpet": [
           {
            "colorbar": {
             "outlinewidth": 0,
             "ticks": ""
            },
            "type": "contourcarpet"
           }
          ],
          "heatmap": [
           {
            "colorbar": {
             "outlinewidth": 0,
             "ticks": ""
            },
            "colorscale": [
             [
              0,
              "#0d0887"
             ],
             [
              0.1111111111111111,
              "#46039f"
             ],
             [
              0.2222222222222222,
              "#7201a8"
             ],
             [
              0.3333333333333333,
              "#9c179e"
             ],
             [
              0.4444444444444444,
              "#bd3786"
             ],
             [
              0.5555555555555556,
              "#d8576b"
             ],
             [
              0.6666666666666666,
              "#ed7953"
             ],
             [
              0.7777777777777778,
              "#fb9f3a"
             ],
             [
              0.8888888888888888,
              "#fdca26"
             ],
             [
              1,
              "#f0f921"
             ]
            ],
            "type": "heatmap"
           }
          ],
          "histogram": [
           {
            "marker": {
             "pattern": {
              "fillmode": "overlay",
              "size": 10,
              "solidity": 0.2
             }
            },
            "type": "histogram"
           }
          ],
          "histogram2d": [
           {
            "colorbar": {
             "outlinewidth": 0,
             "ticks": ""
            },
            "colorscale": [
             [
              0,
              "#0d0887"
             ],
             [
              0.1111111111111111,
              "#46039f"
             ],
             [
              0.2222222222222222,
              "#7201a8"
             ],
             [
              0.3333333333333333,
              "#9c179e"
             ],
             [
              0.4444444444444444,
              "#bd3786"
             ],
             [
              0.5555555555555556,
              "#d8576b"
             ],
             [
              0.6666666666666666,
              "#ed7953"
             ],
             [
              0.7777777777777778,
              "#fb9f3a"
             ],
             [
              0.8888888888888888,
              "#fdca26"
             ],
             [
              1,
              "#f0f921"
             ]
            ],
            "type": "histogram2d"
           }
          ],
          "histogram2dcontour": [
           {
            "colorbar": {
             "outlinewidth": 0,
             "ticks": ""
            },
            "colorscale": [
             [
              0,
              "#0d0887"
             ],
             [
              0.1111111111111111,
              "#46039f"
             ],
             [
              0.2222222222222222,
              "#7201a8"
             ],
             [
              0.3333333333333333,
              "#9c179e"
             ],
             [
              0.4444444444444444,
              "#bd3786"
             ],
             [
              0.5555555555555556,
              "#d8576b"
             ],
             [
              0.6666666666666666,
              "#ed7953"
             ],
             [
              0.7777777777777778,
              "#fb9f3a"
             ],
             [
              0.8888888888888888,
              "#fdca26"
             ],
             [
              1,
              "#f0f921"
             ]
            ],
            "type": "histogram2dcontour"
           }
          ],
          "mesh3d": [
           {
            "colorbar": {
             "outlinewidth": 0,
             "ticks": ""
            },
            "type": "mesh3d"
           }
          ],
          "parcoords": [
           {
            "line": {
             "colorbar": {
              "outlinewidth": 0,
              "ticks": ""
             }
            },
            "type": "parcoords"
           }
          ],
          "pie": [
           {
            "automargin": true,
            "type": "pie"
           }
          ],
          "scatter": [
           {
            "fillpattern": {
             "fillmode": "overlay",
             "size": 10,
             "solidity": 0.2
            },
            "type": "scatter"
           }
          ],
          "scatter3d": [
           {
            "line": {
             "colorbar": {
              "outlinewidth": 0,
              "ticks": ""
             }
            },
            "marker": {
             "colorbar": {
              "outlinewidth": 0,
              "ticks": ""
             }
            },
            "type": "scatter3d"
           }
          ],
          "scattercarpet": [
           {
            "marker": {
             "colorbar": {
              "outlinewidth": 0,
              "ticks": ""
             }
            },
            "type": "scattercarpet"
           }
          ],
          "scattergeo": [
           {
            "marker": {
             "colorbar": {
              "outlinewidth": 0,
              "ticks": ""
             }
            },
            "type": "scattergeo"
           }
          ],
          "scattergl": [
           {
            "marker": {
             "colorbar": {
              "outlinewidth": 0,
              "ticks": ""
             }
            },
            "type": "scattergl"
           }
          ],
          "scattermap": [
           {
            "marker": {
             "colorbar": {
              "outlinewidth": 0,
              "ticks": ""
             }
            },
            "type": "scattermap"
           }
          ],
          "scattermapbox": [
           {
            "marker": {
             "colorbar": {
              "outlinewidth": 0,
              "ticks": ""
             }
            },
            "type": "scattermapbox"
           }
          ],
          "scatterpolar": [
           {
            "marker": {
             "colorbar": {
              "outlinewidth": 0,
              "ticks": ""
             }
            },
            "type": "scatterpolar"
           }
          ],
          "scatterpolargl": [
           {
            "marker": {
             "colorbar": {
              "outlinewidth": 0,
              "ticks": ""
             }
            },
            "type": "scatterpolargl"
           }
          ],
          "scatterternary": [
           {
            "marker": {
             "colorbar": {
              "outlinewidth": 0,
              "ticks": ""
             }
            },
            "type": "scatterternary"
           }
          ],
          "surface": [
           {
            "colorbar": {
             "outlinewidth": 0,
             "ticks": ""
            },
            "colorscale": [
             [
              0,
              "#0d0887"
             ],
             [
              0.1111111111111111,
              "#46039f"
             ],
             [
              0.2222222222222222,
              "#7201a8"
             ],
             [
              0.3333333333333333,
              "#9c179e"
             ],
             [
              0.4444444444444444,
              "#bd3786"
             ],
             [
              0.5555555555555556,
              "#d8576b"
             ],
             [
              0.6666666666666666,
              "#ed7953"
             ],
             [
              0.7777777777777778,
              "#fb9f3a"
             ],
             [
              0.8888888888888888,
              "#fdca26"
             ],
             [
              1,
              "#f0f921"
             ]
            ],
            "type": "surface"
           }
          ],
          "table": [
           {
            "cells": {
             "fill": {
              "color": "#EBF0F8"
             },
             "line": {
              "color": "white"
             }
            },
            "header": {
             "fill": {
              "color": "#C8D4E3"
             },
             "line": {
              "color": "white"
             }
            },
            "type": "table"
           }
          ]
         },
         "layout": {
          "annotationdefaults": {
           "arrowcolor": "#2a3f5f",
           "arrowhead": 0,
           "arrowwidth": 1
          },
          "autotypenumbers": "strict",
          "coloraxis": {
           "colorbar": {
            "outlinewidth": 0,
            "ticks": ""
           }
          },
          "colorscale": {
           "diverging": [
            [
             0,
             "#8e0152"
            ],
            [
             0.1,
             "#c51b7d"
            ],
            [
             0.2,
             "#de77ae"
            ],
            [
             0.3,
             "#f1b6da"
            ],
            [
             0.4,
             "#fde0ef"
            ],
            [
             0.5,
             "#f7f7f7"
            ],
            [
             0.6,
             "#e6f5d0"
            ],
            [
             0.7,
             "#b8e186"
            ],
            [
             0.8,
             "#7fbc41"
            ],
            [
             0.9,
             "#4d9221"
            ],
            [
             1,
             "#276419"
            ]
           ],
           "sequential": [
            [
             0,
             "#0d0887"
            ],
            [
             0.1111111111111111,
             "#46039f"
            ],
            [
             0.2222222222222222,
             "#7201a8"
            ],
            [
             0.3333333333333333,
             "#9c179e"
            ],
            [
             0.4444444444444444,
             "#bd3786"
            ],
            [
             0.5555555555555556,
             "#d8576b"
            ],
            [
             0.6666666666666666,
             "#ed7953"
            ],
            [
             0.7777777777777778,
             "#fb9f3a"
            ],
            [
             0.8888888888888888,
             "#fdca26"
            ],
            [
             1,
             "#f0f921"
            ]
           ],
           "sequentialminus": [
            [
             0,
             "#0d0887"
            ],
            [
             0.1111111111111111,
             "#46039f"
            ],
            [
             0.2222222222222222,
             "#7201a8"
            ],
            [
             0.3333333333333333,
             "#9c179e"
            ],
            [
             0.4444444444444444,
             "#bd3786"
            ],
            [
             0.5555555555555556,
             "#d8576b"
            ],
            [
             0.6666666666666666,
             "#ed7953"
            ],
            [
             0.7777777777777778,
             "#fb9f3a"
            ],
            [
             0.8888888888888888,
             "#fdca26"
            ],
            [
             1,
             "#f0f921"
            ]
           ]
          },
          "colorway": [
           "#636efa",
           "#EF553B",
           "#00cc96",
           "#ab63fa",
           "#FFA15A",
           "#19d3f3",
           "#FF6692",
           "#B6E880",
           "#FF97FF",
           "#FECB52"
          ],
          "font": {
           "color": "#2a3f5f"
          },
          "geo": {
           "bgcolor": "white",
           "lakecolor": "white",
           "landcolor": "#E5ECF6",
           "showlakes": true,
           "showland": true,
           "subunitcolor": "white"
          },
          "hoverlabel": {
           "align": "left"
          },
          "hovermode": "closest",
          "mapbox": {
           "style": "light"
          },
          "paper_bgcolor": "white",
          "plot_bgcolor": "#E5ECF6",
          "polar": {
           "angularaxis": {
            "gridcolor": "white",
            "linecolor": "white",
            "ticks": ""
           },
           "bgcolor": "#E5ECF6",
           "radialaxis": {
            "gridcolor": "white",
            "linecolor": "white",
            "ticks": ""
           }
          },
          "scene": {
           "xaxis": {
            "backgroundcolor": "#E5ECF6",
            "gridcolor": "white",
            "gridwidth": 2,
            "linecolor": "white",
            "showbackground": true,
            "ticks": "",
            "zerolinecolor": "white"
           },
           "yaxis": {
            "backgroundcolor": "#E5ECF6",
            "gridcolor": "white",
            "gridwidth": 2,
            "linecolor": "white",
            "showbackground": true,
            "ticks": "",
            "zerolinecolor": "white"
           },
           "zaxis": {
            "backgroundcolor": "#E5ECF6",
            "gridcolor": "white",
            "gridwidth": 2,
            "linecolor": "white",
            "showbackground": true,
            "ticks": "",
            "zerolinecolor": "white"
           }
          },
          "shapedefaults": {
           "line": {
            "color": "#2a3f5f"
           }
          },
          "ternary": {
           "aaxis": {
            "gridcolor": "white",
            "linecolor": "white",
            "ticks": ""
           },
           "baxis": {
            "gridcolor": "white",
            "linecolor": "white",
            "ticks": ""
           },
           "bgcolor": "#E5ECF6",
           "caxis": {
            "gridcolor": "white",
            "linecolor": "white",
            "ticks": ""
           }
          },
          "title": {
           "x": 0.05
          },
          "xaxis": {
           "automargin": true,
           "gridcolor": "white",
           "linecolor": "white",
           "ticks": "",
           "title": {
            "standoff": 15
           },
           "zerolinecolor": "white",
           "zerolinewidth": 2
          },
          "yaxis": {
           "automargin": true,
           "gridcolor": "white",
           "linecolor": "white",
           "ticks": "",
           "title": {
            "standoff": 15
           },
           "zerolinecolor": "white",
           "zerolinewidth": 2
          }
         }
        },
        "title": {
         "text": "Customer Segmentation by Income and Spending Score"
        },
        "width": 800,
        "xaxis": {
         "anchor": "y",
         "domain": [
          0,
          1
         ],
         "title": {
          "text": "Annual Income (k$)"
         }
        },
        "yaxis": {
         "anchor": "x",
         "domain": [
          0,
          1
         ],
         "title": {
          "text": "Spending Score (1-100)"
         }
        }
       }
      }
     },
     "metadata": {},
     "output_type": "display_data"
    }
   ],
   "source": [
    "import plotly.express as px\n",
    "\n",
    "# Create a 2D scatter plot\n",
    "fig = px.scatter(\n",
    "    data,\n",
    "    x='Annual Income (k$)',           # X_scaled-axis variable\n",
    "    y='Spending Score (1-100)',       # Y-axis variable\n",
    "    color='Cluster',                  # Color by cluster\n",
    "    title='Customer Segmentation by Income and Spending Score',\n",
    "    labels={\n",
    "        'Annual Income (k$)': 'Annual Income (k$)',\n",
    "        'Spending Score (1-100)': 'Spending Score (1-100)'\n",
    "    },\n",
    "    hover_data=['Gender'],            # Show gender on hover\n",
    "    size_max=25                       # Maximum point size\n",
    ")\n",
    "\n",
    "# Customize the layout\n",
    "fig.update_layout(\n",
    "    showlegend=True,\n",
    "    legend_title_text='Cluster',\n",
    "    xaxis_title='Annual Income (k$)',\n",
    "    yaxis_title='Spending Score (1-100)',\n",
    "    font=dict(size=12),\n",
    "    width=800,\n",
    "    height=600\n",
    ")\n",
    "\n",
    "# Display the plot\n",
    "fig.show()"
   ]
  }
 ],
 "metadata": {
  "kernelspec": {
   "display_name": "Timo",
   "language": "python",
   "name": "python3"
  },
  "language_info": {
   "codemirror_mode": {
    "name": "ipython",
    "version": 3
   },
   "file_extension": ".py",
   "mimetype": "text/x-python",
   "name": "python",
   "nbconvert_exporter": "python",
   "pygments_lexer": "ipython3",
   "version": "3.13.2"
  }
 },
 "nbformat": 4,
 "nbformat_minor": 2
}
