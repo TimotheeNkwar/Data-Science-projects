{
 "cells": [
  {
   "cell_type": "markdown",
   "metadata": {},
   "source": [
    "<h1 align=\"center\">📊🔍⚠️ Outlier detection in a dataset </h1>"
   ]
  },
  {
   "cell_type": "code",
   "execution_count": null,
   "metadata": {},
   "outputs": [],
   "source": [
    "import numpy as np\n",
    "import matplotlib.pyplot as plt\n",
    "import pandas as pd \n",
    "import random\n",
    "import morethemes as mt\n",
    "mt.set_theme(\"nature\")"
   ]
  },
  {
   "cell_type": "code",
   "execution_count": 72,
   "metadata": {},
   "outputs": [
    {
     "name": "stdout",
     "output_type": "stream",
     "text": [
      "[27.48357077 24.30867849 28.23844269 32.61514928 23.82923313 23.82931522\n",
      " 32.89606408 28.83717365 22.65262807 27.71280022 22.68291154 22.67135123\n",
      " 26.20981136 15.43359878 16.37541084 22.18856235 19.9358444  26.57123666\n",
      " 20.45987962 17.93848149 32.32824384 23.8711185  25.33764102 17.87625907\n",
      " 22.27808638 25.55461295 19.24503211 26.87849009 21.99680655 23.54153125\n",
      " 21.99146694 34.26139092 24.93251388 19.71144536 29.11272456 18.89578175\n",
      " 26.04431798 15.20164938 18.35906976 25.98430618 28.6923329  25.85684141\n",
      " 24.42175859 23.49448152 17.60739005 21.40077896 22.69680615 30.28561113\n",
      " 26.71809145 16.18479922 26.62041985 23.0745886  21.61539    28.05838144\n",
      " 30.15499761 29.6564006  20.80391238 23.45393812 26.65631716 29.87772564\n",
      " 22.60412881 24.07170512 19.46832513 19.01896688 29.06262911 31.78120014\n",
      " 24.63994939 30.01766449 26.80818013 21.77440123 26.80697803 32.69018283\n",
      " 24.8208698  32.82321828 11.90127448 29.10951252 25.43523534 23.50496325\n",
      " 25.45880388 15.06215543 23.90164056 26.78556286 32.38947022 22.40864891\n",
      " 20.95753199 22.49121478 29.57701059 26.64375555 22.35119898 27.56633717\n",
      " 25.48538775 29.84322495 21.48973453 23.36168927 23.03945923 17.68242526\n",
      " 26.48060139 26.30527636 25.02556728 23.82706433]\n",
      "Mean: 24.480767413029536\n"
     ]
    }
   ],
   "source": [
    "# 100 random numbers with mean 25 and standard deviation 5\n",
    "np.random.seed(42)\n",
    "a = np.random.normal(loc=25, scale=5, size=100)\n",
    "print(a)\n",
    "print(\"Mean:\", np.mean(a))"
   ]
  },
  {
   "cell_type": "code",
   "execution_count": 73,
   "metadata": {},
   "outputs": [
    {
     "data": {
      "text/plain": [
       "{'whiskers': [<matplotlib.lines.Line2D at 0x2a600092ad0>,\n",
       "  <matplotlib.lines.Line2D at 0x2a600092990>],\n",
       " 'caps': [<matplotlib.lines.Line2D at 0x2a600092850>,\n",
       "  <matplotlib.lines.Line2D at 0x2a600091090>],\n",
       " 'boxes': [<matplotlib.lines.Line2D at 0x2a600092c10>],\n",
       " 'medians': [<matplotlib.lines.Line2D at 0x2a600090f50>],\n",
       " 'fliers': [<matplotlib.lines.Line2D at 0x2a600090e10>],\n",
       " 'means': []}"
      ]
     },
     "execution_count": 73,
     "metadata": {},
     "output_type": "execute_result"
    }
   ],
   "source": [
    "#data without outliers\n",
    "plt.boxplot(a)"
   ]
  },
  {
   "cell_type": "code",
   "execution_count": 74,
   "metadata": {},
   "outputs": [
    {
     "data": {
      "text/plain": [
       "array([ 27.48357077,  24.30867849,  28.23844269,  32.61514928,\n",
       "        23.82923313,  23.82931522,  32.89606408,  28.83717365,\n",
       "        22.65262807,  27.71280022,  22.68291154,  22.67135123,\n",
       "        26.20981136,  15.43359878,  16.37541084,  22.18856235,\n",
       "        19.9358444 ,  26.57123666,  20.45987962,  17.93848149,\n",
       "        32.32824384,  23.8711185 ,  25.33764102,  17.87625907,\n",
       "        22.27808638,  25.55461295,  19.24503211,  26.87849009,\n",
       "        21.99680655,  23.54153125,  21.99146694,  34.26139092,\n",
       "        24.93251388,  19.71144536,  29.11272456,  18.89578175,\n",
       "        26.04431798,  15.20164938,  18.35906976,  25.98430618,\n",
       "        28.6923329 ,  25.85684141,  24.42175859,  23.49448152,\n",
       "        17.60739005,  21.40077896,  22.69680615,  30.28561113,\n",
       "        26.71809145,  16.18479922,  26.62041985,  23.0745886 ,\n",
       "        21.61539   ,  28.05838144,  30.15499761,  29.6564006 ,\n",
       "        20.80391238,  23.45393812,  26.65631716,  29.87772564,\n",
       "        22.60412881,  24.07170512,  19.46832513,  19.01896688,\n",
       "        29.06262911,  31.78120014,  24.63994939,  30.01766449,\n",
       "        26.80818013,  21.77440123,  26.80697803,  32.69018283,\n",
       "        24.8208698 ,  32.82321828,  11.90127448,  29.10951252,\n",
       "        25.43523534,  23.50496325,  25.45880388,  15.06215543,\n",
       "        23.90164056,  26.78556286,  32.38947022,  22.40864891,\n",
       "        20.95753199,  22.49121478,  29.57701059,  26.64375555,\n",
       "        22.35119898,  27.56633717,  25.48538775,  29.84322495,\n",
       "        21.48973453,  23.36168927,  23.03945923,  17.68242526,\n",
       "        26.48060139,  26.30527636,  25.02556728,  23.82706433,\n",
       "       120.        , 130.        , 140.        , 150.        ])"
      ]
     },
     "execution_count": 74,
     "metadata": {},
     "output_type": "execute_result"
    }
   ],
   "source": [
    "# add 4 extreme values to the a\n",
    "data = np.append(a, [120, 130, 140,150]) \n",
    "data"
   ]
  },
  {
   "cell_type": "code",
   "execution_count": 75,
   "metadata": {},
   "outputs": [
    {
     "data": {
      "text/plain": [
       "np.float64(28.731507127913012)"
      ]
     },
     "execution_count": 75,
     "metadata": {},
     "output_type": "execute_result"
    }
   ],
   "source": [
    "data.mean()"
   ]
  },
  {
   "cell_type": "code",
   "execution_count": 76,
   "metadata": {},
   "outputs": [
    {
     "data": {
      "text/plain": [
       "{'whiskers': [<matplotlib.lines.Line2D at 0x2a600093c50>,\n",
       "  <matplotlib.lines.Line2D at 0x2a600093d90>],\n",
       " 'caps': [<matplotlib.lines.Line2D at 0x2a600093ed0>,\n",
       "  <matplotlib.lines.Line2D at 0x2a67f1c2350>],\n",
       " 'boxes': [<matplotlib.lines.Line2D at 0x2a600090cd0>],\n",
       " 'medians': [<matplotlib.lines.Line2D at 0x2a67f1c2490>],\n",
       " 'fliers': [<matplotlib.lines.Line2D at 0x2a67f1c25d0>],\n",
       " 'means': []}"
      ]
     },
     "execution_count": 76,
     "metadata": {},
     "output_type": "execute_result"
    }
   ],
   "source": [
    "# boxplot\n",
    "plt.boxplot(data)"
   ]
  },
  {
   "cell_type": "code",
   "execution_count": 77,
   "metadata": {},
   "outputs": [],
   "source": [
    "#let's create a dataframe from the data\n",
    "df = pd.DataFrame(data, columns=['Values'])\n",
    "\n",
    "# calculate the first quartile and second quartile and the interquartile range\n",
    "Q1 = df['Values'].quantile(0.25)\n",
    "Q3 = df['Values'].quantile(0.75)\n",
    "IQR = Q3 - Q1\n"
   ]
  },
  {
   "cell_type": "markdown",
   "metadata": {},
   "source": [
    "- **the first quartile**"
   ]
  },
  {
   "cell_type": "code",
   "execution_count": 78,
   "metadata": {},
   "outputs": [
    {
     "name": "stdout",
     "output_type": "stream",
     "text": [
      "22.140623402947845\n"
     ]
    }
   ],
   "source": [
    "print(Q1)"
   ]
  },
  {
   "cell_type": "markdown",
   "metadata": {},
   "source": [
    "- **show the second quartile**"
   ]
  },
  {
   "cell_type": "code",
   "execution_count": 79,
   "metadata": {},
   "outputs": [
    {
     "name": "stdout",
     "output_type": "stream",
     "text": [
      "27.799195524498455\n"
     ]
    }
   ],
   "source": [
    "print(Q3)"
   ]
  },
  {
   "cell_type": "code",
   "execution_count": 80,
   "metadata": {},
   "outputs": [
    {
     "name": "stdout",
     "output_type": "stream",
     "text": [
      "The interquartile value is  5.658572121550609\n"
     ]
    }
   ],
   "source": [
    "print(\"The interquartile value is \",IQR)"
   ]
  },
  {
   "cell_type": "code",
   "execution_count": 81,
   "metadata": {},
   "outputs": [],
   "source": [
    "#detection of outliers\n",
    "lower_bound = Q1 - 1.5 * IQR\n",
    "upper_bound = Q3 + 1.5 * IQR\n",
    "outliers = df[(df['Values'] < lower_bound) | (df['Values'] > upper_bound)]"
   ]
  },
  {
   "cell_type": "code",
   "execution_count": 82,
   "metadata": {},
   "outputs": [
    {
     "name": "stdout",
     "output_type": "stream",
     "text": [
      "13.652765220621932\n"
     ]
    }
   ],
   "source": [
    "print(lower_bound)"
   ]
  },
  {
   "cell_type": "code",
   "execution_count": 83,
   "metadata": {},
   "outputs": [
    {
     "name": "stdout",
     "output_type": "stream",
     "text": [
      "36.287053706824366\n"
     ]
    }
   ],
   "source": [
    "print(upper_bound)"
   ]
  },
  {
   "cell_type": "code",
   "execution_count": 84,
   "metadata": {},
   "outputs": [
    {
     "data": {
      "application/vnd.microsoft.datawrangler.viewer.v0+json": {
       "columns": [
        {
         "name": "index",
         "rawType": "int64",
         "type": "integer"
        },
        {
         "name": "Values",
         "rawType": "float64",
         "type": "float"
        }
       ],
       "conversionMethod": "pd.DataFrame",
       "ref": "7402c46f-ac04-4bd7-bb80-9efce52a357f",
       "rows": [
        [
         "74",
         "11.901274479551278"
        ],
        [
         "100",
         "120.0"
        ],
        [
         "101",
         "130.0"
        ],
        [
         "102",
         "140.0"
        ],
        [
         "103",
         "150.0"
        ]
       ],
       "shape": {
        "columns": 1,
        "rows": 5
       }
      },
      "text/html": [
       "<div>\n",
       "<style scoped>\n",
       "    .dataframe tbody tr th:only-of-type {\n",
       "        vertical-align: middle;\n",
       "    }\n",
       "\n",
       "    .dataframe tbody tr th {\n",
       "        vertical-align: top;\n",
       "    }\n",
       "\n",
       "    .dataframe thead th {\n",
       "        text-align: right;\n",
       "    }\n",
       "</style>\n",
       "<table border=\"1\" class=\"dataframe\">\n",
       "  <thead>\n",
       "    <tr style=\"text-align: right;\">\n",
       "      <th></th>\n",
       "      <th>Values</th>\n",
       "    </tr>\n",
       "  </thead>\n",
       "  <tbody>\n",
       "    <tr>\n",
       "      <th>74</th>\n",
       "      <td>11.901274</td>\n",
       "    </tr>\n",
       "    <tr>\n",
       "      <th>100</th>\n",
       "      <td>120.000000</td>\n",
       "    </tr>\n",
       "    <tr>\n",
       "      <th>101</th>\n",
       "      <td>130.000000</td>\n",
       "    </tr>\n",
       "    <tr>\n",
       "      <th>102</th>\n",
       "      <td>140.000000</td>\n",
       "    </tr>\n",
       "    <tr>\n",
       "      <th>103</th>\n",
       "      <td>150.000000</td>\n",
       "    </tr>\n",
       "  </tbody>\n",
       "</table>\n",
       "</div>"
      ],
      "text/plain": [
       "         Values\n",
       "74    11.901274\n",
       "100  120.000000\n",
       "101  130.000000\n",
       "102  140.000000\n",
       "103  150.000000"
      ]
     },
     "execution_count": 84,
     "metadata": {},
     "output_type": "execute_result"
    }
   ],
   "source": [
    "outliers"
   ]
  },
  {
   "cell_type": "code",
   "execution_count": 85,
   "metadata": {},
   "outputs": [],
   "source": [
    "#clear outliers\n",
    "data_cleaned = df[(df['Values'] >= lower_bound) & (df['Values'] <= upper_bound)]"
   ]
  },
  {
   "cell_type": "code",
   "execution_count": 86,
   "metadata": {},
   "outputs": [
    {
     "data": {
      "application/vnd.microsoft.datawrangler.viewer.v0+json": {
       "columns": [
        {
         "name": "index",
         "rawType": "int64",
         "type": "integer"
        },
        {
         "name": "Values",
         "rawType": "float64",
         "type": "float"
        }
       ],
       "conversionMethod": "pd.DataFrame",
       "ref": "f999a66e-8787-4980-aa93-518d4c24b7b4",
       "rows": [
        [
         "0",
         "27.483570765056164"
        ],
        [
         "1",
         "24.308678494144075"
        ],
        [
         "2",
         "28.23844269050346"
        ],
        [
         "3",
         "32.61514928204013"
        ],
        [
         "4",
         "23.829233126383322"
        ],
        [
         "5",
         "23.8293152152541"
        ],
        [
         "6",
         "32.896064077536955"
        ],
        [
         "7",
         "28.837173645764544"
        ],
        [
         "8",
         "22.65262807032524"
        ],
        [
         "9",
         "27.712800217929825"
        ],
        [
         "10",
         "22.682911535937688"
        ],
        [
         "11",
         "22.671351232148716"
        ],
        [
         "12",
         "26.20981135783017"
        ],
        [
         "13",
         "15.43359877671101"
        ],
        [
         "14",
         "16.375410837434835"
        ],
        [
         "15",
         "22.188562353795135"
        ],
        [
         "16",
         "19.93584439832788"
        ],
        [
         "17",
         "26.571236662976368"
        ],
        [
         "18",
         "20.459879622393945"
        ],
        [
         "19",
         "17.938481493323543"
        ],
        [
         "20",
         "32.32824384460777"
        ],
        [
         "21",
         "23.871118497567323"
        ],
        [
         "22",
         "25.33764102343962"
        ],
        [
         "23",
         "17.87625906893272"
        ],
        [
         "24",
         "22.278086377374088"
        ],
        [
         "25",
         "25.55461294854933"
        ],
        [
         "26",
         "19.245032112888488"
        ],
        [
         "27",
         "26.87849009172836"
        ],
        [
         "28",
         "21.996806550405974"
        ],
        [
         "29",
         "23.541531251033618"
        ],
        [
         "30",
         "21.991466938853016"
        ],
        [
         "31",
         "34.26139092254469"
        ],
        [
         "32",
         "24.93251387631033"
        ],
        [
         "33",
         "19.711445355220498"
        ],
        [
         "34",
         "29.112724560515943"
        ],
        [
         "35",
         "18.895781750144888"
        ],
        [
         "36",
         "26.044317975023777"
        ],
        [
         "37",
         "15.201649380601122"
        ],
        [
         "38",
         "18.359069755507846"
        ],
        [
         "39",
         "25.984306179345616"
        ],
        [
         "40",
         "28.692332899977053"
        ],
        [
         "41",
         "25.85684140594985"
        ],
        [
         "42",
         "24.421758588058797"
        ],
        [
         "43",
         "23.494481522053555"
        ],
        [
         "44",
         "17.607390048162863"
        ],
        [
         "45",
         "21.400778958026457"
        ],
        [
         "46",
         "22.696806145201062"
        ],
        [
         "47",
         "30.285611131094576"
        ],
        [
         "48",
         "26.71809144784231"
        ],
        [
         "49",
         "16.18479922318633"
        ]
       ],
       "shape": {
        "columns": 1,
        "rows": 99
       }
      },
      "text/html": [
       "<div>\n",
       "<style scoped>\n",
       "    .dataframe tbody tr th:only-of-type {\n",
       "        vertical-align: middle;\n",
       "    }\n",
       "\n",
       "    .dataframe tbody tr th {\n",
       "        vertical-align: top;\n",
       "    }\n",
       "\n",
       "    .dataframe thead th {\n",
       "        text-align: right;\n",
       "    }\n",
       "</style>\n",
       "<table border=\"1\" class=\"dataframe\">\n",
       "  <thead>\n",
       "    <tr style=\"text-align: right;\">\n",
       "      <th></th>\n",
       "      <th>Values</th>\n",
       "    </tr>\n",
       "  </thead>\n",
       "  <tbody>\n",
       "    <tr>\n",
       "      <th>0</th>\n",
       "      <td>27.483571</td>\n",
       "    </tr>\n",
       "    <tr>\n",
       "      <th>1</th>\n",
       "      <td>24.308678</td>\n",
       "    </tr>\n",
       "    <tr>\n",
       "      <th>2</th>\n",
       "      <td>28.238443</td>\n",
       "    </tr>\n",
       "    <tr>\n",
       "      <th>3</th>\n",
       "      <td>32.615149</td>\n",
       "    </tr>\n",
       "    <tr>\n",
       "      <th>4</th>\n",
       "      <td>23.829233</td>\n",
       "    </tr>\n",
       "    <tr>\n",
       "      <th>...</th>\n",
       "      <td>...</td>\n",
       "    </tr>\n",
       "    <tr>\n",
       "      <th>95</th>\n",
       "      <td>17.682425</td>\n",
       "    </tr>\n",
       "    <tr>\n",
       "      <th>96</th>\n",
       "      <td>26.480601</td>\n",
       "    </tr>\n",
       "    <tr>\n",
       "      <th>97</th>\n",
       "      <td>26.305276</td>\n",
       "    </tr>\n",
       "    <tr>\n",
       "      <th>98</th>\n",
       "      <td>25.025567</td>\n",
       "    </tr>\n",
       "    <tr>\n",
       "      <th>99</th>\n",
       "      <td>23.827064</td>\n",
       "    </tr>\n",
       "  </tbody>\n",
       "</table>\n",
       "<p>99 rows × 1 columns</p>\n",
       "</div>"
      ],
      "text/plain": [
       "       Values\n",
       "0   27.483571\n",
       "1   24.308678\n",
       "2   28.238443\n",
       "3   32.615149\n",
       "4   23.829233\n",
       "..        ...\n",
       "95  17.682425\n",
       "96  26.480601\n",
       "97  26.305276\n",
       "98  25.025567\n",
       "99  23.827064\n",
       "\n",
       "[99 rows x 1 columns]"
      ]
     },
     "execution_count": 86,
     "metadata": {},
     "output_type": "execute_result"
    }
   ],
   "source": [
    "data_cleaned"
   ]
  },
  {
   "cell_type": "code",
   "execution_count": 87,
   "metadata": {},
   "outputs": [],
   "source": [
    "#boxplot without outliers\n",
    "box = plt.boxplot(data_cleaned['Values'])"
   ]
  },
  {
   "cell_type": "code",
   "execution_count": null,
   "metadata": {},
   "outputs": [],
   "source": []
  }
 ],
 "metadata": {
  "kernelspec": {
   "display_name": "Timo",
   "language": "python",
   "name": "python3"
  },
  "language_info": {
   "codemirror_mode": {
    "name": "ipython",
    "version": 3
   },
   "file_extension": ".py",
   "mimetype": "text/x-python",
   "name": "python",
   "nbconvert_exporter": "python",
   "pygments_lexer": "ipython3",
   "version": "3.13.2"
  }
 },
 "nbformat": 4,
 "nbformat_minor": 2
}
