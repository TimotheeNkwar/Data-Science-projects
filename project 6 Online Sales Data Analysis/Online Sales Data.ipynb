{
 "cells": [
  {
   "cell_type": "markdown",
   "id": "5681233f",
   "metadata": {},
   "source": [
    "\n",
    "<h1 align=\"center\">📊 Online Sales Data Analysis</h1>\n"
   ]
  },
  {
   "cell_type": "markdown",
   "id": "f6f06478",
   "metadata": {},
   "source": [
    "- **1 The Data**"
   ]
  },
  {
   "cell_type": "code",
   "execution_count": 184,
   "id": "3c5927b3",
   "metadata": {},
   "outputs": [
    {
     "name": "stdout",
     "output_type": "stream",
     "text": [
      "Warning: Looks like you're using an outdated `kagglehub` version (installed: 0.3.10), please consider upgrading to the latest version (0.3.12).\n",
      "Path to dataset files: C:\\Users\\KOVVO\\.cache\\kagglehub\\datasets\\samruddhi4040\\online-sales-data\\versions\\1\n"
     ]
    }
   ],
   "source": [
    "import kagglehub\n",
    "# Download latest version\n",
    "path = kagglehub.dataset_download(\"samruddhi4040/online-sales-data\")\n",
    "print(\"Path to dataset files:\", path)"
   ]
  },
  {
   "cell_type": "markdown",
   "id": "f418e1a6",
   "metadata": {},
   "source": [
    "- **import some necessary libraries**"
   ]
  },
  {
   "cell_type": "code",
   "execution_count": 185,
   "id": "917bcfda-c9a6-4c35-aced-4428d0955652",
   "metadata": {},
   "outputs": [],
   "source": [
    "# import some necessary libraries\n",
    "import pandas as pd\n",
    "import seaborn as sns\n",
    "import matplotlib.pyplot as plt\n",
    "%matplotlib inline\n",
    "import morethemes as mt\n",
    "mt.set_theme(\"ft\")"
   ]
  },
  {
   "cell_type": "code",
   "execution_count": 186,
   "id": "d15492af",
   "metadata": {},
   "outputs": [
    {
     "data": {
      "text/html": [
       "<table id=\"itables_d0101863_6736_4839_b717_757b34604314\" class=\"display nowrap\" data-quarto-disable-processing=\"true\" style=\"table-layout:auto;width:auto;margin:auto;caption-side:bottom\">\n",
       "<thead>\n",
       "    <tr style=\"text-align: right;\">\n",
       "      \n",
       "      <th>Order ID</th>\n",
       "      <th>Amount</th>\n",
       "      <th>Profit</th>\n",
       "      <th>Quantity</th>\n",
       "      <th>Category</th>\n",
       "      <th>Sub-Category</th>\n",
       "      <th>PaymentMode</th>\n",
       "    </tr>\n",
       "  </thead><tbody><tr>\n",
       "<td style=\"vertical-align:middle; text-align:left\">\n",
       "<a href=https://mwouts.github.io/itables/><svg class=\"main-svg\" xmlns=\"http://www.w3.org/2000/svg\" xmlns:xlink=\"http://www.w3.org/1999/xlink\"\n",
       "width=\"64\" viewBox=\"0 0 500 400\" style=\"font-family: 'Droid Sans', sans-serif;\">\n",
       "    <g style=\"fill:#d9d7fc\">\n",
       "        <path d=\"M100,400H500V357H100Z\" />\n",
       "        <path d=\"M100,300H400V257H100Z\" />\n",
       "        <path d=\"M0,200H400V157H0Z\" />\n",
       "        <path d=\"M100,100H500V57H100Z\" />\n",
       "        <path d=\"M100,350H500V307H100Z\" />\n",
       "        <path d=\"M100,250H400V207H100Z\" />\n",
       "        <path d=\"M0,150H400V107H0Z\" />\n",
       "        <path d=\"M100,50H500V7H100Z\" />\n",
       "    </g>\n",
       "    <g style=\"fill:#1a1366;stroke:#1a1366;\">\n",
       "   <rect x=\"100\" y=\"7\" width=\"400\" height=\"43\">\n",
       "    <animate\n",
       "      attributeName=\"width\"\n",
       "      values=\"0;400;0\"\n",
       "      dur=\"5s\"\n",
       "      repeatCount=\"indefinite\" />\n",
       "      <animate\n",
       "      attributeName=\"x\"\n",
       "      values=\"100;100;500\"\n",
       "      dur=\"5s\"\n",
       "      repeatCount=\"indefinite\" />\n",
       "  </rect>\n",
       "        <rect x=\"0\" y=\"107\" width=\"400\" height=\"43\">\n",
       "    <animate\n",
       "      attributeName=\"width\"\n",
       "      values=\"0;400;0\"\n",
       "      dur=\"3.5s\"\n",
       "      repeatCount=\"indefinite\" />\n",
       "    <animate\n",
       "      attributeName=\"x\"\n",
       "      values=\"0;0;400\"\n",
       "      dur=\"3.5s\"\n",
       "      repeatCount=\"indefinite\" />\n",
       "  </rect>\n",
       "        <rect x=\"100\" y=\"207\" width=\"300\" height=\"43\">\n",
       "    <animate\n",
       "      attributeName=\"width\"\n",
       "      values=\"0;300;0\"\n",
       "      dur=\"3s\"\n",
       "      repeatCount=\"indefinite\" />\n",
       "    <animate\n",
       "      attributeName=\"x\"\n",
       "      values=\"100;100;400\"\n",
       "      dur=\"3s\"\n",
       "      repeatCount=\"indefinite\" />\n",
       "  </rect>\n",
       "        <rect x=\"100\" y=\"307\" width=\"400\" height=\"43\">\n",
       "    <animate\n",
       "      attributeName=\"width\"\n",
       "      values=\"0;400;0\"\n",
       "      dur=\"4s\"\n",
       "      repeatCount=\"indefinite\" />\n",
       "      <animate\n",
       "      attributeName=\"x\"\n",
       "      values=\"100;100;500\"\n",
       "      dur=\"4s\"\n",
       "      repeatCount=\"indefinite\" />\n",
       "  </rect>\n",
       "        <g style=\"fill:transparent;stroke-width:8; stroke-linejoin:round\" rx=\"5\">\n",
       "            <g transform=\"translate(45 50) rotate(-45)\">\n",
       "                <circle r=\"33\" cx=\"0\" cy=\"0\" />\n",
       "                <rect x=\"-8\" y=\"32\" width=\"16\" height=\"30\" />\n",
       "            </g>\n",
       "\n",
       "            <g transform=\"translate(450 152)\">\n",
       "                <polyline points=\"-15,-20 -35,-20 -35,40 25,40 25,20\" />\n",
       "                <rect x=\"-15\" y=\"-40\" width=\"60\" height=\"60\" />\n",
       "            </g>\n",
       "\n",
       "            <g transform=\"translate(50 352)\">\n",
       "                <polygon points=\"-35,-5 0,-40 35,-5\" />\n",
       "                <polygon points=\"-35,10 0,45 35,10\" />\n",
       "            </g>\n",
       "\n",
       "            <g transform=\"translate(75 250)\">\n",
       "                <polyline points=\"-30,30 -60,0 -30,-30\" />\n",
       "                <polyline points=\"0,30 -30,0 0,-30\" />\n",
       "            </g>\n",
       "\n",
       "            <g transform=\"translate(425 250) rotate(180)\">\n",
       "                <polyline points=\"-30,30 -60,0 -30,-30\" />\n",
       "                <polyline points=\"0,30 -30,0 0,-30\" />\n",
       "            </g>\n",
       "        </g>\n",
       "    </g>\n",
       "</svg>\n",
       "</a>\n",
       "Loading ITables v2.3.0 from the internet...\n",
       "(need <a href=https://mwouts.github.io/itables/troubleshooting.html>help</a>?)</td>\n",
       "</tr></tbody>\n",
       "</table>\n",
       "<link href=\"https://www.unpkg.com/dt_for_itables@2.2.0/dt_bundle.css\" rel=\"stylesheet\">\n",
       "<script type=\"module\">\n",
       "    import {DataTable, jQuery as $} from 'https://www.unpkg.com/dt_for_itables@2.2.0/dt_bundle.js';\n",
       "\n",
       "    document.querySelectorAll(\"#itables_d0101863_6736_4839_b717_757b34604314:not(.dataTable)\").forEach(table => {\n",
       "        if (!(table instanceof HTMLTableElement))\n",
       "            return;\n",
       "\n",
       "        // Define the table data\n",
       "        const data = [[\"B-25681\", 1096, 658, 7, \"Electronics\", \"Electronic Games\", \"COD\"], [\"B-26055\", 5729, 64, 14, \"Furniture\", \"Chairs\", \"EMI\"], [\"B-25955\", 2927, 146, 8, \"Furniture\", \"Bookcases\", \"EMI\"], [\"B-26093\", 2847, 712, 8, \"Electronics\", \"Printers\", \"Credit Card\"], [\"B-25602\", 2617, 1151, 4, \"Electronics\", \"Phones\", \"Credit Card\"], [\"B-25881\", 2244, 247, 4, \"Clothing\", \"Trousers\", \"Credit Card\"], [\"B-25696\", 275, -275, 4, \"Clothing\", \"Saree\", \"COD\"], [\"B-25687\", 387, -213, 5, \"Clothing\", \"Saree\", \"UPI\"], [\"B-25643\", 50, -44, 2, \"Clothing\", \"Hankerchief\", \"UPI\"], [\"B-25851\", 135, -54, 5, \"Clothing\", \"Kurti\", \"COD\"], [\"B-25703\", 231, -190, 9, \"Clothing\", \"Hankerchief\", \"COD\"], [\"B-25887\", 2125, -234, 6, \"Electronics\", \"Printers\", \"EMI\"], [\"B-25923\", 3873, -891, 6, \"Electronics\", \"Phones\", \"Credit Card\"], [\"B-25756\", 729, -492, 5, \"Furniture\", \"Bookcases\", \"UPI\"], [\"B-25761\", 2188, 1050, 5, \"Furniture\", \"Bookcases\", \"Credit Card\"], [\"B-25655\", 6, -3, 1, \"Clothing\", \"Hankerchief\", \"UPI\"], [\"B-25786\", 1854, 433, 5, \"Furniture\", \"Bookcases\", \"Credit Card\"], [\"B-26095\", 6, 1, 1, \"Clothing\", \"Kurti\", \"UPI\"], [\"B-25853\", 2093, 721, 5, \"Furniture\", \"Chairs\", \"Credit Card\"], [\"B-25735\", 7, -1, 2, \"Clothing\", \"Skirt\", \"UPI\"], [\"B-25910\", 1622, -624, 5, \"Furniture\", \"Tables\", \"Credit Card\"], [\"B-25950\", 1622, 95, 5, \"Electronics\", \"Printers\", \"Credit Card\"], [\"B-25744\", 373, 254, 6, \"Electronics\", \"Printers\", \"UPI\"], [\"B-25845\", 82, -33, 4, \"Clothing\", \"Kurti\", \"COD\"], [\"B-26001\", 8, 2, 2, \"Clothing\", \"Skirt\", \"UPI\"], [\"B-25830\", 1954, 782, 3, \"Electronics\", \"Phones\", \"Credit Card\"], [\"B-25842\", 1543, 370, 8, \"Electronics\", \"Printers\", \"Credit Card\"], [\"B-25778\", 1506, -266, 6, \"Electronics\", \"Printers\", \"Credit Card\"], [\"B-25686\", 1829, -56, 6, \"Furniture\", \"Tables\", \"Credit Card\"], [\"B-25754\", 9, -1, 3, \"Clothing\", \"Skirt\", \"UPI\"], [\"B-26048\", 1461, 202, 5, \"Furniture\", \"Tables\", \"EMI\"], [\"B-25816\", 391, 113, 8, \"Clothing\", \"Stole\", \"COD\"], [\"B-26022\", 1824, 1303, 8, \"Electronics\", \"Phones\", \"Credit Card\"], [\"B-25883\", 16, -15, 4, \"Clothing\", \"Hankerchief\", \"UPI\"], [\"B-26003\", 1745, 122, 2, \"Furniture\", \"Tables\", \"Credit Card\"], [\"B-26097\", 663, -212, 5, \"Electronics\", \"Printers\", \"UPI\"], [\"B-25710\", 10, -1, 1, \"Clothing\", \"Leggings\", \"UPI\"], [\"B-25797\", 1630, 802, 5, \"Furniture\", \"Tables\", \"EMI\"], [\"B-25618\", 12, 0, 2, \"Clothing\", \"Hankerchief\", \"UPI\"], [\"B-25723\", 12, -7, 2, \"Clothing\", \"Leggings\", \"UPI\"], [\"B-25755\", 1709, 564, 3, \"Clothing\", \"Trousers\", \"Credit Card\"], [\"B-25788\", 12, 3, 1, \"Clothing\", \"Stole\", \"UPI\"], [\"B-25681\", 1625, -77, 3, \"Electronics\", \"Phones\", \"EMI\"], [\"B-25991\", 13, 5, 2, \"Clothing\", \"Hankerchief\", \"UPI\"], [\"B-25779\", 1361, 980, 3, \"Furniture\", \"Tables\", \"COD\"], [\"B-25909\", 1622, -448, 3, \"Electronics\", \"Phones\", \"EMI\"], [\"B-25943\", 1547, 340, 6, \"Electronics\", \"Accessories\", \"EMI\"], [\"B-25935\", 1657, 460, 4, \"Furniture\", \"Chairs\", \"Credit Card\"], [\"B-25613\", 1603, 0, 9, \"Clothing\", \"Saree\", \"Credit Card\"], [\"B-25729\", 1549, -439, 4, \"Electronics\", \"Phones\", \"Credit Card\"], [\"B-25772\", 1183, 106, 4, \"Electronics\", \"Printers\", \"EMI\"], [\"B-25655\", 74, -123, 8, \"Clothing\", \"Skirt\", \"UPI\"], [\"B-25640\", 1499, 239, 13, \"Clothing\", \"Saree\", \"Credit Card\"], [\"B-25810\", 1120, 199, 6, \"Clothing\", \"Saree\", \"EMI\"], [\"B-25801\", 15, -2, 1, \"Clothing\", \"T-shirt\", \"Debit Card\"], [\"B-26085\", 1487, 624, 3, \"Clothing\", \"Trousers\", \"Credit Card\"], [\"B-25868\", 1118, 206, 2, \"Furniture\", \"Tables\", \"Credit Card\"], [\"B-25714\", 11, -5, 2, \"Clothing\", \"Hankerchief\", \"COD\"], [\"B-25784\", 15, 4, 1, \"Clothing\", \"Hankerchief\", \"Debit Card\"], [\"B-25608\", 1364, 1864, 5, \"Furniture\", \"Tables\", \"Credit Card\"], [\"B-26051\", 1337, 147, 7, \"Electronics\", \"Printers\", \"Credit Card\"], [\"B-25900\", 15, 2, 1, \"Clothing\", \"Leggings\", \"Debit Card\"], [\"B-25760\", 322, -193, 5, \"Electronics\", \"Printers\", \"UPI\"], [\"B-25762\", 1316, 527, 7, \"Electronics\", \"Electronic Games\", \"Credit Card\"], [\"B-25995\", 1314, 342, 3, \"Furniture\", \"Bookcases\", \"Credit Card\"], [\"B-25965\", 17, 7, 3, \"Clothing\", \"Hankerchief\", \"Debit Card\"], [\"B-25967\", 17, 2, 2, \"Clothing\", \"Skirt\", \"Debit Card\"], [\"B-25674\", 17, -12, 5, \"Clothing\", \"Skirt\", \"Debit Card\"], [\"B-25929\", 1308, 536, 3, \"Furniture\", \"Bookcases\", \"Credit Card\"], [\"B-25777\", 1076, -38, 4, \"Electronics\", \"Printers\", \"Credit Card\"], [\"B-26006\", 1301, 573, 5, \"Electronics\", \"Accessories\", \"Credit Card\"], [\"B-25697\", 1300, -16, 8, \"Electronics\", \"Printers\", \"Credit Card\"], [\"B-25667\", 11, -2, 4, \"Clothing\", \"Hankerchief\", \"COD\"], [\"B-25836\", 1298, 65, 9, \"Electronics\", \"Printers\", \"EMI\"], [\"B-25984\", 304, 97, 6, \"Clothing\", \"Stole\", \"UPI\"], [\"B-25728\", 1055, 264, 4, \"Electronics\", \"Printers\", \"EMI\"], [\"B-25757\", 17, -13, 4, \"Clothing\", \"Skirt\", \"Debit Card\"], [\"B-25957\", 147, 73, 3, \"Clothing\", \"Stole\", \"COD\"], [\"B-26061\", 965, -68, 3, \"Electronics\", \"Printers\", \"COD\"], [\"B-25735\", 12, -2, 3, \"Clothing\", \"Hankerchief\", \"COD\"], [\"B-25616\", 14, -2, 3, \"Clothing\", \"Hankerchief\", \"UPI\"], [\"B-25666\", 934, -916, 7, \"Electronics\", \"Electronic Games\", \"COD\"], [\"B-25675\", 929, -93, 9, \"Clothing\", \"Saree\", \"COD\"], [\"B-26079\", 18, 3, 2, \"Clothing\", \"Hankerchief\", \"Debit Card\"], [\"B-25850\", 916, 192, 11, \"Electronics\", \"Phones\", \"COD\"], [\"B-25693\", 76, -72, 9, \"Clothing\", \"Hankerchief\", \"COD\"], [\"B-25852\", 869, 67, 4, \"Furniture\", \"Tables\", \"COD\"], [\"B-25860\", 112, 24, 3, \"Clothing\", \"Kurti\", \"COD\"], [\"B-25853\", 39, 16, 6, \"Clothing\", \"Skirt\", \"UPI\"], [\"B-25898\", 857, -274, 2, \"Furniture\", \"Tables\", \"COD\"], [\"B-26100\", 828, 230, 2, \"Furniture\", \"Chairs\", \"COD\"], [\"B-25653\", 1279, -640, 8, \"Electronics\", \"Printers\", \"EMI\"], [\"B-25839\", 1250, 486, 7, \"Clothing\", \"Saree\", \"EMI\"], [\"B-25651\", 823, -18, 7, \"Furniture\", \"Chairs\", \"COD\"], [\"B-25957\", 1157, -13, 9, \"Furniture\", \"Bookcases\", \"Credit Card\"], [\"B-25704\", 126, -63, 3, \"Electronics\", \"Accessories\", \"UPI\"], [\"B-25730\", 1145, -706, 3, \"Electronics\", \"Phones\", \"Credit Card\"], [\"B-26052\", 774, 170, 3, \"Electronics\", \"Accessories\", \"COD\"], [\"B-25656\", 24, -1, 2, \"Clothing\", \"Hankerchief\", \"COD\"], [\"B-26033\", 774, 170, 3, \"Electronics\", \"Accessories\", \"COD\"], [\"B-25850\", 93, -1, 2, \"Clothing\", \"Hankerchief\", \"COD\"], [\"B-25945\", 765, -36, 3, \"Electronics\", \"Electronic Games\", \"COD\"], [\"B-26086\", 762, 101, 6, \"Electronics\", \"Printers\", \"COD\"], [\"B-25752\", 761, 266, 9, \"Electronics\", \"Electronic Games\", \"COD\"], [\"B-26098\", 96, -48, 5, \"Clothing\", \"Leggings\", \"UPI\"], [\"B-26067\", 1137, -14, 7, \"Electronics\", \"Printers\", \"EMI\"], [\"B-25730\", 18, 8, 2, \"Clothing\", \"Hankerchief\", \"Debit Card\"], [\"B-25986\", 749, -307, 7, \"Furniture\", \"Furnishings\", \"COD\"], [\"B-26067\", 1120, 199, 6, \"Clothing\", \"Saree\", \"EMI\"], [\"B-25953\", 744, 119, 6, \"Electronics\", \"Printers\", \"COD\"], [\"B-25952\", 14, 0, 4, \"Clothing\", \"Hankerchief\", \"UPI\"], [\"B-25903\", 19, 8, 2, \"Clothing\", \"Hankerchief\", \"Debit Card\"], [\"B-25650\", 512, -225, 5, \"Clothing\", \"Saree\", \"COD\"], [\"B-25970\", 742, 198, 2, \"Furniture\", \"Bookcases\", \"COD\"], [\"B-26062\", 44, -40, 3, \"Clothing\", \"Stole\", \"COD\"], [\"B-25643\", 1061, -36, 8, \"Furniture\", \"Bookcases\", \"EMI\"], [\"B-25632\", 19, -2, 2, \"Clothing\", \"Leggings\", \"Debit Card\"], [\"B-25821\", 17, 0, 1, \"Clothing\", \"Hankerchief\", \"COD\"], [\"B-25878\", 741, 267, 5, \"Furniture\", \"Bookcases\", \"COD\"], [\"B-25752\", 735, -235, 6, \"Electronics\", \"Printers\", \"COD\"], [\"B-25750\", 19, -1, 1, \"Clothing\", \"Shirt\", \"Debit Card\"], [\"B-25657\", 1021, -48, 4, \"Electronics\", \"Electronic Games\", \"EMI\"], [\"B-25787\", 556, -209, 7, \"Clothing\", \"Saree\", \"COD\"], [\"B-25808\", 63, -17, 6, \"Clothing\", \"Leggings\", \"COD\"], [\"B-25885\", 734, 248, 2, \"Furniture\", \"Chairs\", \"COD\"], [\"B-25778\", 933, 166, 5, \"Clothing\", \"Saree\", \"Credit Card\"], [\"B-25759\", 20, -9, 6, \"Clothing\", \"Hankerchief\", \"Debit Card\"], [\"B-25747\", 877, 395, 2, \"Furniture\", \"Bookcases\", \"Credit Card\"], [\"B-25878\", 719, 303, 6, \"Furniture\", \"Chairs\", \"COD\"], [\"B-25603\", 12, 1, 2, \"Clothing\", \"Hankerchief\", \"COD\"], [\"B-25691\", 714, 56, 4, \"Clothing\", \"Saree\", \"COD\"], [\"B-25607\", 50, -15, 4, \"Clothing\", \"Leggings\", \"COD\"], [\"B-25708\", 709, -100, 5, \"Electronics\", \"Phones\", \"COD\"], [\"B-26021\", 21, -12, 3, \"Clothing\", \"Hankerchief\", \"Debit Card\"], [\"B-25831\", 693, 254, 6, \"Clothing\", \"Saree\", \"COD\"], [\"B-25850\", 24, 1, 4, \"Clothing\", \"Hankerchief\", \"COD\"], [\"B-25670\", 24, 1, 2, \"Clothing\", \"Hankerchief\", \"UPI\"], [\"B-25852\", 24, 1, 2, \"Clothing\", \"Hankerchief\", \"COD\"], [\"B-26029\", 21, 10, 1, \"Clothing\", \"T-shirt\", \"Debit Card\"], [\"B-25959\", 681, 259, 4, \"Furniture\", \"Chairs\", \"COD\"], [\"B-25676\", 674, -187, 2, \"Furniture\", \"Tables\", \"COD\"], [\"B-26097\", 671, -309, 5, \"Electronics\", \"Electronic Games\", \"COD\"], [\"B-25888\", 646, -213, 3, \"Electronics\", \"Electronic Games\", \"COD\"], [\"B-25911\", 40, 15, 1, \"Clothing\", \"Kurti\", \"COD\"], [\"B-25662\", 24, -2, 2, \"Clothing\", \"T-shirt\", \"COD\"], [\"B-25950\", 644, 167, 2, \"Electronics\", \"Printers\", \"COD\"], [\"B-25847\", 643, 225, 2, \"Electronics\", \"Printers\", \"COD\"], [\"B-25796\", 632, -316, 6, \"Clothing\", \"Saree\", \"COD\"], [\"B-25693\", 632, 316, 6, \"Clothing\", \"Saree\", \"COD\"], [\"B-25993\", 610, 208, 3, \"Electronics\", \"Printers\", \"COD\"], [\"B-26052\", 78, -28, 6, \"Clothing\", \"Kurti\", \"UPI\"], [\"B-25930\", 595, 119, 4, \"Furniture\", \"Bookcases\", \"COD\"], [\"B-25785\", 595, 292, 3, \"Clothing\", \"Saree\", \"COD\"], [\"B-26093\", 852, 51, 5, \"Furniture\", \"Bookcases\", \"Credit Card\"], [\"B-26053\", 594, 89, 3, \"Furniture\", \"Bookcases\", \"COD\"], [\"B-26019\", 585, 175, 13, \"Clothing\", \"T-shirt\", \"COD\"], [\"B-26070\", 582, 262, 5, \"Furniture\", \"Furnishings\", \"COD\"], [\"B-25870\", 845, 84, 7, \"Clothing\", \"Saree\", \"Credit Card\"], [\"B-25855\", 829, 19, 4, \"Electronics\", \"Printers\", \"Credit Card\"], [\"B-25602\", 561, 212, 3, \"Clothing\", \"Saree\", \"COD\"], [\"B-25728\", 771, -424, 2, \"Electronics\", \"Phones\", \"Credit Card\"], [\"B-25803\", 765, 8, 6, \"Clothing\", \"Saree\", \"EMI\"], [\"B-25996\", 31, 2, 2, \"Clothing\", \"Hankerchief\", \"COD\"], [\"B-26078\", 557, -111, 2, \"Electronics\", \"Electronic Games\", \"COD\"], [\"B-25803\", 757, 371, 2, \"Electronics\", \"Printers\", \"Credit Card\"], [\"B-25682\", 545, -73, 11, \"Electronics\", \"Phones\", \"COD\"], [\"B-25749\", 1052, -82, 3, \"Furniture\", \"Bookcases\", \"UPI\"], [\"B-25962\", 544, -152, 3, \"Furniture\", \"Bookcases\", \"COD\"], [\"B-25899\", 22, 9, 2, \"Clothing\", \"Leggings\", \"Debit Card\"], [\"B-25845\", 757, 371, 2, \"Electronics\", \"Printers\", \"Credit Card\"], [\"B-25951\", 742, 198, 2, \"Furniture\", \"Bookcases\", \"Credit Card\"], [\"B-25828\", 537, 107, 3, \"Clothing\", \"Saree\", \"COD\"], [\"B-25803\", 536, 91, 1, \"Clothing\", \"Trousers\", \"COD\"], [\"B-25656\", 6, 3, 1, \"Clothing\", \"Hankerchief\", \"COD\"], [\"B-25681\", 523, 204, 7, \"Clothing\", \"Trousers\", \"COD\"], [\"B-25658\", 27, 9, 2, \"Clothing\", \"T-shirt\", \"UPI\"], [\"B-25698\", 516, 392, 8, \"Furniture\", \"Chairs\", \"COD\"], [\"B-25832\", 504, 116, 3, \"Furniture\", \"Bookcases\", \"COD\"], [\"B-25886\", 502, 84, 4, \"Electronics\", \"Phones\", \"COD\"], [\"B-25897\", 734, 213, 6, \"Electronics\", \"Electronic Games\", \"Credit Card\"], [\"B-25873\", 42, 12, 2, \"Clothing\", \"Kurti\", \"COD\"], [\"B-25858\", 29, 11, 4, \"Clothing\", \"Skirt\", \"COD\"], [\"B-25867\", 240, 12, 6, \"Clothing\", \"Kurti\", \"UPI\"], [\"B-25633\", 496, -79, 2, \"Clothing\", \"Trousers\", \"COD\"], [\"B-25609\", 485, 29, 4, \"Electronics\", \"Electronic Games\", \"COD\"], [\"B-25896\", 31, -11, 3, \"Clothing\", \"Skirt\", \"UPI\"], [\"B-26000\", 676, 151, 3, \"Electronics\", \"Printers\", \"Credit Card\"], [\"B-25959\", 23, 8, 2, \"Clothing\", \"Hankerchief\", \"Debit Card\"], [\"B-25940\", 13, 3, 2, \"Clothing\", \"Hankerchief\", \"COD\"], [\"B-26087\", 180, 0, 8, \"Clothing\", \"Stole\", \"COD\"], [\"B-26055\", 671, 114, 9, \"Electronics\", \"Phones\", \"Credit Card\"], [\"B-25980\", 22, 11, 3, \"Clothing\", \"Kurti\", \"COD\"], [\"B-25653\", 668, -31, 3, \"Electronics\", \"Printers\", \"Credit Card\"], [\"B-26052\", 145, 0, 3, \"Clothing\", \"Saree\", \"UPI\"], [\"B-25877\", 24, 8, 2, \"Clothing\", \"Skirt\", \"Debit Card\"], [\"B-25608\", 476, 0, 3, \"Furniture\", \"Chairs\", \"COD\"], [\"B-25897\", 24, 11, 5, \"Clothing\", \"Hankerchief\", \"Debit Card\"], [\"B-25881\", 37, 3, 3, \"Clothing\", \"Hankerchief\", \"COD\"], [\"B-25905\", 152, 50, 6, \"Clothing\", \"Stole\", \"UPI\"], [\"B-25818\", 32, 11, 2, \"Clothing\", \"Leggings\", \"UPI\"], [\"B-25835\", 52, 11, 5, \"Clothing\", \"Leggings\", \"COD\"], [\"B-26081\", 24, 11, 3, \"Clothing\", \"Hankerchief\", \"Debit Card\"], [\"B-25730\", 473, 42, 4, \"Furniture\", \"Chairs\", \"COD\"], [\"B-25837\", 263, 50, 5, \"Clothing\", \"Stole\", \"COD\"], [\"B-25893\", 61, 11, 3, \"Clothing\", \"Kurti\", \"COD\"], [\"B-25689\", 469, -459, 3, \"Electronics\", \"Electronic Games\", \"COD\"], [\"B-26028\", 1272, 547, 2, \"Electronics\", \"Phones\", \"COD\"], [\"B-26081\", 169, 0, 3, \"Electronics\", \"Accessories\", \"COD\"], [\"B-25903\", 25, 11, 3, \"Clothing\", \"Leggings\", \"Debit Card\"], [\"B-25651\", 457, -41, 4, \"Clothing\", \"Saree\", \"COD\"], [\"B-25903\", 455, 77, 8, \"Electronics\", \"Accessories\", \"COD\"], [\"B-26086\", 25, 2, 2, \"Clothing\", \"Hankerchief\", \"Debit Card\"], [\"B-25654\", 450, -90, 3, \"Electronics\", \"Printers\", \"COD\"], [\"B-25720\", 30, -35, 1, \"Furniture\", \"Chairs\", \"COD\"], [\"B-26057\", 659, -37, 2, \"Furniture\", \"Bookcases\", \"Credit Card\"], [\"B-25798\", 448, 148, 2, \"Electronics\", \"Printers\", \"COD\"], [\"B-25961\", 446, 53, 3, \"Electronics\", \"Printers\", \"COD\"], [\"B-25701\", 98, -45, 2, \"Furniture\", \"Chairs\", \"UPI\"], [\"B-26055\", 443, 11, 1, \"Clothing\", \"Saree\", \"COD\"], [\"B-25653\", 427, -50, 7, \"Electronics\", \"Phones\", \"COD\"], [\"B-25670\", 656, -36, 2, \"Furniture\", \"Bookcases\", \"Credit Card\"], [\"B-26056\", 424, 161, 2, \"Clothing\", \"Saree\", \"COD\"], [\"B-26061\", 27, 8, 2, \"Clothing\", \"T-shirt\", \"Debit Card\"], [\"B-25602\", 424, -272, 5, \"Electronics\", \"Phones\", \"COD\"], [\"B-26016\", 202, 4, 4, \"Clothing\", \"Hankerchief\", \"COD\"], [\"B-25873\", 1275, 357, 2, \"Electronics\", \"Phones\", \"UPI\"], [\"B-25761\", 418, 70, 7, \"Electronics\", \"Phones\", \"COD\"], [\"B-25819\", 417, 49, 3, \"Electronics\", \"Electronic Games\", \"COD\"], [\"B-25853\", 199, 48, 4, \"Clothing\", \"Stole\", \"UPI\"], [\"B-25662\", 385, -77, 11, \"Furniture\", \"Furnishings\", \"UPI\"], [\"B-25993\", 414, 199, 3, \"Electronics\", \"Phones\", \"COD\"], [\"B-25703\", 97, -45, 4, \"Clothing\", \"Saree\", \"COD\"], [\"B-25848\", 648, 50, 6, \"Electronics\", \"Electronic Games\", \"Credit Card\"], [\"B-25678\", 27, -25, 2, \"Clothing\", \"Shirt\", \"Debit Card\"], [\"B-25925\", 27, 12, 1, \"Clothing\", \"Stole\", \"Debit Card\"], [\"B-25977\", 27, 1, 1, \"Clothing\", \"Stole\", \"UPI\"], [\"B-25797\", 413, -314, 9, \"Furniture\", \"Chairs\", \"COD\"], [\"B-26067\", 53, 2, 4, \"Clothing\", \"Hankerchief\", \"COD\"], [\"B-25810\", 29, 8, 5, \"Clothing\", \"Hankerchief\", \"UPI\"], [\"B-25648\", 30, 13, 1, \"Clothing\", \"T-shirt\", \"UPI\"], [\"B-25933\", 412, 412, 6, \"Clothing\", \"Saree\", \"COD\"], [\"B-25942\", 646, -23, 2, \"Electronics\", \"Printers\", \"Credit Card\"], [\"B-25656\", 30, -5, 5, \"Clothing\", \"Stole\", \"UPI\"], [\"B-26067\", 618, 27, 4, \"Furniture\", \"Bookcases\", \"Credit Card\"], [\"B-25673\", 143, -124, 5, \"Clothing\", \"Saree\", \"UPI\"], [\"B-25797\", 31, 1, 2, \"Clothing\", \"Hankerchief\", \"UPI\"], [\"B-26098\", 409, 86, 3, \"Clothing\", \"Saree\", \"COD\"], [\"B-25656\", 406, 126, 2, \"Clothing\", \"Saree\", \"COD\"], [\"B-25791\", 565, 66, 7, \"Clothing\", \"Saree\", \"Credit Card\"], [\"B-26053\", 85, 2, 6, \"Clothing\", \"Stole\", \"COD\"], [\"B-25983\", 561, 118, 5, \"Furniture\", \"Bookcases\", \"Credit Card\"], [\"B-25743\", 503, -56, 2, \"Clothing\", \"Trousers\", \"COD\"], [\"B-25867\", 31, 14, 3, \"Clothing\", \"Stole\", \"UPI\"], [\"B-25973\", 398, 111, 8, \"Clothing\", \"Hankerchief\", \"COD\"], [\"B-25895\", 388, 93, 2, \"Furniture\", \"Bookcases\", \"COD\"], [\"B-26003\", 498, -116, 4, \"Clothing\", \"Saree\", \"UPI\"], [\"B-25717\", 561, 212, 3, \"Clothing\", \"Saree\", \"Credit Card\"], [\"B-26064\", 61, 3, 4, \"Clothing\", \"Hankerchief\", \"COD\"], [\"B-25630\", 34, -22, 4, \"Clothing\", \"T-shirt\", \"COD\"], [\"B-26050\", 32, 6, 3, \"Clothing\", \"Shirt\", \"UPI\"], [\"B-25786\", 623, -192, 3, \"Furniture\", \"Tables\", \"UPI\"], [\"B-26035\", 520, 151, 3, \"Electronics\", \"Phones\", \"Credit Card\"], [\"B-25693\", 32, -16, 6, \"Clothing\", \"Saree\", \"UPI\"], [\"B-25703\", 32, -5, 5, \"Clothing\", \"Hankerchief\", \"UPI\"], [\"B-25966\", 510, 234, 6, \"Electronics\", \"Electronic Games\", \"EMI\"], [\"B-26060\", 382, 68, 3, \"Clothing\", \"Saree\", \"COD\"], [\"B-25898\", 33, 13, 3, \"Clothing\", \"Leggings\", \"UPI\"], [\"B-25686\", 381, -13, 2, \"Clothing\", \"Saree\", \"COD\"], [\"B-26051\", 490, 88, 2, \"Electronics\", \"Accessories\", \"EMI\"], [\"B-25854\", 381, 144, 2, \"Clothing\", \"Saree\", \"COD\"], [\"B-26050\", 487, 143, 4, \"Electronics\", \"Phones\", \"EMI\"], [\"B-25961\", 366, 84, 3, \"Furniture\", \"Bookcases\", \"COD\"], [\"B-25701\", 33, -29, 3, \"Clothing\", \"Shirt\", \"UPI\"], [\"B-25970\", 365, 107, 3, \"Electronics\", \"Phones\", \"COD\"], [\"B-25933\", 207, -100, 2, \"Clothing\", \"Saree\", \"UPI\"], [\"B-26081\", 359, -338, 5, \"Furniture\", \"Bookcases\", \"COD\"], [\"B-25650\", 351, -47, 8, \"Electronics\", \"Phones\", \"COD\"], [\"B-25850\", 485, 199, 4, \"Clothing\", \"Saree\", \"EMI\"], [\"B-25643\", 37, -23, 4, \"Clothing\", \"Shirt\", \"UPI\"], [\"B-26100\", 34, 10, 2, \"Clothing\", \"T-shirt\", \"Debit Card\"], [\"B-25964\", 346, 108, 3, \"Furniture\", \"Chairs\", \"COD\"], [\"B-25676\", 342, -103, 4, \"Electronics\", \"Electronic Games\", \"COD\"], [\"B-25628\", 35, -8, 2, \"Furniture\", \"Furnishings\", \"Debit Card\"], [\"B-25891\", 121, 41, 4, \"Clothing\", \"Stole\", \"UPI\"], [\"B-25903\", 336, 57, 2, \"Electronics\", \"Phones\", \"COD\"], [\"B-25851\", 336, 71, 3, \"Furniture\", \"Bookcases\", \"COD\"], [\"B-26089\", 27, 4, 1, \"Clothing\", \"Hankerchief\", \"COD\"], [\"B-25996\", 333, 50, 2, \"Electronics\", \"Phones\", \"COD\"], [\"B-25881\", 36, 7, 3, \"Clothing\", \"Leggings\", \"Debit Card\"], [\"B-25621\", 333, -15, 3, \"Electronics\", \"Phones\", \"COD\"], [\"B-25727\", 327, 114, 4, \"Clothing\", \"Trousers\", \"COD\"], [\"B-25843\", 18, 6, 3, \"Clothing\", \"Hankerchief\", \"UPI\"], [\"B-26050\", 325, 32, 7, \"Clothing\", \"T-shirt\", \"COD\"], [\"B-25741\", 482, -6, 7, \"Electronics\", \"Electronic Games\", \"EMI\"], [\"B-25756\", 465, -33, 4, \"Electronics\", \"Phones\", \"EMI\"], [\"B-25787\", 40, -12, 3, \"Clothing\", \"Shirt\", \"COD\"], [\"B-25603\", 107, 36, 6, \"Clothing\", \"Stole\", \"COD\"], [\"B-25655\", 312, -312, 7, \"Furniture\", \"Chairs\", \"COD\"], [\"B-26096\", 451, 25, 3, \"Electronics\", \"Phones\", \"EMI\"], [\"B-25962\", 312, 62, 1, \"Electronics\", \"Electronic Games\", \"COD\"], [\"B-26007\", 311, 72, 2, \"Furniture\", \"Bookcases\", \"COD\"], [\"B-26088\", 11, 5, 2, \"Clothing\", \"Hankerchief\", \"UPI\"], [\"B-25673\", 37, -5, 3, \"Clothing\", \"T-shirt\", \"Debit Card\"], [\"B-25664\", 444, -200, 4, \"Electronics\", \"Phones\", \"EMI\"], [\"B-25642\", 434, 26, 11, \"Clothing\", \"Shirt\", \"Credit Card\"], [\"B-25987\", 299, 0, 6, \"Clothing\", \"Stole\", \"COD\"], [\"B-25903\", 37, 17, 3, \"Clothing\", \"Hankerchief\", \"Debit Card\"], [\"B-25770\", 299, 113, 2, \"Furniture\", \"Bookcases\", \"COD\"], [\"B-25840\", 298, 74, 2, \"Furniture\", \"Bookcases\", \"COD\"], [\"B-25846\", 94, 7, 7, \"Clothing\", \"Leggings\", \"UPI\"], [\"B-25745\", 296, 225, 11, \"Clothing\", \"Saree\", \"COD\"], [\"B-26073\", 37, 17, 3, \"Clothing\", \"Hankerchief\", \"Debit Card\"], [\"B-26030\", 291, 93, 2, \"Electronics\", \"Printers\", \"COD\"], [\"B-25678\", 327, -39, 1, \"Electronics\", \"Phones\", \"COD\"], [\"B-26035\", 291, 119, 11, \"Clothing\", \"Saree\", \"COD\"], [\"B-25896\", 287, -66, 6, \"Clothing\", \"Kurti\", \"COD\"], [\"B-25989\", 42, 15, 1, \"Electronics\", \"Accessories\", \"UPI\"], [\"B-26016\", 429, 61, 3, \"Electronics\", \"Electronic Games\", \"Credit Card\"], [\"B-26009\", 285, 128, 2, \"Electronics\", \"Printers\", \"COD\"], [\"B-25915\", 277, 3, 1, \"Electronics\", \"Electronic Games\", \"COD\"], [\"B-25845\", 274, -7, 4, \"Electronics\", \"Phones\", \"COD\"], [\"B-25645\", 273, -87, 4, \"Electronics\", \"Phones\", \"COD\"], [\"B-25803\", 269, 91, 1, \"Electronics\", \"Electronic Games\", \"COD\"], [\"B-26030\", 11, 5, 1, \"Clothing\", \"Skirt\", \"COD\"], [\"B-25955\", 39, 2, 2, \"Clothing\", \"Saree\", \"Debit Card\"], [\"B-26096\", 264, -26, 3, \"Clothing\", \"Trousers\", \"COD\"], [\"B-25635\", 40, 16, 3, \"Clothing\", \"Hankerchief\", \"Debit Card\"], [\"B-26038\", 41, 19, 2, \"Clothing\", \"T-shirt\", \"Debit Card\"], [\"B-25791\", 253, -63, 2, \"Clothing\", \"Saree\", \"UPI\"], [\"B-26014\", 406, 97, 7, \"Furniture\", \"Chairs\", \"Credit Card\"], [\"B-25751\", 32, 7, 3, \"Clothing\", \"Hankerchief\", \"COD\"], [\"B-25962\", 260, 68, 2, \"Electronics\", \"Printers\", \"COD\"], [\"B-26025\", 41, 19, 5, \"Clothing\", \"Hankerchief\", \"Debit Card\"], [\"B-26048\", 401, 13, 6, \"Furniture\", \"Chairs\", \"Credit Card\"], [\"B-25635\", 382, 30, 3, \"Clothing\", \"Saree\", \"Credit Card\"], [\"B-25981\", 867, 251, 5, \"Electronics\", \"Phones\", \"COD\"], [\"B-25610\", 43, 0, 3, \"Clothing\", \"Saree\", \"Debit Card\"], [\"B-25733\", 43, -43, 7, \"Clothing\", \"Stole\", \"Debit Card\"], [\"B-25977\", 74, 29, 3, \"Clothing\", \"Stole\", \"COD\"], [\"B-25655\", 44, -26, 3, \"Clothing\", \"Hankerchief\", \"Debit Card\"], [\"B-25612\", 259, -55, 2, \"Furniture\", \"Chairs\", \"COD\"], [\"B-25608\", 257, 23, 5, \"Clothing\", \"Hankerchief\", \"COD\"], [\"B-25752\", 76, 27, 5, \"Clothing\", \"Stole\", \"COD\"], [\"B-25700\", 44, -32, 3, \"Clothing\", \"Stole\", \"Debit Card\"], [\"B-25856\", 257, 3, 2, \"Clothing\", \"Saree\", \"COD\"], [\"B-26026\", 255, 76, 9, \"Clothing\", \"Hankerchief\", \"COD\"], [\"B-25861\", 44, 14, 3, \"Clothing\", \"Hankerchief\", \"Debit Card\"], [\"B-25673\", 45, -2, 4, \"Clothing\", \"Shirt\", \"COD\"], [\"B-25681\", 44, -3, 1, \"Clothing\", \"Saree\", \"Debit Card\"], [\"B-26051\", 382, 119, 2, \"Clothing\", \"Saree\", \"Credit Card\"], [\"B-25951\", 250, 100, 3, \"Clothing\", \"Trousers\", \"COD\"], [\"B-25799\", 45, -15, 2, \"Furniture\", \"Chairs\", \"COD\"], [\"B-26053\", 246, 61, 2, \"Furniture\", \"Bookcases\", \"COD\"], [\"B-26030\", 50, 25, 5, \"Clothing\", \"Stole\", \"COD\"], [\"B-26054\", 246, 98, 5, \"Clothing\", \"Hankerchief\", \"COD\"], [\"B-25696\", 44, 99, 3, \"Clothing\", \"Kurti\", \"Debit Card\"], [\"B-25660\", 245, -78, 3, \"Clothing\", \"Saree\", \"COD\"], [\"B-25858\", 245, 30, 2, \"Clothing\", \"Saree\", \"COD\"], [\"B-26045\", 376, 0, 7, \"Clothing\", \"Stole\", \"Credit Card\"], [\"B-25850\", 45, 1, 3, \"Clothing\", \"T-shirt\", \"Debit Card\"], [\"B-25781\", 45, -28, 2, \"Clothing\", \"Stole\", \"Debit Card\"], [\"B-25918\", 244, -122, 5, \"Furniture\", \"Furnishings\", \"COD\"], [\"B-25971\", 244, 83, 2, \"Furniture\", \"Bookcases\", \"COD\"], [\"B-25870\", 10, 4, 1, \"Clothing\", \"Kurti\", \"UPI\"], [\"B-25770\", 375, 180, 3, \"Furniture\", \"Bookcases\", \"Credit Card\"], [\"B-25757\", 46, 14, 5, \"Clothing\", \"Skirt\", \"Debit Card\"], [\"B-25699\", 49, -31, 2, \"Clothing\", \"Stole\", \"UPI\"], [\"B-25776\", 47, -20, 2, \"Clothing\", \"Kurti\", \"Debit Card\"], [\"B-25893\", 355, -114, 7, \"Clothing\", \"Stole\", \"Credit Card\"], [\"B-25985\", 32, 8, 5, \"Clothing\", \"Hankerchief\", \"UPI\"], [\"B-25681\", 243, -14, 2, \"Furniture\", \"Chairs\", \"COD\"], [\"B-26063\", 241, -77, 4, \"Electronics\", \"Electronic Games\", \"COD\"], [\"B-26032\", 47, 15, 5, \"Clothing\", \"Saree\", \"Debit Card\"], [\"B-26001\", 50, -10, 6, \"Clothing\", \"Skirt\", \"Debit Card\"], [\"B-26056\", 15, 6, 2, \"Clothing\", \"Hankerchief\", \"COD\"], [\"B-25850\", 148, 24, 3, \"Clothing\", \"Stole\", \"COD\"], [\"B-25767\", 299, -28, 3, \"Electronics\", \"Electronic Games\", \"UPI\"], [\"B-25693\", 68, -30, 1, \"Electronics\", \"Phones\", \"UPI\"], [\"B-25850\", 52, 18, 5, \"Clothing\", \"Leggings\", \"Debit Card\"], [\"B-25796\", 239, -162, 5, \"Furniture\", \"Chairs\", \"COD\"], [\"B-26053\", 27, 6, 3, \"Clothing\", \"Skirt\", \"COD\"], [\"B-25650\", 238, 20, 2, \"Clothing\", \"Saree\", \"COD\"], [\"B-25961\", 48, 16, 3, \"Clothing\", \"Shirt\", \"COD\"], [\"B-26023\", 66, 22, 3, \"Clothing\", \"Stole\", \"UPI\"], [\"B-25809\", 53, 24, 1, \"Clothing\", \"Hankerchief\", \"Debit Card\"], [\"B-25621\", 233, -10, 5, \"Electronics\", \"Electronic Games\", \"COD\"], [\"B-25854\", 53, -2, 3, \"Clothing\", \"Saree\", \"Debit Card\"], [\"B-26057\", 54, 8, 4, \"Clothing\", \"T-shirt\", \"Debit Card\"], [\"B-25688\", 352, -345, 5, \"Clothing\", \"Saree\", \"Credit Card\"], [\"B-25885\", 349, 0, 7, \"Clothing\", \"Stole\", \"Credit Card\"], [\"B-25753\", 341, -85, 6, \"Clothing\", \"Trousers\", \"Credit Card\"], [\"B-25981\", 54, 12, 3, \"Clothing\", \"Saree\", \"Debit Card\"], [\"B-26055\", 57, 7, 2, \"Clothing\", \"Shirt\", \"UPI\"], [\"B-25714\", 340, 20, 7, \"Clothing\", \"Shirt\", \"Credit Card\"], [\"B-26055\", 227, 48, 5, \"Clothing\", \"Stole\", \"COD\"], [\"B-25989\", 330, 81, 1, \"Furniture\", \"Bookcases\", \"Credit Card\"], [\"B-25710\", 216, -38, 6, \"Furniture\", \"Furnishings\", \"UPI\"], [\"B-25773\", 224, -143, 3, \"Furniture\", \"Chairs\", \"COD\"], [\"B-25661\", 55, -33, 2, \"Furniture\", \"Chairs\", \"Debit Card\"], [\"B-26021\", 49, 21, 1, \"Clothing\", \"Stole\", \"UPI\"], [\"B-26057\", 224, 87, 3, \"Clothing\", \"Trousers\", \"COD\"], [\"B-25858\", 223, 27, 2, \"Furniture\", \"Bookcases\", \"COD\"], [\"B-25857\", 324, 39, 8, \"Electronics\", \"Accessories\", \"Credit Card\"], [\"B-25656\", 56, 18, 2, \"Clothing\", \"Hankerchief\", \"Debit Card\"], [\"B-25999\", 223, 62, 7, \"Clothing\", \"Shirt\", \"COD\"], [\"B-25856\", 10, 2, 2, \"Clothing\", \"Skirt\", \"COD\"], [\"B-25926\", 57, 6, 5, \"Clothing\", \"Leggings\", \"Debit Card\"], [\"B-25728\", 322, -113, 4, \"Clothing\", \"Saree\", \"Credit Card\"], [\"B-26076\", 219, 4, 2, \"Clothing\", \"Saree\", \"COD\"], [\"B-25913\", 103, 21, 7, \"Clothing\", \"Stole\", \"UPI\"], [\"B-25703\", 47, -27, 4, \"Clothing\", \"Saree\", \"COD\"], [\"B-25858\", 219, 0, 1, \"Clothing\", \"Saree\", \"COD\"], [\"B-25727\", 57, -48, 6, \"Clothing\", \"Leggings\", \"Debit Card\"], [\"B-26020\", 319, 102, 6, \"Electronics\", \"Accessories\", \"Credit Card\"], [\"B-26003\", 315, -8, 3, \"Furniture\", \"Chairs\", \"Credit Card\"], [\"B-25925\", 314, -41, 3, \"Electronics\", \"Electronic Games\", \"Credit Card\"], [\"B-26087\", 311, 40, 1, \"Electronics\", \"Electronic Games\", \"EMI\"], [\"B-25810\", 307, 74, 3, \"Electronics\", \"Accessories\", \"EMI\"], [\"B-25858\", 294, 109, 7, \"Electronics\", \"Accessories\", \"EMI\"], [\"B-25861\", 216, -83, 3, \"Electronics\", \"Electronic Games\", \"COD\"], [\"B-25661\", 58, -42, 2, \"Furniture\", \"Chairs\", \"Debit Card\"], [\"B-25943\", 48, 20, 4, \"Clothing\", \"Stole\", \"UPI\"], [\"B-25955\", 54, 14, 3, \"Clothing\", \"T-shirt\", \"UPI\"], [\"B-26051\", 216, 50, 4, \"Clothing\", \"Stole\", \"COD\"], [\"B-25999\", 215, -30, 2, \"Clothing\", \"Saree\", \"COD\"], [\"B-26083\", 43, 8, 3, \"Clothing\", \"Leggings\", \"COD\"], [\"B-25950\", 136, -33, 5, \"Clothing\", \"Saree\", \"COD\"], [\"B-25625\", 59, -30, 3, \"Clothing\", \"Leggings\", \"Debit Card\"], [\"B-26055\", 213, 4, 14, \"Clothing\", \"Shirt\", \"COD\"], [\"B-26023\", 59, 21, 2, \"Clothing\", \"Stole\", \"Debit Card\"], [\"B-26010\", 55, 3, 3, \"Clothing\", \"T-shirt\", \"COD\"], [\"B-25955\", 294, 62, 9, \"Clothing\", \"T-shirt\", \"EMI\"], [\"B-25900\", 210, 62, 2, \"Electronics\", \"Phones\", \"COD\"], [\"B-26089\", 59, 24, 6, \"Clothing\", \"Kurti\", \"Debit Card\"], [\"B-25655\", 396, -31, 9, \"Clothing\", \"Saree\", \"COD\"], [\"B-25979\", 284, 45, 2, \"Furniture\", \"Bookcases\", \"EMI\"], [\"B-26002\", 276, 52, 5, \"Clothing\", \"Saree\", \"EMI\"], [\"B-25635\", 23, 2, 2, \"Clothing\", \"Skirt\", \"UPI\"], [\"B-26084\", 209, -63, 4, \"Electronics\", \"Electronic Games\", \"COD\"], [\"B-25998\", 50, -28, 5, \"Furniture\", \"Furnishings\", \"COD\"], [\"B-25872\", 57, 27, 2, \"Clothing\", \"Shirt\", \"COD\"], [\"B-25795\", 276, -21, 2, \"Electronics\", \"Phones\", \"EMI\"], [\"B-25902\", 268, 6, 2, \"Furniture\", \"Bookcases\", \"UPI\"], [\"B-25650\", 269, 111, 3, \"Clothing\", \"Trousers\", \"EMI\"], [\"B-25957\", 209, 2, 1, \"Clothing\", \"Saree\", \"COD\"], [\"B-25793\", 60, -12, 4, \"Clothing\", \"Hankerchief\", \"Debit Card\"], [\"B-25654\", 269, -86, 2, \"Electronics\", \"Electronic Games\", \"EMI\"], [\"B-25750\", 208, -25, 2, \"Clothing\", \"Saree\", \"COD\"], [\"B-25835\", 27, 2, 2, \"Clothing\", \"Leggings\", \"UPI\"], [\"B-25652\", 206, -206, 3, \"Clothing\", \"Saree\", \"COD\"], [\"B-26018\", 61, 8, 4, \"Clothing\", \"Hankerchief\", \"Debit Card\"], [\"B-25750\", 212, -24, 2, \"Furniture\", \"Chairs\", \"COD\"], [\"B-25840\", 262, 64, 6, \"Clothing\", \"Saree\", \"EMI\"], [\"B-25756\", 204, 276, 3, \"Furniture\", \"Bookcases\", \"COD\"], [\"B-25777\", 59, -46, 7, \"Clothing\", \"T-shirt\", \"UPI\"], [\"B-25750\", 199, -18, 2, \"Clothing\", \"Saree\", \"COD\"], [\"B-25823\", 59, 6, 1, \"Electronics\", \"Accessories\", \"UPI\"], [\"B-26096\", 45, 9, 3, \"Clothing\", \"Leggings\", \"UPI\"], [\"B-25757\", 211, 19, 8, \"Clothing\", \"Stole\", \"COD\"], [\"B-25698\", 65, -16, 2, \"Electronics\", \"Phones\", \"Debit Card\"], [\"B-25710\", 25, 0, 4, \"Clothing\", \"Skirt\", \"UPI\"], [\"B-25994\", 196, -7, 5, \"Electronics\", \"Phones\", \"COD\"], [\"B-25950\", 261, 13, 6, \"Clothing\", \"Shirt\", \"Credit Card\"], [\"B-25653\", 195, -117, 5, \"Electronics\", \"Phones\", \"COD\"], [\"B-25785\", 192, -146, 3, \"Clothing\", \"Saree\", \"COD\"], [\"B-25863\", 189, 87, 7, \"Clothing\", \"Stole\", \"COD\"], [\"B-25959\", 32, 2, 2, \"Clothing\", \"Kurti\", \"UPI\"], [\"B-25991\", 188, 13, 7, \"Clothing\", \"Shirt\", \"COD\"], [\"B-25680\", 73, -25, 3, \"Clothing\", \"Saree\", \"COD\"], [\"B-25910\", 259, 47, 5, \"Clothing\", \"Hankerchief\", \"Credit Card\"], [\"B-25737\", 187, -15, 3, \"Clothing\", \"Trousers\", \"COD\"], [\"B-25853\", 26, 11, 2, \"Clothing\", \"Hankerchief\", \"UPI\"], [\"B-26097\", 185, -26, 6, \"Furniture\", \"Chairs\", \"COD\"], [\"B-25875\", 248, 8, 2, \"Clothing\", \"Saree\", \"Credit Card\"], [\"B-26031\", 67, 9, 4, \"Clothing\", \"Leggings\", \"Debit Card\"], [\"B-25773\", 248, -70, 3, \"Furniture\", \"Chairs\", \"Credit Card\"], [\"B-25840\", 246, 61, 2, \"Furniture\", \"Bookcases\", \"Credit Card\"], [\"B-25908\", 179, -25, 5, \"Clothing\", \"Kurti\", \"COD\"], [\"B-26041\", 176, -28, 5, \"Furniture\", \"Furnishings\", \"COD\"], [\"B-26010\", 176, -13, 5, \"Furniture\", \"Furnishings\", \"COD\"], [\"B-25640\", 68, -62, 2, \"Clothing\", \"Trousers\", \"Debit Card\"], [\"B-25794\", 176, 37, 6, \"Electronics\", \"Accessories\", \"COD\"], [\"B-25987\", 88, 11, 7, \"Clothing\", \"Hankerchief\", \"UPI\"], [\"B-25615\", 68, 20, 5, \"Clothing\", \"Hankerchief\", \"Debit Card\"], [\"B-25997\", 231, 99, 2, \"Electronics\", \"Electronic Games\", \"Credit Card\"], [\"B-25981\", 62, 8, 2, \"Clothing\", \"T-shirt\", \"UPI\"], [\"B-25791\", 175, 77, 3, \"Clothing\", \"Saree\", \"COD\"], [\"B-25986\", 71, 4, 5, \"Clothing\", \"Leggings\", \"Debit Card\"], [\"B-25652\", 174, -70, 3, \"Electronics\", \"Accessories\", \"COD\"], [\"B-25952\", 173, 69, 3, \"Furniture\", \"Chairs\", \"COD\"], [\"B-25898\", 171, 2, 2, \"Electronics\", \"Electronic Games\", \"COD\"], [\"B-25785\", 268, -25, 3, \"Clothing\", \"Saree\", \"COD\"], [\"B-25990\", 71, 32, 3, \"Clothing\", \"Saree\", \"Debit Card\"], [\"B-26091\", 29, 10, 4, \"Clothing\", \"Hankerchief\", \"UPI\"], [\"B-25604\", 65, 17, 2, \"Clothing\", \"T-shirt\", \"UPI\"], [\"B-25754\", 72, -46, 7, \"Clothing\", \"Kurti\", \"Debit Card\"], [\"B-25724\", 168, -51, 2, \"Furniture\", \"Bookcases\", \"COD\"], [\"B-25757\", 165, 30, 3, \"Clothing\", \"Stole\", \"COD\"], [\"B-25767\", 74, -59, 2, \"Electronics\", \"Accessories\", \"Debit Card\"], [\"B-25886\", 89, 17, 2, \"Clothing\", \"Stole\", \"UPI\"], [\"B-25621\", 228, 63, 3, \"Electronics\", \"Electronic Games\", \"Credit Card\"], [\"B-25967\", 119, -24, 4, \"Furniture\", \"Furnishings\", \"COD\"], [\"B-25691\", 75, -25, 3, \"Clothing\", \"Stole\", \"UPI\"], [\"B-25953\", 67, 20, 4, \"Clothing\", \"T-shirt\", \"UPI\"], [\"B-25651\", 7, 0, 1, \"Clothing\", \"Leggings\", \"COD\"], [\"B-25828\", 222, 35, 5, \"Clothing\", \"Saree\", \"Credit Card\"], [\"B-25628\", 219, -9, 4, \"Clothing\", \"Saree\", \"Credit Card\"], [\"B-25703\", 42, -23, 2, \"Furniture\", \"Furnishings\", \"UPI\"], [\"B-25929\", 216, -135, 3, \"Furniture\", \"Chairs\", \"Credit Card\"], [\"B-25748\", 47, -21, 2, \"Electronics\", \"Electronic Games\", \"COD\"], [\"B-25610\", 68, -55, 5, \"Electronics\", \"Accessories\", \"UPI\"], [\"B-25903\", 74, 33, 2, \"Clothing\", \"Shirt\", \"Debit Card\"], [\"B-25878\", 165, 46, 3, \"Furniture\", \"Furnishings\", \"COD\"], [\"B-26056\", 101, 11, 2, \"Clothing\", \"Hankerchief\", \"UPI\"], [\"B-26004\", 162, 73, 2, \"Electronics\", \"Electronic Games\", \"COD\"], [\"B-25699\", 20, -22, 1, \"Furniture\", \"Furnishings\", \"UPI\"], [\"B-26053\", 162, 55, 3, \"Clothing\", \"Stole\", \"COD\"], [\"B-25654\", 229, -23, 2, \"Clothing\", \"Saree\", \"UPI\"], [\"B-25954\", 27, 0, 2, \"Clothing\", \"Leggings\", \"COD\"], [\"B-25910\", 685, 7, 7, \"Clothing\", \"Trousers\", \"UPI\"], [\"B-26064\", 75, 2, 5, \"Clothing\", \"Leggings\", \"Debit Card\"], [\"B-25983\", 161, -229, 8, \"Furniture\", \"Furnishings\", \"COD\"], [\"B-26002\", 71, 19, 3, \"Clothing\", \"T-shirt\", \"COD\"], [\"B-25650\", 211, -105, 2, \"Clothing\", \"Saree\", \"Credit Card\"], [\"B-26043\", 79, 5, 6, \"Clothing\", \"Hankerchief\", \"Debit Card\"], [\"B-25657\", 32, -22, 5, \"Clothing\", \"Saree\", \"UPI\"], [\"B-25838\", 161, 40, 3, \"Clothing\", \"Stole\", \"COD\"], [\"B-25651\", 159, 4, 1, \"Clothing\", \"Saree\", \"COD\"], [\"B-25808\", 210, -50, 4, \"Clothing\", \"Hankerchief\", \"Credit Card\"], [\"B-25973\", 79, 39, 2, \"Clothing\", \"Shirt\", \"Debit Card\"], [\"B-25698\", 207, 153, 3, \"Clothing\", \"Saree\", \"Credit Card\"], [\"B-25818\", 36, 0, 4, \"Clothing\", \"Kurti\", \"COD\"], [\"B-26061\", 206, 12, 1, \"Electronics\", \"Printers\", \"Credit Card\"], [\"B-25878\", 46, 0, 4, \"Clothing\", \"Leggings\", \"COD\"], [\"B-26054\", 156, 23, 3, \"Clothing\", \"Stole\", \"COD\"], [\"B-25809\", 154, 54, 3, \"Clothing\", \"Hankerchief\", \"COD\"], [\"B-26042\", 36, 15, 3, \"Clothing\", \"Stole\", \"UPI\"], [\"B-26008\", 206, 51, 4, \"Clothing\", \"Hankerchief\", \"Credit Card\"], [\"B-25927\", 200, 7, 4, \"Electronics\", \"Electronic Games\", \"Credit Card\"], [\"B-26008\", 199, -1, 1, \"Clothing\", \"Saree\", \"Credit Card\"], [\"B-25753\", 154, 22, 7, \"Clothing\", \"T-shirt\", \"COD\"], [\"B-25948\", 152, 23, 3, \"Furniture\", \"Furnishings\", \"COD\"], [\"B-26094\", 152, 50, 6, \"Clothing\", \"Stole\", \"COD\"], [\"B-25654\", 122, -21, 3, \"Furniture\", \"Furnishings\", \"UPI\"], [\"B-25854\", 149, 48, 6, \"Clothing\", \"Stole\", \"COD\"], [\"B-25623\", 149, -87, 4, \"Clothing\", \"Saree\", \"COD\"], [\"B-25985\", 197, 20, 4, \"Clothing\", \"Kurti\", \"Credit Card\"], [\"B-25723\", 76, -54, 3, \"Electronics\", \"Electronic Games\", \"COD\"], [\"B-25751\", 221, -15, 2, \"Electronics\", \"Electronic Games\", \"COD\"], [\"B-26050\", 79, 32, 3, \"Clothing\", \"Saree\", \"Debit Card\"], [\"B-25800\", 45, 12, 7, \"Clothing\", \"Hankerchief\", \"UPI\"], [\"B-25673\", 149, -1, 1, \"Clothing\", \"Saree\", \"COD\"], [\"B-26002\", 80, 22, 3, \"Clothing\", \"Stole\", \"Debit Card\"], [\"B-26009\", 195, 12, 9, \"Clothing\", \"Shirt\", \"Credit Card\"], [\"B-25754\", 19, 0, 3, \"Clothing\", \"Skirt\", \"UPI\"], [\"B-25953\", 81, 41, 3, \"Clothing\", \"Stole\", \"Debit Card\"], [\"B-26039\", 83, 34, 5, \"Clothing\", \"Shirt\", \"Debit Card\"], [\"B-26001\", 149, 17, 4, \"Furniture\", \"Furnishings\", \"COD\"], [\"B-25620\", 193, 46, 1, \"Electronics\", \"Printers\", \"Credit Card\"], [\"B-26051\", 85, 24, 10, \"Clothing\", \"Hankerchief\", \"Debit Card\"], [\"B-25673\", 44, -17, 5, \"Clothing\", \"Saree\", \"UPI\"], [\"B-25721\", 149, -40, 2, \"Electronics\", \"Phones\", \"COD\"], [\"B-25764\", 26, 0, 2, \"Clothing\", \"Kurti\", \"COD\"], [\"B-25645\", 86, 0, 4, \"Clothing\", \"T-shirt\", \"Debit Card\"], [\"B-26066\", 86, 22, 2, \"Clothing\", \"Saree\", \"Debit Card\"], [\"B-26003\", 79, 16, 3, \"Clothing\", \"T-shirt\", \"COD\"], [\"B-25712\", 193, -275, 3, \"Electronics\", \"Phones\", \"Credit Card\"], [\"B-25796\", 148, 0, 3, \"Clothing\", \"Saree\", \"COD\"], [\"B-25738\", 70, -14, 2, \"Furniture\", \"Furnishings\", \"UPI\"], [\"B-25771\", 148, 59, 3, \"Clothing\", \"Hankerchief\", \"COD\"], [\"B-25950\", 190, 19, 9, \"Furniture\", \"Furnishings\", \"Credit Card\"], [\"B-26038\", 52, 14, 2, \"Clothing\", \"Stole\", \"COD\"], [\"B-26004\", 147, 44, 3, \"Clothing\", \"Saree\", \"COD\"], [\"B-25896\", 190, 68, 8, \"Clothing\", \"T-shirt\", \"Credit Card\"], [\"B-25601\", 80, -56, 4, \"Electronics\", \"Electronic Games\", \"UPI\"], [\"B-25952\", 147, 48, 3, \"Clothing\", \"Saree\", \"COD\"], [\"B-25873\", 66, 12, 3, \"Clothing\", \"Stole\", \"COD\"], [\"B-25844\", 86, 8, 2, \"Clothing\", \"Saree\", \"Debit Card\"], [\"B-26054\", 88, 19, 2, \"Clothing\", \"Shirt\", \"Debit Card\"], [\"B-25953\", 188, -193, 2, \"Electronics\", \"Electronic Games\", \"Credit Card\"], [\"B-25951\", 89, 29, 2, \"Clothing\", \"Stole\", \"UPI\"], [\"B-26065\", 146, 19, 5, \"Clothing\", \"Stole\", \"COD\"], [\"B-26033\", 143, 32, 1, \"Furniture\", \"Bookcases\", \"COD\"], [\"B-25781\", 25, -1, 4, \"Clothing\", \"Kurti\", \"COD\"], [\"B-26043\", 30, 12, 3, \"Clothing\", \"Skirt\", \"UPI\"], [\"B-25614\", 98, -12, 2, \"Electronics\", \"Electronic Games\", \"Credit Card\"], [\"B-25750\", 22, -12, 3, \"Clothing\", \"Stole\", \"COD\"], [\"B-25852\", 97, 17, 2, \"Clothing\", \"Stole\", \"Credit Card\"], [\"B-26008\", 57, 24, 5, \"Clothing\", \"Leggings\", \"COD\"], [\"B-26092\", 97, 14, 2, \"Clothing\", \"T-shirt\", \"Credit Card\"], [\"B-25689\", 97, 17, 2, \"Clothing\", \"Stole\", \"Credit Card\"], [\"B-25730\", 96, 22, 5, \"Clothing\", \"Stole\", \"Credit Card\"], [\"B-25885\", 94, 27, 2, \"Clothing\", \"Shirt\", \"Credit Card\"], [\"B-25999\", 26, -17, 1, \"Clothing\", \"Stole\", \"COD\"], [\"B-26011\", 93, 44, 2, \"Clothing\", \"Stole\", \"Credit Card\"], [\"B-25754\", 93, -65, 4, \"Clothing\", \"Stole\", \"Credit Card\"], [\"B-26030\", 92, 5, 6, \"Clothing\", \"Hankerchief\", \"Credit Card\"], [\"B-25851\", 57, 27, 2, \"Clothing\", \"T-shirt\", \"COD\"], [\"B-25870\", 57, 7, 3, \"Furniture\", \"Furnishings\", \"COD\"], [\"B-26074\", 57, 21, 4, \"Clothing\", \"Leggings\", \"COD\"], [\"B-25861\", 128, 4, 3, \"Clothing\", \"Saree\", \"COD\"], [\"B-25797\", 89, -4, 5, \"Clothing\", \"Saree\", \"Credit Card\"], [\"B-25993\", 221, 26, 7, \"Furniture\", \"Furnishings\", \"COD\"], [\"B-25799\", 205, -119, 3, \"Clothing\", \"Saree\", \"Debit Card\"], [\"B-25721\", 191, 51, 5, \"Clothing\", \"Shirt\", \"UPI\"], [\"B-26056\", 206, 18, 4, \"Clothing\", \"Hankerchief\", \"Debit Card\"], [\"B-25743\", 56, 0, 4, \"Clothing\", \"Hankerchief\", \"COD\"], [\"B-25854\", 88, 16, 4, \"Clothing\", \"Stole\", \"Credit Card\"], [\"B-25748\", 224, 58, 3, \"Electronics\", \"Phones\", \"UPI\"], [\"B-25976\", 193, 8, 4, \"Clothing\", \"T-shirt\", \"UPI\"], [\"B-25953\", 87, 36, 5, \"Clothing\", \"Stole\", \"Credit Card\"], [\"B-25996\", 189, 4, 1, \"Clothing\", \"Saree\", \"UPI\"], [\"B-25717\", 55, -33, 2, \"Furniture\", \"Chairs\", \"COD\"], [\"B-25865\", 85, -1, 3, \"Clothing\", \"Saree\", \"Credit Card\"], [\"B-25959\", 252, 56, 2, \"Electronics\", \"Phones\", \"UPI\"], [\"B-25855\", 197, 73, 1, \"Furniture\", \"Bookcases\", \"COD\"], [\"B-25703\", 17, -3, 2, \"Clothing\", \"Stole\", \"UPI\"], [\"B-26049\", 100, 28, 2, \"Clothing\", \"Hankerchief\", \"UPI\"], [\"B-25755\", 80, -19, 5, \"Clothing\", \"Stole\", \"UPI\"], [\"B-26070\", 75, 29, 1, \"Clothing\", \"Trousers\", \"UPI\"], [\"B-25755\", 26, 4, 2, \"Clothing\", \"Saree\", \"UPI\"], [\"B-26047\", 55, 12, 5, \"Clothing\", \"Skirt\", \"COD\"], [\"B-25604\", 157, 5, 9, \"Clothing\", \"Saree\", \"UPI\"], [\"B-25651\", 200, -60, 4, \"Furniture\", \"Bookcases\", \"UPI\"], [\"B-25983\", 230, 5, 2, \"Clothing\", \"Saree\", \"UPI\"], [\"B-26056\", 213, -145, 3, \"Furniture\", \"Bookcases\", \"Debit Card\"], [\"B-25940\", 55, 4, 2, \"Clothing\", \"Stole\", \"COD\"], [\"B-25766\", 220, -19, 2, \"Clothing\", \"Saree\", \"Debit Card\"], [\"B-25935\", 150, 32, 3, \"Clothing\", \"Hankerchief\", \"COD\"], [\"B-25970\", 203, 84, 2, \"Electronics\", \"Printers\", \"UPI\"], [\"B-26053\", 93, 31, 3, \"Electronics\", \"Accessories\", \"UPI\"], [\"B-25947\", 290, 35, 6, \"Clothing\", \"Hankerchief\", \"COD\"], [\"B-25856\", 48, 6, 1, \"Clothing\", \"Saree\", \"COD\"], [\"B-26030\", 221, 35, 4, \"Electronics\", \"Accessories\", \"Debit Card\"], [\"B-26069\", 55, 18, 2, \"Clothing\", \"Kurti\", \"COD\"], [\"B-25653\", 227, 102, 8, \"Electronics\", \"Accessories\", \"Debit Card\"], [\"B-25627\", 55, -39, 4, \"Clothing\", \"Stole\", \"COD\"], [\"B-25947\", 207, 33, 2, \"Electronics\", \"Accessories\", \"UPI\"], [\"B-25801\", 64, 6, 4, \"Clothing\", \"Saree\", \"COD\"], [\"B-25964\", 89, 6, 5, \"Clothing\", \"Saree\", \"COD\"], [\"B-25950\", 54, 27, 2, \"Clothing\", \"Stole\", \"COD\"], [\"B-25878\", 84, 41, 3, \"Clothing\", \"T-shirt\", \"Credit Card\"], [\"B-25773\", 209, -21, 2, \"Electronics\", \"Electronic Games\", \"UPI\"], [\"B-26081\", 79, 33, 4, \"Clothing\", \"Stole\", \"UPI\"], [\"B-26027\", 54, 8, 4, \"Clothing\", \"T-shirt\", \"COD\"], [\"B-25967\", 229, 59, 9, \"Clothing\", \"Saree\", \"Debit Card\"], [\"B-25901\", 158, 38, 3, \"Clothing\", \"Hankerchief\", \"UPI\"], [\"B-25951\", 248, 105, 2, \"Electronics\", \"Phones\", \"Debit Card\"], [\"B-25853\", 199, 6, 2, \"Clothing\", \"Saree\", \"UPI\"], [\"B-25923\", 253, -11, 1, \"Clothing\", \"Trousers\", \"Debit Card\"], [\"B-25793\", 257, -252, 4, \"Clothing\", \"Saree\", \"Debit Card\"], [\"B-26068\", 193, 33, 5, \"Electronics\", \"Accessories\", \"COD\"], [\"B-26080\", 109, 35, 6, \"Clothing\", \"T-shirt\", \"COD\"], [\"B-25843\", 214, 30, 3, \"Electronics\", \"Accessories\", \"COD\"], [\"B-26002\", 141, 7, 7, \"Clothing\", \"Saree\", \"COD\"], [\"B-25993\", 201, 32, 4, \"Furniture\", \"Furnishings\", \"UPI\"], [\"B-26070\", 54, 12, 4, \"Clothing\", \"Shirt\", \"COD\"], [\"B-25887\", 83, 6, 6, \"Clothing\", \"Shirt\", \"EMI\"], [\"B-25654\", 54, -3, 3, \"Clothing\", \"Saree\", \"COD\"], [\"B-25898\", 53, 5, 3, \"Clothing\", \"T-shirt\", \"COD\"], [\"B-25664\", 258, -27, 2, \"Electronics\", \"Phones\", \"Debit Card\"], [\"B-26012\", 199, 8, 2, \"Clothing\", \"Saree\", \"COD\"], [\"B-25979\", 82, -27, 3, \"Clothing\", \"Kurti\", \"EMI\"], [\"B-26054\", 139, 36, 3, \"Clothing\", \"Stole\", \"COD\"], [\"B-25757\", 53, 15, 2, \"Clothing\", \"Stole\", \"COD\"], [\"B-25623\", 53, 1, 4, \"Clothing\", \"Stole\", \"COD\"], [\"B-25824\", 101, 38, 2, \"Furniture\", \"Furnishings\", \"COD\"], [\"B-25754\", 262, 215, 2, \"Electronics\", \"Printers\", \"Debit Card\"], [\"B-25693\", 82, -39, 5, \"Clothing\", \"T-shirt\", \"EMI\"], [\"B-25638\", 154, 39, 3, \"Clothing\", \"Hankerchief\", \"COD\"], [\"B-25922\", 52, 18, 2, \"Clothing\", \"Stole\", \"COD\"], [\"B-25919\", 1599, 37, 6, \"Electronics\", \"Electronic Games\", \"UPI\"], [\"B-25989\", 338, 41, 7, \"Clothing\", \"Hankerchief\", \"UPI\"], [\"B-25999\", 51, -49, 2, \"Electronics\", \"Electronic Games\", \"COD\"], [\"B-25661\", 224, -81, 3, \"Furniture\", \"Chairs\", \"COD\"], [\"B-26099\", 207, 37, 4, \"Clothing\", \"Hankerchief\", \"COD\"], [\"B-25866\", 51, 14, 2, \"Clothing\", \"Stole\", \"COD\"], [\"B-26098\", 82, 8, 3, \"Electronics\", \"Accessories\", \"EMI\"], [\"B-26062\", 50, -17, 2, \"Clothing\", \"Stole\", \"COD\"], [\"B-25761\", 263, -31, 9, \"Electronics\", \"Electronic Games\", \"Debit Card\"], [\"B-25843\", 50, 7, 6, \"Clothing\", \"Skirt\", \"COD\"], [\"B-25683\", 245, -3, 4, \"Electronics\", \"Phones\", \"UPI\"], [\"B-25959\", 82, 24, 6, \"Clothing\", \"Hankerchief\", \"EMI\"], [\"B-25787\", 229, -41, 8, \"Electronics\", \"Accessories\", \"COD\"], [\"B-25951\", 50, 14, 1, \"Electronics\", \"Electronic Games\", \"COD\"], [\"B-26056\", 220, 40, 2, \"Electronics\", \"Accessories\", \"COD\"], [\"B-25643\", 263, -63, 2, \"Electronics\", \"Electronic Games\", \"Debit Card\"], [\"B-26093\", 81, -41, 5, \"Clothing\", \"Leggings\", \"EMI\"], [\"B-25775\", 50, -17, 2, \"Clothing\", \"Stole\", \"COD\"], [\"B-26093\", 49, 5, 4, \"Clothing\", \"Hankerchief\", \"COD\"], [\"B-25851\", 237, 47, 9, \"Clothing\", \"T-shirt\", \"UPI\"], [\"B-25685\", 264, -30, 3, \"Furniture\", \"Furnishings\", \"Debit Card\"], [\"B-25651\", 49, 3, 1, \"Clothing\", \"Shirt\", \"COD\"], [\"B-25793\", 63, -24, 6, \"Clothing\", \"Kurti\", \"COD\"], [\"B-25708\", 81, -51, 7, \"Clothing\", \"Stole\", \"EMI\"], [\"B-25847\", 264, 71, 10, \"Furniture\", \"Furnishings\", \"Debit Card\"], [\"B-25954\", 48, 11, 2, \"Clothing\", \"Shirt\", \"COD\"], [\"B-25997\", 48, 15, 1, \"Clothing\", \"Hankerchief\", \"COD\"], [\"B-25650\", 245, -78, 2, \"Electronics\", \"Printers\", \"UPI\"], [\"B-25883\", 146, 42, 5, \"Clothing\", \"Hankerchief\", \"UPI\"], [\"B-25945\", 245, 10, 2, \"Furniture\", \"Bookcases\", \"COD\"], [\"B-25981\", 245, 91, 2, \"Furniture\", \"Bookcases\", \"UPI\"], [\"B-25862\", 80, 3, 3, \"Clothing\", \"Stole\", \"EMI\"], [\"B-25877\", 269, 33, 5, \"Furniture\", \"Chairs\", \"Debit Card\"], [\"B-26090\", 80, 22, 3, \"Clothing\", \"Stole\", \"EMI\"], [\"B-26050\", 284, 44, 6, \"Clothing\", \"Hankerchief\", \"COD\"], [\"B-26072\", 313, 44, 3, \"Electronics\", \"Electronic Games\", \"COD\"], [\"B-25916\", 80, -26, 9, \"Clothing\", \"Skirt\", \"EMI\"], [\"B-25722\", 48, -8, 8, \"Clothing\", \"Stole\", \"COD\"], [\"B-25746\", 87, 16, 2, \"Clothing\", \"Saree\", \"UPI\"], [\"B-25753\", 47, -114, 5, \"Furniture\", \"Furnishings\", \"COD\"], [\"B-25956\", 140, 28, 2, \"Electronics\", \"Phones\", \"COD\"], [\"B-25996\", 47, 1, 2, \"Clothing\", \"Stole\", \"COD\"], [\"B-25896\", 79, -2, 2, \"Furniture\", \"Furnishings\", \"EMI\"], [\"B-25796\", 78, -64, 7, \"Clothing\", \"Stole\", \"EMI\"], [\"B-25798\", 47, -3, 2, \"Clothing\", \"Stole\", \"COD\"], [\"B-26043\", 185, 48, 4, \"Clothing\", \"Stole\", \"UPI\"], [\"B-26028\", 77, 36, 2, \"Clothing\", \"Shirt\", \"EMI\"], [\"B-25812\", 259, 47, 5, \"Clothing\", \"Hankerchief\", \"UPI\"], [\"B-25605\", 75, 0, 7, \"Clothing\", \"Saree\", \"EMI\"], [\"B-25702\", 75, 0, 3, \"Clothing\", \"Shirt\", \"EMI\"], [\"B-25940\", 46, 0, 4, \"Clothing\", \"Leggings\", \"COD\"], [\"B-26087\", 46, 13, 3, \"Clothing\", \"Hankerchief\", \"COD\"], [\"B-25955\", 200, 13, 5, \"Electronics\", \"Phones\", \"COD\"], [\"B-25626\", 46, -14, 1, \"Electronics\", \"Phones\", \"COD\"], [\"B-25811\", 126, 52, 4, \"Clothing\", \"Hankerchief\", \"UPI\"], [\"B-25856\", 74, 29, 3, \"Clothing\", \"Stole\", \"EMI\"], [\"B-25628\", 45, 13, 4, \"Clothing\", \"Skirt\", \"COD\"], [\"B-26016\", 74, 9, 3, \"Clothing\", \"Shirt\", \"UPI\"], [\"B-25999\", 129, 11, 2, \"Electronics\", \"Phones\", \"UPI\"], [\"B-26043\", 122, 50, 7, \"Clothing\", \"Stole\", \"UPI\"], [\"B-25743\", 74, -51, 3, \"Clothing\", \"Stole\", \"UPI\"], [\"B-26014\", 278, 39, 5, \"Furniture\", \"Chairs\", \"Debit Card\"], [\"B-25876\", 282, 14, 4, \"Clothing\", \"Trousers\", \"Debit Card\"], [\"B-25785\", 45, 0, 2, \"Clothing\", \"T-shirt\", \"COD\"], [\"B-25810\", 45, 6, 3, \"Clothing\", \"Shirt\", \"COD\"], [\"B-25833\", 45, 16, 3, \"Clothing\", \"Stole\", \"COD\"], [\"B-25931\", 73, -36, 3, \"Furniture\", \"Chairs\", \"UPI\"], [\"B-25852\", 45, 12, 4, \"Clothing\", \"Hankerchief\", \"COD\"], [\"B-25738\", 72, -6, 3, \"Clothing\", \"Saree\", \"UPI\"], [\"B-25921\", 71, -44, 5, \"Electronics\", \"Accessories\", \"UPI\"], [\"B-25685\", 45, -2, 4, \"Clothing\", \"Shirt\", \"COD\"], [\"B-25996\", 286, 140, 6, \"Clothing\", \"Shirt\", \"Debit Card\"], [\"B-25663\", 294, 138, 2, \"Electronics\", \"Printers\", \"Debit Card\"], [\"B-25888\", 223, 4, 3, \"Electronics\", \"Phones\", \"COD\"], [\"B-25677\", 20, -2, 1, \"Electronics\", \"Accessories\", \"UPI\"], [\"B-26045\", 302, 75, 6, \"Furniture\", \"Furnishings\", \"Debit Card\"], [\"B-26002\", 113, 28, 2, \"Clothing\", \"Saree\", \"UPI\"], [\"B-25953\", 44, 2, 3, \"Clothing\", \"Hankerchief\", \"COD\"], [\"B-25617\", 305, -270, 5, \"Electronics\", \"Electronic Games\", \"Debit Card\"], [\"B-25702\", 306, -147, 3, \"Clothing\", \"Saree\", \"Debit Card\"], [\"B-25799\", 70, -64, 5, \"Clothing\", \"Stole\", \"UPI\"], [\"B-25985\", 44, 11, 4, \"Clothing\", \"Stole\", \"COD\"], [\"B-25952\", 44, 14, 3, \"Clothing\", \"Hankerchief\", \"COD\"], [\"B-25754\", 319, 312, 5, \"Clothing\", \"Saree\", \"Debit Card\"], [\"B-25770\", 287, -280, 12, \"Furniture\", \"Chairs\", \"UPI\"], [\"B-25954\", 44, 10, 3, \"Clothing\", \"Stole\", \"COD\"], [\"B-25657\", 288, -180, 4, \"Furniture\", \"Chairs\", \"COD\"], [\"B-25801\", 49, -31, 2, \"Clothing\", \"Stole\", \"COD\"], [\"B-26000\", 43, -10, 4, \"Clothing\", \"Skirt\", \"COD\"], [\"B-25897\", 43, 5, 3, \"Clothing\", \"Stole\", \"COD\"], [\"B-25681\", 68, -27, 3, \"Electronics\", \"Accessories\", \"UPI\"], [\"B-25852\", 320, 144, 1, \"Electronics\", \"Printers\", \"Debit Card\"], [\"B-26067\", 67, 2, 4, \"Clothing\", \"T-shirt\", \"UPI\"], [\"B-25601\", 66, -12, 5, \"Clothing\", \"Stole\", \"UPI\"], [\"B-25804\", 321, 26, 3, \"Electronics\", \"Printers\", \"Debit Card\"], [\"B-25751\", 43, -5, 2, \"Clothing\", \"Saree\", \"COD\"], [\"B-25630\", 114, -39, 5, \"Clothing\", \"Kurti\", \"COD\"], [\"B-25899\", 43, 17, 1, \"Clothing\", \"Saree\", \"COD\"], [\"B-25751\", 43, 21, 3, \"Clothing\", \"Shirt\", \"COD\"], [\"B-26081\", 637, 50, 5, \"Clothing\", \"Saree\", \"COD\"], [\"B-25851\", 300, 42, 2, \"Electronics\", \"Printers\", \"COD\"], [\"B-26036\", 341, 44, 7, \"Furniture\", \"Furnishings\", \"UPI\"], [\"B-25704\", 102, 0, 3, \"Electronics\", \"Phones\", \"COD\"], [\"B-25761\", 328, -15, 3, \"Electronics\", \"Electronic Games\", \"Debit Card\"], [\"B-25978\", 341, 160, 7, \"Clothing\", \"Stole\", \"Debit Card\"], [\"B-26077\", 62, 11, 7, \"Clothing\", \"Hankerchief\", \"UPI\"], [\"B-25981\", 42, 13, 3, \"Clothing\", \"Leggings\", \"COD\"], [\"B-26043\", 62, 28, 5, \"Clothing\", \"Hankerchief\", \"UPI\"], [\"B-25896\", 42, 7, 2, \"Clothing\", \"Kurti\", \"COD\"], [\"B-25790\", 42, -3, 1, \"Electronics\", \"Electronic Games\", \"COD\"], [\"B-25789\", 313, -13, 5, \"Furniture\", \"Bookcases\", \"UPI\"], [\"B-26061\", 109, 52, 2, \"Clothing\", \"Stole\", \"UPI\"], [\"B-25923\", 226, 58, 3, \"Electronics\", \"Accessories\", \"COD\"], [\"B-25868\", 62, -1, 1, \"Electronics\", \"Phones\", \"UPI\"], [\"B-25777\", 61, -25, 4, \"Electronics\", \"Accessories\", \"UPI\"], [\"B-25999\", 222, 74, 5, \"Clothing\", \"Hankerchief\", \"COD\"], [\"B-25854\", 342, -154, 7, \"Furniture\", \"Furnishings\", \"Debit Card\"], [\"B-25667\", 344, -34, 3, \"Clothing\", \"Saree\", \"Debit Card\"], [\"B-25829\", 345, 38, 7, \"Clothing\", \"Hankerchief\", \"Debit Card\"], [\"B-25705\", 46, 0, 2, \"Electronics\", \"Electronic Games\", \"COD\"], [\"B-25843\", 255, 74, 5, \"Clothing\", \"Hankerchief\", \"COD\"], [\"B-25958\", 360, 32, 3, \"Clothing\", \"Saree\", \"UPI\"], [\"B-25893\", 372, 59, 3, \"Electronics\", \"Printers\", \"UPI\"], [\"B-25855\", 61, 30, 2, \"Clothing\", \"Hankerchief\", \"UPI\"], [\"B-25616\", 42, 12, 5, \"Clothing\", \"Hankerchief\", \"COD\"], [\"B-25630\", 42, -26, 2, \"Clothing\", \"Kurti\", \"COD\"], [\"B-25936\", 61, 25, 4, \"Clothing\", \"Saree\", \"UPI\"], [\"B-25830\", 41, 11, 6, \"Clothing\", \"Hankerchief\", \"COD\"], [\"B-25930\", 40, 13, 3, \"Clothing\", \"T-shirt\", \"COD\"], [\"B-25808\", 59, 21, 2, \"Clothing\", \"Stole\", \"UPI\"], [\"B-25979\", 57, 27, 2, \"Clothing\", \"Shirt\", \"UPI\"], [\"B-25687\", 17, 6, 1, \"Clothing\", \"Stole\", \"UPI\"], [\"B-26087\", 40, 10, 2, \"Clothing\", \"Stole\", \"COD\"], [\"B-25764\", 349, -24, 2, \"Clothing\", \"Saree\", \"Debit Card\"], [\"B-25782\", 335, -22, 7, \"Furniture\", \"Chairs\", \"UPI\"], [\"B-25854\", 40, 16, 3, \"Clothing\", \"Hankerchief\", \"COD\"], [\"B-26085\", 40, 17, 2, \"Clothing\", \"Stole\", \"COD\"], [\"B-25630\", 40, -7, 3, \"Clothing\", \"Stole\", \"COD\"], [\"B-25999\", 352, 74, 8, \"Clothing\", \"Stole\", \"Debit Card\"], [\"B-25648\", 55, -26, 4, \"Clothing\", \"Saree\", \"UPI\"], [\"B-25952\", 352, 18, 5, \"Clothing\", \"Trousers\", \"Debit Card\"], [\"B-25710\", 53, -18, 4, \"Clothing\", \"T-shirt\", \"UPI\"], [\"B-25685\", 51, 7, 2, \"Furniture\", \"Furnishings\", \"UPI\"], [\"B-25740\", 40, -37, 3, \"Clothing\", \"Stole\", \"COD\"], [\"B-25973\", 39, 14, 5, \"Clothing\", \"Leggings\", \"COD\"], [\"B-25769\", 355, -4, 2, \"Clothing\", \"Saree\", \"Debit Card\"], [\"B-25687\", 357, 139, 2, \"Clothing\", \"Saree\", \"Debit Card\"], [\"B-25603\", 38, 18, 1, \"Clothing\", \"Kurti\", \"COD\"], [\"B-26050\", 38, 9, 2, \"Clothing\", \"Stole\", \"COD\"], [\"B-25748\", 141, 10, 4, \"Clothing\", \"Shirt\", \"UPI\"], [\"B-25833\", 36, 4, 9, \"Clothing\", \"Hankerchief\", \"COD\"], [\"B-25930\", 351, -94, 5, \"Electronics\", \"Electronic Games\", \"COD\"], [\"B-26035\", 369, 15, 3, \"Electronics\", \"Electronic Games\", \"Debit Card\"], [\"B-25851\", 53, 24, 6, \"Clothing\", \"Hankerchief\", \"EMI\"], [\"B-25718\", 371, 115, 1, \"Furniture\", \"Bookcases\", \"Debit Card\"], [\"B-25898\", 499, 33, 4, \"Clothing\", \"Saree\", \"COD\"], [\"B-25893\", 223, 62, 7, \"Clothing\", \"Shirt\", \"COD\"], [\"B-25983\", 50, -4, 6, \"Clothing\", \"T-shirt\", \"EMI\"], [\"B-26056\", 391, 90, 6, \"Electronics\", \"Phones\", \"Debit Card\"], [\"B-25715\", 416, 137, 3, \"Electronics\", \"Phones\", \"Debit Card\"], [\"B-25702\", 424, -17, 9, \"Furniture\", \"Chairs\", \"Debit Card\"], [\"B-25618\", 362, 127, 1, \"Furniture\", \"Bookcases\", \"COD\"], [\"B-25643\", 36, -7, 1, \"Electronics\", \"Electronic Games\", \"COD\"], [\"B-25961\", 34, -10, 3, \"Clothing\", \"Skirt\", \"COD\"], [\"B-25873\", 367, 73, 3, \"Electronics\", \"Electronic Games\", \"UPI\"], [\"B-26053\", 425, 208, 7, \"Clothing\", \"Saree\", \"Debit Card\"], [\"B-25683\", 433, 26, 3, \"Electronics\", \"Printers\", \"Debit Card\"], [\"B-25718\", 460, 31, 3, \"Furniture\", \"Bookcases\", \"Debit Card\"], [\"B-25753\", 62, -56, 5, \"Clothing\", \"Kurti\", \"COD\"], [\"B-25852\", 50, 16, 1, \"Clothing\", \"Stole\", \"EMI\"], [\"B-25914\", 460, -143, 3, \"Furniture\", \"Chairs\", \"Debit Card\"], [\"B-26083\", 34, 3, 3, \"Clothing\", \"Saree\", \"COD\"], [\"B-25857\", 227, 59, 2, \"Furniture\", \"Furnishings\", \"UPI\"], [\"B-25939\", 469, 33, 4, \"Electronics\", \"Electronic Games\", \"Debit Card\"], [\"B-25851\", 103, 46, 2, \"Clothing\", \"Saree\", \"UPI\"], [\"B-25699\", 34, -13, 5, \"Clothing\", \"Leggings\", \"COD\"], [\"B-26078\", 137, 63, 3, \"Clothing\", \"Stole\", \"COD\"], [\"B-26075\", 34, 12, 2, \"Clothing\", \"Stole\", \"COD\"], [\"B-25956\", 474, 56, 4, \"Electronics\", \"Phones\", \"Debit Card\"], [\"B-25861\", 50, 3, 2, \"Clothing\", \"Stole\", \"EMI\"], [\"B-25777\", 69, -67, 4, \"Clothing\", \"Kurti\", \"UPI\"], [\"B-25634\", 389, -83, 3, \"Furniture\", \"Chairs\", \"UPI\"], [\"B-25753\", 77, -43, 8, \"Clothing\", \"Stole\", \"COD\"], [\"B-25687\", 51, 21, 3, \"Clothing\", \"T-shirt\", \"COD\"], [\"B-25885\", 394, 146, 2, \"Furniture\", \"Bookcases\", \"UPI\"], [\"B-25767\", 48, -22, 2, \"Clothing\", \"Saree\", \"EMI\"], [\"B-25961\", 34, -12, 5, \"Clothing\", \"Leggings\", \"COD\"], [\"B-25923\", 484, 28, 3, \"Electronics\", \"Printers\", \"Debit Card\"], [\"B-25799\", 47, -27, 4, \"Clothing\", \"Saree\", \"EMI\"], [\"B-25955\", 45, 8, 4, \"Clothing\", \"Skirt\", \"EMI\"], [\"B-26015\", 128, 55, 1, \"Clothing\", \"Saree\", \"COD\"], [\"B-26051\", 669, 74, 5, \"Furniture\", \"Bookcases\", \"COD\"], [\"B-25822\", 34, 13, 2, \"Clothing\", \"Saree\", \"COD\"], [\"B-25989\", 44, 14, 3, \"Clothing\", \"Hankerchief\", \"Credit Card\"], [\"B-25910\", 33, 1, 2, \"Clothing\", \"Shirt\", \"COD\"], [\"B-25956\", 33, 10, 3, \"Clothing\", \"Hankerchief\", \"COD\"], [\"B-25986\", 487, -23, 3, \"Electronics\", \"Printers\", \"Debit Card\"], [\"B-26098\", 497, 179, 3, \"Furniture\", \"Chairs\", \"Debit Card\"], [\"B-26061\", 508, 203, 2, \"Electronics\", \"Accessories\", \"Debit Card\"], [\"B-25954\", 524, -25, 2, \"Electronics\", \"Electronic Games\", \"Debit Card\"], [\"B-26034\", 425, 183, 5, \"Electronics\", \"Accessories\", \"UPI\"], [\"B-25909\", 168, 56, 3, \"Clothing\", \"Saree\", \"COD\"], [\"B-25692\", 141, 28, 7, \"Furniture\", \"Furnishings\", \"UPI\"], [\"B-25959\", 429, 17, 3, \"Furniture\", \"Chairs\", \"UPI\"], [\"B-25745\", 44, -8, 3, \"Clothing\", \"Stole\", \"Credit Card\"], [\"B-25689\", 149, 136, 3, \"Clothing\", \"Stole\", \"UPI\"], [\"B-25786\", 44, -34, 3, \"Clothing\", \"Stole\", \"Credit Card\"], [\"B-25897\", 33, 10, 3, \"Clothing\", \"Hankerchief\", \"COD\"], [\"B-26056\", 33, 9, 2, \"Clothing\", \"Hankerchief\", \"COD\"], [\"B-25855\", 442, 31, 2, \"Electronics\", \"Electronic Games\", \"UPI\"], [\"B-25667\", 41, 6, 5, \"Clothing\", \"Skirt\", \"Credit Card\"], [\"B-25701\", 33, -12, 5, \"Clothing\", \"Hankerchief\", \"COD\"], [\"B-26046\", 32, 3, 8, \"Clothing\", \"Hankerchief\", \"COD\"], [\"B-25676\", 32, 6, 3, \"Clothing\", \"Shirt\", \"COD\"], [\"B-26045\", 179, 77, 1, \"Clothing\", \"Saree\", \"UPI\"], [\"B-25889\", 31, 10, 1, \"Clothing\", \"Kurti\", \"COD\"], [\"B-25900\", 140, 68, 5, \"Clothing\", \"T-shirt\", \"COD\"], [\"B-25685\", 529, 137, 3, \"Electronics\", \"Phones\", \"Debit Card\"], [\"B-25622\", 534, 0, 3, \"Clothing\", \"Saree\", \"Debit Card\"], [\"B-25709\", 41, -6, 1, \"Furniture\", \"Chairs\", \"Credit Card\"], [\"B-25798\", 379, 63, 2, \"Clothing\", \"Saree\", \"COD\"], [\"B-25933\", 81, -44, 3, \"Clothing\", \"Stole\", \"COD\"], [\"B-25793\", 40, -33, 5, \"Clothing\", \"Hankerchief\", \"Credit Card\"], [\"B-25951\", 40, 18, 1, \"Electronics\", \"Accessories\", \"Credit Card\"], [\"B-25656\", 534, 0, 3, \"Clothing\", \"Saree\", \"Debit Card\"], [\"B-26056\", 31, 9, 2, \"Clothing\", \"Hankerchief\", \"COD\"], [\"B-25870\", 473, -113, 9, \"Clothing\", \"Hankerchief\", \"UPI\"], [\"B-25690\", 31, -10, 3, \"Clothing\", \"Skirt\", \"COD\"], [\"B-25702\", 31, -3, 4, \"Clothing\", \"Saree\", \"COD\"], [\"B-25752\", 91, 15, 6, \"Clothing\", \"T-shirt\", \"UPI\"], [\"B-25781\", 30, -25, 2, \"Clothing\", \"T-shirt\", \"COD\"], [\"B-26038\", 30, 6, 1, \"Clothing\", \"T-shirt\", \"COD\"], [\"B-25761\", 40, 0, 3, \"Clothing\", \"Saree\", \"Credit Card\"], [\"B-25751\", 534, 5, 2, \"Electronics\", \"Electronic Games\", \"Debit Card\"], [\"B-25750\", 539, -146, 7, \"Furniture\", \"Furnishings\", \"Debit Card\"], [\"B-25726\", 490, -128, 8, \"Furniture\", \"Bookcases\", \"UPI\"], [\"B-26048\", 163, 81, 2, \"Electronics\", \"Accessories\", \"COD\"], [\"B-26051\", 184, 85, 6, \"Clothing\", \"T-shirt\", \"UPI\"], [\"B-25614\", 494, 54, 4, \"Furniture\", \"Bookcases\", \"COD\"], [\"B-25907\", 30, 11, 5, \"Clothing\", \"Hankerchief\", \"COD\"], [\"B-25789\", 30, 0, 1, \"Clothing\", \"Kurti\", \"COD\"], [\"B-26097\", 39, -18, 2, \"Clothing\", \"Leggings\", \"Credit Card\"], [\"B-25902\", 1700, 85, 3, \"Clothing\", \"Trousers\", \"COD\"], [\"B-25657\", 332, -43, 6, \"Electronics\", \"Phones\", \"UPI\"], [\"B-25854\", 436, 131, 9, \"Clothing\", \"Hankerchief\", \"UPI\"], [\"B-25610\", 30, -5, 2, \"Furniture\", \"Furnishings\", \"COD\"], [\"B-25733\", 30, -10, 2, \"Clothing\", \"Stole\", \"COD\"], [\"B-25798\", 38, -13, 3, \"Clothing\", \"Stole\", \"Credit Card\"], [\"B-25803\", 511, 194, 3, \"Furniture\", \"Chairs\", \"UPI\"], [\"B-25755\", 37, -53, 3, \"Clothing\", \"Saree\", \"Credit Card\"], [\"B-25850\", 513, 215, 2, \"Electronics\", \"Accessories\", \"COD\"], [\"B-25667\", 516, 69, 4, \"Furniture\", \"Bookcases\", \"UPI\"], [\"B-25796\", 559, -19, 2, \"Clothing\", \"Trousers\", \"Debit Card\"], [\"B-26013\", 29, -10, 3, \"Clothing\", \"Skirt\", \"COD\"], [\"B-25683\", 148, 52, 5, \"Clothing\", \"Stole\", \"UPI\"], [\"B-26054\", 559, -174, 2, \"Electronics\", \"Electronic Games\", \"Debit Card\"], [\"B-26010\", 527, 26, 3, \"Electronics\", \"Electronic Games\", \"COD\"], [\"B-25979\", 560, 44, 3, \"Clothing\", \"Saree\", \"Debit Card\"], [\"B-25973\", 571, 108, 12, \"Clothing\", \"Stole\", \"Debit Card\"], [\"B-25975\", 29, 2, 3, \"Clothing\", \"Skirt\", \"COD\"], [\"B-26010\", 29, 3, 2, \"Clothing\", \"Stole\", \"COD\"], [\"B-25767\", 29, -3, 3, \"Clothing\", \"Saree\", \"COD\"], [\"B-25815\", 35, 14, 2, \"Clothing\", \"Stole\", \"Credit Card\"], [\"B-25853\", 579, 139, 3, \"Electronics\", \"Printers\", \"Debit Card\"], [\"B-25756\", 29, -24, 4, \"Clothing\", \"Leggings\", \"COD\"], [\"B-25755\", 593, 213, 4, \"Furniture\", \"Bookcases\", \"Debit Card\"], [\"B-25996\", 217, 72, 2, \"Furniture\", \"Furnishings\", \"COD\"], [\"B-25619\", 353, 90, 8, \"Clothing\", \"Saree\", \"COD\"], [\"B-26050\", 382, 92, 2, \"Electronics\", \"Printers\", \"COD\"], [\"B-26000\", 597, 93, 4, \"Furniture\", \"Chairs\", \"Debit Card\"], [\"B-26058\", 212, 97, 7, \"Clothing\", \"Hankerchief\", \"COD\"], [\"B-25856\", 689, 90, 5, \"Clothing\", \"Saree\", \"COD\"], [\"B-26044\", 28, -10, 3, \"Clothing\", \"Skirt\", \"COD\"], [\"B-25654\", 34, 12, 3, \"Clothing\", \"Hankerchief\", \"Credit Card\"], [\"B-26051\", 600, -102, 5, \"Electronics\", \"Electronic Games\", \"Debit Card\"], [\"B-25636\", 637, 113, 5, \"Clothing\", \"Saree\", \"UPI\"], [\"B-25710\", 616, -69, 7, \"Furniture\", \"Furnishings\", \"Debit Card\"], [\"B-25656\", 624, 37, 2, \"Electronics\", \"Electronic Games\", \"Debit Card\"], [\"B-25919\", 28, 4, 1, \"Clothing\", \"T-shirt\", \"COD\"], [\"B-25781\", 584, -444, 7, \"Electronics\", \"Printers\", \"UPI\"], [\"B-25899\", 28, 6, 4, \"Clothing\", \"Skirt\", \"COD\"], [\"B-26093\", 33, -1, 1, \"Clothing\", \"Saree\", \"Credit Card\"], [\"B-25753\", 27, -20, 2, \"Clothing\", \"Hankerchief\", \"COD\"], [\"B-25858\", 27, 5, 2, \"Clothing\", \"Skirt\", \"COD\"], [\"B-25762\", 27, 4, 3, \"Clothing\", \"Skirt\", \"COD\"], [\"B-25625\", 635, -349, 5, \"Clothing\", \"Saree\", \"Debit Card\"], [\"B-25857\", 598, 166, 4, \"Furniture\", \"Bookcases\", \"UPI\"], [\"B-25919\", 636, -204, 2, \"Electronics\", \"Printers\", \"Debit Card\"], [\"B-25864\", 27, 9, 2, \"Clothing\", \"Hankerchief\", \"COD\"], [\"B-25698\", 27, -6, 4, \"Clothing\", \"Hankerchief\", \"COD\"], [\"B-25959\", 637, 212, 8, \"Electronics\", \"Phones\", \"Debit Card\"], [\"B-26073\", 290, 110, 9, \"Clothing\", \"Stole\", \"UPI\"], [\"B-25649\", 27, -25, 2, \"Clothing\", \"Stole\", \"COD\"], [\"B-25806\", 632, -114, 4, \"Furniture\", \"Tables\", \"UPI\"], [\"B-25756\", 643, -45, 2, \"Electronics\", \"Printers\", \"Debit Card\"], [\"B-26003\", 652, 13, 6, \"Furniture\", \"Furnishings\", \"Debit Card\"], [\"B-25752\", 33, -27, 1, \"Furniture\", \"Chairs\", \"Credit Card\"], [\"B-25783\", 26, 2, 2, \"Clothing\", \"Hankerchief\", \"COD\"], [\"B-25802\", 633, -633, 11, \"Electronics\", \"Accessories\", \"UPI\"], [\"B-25881\", 26, 9, 2, \"Clothing\", \"Leggings\", \"COD\"], [\"B-25898\", 191, 93, 4, \"Clothing\", \"Shirt\", \"UPI\"], [\"B-25696\", 887, 80, 3, \"Electronics\", \"Printers\", \"UPI\"], [\"B-25826\", 637, 261, 2, \"Electronics\", \"Printers\", \"COD\"], [\"B-25745\", 670, 15, 5, \"Furniture\", \"Bookcases\", \"Debit Card\"], [\"B-25943\", 26, 7, 4, \"Clothing\", \"Hankerchief\", \"COD\"], [\"B-26051\", 676, 195, 5, \"Furniture\", \"Bookcases\", \"Debit Card\"], [\"B-25624\", 26, 12, 3, \"Clothing\", \"Hankerchief\", \"COD\"], [\"B-25723\", 26, -24, 1, \"Clothing\", \"Stole\", \"COD\"], [\"B-26052\", 25, 7, 2, \"Clothing\", \"Stole\", \"COD\"], [\"B-25603\", 24, -30, 1, \"Furniture\", \"Chairs\", \"COD\"], [\"B-25983\", 32, -12, 1, \"Furniture\", \"Chairs\", \"Credit Card\"], [\"B-25650\", 31, -2, 2, \"Clothing\", \"Saree\", \"Credit Card\"], [\"B-25656\", 651, 169, 5, \"Electronics\", \"Printers\", \"COD\"], [\"B-26018\", 326, 107, 3, \"Furniture\", \"Furnishings\", \"UPI\"], [\"B-25783\", 30, -6, 2, \"Clothing\", \"Hankerchief\", \"UPI\"], [\"B-25951\", 30, 5, 2, \"Clothing\", \"Kurti\", \"UPI\"], [\"B-25974\", 662, 240, 2, \"Furniture\", \"Bookcases\", \"COD\"], [\"B-25754\", 30, -23, 2, \"Clothing\", \"Saree\", \"UPI\"], [\"B-26073\", 29, 9, 3, \"Clothing\", \"Saree\", \"UPI\"], [\"B-25796\", 28, 1, 1, \"Electronics\", \"Accessories\", \"UPI\"], [\"B-25653\", 28, -3, 2, \"Clothing\", \"Saree\", \"UPI\"], [\"B-25884\", 24, 2, 4, \"Clothing\", \"Hankerchief\", \"COD\"], [\"B-25650\", 28, -26, 2, \"Clothing\", \"Stole\", \"UPI\"], [\"B-26045\", 27, 5, 1, \"Clothing\", \"Stole\", \"UPI\"], [\"B-25672\", 27, -15, 1, \"Clothing\", \"Stole\", \"UPI\"], [\"B-25949\", 24, 11, 3, \"Clothing\", \"Hankerchief\", \"COD\"], [\"B-25733\", 23, -6, 4, \"Clothing\", \"Hankerchief\", \"COD\"], [\"B-25697\", 322, 193, 5, \"Electronics\", \"Printers\", \"COD\"], [\"B-25893\", 688, -103, 6, \"Electronics\", \"Accessories\", \"Debit Card\"], [\"B-25802\", 23, -3, 1, \"Clothing\", \"Shirt\", \"COD\"], [\"B-25961\", 26, 3, 3, \"Clothing\", \"Skirt\", \"UPI\"], [\"B-25751\", 68, -56, 2, \"Electronics\", \"Phones\", \"COD\"], [\"B-25814\", 462, 169, 4, \"Clothing\", \"Saree\", \"COD\"], [\"B-25702\", 941, 203, 3, \"Furniture\", \"Tables\", \"UPI\"], [\"B-25896\", 23, 4, 2, \"Clothing\", \"Skirt\", \"COD\"], [\"B-25969\", 720, 43, 2, \"Electronics\", \"Printers\", \"UPI\"], [\"B-25778\", 724, -447, 4, \"Electronics\", \"Electronic Games\", \"UPI\"], [\"B-25859\", 724, 253, 2, \"Furniture\", \"Bookcases\", \"UPI\"], [\"B-25810\", 26, 10, 4, \"Clothing\", \"Hankerchief\", \"UPI\"], [\"B-25616\", 22, -2, 3, \"Clothing\", \"Hankerchief\", \"COD\"], [\"B-25633\", 711, -8, 4, \"Clothing\", \"Saree\", \"Debit Card\"], [\"B-25753\", 107, 31, 5, \"Clothing\", \"T-shirt\", \"COD\"], [\"B-25764\", 765, -153, 2, \"Electronics\", \"Phones\", \"Debit Card\"], [\"B-25864\", 22, 8, 2, \"Clothing\", \"Leggings\", \"COD\"], [\"B-25725\", 26, -5, 2, \"Clothing\", \"Stole\", \"UPI\"], [\"B-25858\", 22, 8, 3, \"Clothing\", \"Hankerchief\", \"COD\"], [\"B-25817\", 743, 89, 5, \"Electronics\", \"Printers\", \"UPI\"], [\"B-25703\", 22, -15, 4, \"Clothing\", \"Kurti\", \"COD\"], [\"B-25610\", 781, 594, 6, \"Electronics\", \"Printers\", \"Debit Card\"], [\"B-25652\", 25, -2, 5, \"Clothing\", \"Hankerchief\", \"UPI\"], [\"B-25891\", 25, 2, 2, \"Clothing\", \"Hankerchief\", \"UPI\"], [\"B-25764\", 119, 43, 5, \"Clothing\", \"T-shirt\", \"COD\"], [\"B-25664\", 785, 52, 2, \"Electronics\", \"Phones\", \"Debit Card\"], [\"B-25645\", 183, -66, 5, \"Electronics\", \"Phones\", \"UPI\"], [\"B-26008\", 22, 4, 1, \"Clothing\", \"Stole\", \"COD\"], [\"B-26061\", 642, 180, 5, \"Clothing\", \"Saree\", \"COD\"], [\"B-25781\", 767, -353, 5, \"Clothing\", \"Trousers\", \"COD\"], [\"B-25999\", 770, 323, 3, \"Electronics\", \"Accessories\", \"COD\"], [\"B-25783\", 21, -17, 3, \"Clothing\", \"Shirt\", \"COD\"], [\"B-25800\", 21, -6, 3, \"Clothing\", \"Leggings\", \"COD\"], [\"B-26093\", 492, 187, 2, \"Electronics\", \"Accessories\", \"UPI\"], [\"B-25638\", 816, -96, 3, \"Electronics\", \"Printers\", \"Debit Card\"], [\"B-26026\", 25, 2, 3, \"Clothing\", \"Kurti\", \"Credit Card\"], [\"B-25902\", 802, 120, 7, \"Electronics\", \"Accessories\", \"COD\"], [\"B-25968\", 811, 154, 7, \"Electronics\", \"Accessories\", \"UPI\"], [\"B-26099\", 835, 267, 5, \"Electronics\", \"Phones\", \"Debit Card\"], [\"B-25699\", 21, -5, 1, \"Electronics\", \"Accessories\", \"COD\"], [\"B-26076\", 450, -190, 4, \"Furniture\", \"Bookcases\", \"COD\"], [\"B-25793\", 24, -1, 4, \"Clothing\", \"Skirt\", \"Credit Card\"], [\"B-25671\", 832, 0, 3, \"Clothing\", \"Trousers\", \"UPI\"], [\"B-26040\", 833, 93, 3, \"Clothing\", \"Trousers\", \"UPI\"], [\"B-26059\", 20, 6, 1, \"Clothing\", \"T-shirt\", \"COD\"], [\"B-25725\", 23, -5, 7, \"Clothing\", \"Hankerchief\", \"Credit Card\"], [\"B-25855\", 550, -242, 5, \"Furniture\", \"Furnishings\", \"UPI\"], [\"B-25738\", 148, -91, 2, \"Electronics\", \"Phones\", \"COD\"], [\"B-25899\", 846, 9, 2, \"Furniture\", \"Chairs\", \"Debit Card\"], [\"B-25608\", 856, 385, 6, \"Electronics\", \"Printers\", \"COD\"], [\"B-25904\", 871, 131, 2, \"Furniture\", \"Bookcases\", \"UPI\"], [\"B-26056\", 19, -18, 4, \"Clothing\", \"Kurti\", \"COD\"], [\"B-25669\", 610, -66, 2, \"Furniture\", \"Tables\", \"COD\"], [\"B-25638\", 880, 97, 8, \"Furniture\", \"Furnishings\", \"Debit Card\"], [\"B-25953\", 22, -8, 4, \"Clothing\", \"Hankerchief\", \"Credit Card\"], [\"B-25841\", 22, 11, 2, \"Clothing\", \"Skirt\", \"Credit Card\"], [\"B-26071\", 21, 4, 3, \"Clothing\", \"Hankerchief\", \"Credit Card\"], [\"B-25793\", 18, 1, 3, \"Clothing\", \"Hankerchief\", \"COD\"], [\"B-25813\", 911, 202, 7, \"Furniture\", \"Chairs\", \"COD\"], [\"B-26010\", 18, 2, 3, \"Clothing\", \"Hankerchief\", \"COD\"], [\"B-25825\", 911, 355, 5, \"Electronics\", \"Phones\", \"Debit Card\"], [\"B-25630\", 143, -129, 2, \"Electronics\", \"Phones\", \"COD\"], [\"B-25986\", 918, 22, 9, \"Electronics\", \"Electronic Games\", \"COD\"], [\"B-25650\", 925, -447, 5, \"Electronics\", \"Electronic Games\", \"COD\"], [\"B-26078\", 17, 8, 2, \"Clothing\", \"Skirt\", \"COD\"], [\"B-25890\", 465, 207, 9, \"Clothing\", \"Saree\", \"COD\"], [\"B-25691\", 17, -9, 3, \"Clothing\", \"Stole\", \"COD\"], [\"B-25952\", 935, 114, 4, \"Electronics\", \"Electronic Games\", \"UPI\"], [\"B-25651\", 16, -10, 2, \"Clothing\", \"T-shirt\", \"COD\"], [\"B-25955\", 954, 95, 3, \"Electronics\", \"Printers\", \"UPI\"], [\"B-25898\", 915, -99, 3, \"Furniture\", \"Tables\", \"Debit Card\"], [\"B-25838\", 955, 305, 3, \"Electronics\", \"Printers\", \"Debit Card\"], [\"B-25797\", 976, 293, 4, \"Electronics\", \"Accessories\", \"COD\"], [\"B-25738\", 1069, 0, 6, \"Clothing\", \"Saree\", \"EMI\"], [\"B-25661\", 19, -15, 3, \"Clothing\", \"Hankerchief\", \"Credit Card\"], [\"B-25997\", 16, 6, 3, \"Clothing\", \"Hankerchief\", \"COD\"], [\"B-25667\", 1030, 206, 8, \"Electronics\", \"Printers\", \"UPI\"], [\"B-25753\", 620, 82, 6, \"Electronics\", \"Accessories\", \"COD\"], [\"B-25848\", 16, 8, 2, \"Clothing\", \"Hankerchief\", \"COD\"], [\"B-26097\", 19, 8, 2, \"Clothing\", \"Hankerchief\", \"Credit Card\"], [\"B-25633\", 249, -130, 4, \"Electronics\", \"Phones\", \"UPI\"], [\"B-25807\", 16, 6, 1, \"Clothing\", \"Stole\", \"COD\"], [\"B-25752\", 1361, 197, 9, \"Furniture\", \"Bookcases\", \"COD\"], [\"B-26052\", 15, 1, 1, \"Clothing\", \"Shirt\", \"COD\"], [\"B-25610\", 1076, -38, 4, \"Electronics\", \"Printers\", \"COD\"], [\"B-25888\", 18, 2, 3, \"Clothing\", \"Hankerchief\", \"Credit Card\"], [\"B-25937\", 1101, 352, 3, \"Furniture\", \"Bookcases\", \"UPI\"], [\"B-25828\", 15, 2, 1, \"Clothing\", \"Leggings\", \"COD\"], [\"B-26048\", 1104, 209, 4, \"Clothing\", \"Trousers\", \"UPI\"], [\"B-25670\", 14, 2, 1, \"Clothing\", \"Hankerchief\", \"COD\"], [\"B-25757\", 14, 5, 1, \"Clothing\", \"Hankerchief\", \"COD\"], [\"B-25751\", 14, -3, 2, \"Clothing\", \"Leggings\", \"COD\"], [\"B-25687\", 14, -1, 4, \"Clothing\", \"Kurti\", \"COD\"], [\"B-25710\", 13, -8, 1, \"Clothing\", \"T-shirt\", \"COD\"], [\"B-25656\", 13, -1, 3, \"Clothing\", \"Hankerchief\", \"COD\"], [\"B-25601\", 1275, 1148, 7, \"Furniture\", \"Bookcases\", \"EMI\"], [\"B-26053\", 17, 1, 2, \"Clothing\", \"Skirt\", \"Credit Card\"], [\"B-26001\", 13, 0, 2, \"Clothing\", \"Hankerchief\", \"COD\"], [\"B-25964\", 1270, 546, 11, \"Electronics\", \"Electronic Games\", \"EMI\"], [\"B-26062\", 13, -2, 1, \"Clothing\", \"Stole\", \"COD\"], [\"B-25982\", 13, 3, 1, \"Clothing\", \"Leggings\", \"COD\"], [\"B-25864\", 17, 5, 1, \"Clothing\", \"Hankerchief\", \"UPI\"], [\"B-25693\", 13, -13, 2, \"Clothing\", \"Skirt\", \"COD\"], [\"B-25802\", 13, -9, 2, \"Clothing\", \"Skirt\", \"COD\"], [\"B-25676\", 1263, -56, 5, \"Clothing\", \"Trousers\", \"EMI\"], [\"B-25639\", 1629, -153, 3, \"Electronics\", \"Phones\", \"COD\"], [\"B-25757\", 17, 7, 3, \"Clothing\", \"Hankerchief\", \"UPI\"], [\"B-26003\", 17, 2, 2, \"Clothing\", \"Skirt\", \"UPI\"], [\"B-26055\", 1250, -12, 2, \"Electronics\", \"Printers\", \"EMI\"], [\"B-25786\", 17, -11, 3, \"Clothing\", \"Skirt\", \"UPI\"], [\"B-25919\", 977, -244, 7, \"Electronics\", \"Phones\", \"COD\"], [\"B-25894\", 1246, 62, 3, \"Furniture\", \"Bookcases\", \"EMI\"], [\"B-25979\", 12, 1, 2, \"Clothing\", \"Hankerchief\", \"COD\"], [\"B-25651\", 11, -4, 2, \"Clothing\", \"Skirt\", \"COD\"], [\"B-25653\", 1327, 318, 8, \"Furniture\", \"Chairs\", \"EMI\"], [\"B-25855\", 1319, 567, 5, \"Electronics\", \"Printers\", \"COD\"], [\"B-25793\", 1402, 109, 11, \"Clothing\", \"Saree\", \"EMI\"], [\"B-26073\", 1514, 742, 4, \"Electronics\", \"Printers\", \"EMI\"], [\"B-25881\", 1351, 111, 6, \"Electronics\", \"Electronic Games\", \"COD\"], [\"B-25603\", 1355, -60, 5, \"Clothing\", \"Trousers\", \"COD\"], [\"B-25851\", 10, 2, 2, \"Clothing\", \"Hankerchief\", \"COD\"], [\"B-25883\", 10, -2, 2, \"Clothing\", \"Leggings\", \"COD\"], [\"B-25768\", 1582, -443, 6, \"Clothing\", \"Trousers\", \"EMI\"], [\"B-25953\", 1218, 352, 9, \"Furniture\", \"Bookcases\", \"EMI\"], [\"B-25755\", 321, 315, 5, \"Clothing\", \"Saree\", \"UPI\"], [\"B-26057\", 736, 346, 5, \"Electronics\", \"Printers\", \"COD\"], [\"B-26055\", 1218, -420, 8, \"Furniture\", \"Bookcases\", \"COD\"], [\"B-25855\", 1027, 441, 8, \"Clothing\", \"Saree\", \"COD\"], [\"B-25989\", 10, 5, 1, \"Clothing\", \"Stole\", \"COD\"], [\"B-26099\", 2366, 552, 5, \"Clothing\", \"Trousers\", \"UPI\"], [\"B-25652\", 9, -6, 2, \"Clothing\", \"Hankerchief\", \"COD\"], [\"B-25723\", 16, -12, 2, \"Clothing\", \"Stole\", \"UPI\"], [\"B-26099\", 9, 3, 1, \"Clothing\", \"Skirt\", \"COD\"], [\"B-25629\", 1560, 421, 3, \"Clothing\", \"Trousers\", \"COD\"], [\"B-25877\", 1137, 568, 2, \"Clothing\", \"Trousers\", \"EMI\"], [\"B-25767\", 9, -9, 2, \"Clothing\", \"Kurti\", \"COD\"], [\"B-25735\", 15, -7, 1, \"Clothing\", \"Hankerchief\", \"UPI\"], [\"B-26097\", 14, 5, 1, \"Clothing\", \"Hankerchief\", \"UPI\"], [\"B-26070\", 14, 7, 2, \"Clothing\", \"Hankerchief\", \"UPI\"], [\"B-25752\", 8, -2, 2, \"Clothing\", \"Hankerchief\", \"COD\"], [\"B-25656\", 1389, 680, 7, \"Clothing\", \"Saree\", \"COD\"], [\"B-25748\", 8, -1, 2, \"Clothing\", \"Leggings\", \"COD\"], [\"B-25758\", 8, -2, 1, \"Clothing\", \"Stole\", \"COD\"], [\"B-25950\", 13, 4, 1, \"Clothing\", \"Leggings\", \"UPI\"], [\"B-25707\", 8, -6, 1, \"Clothing\", \"Stole\", \"COD\"], [\"B-25909\", 12, 2, 2, \"Clothing\", \"Skirt\", \"Credit Card\"], [\"B-25955\", 1716, 309, 7, \"Electronics\", \"Accessories\", \"COD\"], [\"B-26023\", 1117, 447, 10, \"Furniture\", \"Bookcases\", \"EMI\"], [\"B-25655\", 9, -6, 2, \"Clothing\", \"Skirt\", \"Credit Card\"], [\"B-25686\", 332, 503, 3, \"Electronics\", \"Printers\", \"COD\"], [\"B-25655\", 7, -4, 3, \"Clothing\", \"Hankerchief\", \"COD\"], [\"B-25601\", 8, -2, 3, \"Clothing\", \"Hankerchief\", \"Credit Card\"], [\"B-25862\", 2061, 701, 5, \"Furniture\", \"Bookcases\", \"UPI\"], [\"B-25626\", 1103, 276, 3, \"Furniture\", \"Chairs\", \"EMI\"], [\"B-25823\", 2103, 322, 8, \"Electronics\", \"Electronic Games\", \"UPI\"], [\"B-25881\", 2115, 23, 5, \"Furniture\", \"Chairs\", \"COD\"], [\"B-25910\", 850, -289, 5, \"Electronics\", \"Electronic Games\", \"COD\"], [\"B-25830\", 1063, 64, 7, \"Electronics\", \"Phones\", \"EMI\"], [\"B-25978\", 1063, -175, 4, \"Electronics\", \"Electronic Games\", \"EMI\"], [\"B-25997\", 2292, 127, 7, \"Furniture\", \"Bookcases\", \"COD\"], [\"B-25661\", 7, -1, 2, \"Clothing\", \"Hankerchief\", \"Credit Card\"], [\"B-25969\", 2452, 191, 7, \"Furniture\", \"Bookcases\", \"UPI\"], [\"B-25858\", 2457, 665, 11, \"Electronics\", \"Electronic Games\", \"EMI\"], [\"B-25697\", 4, -3, 1, \"Clothing\", \"Skirt\", \"Credit Card\"], [\"B-25798\", 2830, -1981, 13, \"Furniture\", \"Bookcases\", \"EMI\"], [\"B-25873\", 7, 1, 1, \"Clothing\", \"Hankerchief\", \"COD\"], [\"B-25740\", 7, 0, 2, \"Clothing\", \"Skirt\", \"COD\"], [\"B-25700\", 7, -3, 2, \"Clothing\", \"Hankerchief\", \"COD\"], [\"B-25757\", 3151, -35, 7, \"Clothing\", \"Trousers\", \"EMI\"], [\"B-25973\", 4141, 1698, 13, \"Electronics\", \"Printers\", \"COD\"], [\"B-25698\", 7, -2, 1, \"Clothing\", \"Hankerchief\", \"COD\"], [\"B-25993\", 4363, 305, 5, \"Furniture\", \"Tables\", \"EMI\"]];\n",
       "\n",
       "        // Define the dt_args\n",
       "        let dt_args = {\"layout\": {\"topStart\": \"pageLength\", \"topEnd\": \"search\", \"bottomStart\": \"info\", \"bottomEnd\": \"paging\"}, \"order\": [], \"warn_on_selected_rows_not_rendered\": true, \"filtered_row_count\": 330, \"fnInfoCallback\": function (oSettings, iStart, iEnd, iMax, iTotal, sPre) { return sPre + ' (<a href=\"https://mwouts.github.io/itables/downsampling.html\">downsampled</a> from 1,500x7 to 1,170x7 as maxBytes=64KB)'; }};\n",
       "        dt_args[\"data\"] = data;\n",
       "\n",
       "        \n",
       "        new DataTable(table, dt_args);\n",
       "    });\n",
       "</script>\n"
      ],
      "text/plain": [
       "<IPython.core.display.HTML object>"
      ]
     },
     "metadata": {},
     "output_type": "display_data"
    }
   ],
   "source": [
    "#read the Details dataset\n",
    "from itables import show\n",
    "data = pd.read_csv(\"Details.csv\")\n",
    "show(data)"
   ]
  },
  {
   "cell_type": "code",
   "execution_count": 187,
   "id": "3ad002f7",
   "metadata": {},
   "outputs": [
    {
     "data": {
      "image/png": "[encoded data removed]",
      "text/plain": [
       "<Figure size 640x480 with 1 Axes>"
      ]
     },
     "metadata": {},
     "output_type": "display_data"
    }
   ],
   "source": [
    "sns.regplot(x=data[\"Amount\"],y=data[\"Profit\"],data=data)\n",
    "plt.tight_layout() \n",
    "plt.show()"
   ]
  },
  {
   "cell_type": "markdown",
   "id": "2915d93e",
   "metadata": {},
   "source": [
    "- **Data summary**"
   ]
  },
  {
   "cell_type": "code",
   "execution_count": 188,
   "id": "1d0f068b",
   "metadata": {},
   "outputs": [
    {
     "data": {
      "text/html": [
       "<pre style=\"white-space:pre;overflow-x:auto;line-height:normal;font-family:Menlo,'DejaVu Sans Mono',consolas,'Courier New',monospace\">╭──────────────────────────────────────────────── skimpy summary ─────────────────────────────────────────────────╮\n",
       "│ <span style=\"font-style: italic\">         Data Summary         </span> <span style=\"font-style: italic\">      Data Types       </span>                                                          │\n",
       "│ ┏━━━━━━━━━━━━━━━━━━━┳━━━━━━━━┓ ┏━━━━━━━━━━━━━┳━━━━━━━┓                                                          │\n",
       "│ ┃<span style=\"color: #008080; text-decoration-color: #008080; font-weight: bold\"> Dataframe         </span>┃<span style=\"color: #008080; text-decoration-color: #008080; font-weight: bold\"> Values </span>┃ ┃<span style=\"color: #008080; text-decoration-color: #008080; font-weight: bold\"> Column Type </span>┃<span style=\"color: #008080; text-decoration-color: #008080; font-weight: bold\"> Count </span>┃                                                          │\n",
       "│ ┡━━━━━━━━━━━━━━━━━━━╇━━━━━━━━┩ ┡━━━━━━━━━━━━━╇━━━━━━━┩                                                          │\n",
       "│ │ Number of rows    │ 1500   │ │ string      │ 4     │                                                          │\n",
       "│ │ Number of columns │ 7      │ │ int64       │ 3     │                                                          │\n",
       "│ └───────────────────┴────────┘ └─────────────┴───────┘                                                          │\n",
       "│ <span style=\"font-style: italic\">                                                    number                                                    </span>  │\n",
       "│ ┏━━━━━━━━━━━━━━┳━━━━━━┳━━━━━━━━┳━━━━━━━━━━┳━━━━━━━━━┳━━━━━━━━━┳━━━━━━━━━┳━━━━━━━┳━━━━━━━━━┳━━━━━━━━┳━━━━━━━━━┓  │\n",
       "│ ┃<span style=\"font-weight: bold\"> column       </span>┃<span style=\"font-weight: bold\"> NA   </span>┃<span style=\"font-weight: bold\"> NA %   </span>┃<span style=\"font-weight: bold\"> mean     </span>┃<span style=\"font-weight: bold\"> sd      </span>┃<span style=\"font-weight: bold\"> p0      </span>┃<span style=\"font-weight: bold\"> p25     </span>┃<span style=\"font-weight: bold\"> p50   </span>┃<span style=\"font-weight: bold\"> p75     </span>┃<span style=\"font-weight: bold\"> p100   </span>┃<span style=\"font-weight: bold\"> hist    </span>┃  │\n",
       "│ ┡━━━━━━━━━━━━━━╇━━━━━━╇━━━━━━━━╇━━━━━━━━━━╇━━━━━━━━━╇━━━━━━━━━╇━━━━━━━━━╇━━━━━━━╇━━━━━━━━━╇━━━━━━━━╇━━━━━━━━━┩  │\n",
       "│ │ <span style=\"color: #af87ff; text-decoration-color: #af87ff\">Amount      </span> │ <span style=\"color: #008080; text-decoration-color: #008080\">   0</span> │ <span style=\"color: #008080; text-decoration-color: #008080\">     0</span> │ <span style=\"color: #008080; text-decoration-color: #008080\">   291.8</span> │ <span style=\"color: #008080; text-decoration-color: #008080\">  461.9</span> │ <span style=\"color: #008080; text-decoration-color: #008080\">      4</span> │ <span style=\"color: #008080; text-decoration-color: #008080\">  47.75</span> │ <span style=\"color: #008080; text-decoration-color: #008080\">  122</span> │ <span style=\"color: #008080; text-decoration-color: #008080\">  326.2</span> │ <span style=\"color: #008080; text-decoration-color: #008080\">  5729</span> │ <span style=\"color: #008000; text-decoration-color: #008000\">   ▇   </span> │  │\n",
       "│ │ <span style=\"color: #af87ff; text-decoration-color: #af87ff\">Profit      </span> │ <span style=\"color: #008080; text-decoration-color: #008080\">   0</span> │ <span style=\"color: #008080; text-decoration-color: #008080\">     0</span> │ <span style=\"color: #008080; text-decoration-color: #008080\">   24.64</span> │ <span style=\"color: #008080; text-decoration-color: #008080\">  168.6</span> │ <span style=\"color: #008080; text-decoration-color: #008080\">  -1981</span> │ <span style=\"color: #008080; text-decoration-color: #008080\">    -12</span> │ <span style=\"color: #008080; text-decoration-color: #008080\">    8</span> │ <span style=\"color: #008080; text-decoration-color: #008080\">     38</span> │ <span style=\"color: #008080; text-decoration-color: #008080\">  1864</span> │ <span style=\"color: #008000; text-decoration-color: #008000\">   ▁▇  </span> │  │\n",
       "│ │ <span style=\"color: #af87ff; text-decoration-color: #af87ff\">Quantity    </span> │ <span style=\"color: #008080; text-decoration-color: #008080\">   0</span> │ <span style=\"color: #008080; text-decoration-color: #008080\">     0</span> │ <span style=\"color: #008080; text-decoration-color: #008080\">   3.743</span> │ <span style=\"color: #008080; text-decoration-color: #008080\">  2.185</span> │ <span style=\"color: #008080; text-decoration-color: #008080\">      1</span> │ <span style=\"color: #008080; text-decoration-color: #008080\">      2</span> │ <span style=\"color: #008080; text-decoration-color: #008080\">    3</span> │ <span style=\"color: #008080; text-decoration-color: #008080\">      5</span> │ <span style=\"color: #008080; text-decoration-color: #008080\">    14</span> │ <span style=\"color: #008000; text-decoration-color: #008000\"> ▇▃▂▁  </span> │  │\n",
       "│ └──────────────┴──────┴────────┴──────────┴─────────┴─────────┴─────────┴───────┴─────────┴────────┴─────────┘  │\n",
       "│ <span style=\"font-style: italic\">                                                    string                                                    </span>  │\n",
       "│ ┏━━━━━━━━━━━┳━━━━┳━━━━━━┳━━━━━━━━━━┳━━━━━━━━━━━┳━━━━━━━━━━━┳━━━━━━━━━━━┳━━━━━━━━━━━━┳━━━━━━━━━━━┳━━━━━━━━━━━━┓  │\n",
       "│ ┃<span style=\"font-weight: bold\">           </span>┃<span style=\"font-weight: bold\">    </span>┃<span style=\"font-weight: bold\">      </span>┃<span style=\"font-weight: bold\">          </span>┃<span style=\"font-weight: bold\">           </span>┃<span style=\"font-weight: bold\">           </span>┃<span style=\"font-weight: bold\">           </span>┃<span style=\"font-weight: bold\"> chars per  </span>┃<span style=\"font-weight: bold\"> words per </span>┃<span style=\"font-weight: bold\"> total      </span>┃  │\n",
       "│ ┃<span style=\"font-weight: bold\"> column    </span>┃<span style=\"font-weight: bold\"> NA </span>┃<span style=\"font-weight: bold\"> NA % </span>┃<span style=\"font-weight: bold\"> shortest </span>┃<span style=\"font-weight: bold\"> longest   </span>┃<span style=\"font-weight: bold\"> min       </span>┃<span style=\"font-weight: bold\"> max       </span>┃<span style=\"font-weight: bold\"> row        </span>┃<span style=\"font-weight: bold\"> row       </span>┃<span style=\"font-weight: bold\"> words      </span>┃  │\n",
       "│ ┡━━━━━━━━━━━╇━━━━╇━━━━━━╇━━━━━━━━━━╇━━━━━━━━━━━╇━━━━━━━━━━━╇━━━━━━━━━━━╇━━━━━━━━━━━━╇━━━━━━━━━━━╇━━━━━━━━━━━━┩  │\n",
       "│ │ <span style=\"color: #af87ff; text-decoration-color: #af87ff\">Order ID </span> │ <span style=\"color: #008080; text-decoration-color: #008080\"> 0</span> │ <span style=\"color: #008080; text-decoration-color: #008080\">   0</span> │ <span style=\"color: #af87ff; text-decoration-color: #af87ff\">B-25681 </span> │ <span style=\"color: #af87ff; text-decoration-color: #af87ff\">B-25681  </span> │ <span style=\"color: #af87ff; text-decoration-color: #af87ff\">B-25601  </span> │ <span style=\"color: #af87ff; text-decoration-color: #af87ff\">B-26100  </span> │ <span style=\"color: #008080; text-decoration-color: #008080\">         7</span> │ <span style=\"color: #008080; text-decoration-color: #008080\">        1</span> │ <span style=\"color: #008080; text-decoration-color: #008080\">      1500</span> │  │\n",
       "│ │ <span style=\"color: #af87ff; text-decoration-color: #af87ff\">Category </span> │ <span style=\"color: #008080; text-decoration-color: #008080\"> 0</span> │ <span style=\"color: #008080; text-decoration-color: #008080\">   0</span> │ <span style=\"color: #af87ff; text-decoration-color: #af87ff\">Clothing</span> │ <span style=\"color: #af87ff; text-decoration-color: #af87ff\">Electroni</span> │ <span style=\"color: #af87ff; text-decoration-color: #af87ff\">Clothing </span> │ <span style=\"color: #af87ff; text-decoration-color: #af87ff\">Furniture</span> │ <span style=\"color: #008080; text-decoration-color: #008080\">      8.78</span> │ <span style=\"color: #008080; text-decoration-color: #008080\">        1</span> │ <span style=\"color: #008080; text-decoration-color: #008080\">      1500</span> │  │\n",
       "│ │           │    │      │          │ <span style=\"color: #af87ff; text-decoration-color: #af87ff\">cs       </span> │           │           │            │           │            │  │\n",
       "│ │ <span style=\"color: #af87ff; text-decoration-color: #af87ff\">Sub-Categ</span> │ <span style=\"color: #008080; text-decoration-color: #008080\"> 0</span> │ <span style=\"color: #008080; text-decoration-color: #008080\">   0</span> │ <span style=\"color: #af87ff; text-decoration-color: #af87ff\">Saree   </span> │ <span style=\"color: #af87ff; text-decoration-color: #af87ff\">Electroni</span> │ <span style=\"color: #af87ff; text-decoration-color: #af87ff\">Accessori</span> │ <span style=\"color: #af87ff; text-decoration-color: #af87ff\">Trousers </span> │ <span style=\"color: #008080; text-decoration-color: #008080\">      7.71</span> │ <span style=\"color: #008080; text-decoration-color: #008080\">      1.1</span> │ <span style=\"color: #008080; text-decoration-color: #008080\">      1579</span> │  │\n",
       "│ │ <span style=\"color: #af87ff; text-decoration-color: #af87ff\">ory      </span> │    │      │          │ <span style=\"color: #af87ff; text-decoration-color: #af87ff\">c Games  </span> │ <span style=\"color: #af87ff; text-decoration-color: #af87ff\">es       </span> │           │            │           │            │  │\n",
       "│ │ <span style=\"color: #af87ff; text-decoration-color: #af87ff\">PaymentMo</span> │ <span style=\"color: #008080; text-decoration-color: #008080\"> 0</span> │ <span style=\"color: #008080; text-decoration-color: #008080\">   0</span> │ <span style=\"color: #af87ff; text-decoration-color: #af87ff\">COD     </span> │ <span style=\"color: #af87ff; text-decoration-color: #af87ff\">Credit   </span> │ <span style=\"color: #af87ff; text-decoration-color: #af87ff\">COD      </span> │ <span style=\"color: #af87ff; text-decoration-color: #af87ff\">UPI      </span> │ <span style=\"color: #008080; text-decoration-color: #008080\">      4.81</span> │ <span style=\"color: #008080; text-decoration-color: #008080\">      1.2</span> │ <span style=\"color: #008080; text-decoration-color: #008080\">      1865</span> │  │\n",
       "│ │ <span style=\"color: #af87ff; text-decoration-color: #af87ff\">de       </span> │    │      │          │ <span style=\"color: #af87ff; text-decoration-color: #af87ff\">Card     </span> │           │           │            │           │            │  │\n",
       "│ └───────────┴────┴──────┴──────────┴───────────┴───────────┴───────────┴────────────┴───────────┴────────────┘  │\n",
       "╰────────────────────────────────────────────────────── End ──────────────────────────────────────────────────────╯\n",
       "</pre>\n"
      ],
      "text/plain": [
       "╭──────────────────────────────────────────────── skimpy summary ─────────────────────────────────────────────────╮\n",
       "│ \u001b[3m         Data Summary         \u001b[0m \u001b[3m      Data Types       \u001b[0m                                                          │\n",
       "│ ┏━━━━━━━━━━━━━━━━━━━┳━━━━━━━━┓ ┏━━━━━━━━━━━━━┳━━━━━━━┓                                                          │\n",
       "│ ┃\u001b[1;36m \u001b[0m\u001b[1;36mDataframe        \u001b[0m\u001b[1;36m \u001b[0m┃\u001b[1;36m \u001b[0m\u001b[1;36mValues\u001b[0m\u001b[1;36m \u001b[0m┃ ┃\u001b[1;36m \u001b[0m\u001b[1;36mColumn Type\u001b[0m\u001b[1;36m \u001b[0m┃\u001b[1;36m \u001b[0m\u001b[1;36mCount\u001b[0m\u001b[1;36m \u001b[0m┃                                                          │\n",
       "│ ┡━━━━━━━━━━━━━━━━━━━╇━━━━━━━━┩ ┡━━━━━━━━━━━━━╇━━━━━━━┩                                                          │\n",
       "│ │ Number of rows    │ 1500   │ │ string      │ 4     │                                                          │\n",
       "│ │ Number of columns │ 7      │ │ int64       │ 3     │                                                          │\n",
       "│ └───────────────────┴────────┘ └─────────────┴───────┘                                                          │\n",
       "│ \u001b[3m                                                    number                                                    \u001b[0m  │\n",
       "│ ┏━━━━━━━━━━━━━━┳━━━━━━┳━━━━━━━━┳━━━━━━━━━━┳━━━━━━━━━┳━━━━━━━━━┳━━━━━━━━━┳━━━━━━━┳━━━━━━━━━┳━━━━━━━━┳━━━━━━━━━┓  │\n",
       "│ ┃\u001b[1m \u001b[0m\u001b[1mcolumn      \u001b[0m\u001b[1m \u001b[0m┃\u001b[1m \u001b[0m\u001b[1mNA  \u001b[0m\u001b[1m \u001b[0m┃\u001b[1m \u001b[0m\u001b[1mNA %  \u001b[0m\u001b[1m \u001b[0m┃\u001b[1m \u001b[0m\u001b[1mmean    \u001b[0m\u001b[1m \u001b[0m┃\u001b[1m \u001b[0m\u001b[1msd     \u001b[0m\u001b[1m \u001b[0m┃\u001b[1m \u001b[0m\u001b[1mp0     \u001b[0m\u001b[1m \u001b[0m┃\u001b[1m \u001b[0m\u001b[1mp25    \u001b[0m\u001b[1m \u001b[0m┃\u001b[1m \u001b[0m\u001b[1mp50  \u001b[0m\u001b[1m \u001b[0m┃\u001b[1m \u001b[0m\u001b[1mp75    \u001b[0m\u001b[1m \u001b[0m┃\u001b[1m \u001b[0m\u001b[1mp100  \u001b[0m\u001b[1m \u001b[0m┃\u001b[1m \u001b[0m\u001b[1mhist   \u001b[0m\u001b[1m \u001b[0m┃  │\n",
       "│ ┡━━━━━━━━━━━━━━╇━━━━━━╇━━━━━━━━╇━━━━━━━━━━╇━━━━━━━━━╇━━━━━━━━━╇━━━━━━━━━╇━━━━━━━╇━━━━━━━━━╇━━━━━━━━╇━━━━━━━━━┩  │\n",
       "│ │ \u001b[38;5;141mAmount      \u001b[0m │ \u001b[36m   0\u001b[0m │ \u001b[36m     0\u001b[0m │ \u001b[36m   291.8\u001b[0m │ \u001b[36m  461.9\u001b[0m │ \u001b[36m      4\u001b[0m │ \u001b[36m  47.75\u001b[0m │ \u001b[36m  122\u001b[0m │ \u001b[36m  326.2\u001b[0m │ \u001b[36m  5729\u001b[0m │ \u001b[32m   ▇   \u001b[0m │  │\n",
       "│ │ \u001b[38;5;141mProfit      \u001b[0m │ \u001b[36m   0\u001b[0m │ \u001b[36m     0\u001b[0m │ \u001b[36m   24.64\u001b[0m │ \u001b[36m  168.6\u001b[0m │ \u001b[36m  -1981\u001b[0m │ \u001b[36m    -12\u001b[0m │ \u001b[36m    8\u001b[0m │ \u001b[36m     38\u001b[0m │ \u001b[36m  1864\u001b[0m │ \u001b[32m   ▁▇  \u001b[0m │  │\n",
       "│ │ \u001b[38;5;141mQuantity    \u001b[0m │ \u001b[36m   0\u001b[0m │ \u001b[36m     0\u001b[0m │ \u001b[36m   3.743\u001b[0m │ \u001b[36m  2.185\u001b[0m │ \u001b[36m      1\u001b[0m │ \u001b[36m      2\u001b[0m │ \u001b[36m    3\u001b[0m │ \u001b[36m      5\u001b[0m │ \u001b[36m    14\u001b[0m │ \u001b[32m ▇▃▂▁  \u001b[0m │  │\n",
       "│ └──────────────┴──────┴────────┴──────────┴─────────┴─────────┴─────────┴───────┴─────────┴────────┴─────────┘  │\n",
       "│ \u001b[3m                                                    string                                                    \u001b[0m  │\n",
       "│ ┏━━━━━━━━━━━┳━━━━┳━━━━━━┳━━━━━━━━━━┳━━━━━━━━━━━┳━━━━━━━━━━━┳━━━━━━━━━━━┳━━━━━━━━━━━━┳━━━━━━━━━━━┳━━━━━━━━━━━━┓  │\n",
       "│ ┃\u001b[1m           \u001b[0m┃\u001b[1m    \u001b[0m┃\u001b[1m      \u001b[0m┃\u001b[1m          \u001b[0m┃\u001b[1m           \u001b[0m┃\u001b[1m           \u001b[0m┃\u001b[1m           \u001b[0m┃\u001b[1m \u001b[0m\u001b[1mchars per \u001b[0m\u001b[1m \u001b[0m┃\u001b[1m \u001b[0m\u001b[1mwords per\u001b[0m\u001b[1m \u001b[0m┃\u001b[1m \u001b[0m\u001b[1mtotal     \u001b[0m\u001b[1m \u001b[0m┃  │\n",
       "│ ┃\u001b[1m \u001b[0m\u001b[1mcolumn   \u001b[0m\u001b[1m \u001b[0m┃\u001b[1m \u001b[0m\u001b[1mNA\u001b[0m\u001b[1m \u001b[0m┃\u001b[1m \u001b[0m\u001b[1mNA %\u001b[0m\u001b[1m \u001b[0m┃\u001b[1m \u001b[0m\u001b[1mshortest\u001b[0m\u001b[1m \u001b[0m┃\u001b[1m \u001b[0m\u001b[1mlongest  \u001b[0m\u001b[1m \u001b[0m┃\u001b[1m \u001b[0m\u001b[1mmin      \u001b[0m\u001b[1m \u001b[0m┃\u001b[1m \u001b[0m\u001b[1mmax      \u001b[0m\u001b[1m \u001b[0m┃\u001b[1m \u001b[0m\u001b[1mrow       \u001b[0m\u001b[1m \u001b[0m┃\u001b[1m \u001b[0m\u001b[1mrow      \u001b[0m\u001b[1m \u001b[0m┃\u001b[1m \u001b[0m\u001b[1mwords     \u001b[0m\u001b[1m \u001b[0m┃  │\n",
       "│ ┡━━━━━━━━━━━╇━━━━╇━━━━━━╇━━━━━━━━━━╇━━━━━━━━━━━╇━━━━━━━━━━━╇━━━━━━━━━━━╇━━━━━━━━━━━━╇━━━━━━━━━━━╇━━━━━━━━━━━━┩  │\n",
       "│ │ \u001b[38;5;141mOrder ID \u001b[0m │ \u001b[36m 0\u001b[0m │ \u001b[36m   0\u001b[0m │ \u001b[38;5;141mB-25681 \u001b[0m │ \u001b[38;5;141mB-25681  \u001b[0m │ \u001b[38;5;141mB-25601  \u001b[0m │ \u001b[38;5;141mB-26100  \u001b[0m │ \u001b[36m         7\u001b[0m │ \u001b[36m        1\u001b[0m │ \u001b[36m      1500\u001b[0m │  │\n",
       "│ │ \u001b[38;5;141mCategory \u001b[0m │ \u001b[36m 0\u001b[0m │ \u001b[36m   0\u001b[0m │ \u001b[38;5;141mClothing\u001b[0m │ \u001b[38;5;141mElectroni\u001b[0m │ \u001b[38;5;141mClothing \u001b[0m │ \u001b[38;5;141mFurniture\u001b[0m │ \u001b[36m      8.78\u001b[0m │ \u001b[36m        1\u001b[0m │ \u001b[36m      1500\u001b[0m │  │\n",
       "│ │           │    │      │          │ \u001b[38;5;141mcs       \u001b[0m │           │           │            │           │            │  │\n",
       "│ │ \u001b[38;5;141mSub-Categ\u001b[0m │ \u001b[36m 0\u001b[0m │ \u001b[36m   0\u001b[0m │ \u001b[38;5;141mSaree   \u001b[0m │ \u001b[38;5;141mElectroni\u001b[0m │ \u001b[38;5;141mAccessori\u001b[0m │ \u001b[38;5;141mTrousers \u001b[0m │ \u001b[36m      7.71\u001b[0m │ \u001b[36m      1.1\u001b[0m │ \u001b[36m      1579\u001b[0m │  │\n",
       "│ │ \u001b[38;5;141mory      \u001b[0m │    │      │          │ \u001b[38;5;141mc Games  \u001b[0m │ \u001b[38;5;141mes       \u001b[0m │           │            │           │            │  │\n",
       "│ │ \u001b[38;5;141mPaymentMo\u001b[0m │ \u001b[36m 0\u001b[0m │ \u001b[36m   0\u001b[0m │ \u001b[38;5;141mCOD     \u001b[0m │ \u001b[38;5;141mCredit   \u001b[0m │ \u001b[38;5;141mCOD      \u001b[0m │ \u001b[38;5;141mUPI      \u001b[0m │ \u001b[36m      4.81\u001b[0m │ \u001b[36m      1.2\u001b[0m │ \u001b[36m      1865\u001b[0m │  │\n",
       "│ │ \u001b[38;5;141mde       \u001b[0m │    │      │          │ \u001b[38;5;141mCard     \u001b[0m │           │           │            │           │            │  │\n",
       "│ └───────────┴────┴──────┴──────────┴───────────┴───────────┴───────────┴────────────┴───────────┴────────────┘  │\n",
       "╰────────────────────────────────────────────────────── End ──────────────────────────────────────────────────────╯\n"
      ]
     },
     "metadata": {},
     "output_type": "display_data"
    }
   ],
   "source": [
    "# Data summary\n",
    "from skimpy import skim\n",
    "data = pd.read_csv(\"Details.csv\")\n",
    "skim(data)"
   ]
  },
  {
   "cell_type": "code",
   "execution_count": 189,
   "id": "8ff7b3c0",
   "metadata": {},
   "outputs": [
    {
     "data": {
      "text/html": [
       "<table id=\"itables_a4f9eef5_33d8_49d7_8129_2ce3eb6ca08b\" class=\"display nowrap\" data-quarto-disable-processing=\"true\" style=\"table-layout:auto;width:auto;margin:auto;caption-side:bottom\">\n",
       "<thead>\n",
       "    <tr style=\"text-align: right;\">\n",
       "      \n",
       "      <th>Order ID</th>\n",
       "      <th>Amount</th>\n",
       "      <th>Profit</th>\n",
       "      <th>Quantity</th>\n",
       "      <th>Category</th>\n",
       "      <th>Sub-Category</th>\n",
       "      <th>PaymentMode</th>\n",
       "    </tr>\n",
       "  </thead><tbody><tr>\n",
       "<td style=\"vertical-align:middle; text-align:left\">\n",
       "<a href=https://mwouts.github.io/itables/><svg class=\"main-svg\" xmlns=\"http://www.w3.org/2000/svg\" xmlns:xlink=\"http://www.w3.org/1999/xlink\"\n",
       "width=\"64\" viewBox=\"0 0 500 400\" style=\"font-family: 'Droid Sans', sans-serif;\">\n",
       "    <g style=\"fill:#d9d7fc\">\n",
       "        <path d=\"M100,400H500V357H100Z\" />\n",
       "        <path d=\"M100,300H400V257H100Z\" />\n",
       "        <path d=\"M0,200H400V157H0Z\" />\n",
       "        <path d=\"M100,100H500V57H100Z\" />\n",
       "        <path d=\"M100,350H500V307H100Z\" />\n",
       "        <path d=\"M100,250H400V207H100Z\" />\n",
       "        <path d=\"M0,150H400V107H0Z\" />\n",
       "        <path d=\"M100,50H500V7H100Z\" />\n",
       "    </g>\n",
       "    <g style=\"fill:#1a1366;stroke:#1a1366;\">\n",
       "   <rect x=\"100\" y=\"7\" width=\"400\" height=\"43\">\n",
       "    <animate\n",
       "      attributeName=\"width\"\n",
       "      values=\"0;400;0\"\n",
       "      dur=\"5s\"\n",
       "      repeatCount=\"indefinite\" />\n",
       "      <animate\n",
       "      attributeName=\"x\"\n",
       "      values=\"100;100;500\"\n",
       "      dur=\"5s\"\n",
       "      repeatCount=\"indefinite\" />\n",
       "  </rect>\n",
       "        <rect x=\"0\" y=\"107\" width=\"400\" height=\"43\">\n",
       "    <animate\n",
       "      attributeName=\"width\"\n",
       "      values=\"0;400;0\"\n",
       "      dur=\"3.5s\"\n",
       "      repeatCount=\"indefinite\" />\n",
       "    <animate\n",
       "      attributeName=\"x\"\n",
       "      values=\"0;0;400\"\n",
       "      dur=\"3.5s\"\n",
       "      repeatCount=\"indefinite\" />\n",
       "  </rect>\n",
       "        <rect x=\"100\" y=\"207\" width=\"300\" height=\"43\">\n",
       "    <animate\n",
       "      attributeName=\"width\"\n",
       "      values=\"0;300;0\"\n",
       "      dur=\"3s\"\n",
       "      repeatCount=\"indefinite\" />\n",
       "    <animate\n",
       "      attributeName=\"x\"\n",
       "      values=\"100;100;400\"\n",
       "      dur=\"3s\"\n",
       "      repeatCount=\"indefinite\" />\n",
       "  </rect>\n",
       "        <rect x=\"100\" y=\"307\" width=\"400\" height=\"43\">\n",
       "    <animate\n",
       "      attributeName=\"width\"\n",
       "      values=\"0;400;0\"\n",
       "      dur=\"4s\"\n",
       "      repeatCount=\"indefinite\" />\n",
       "      <animate\n",
       "      attributeName=\"x\"\n",
       "      values=\"100;100;500\"\n",
       "      dur=\"4s\"\n",
       "      repeatCount=\"indefinite\" />\n",
       "  </rect>\n",
       "        <g style=\"fill:transparent;stroke-width:8; stroke-linejoin:round\" rx=\"5\">\n",
       "            <g transform=\"translate(45 50) rotate(-45)\">\n",
       "                <circle r=\"33\" cx=\"0\" cy=\"0\" />\n",
       "                <rect x=\"-8\" y=\"32\" width=\"16\" height=\"30\" />\n",
       "            </g>\n",
       "\n",
       "            <g transform=\"translate(450 152)\">\n",
       "                <polyline points=\"-15,-20 -35,-20 -35,40 25,40 25,20\" />\n",
       "                <rect x=\"-15\" y=\"-40\" width=\"60\" height=\"60\" />\n",
       "            </g>\n",
       "\n",
       "            <g transform=\"translate(50 352)\">\n",
       "                <polygon points=\"-35,-5 0,-40 35,-5\" />\n",
       "                <polygon points=\"-35,10 0,45 35,10\" />\n",
       "            </g>\n",
       "\n",
       "            <g transform=\"translate(75 250)\">\n",
       "                <polyline points=\"-30,30 -60,0 -30,-30\" />\n",
       "                <polyline points=\"0,30 -30,0 0,-30\" />\n",
       "            </g>\n",
       "\n",
       "            <g transform=\"translate(425 250) rotate(180)\">\n",
       "                <polyline points=\"-30,30 -60,0 -30,-30\" />\n",
       "                <polyline points=\"0,30 -30,0 0,-30\" />\n",
       "            </g>\n",
       "        </g>\n",
       "    </g>\n",
       "</svg>\n",
       "</a>\n",
       "Loading ITables v2.3.0 from the internet...\n",
       "(need <a href=https://mwouts.github.io/itables/troubleshooting.html>help</a>?)</td>\n",
       "</tr></tbody>\n",
       "</table>\n",
       "<link href=\"https://www.unpkg.com/dt_for_itables@2.2.0/dt_bundle.css\" rel=\"stylesheet\">\n",
       "<script type=\"module\">\n",
       "    import {DataTable, jQuery as $} from 'https://www.unpkg.com/dt_for_itables@2.2.0/dt_bundle.js';\n",
       "\n",
       "    document.querySelectorAll(\"#itables_a4f9eef5_33d8_49d7_8129_2ce3eb6ca08b:not(.dataTable)\").forEach(table => {\n",
       "        if (!(table instanceof HTMLTableElement))\n",
       "            return;\n",
       "\n",
       "        // Define the table data\n",
       "        const data = [[\"B-25681\", 1096, 658, 7, \"Electronics\", \"Electronic Games\", \"COD\"], [\"B-26055\", 5729, 64, 14, \"Furniture\", \"Chairs\", \"EMI\"], [\"B-25955\", 2927, 146, 8, \"Furniture\", \"Bookcases\", \"EMI\"], [\"B-26093\", 2847, 712, 8, \"Electronics\", \"Printers\", \"Credit Card\"], [\"B-25602\", 2617, 1151, 4, \"Electronics\", \"Phones\", \"Credit Card\"]];\n",
       "\n",
       "        // Define the dt_args\n",
       "        let dt_args = {\"layout\": {\"topStart\": null, \"topEnd\": null, \"bottomStart\": null, \"bottomEnd\": null}, \"order\": [], \"warn_on_selected_rows_not_rendered\": true};\n",
       "        dt_args[\"data\"] = data;\n",
       "\n",
       "        \n",
       "        new DataTable(table, dt_args);\n",
       "    });\n",
       "</script>\n"
      ],
      "text/plain": [
       "<IPython.core.display.HTML object>"
      ]
     },
     "metadata": {},
     "output_type": "display_data"
    }
   ],
   "source": [
    "show(data.head())"
   ]
  },
  {
   "cell_type": "markdown",
   "id": "5e244d4b",
   "metadata": {},
   "source": [
    "- **Which Category  perform better?**"
   ]
  },
  {
   "cell_type": "code",
   "execution_count": 190,
   "id": "7917c8ea",
   "metadata": {},
   "outputs": [
    {
     "data": {
      "text/html": [
       "<table id=\"itables_569ad4a7_c9df_4695_9fba_9a228629add7\" class=\"display nowrap\" data-quarto-disable-processing=\"true\" style=\"table-layout:auto;width:auto;margin:auto;caption-side:bottom\">\n",
       "<thead>\n",
       "    <tr>\n",
       "      <th></th>\n",
       "      <th colspan=\"3\" halign=\"left\">Profit</th>\n",
       "      <th colspan=\"3\" halign=\"left\">Quantity</th>\n",
       "      <th colspan=\"3\" halign=\"left\">Amount</th>\n",
       "    </tr>\n",
       "    <tr>\n",
       "      <th></th>\n",
       "      <th>min</th>\n",
       "      <th>max</th>\n",
       "      <th>sum</th>\n",
       "      <th>min</th>\n",
       "      <th>max</th>\n",
       "      <th>sum</th>\n",
       "      <th>min</th>\n",
       "      <th>max</th>\n",
       "      <th>sum</th>\n",
       "    </tr>\n",
       "    <tr>\n",
       "      <th>Category</th>\n",
       "      <th></th>\n",
       "      <th></th>\n",
       "      <th></th>\n",
       "      <th></th>\n",
       "      <th></th>\n",
       "      <th></th>\n",
       "      <th></th>\n",
       "      <th></th>\n",
       "      <th></th>\n",
       "    </tr>\n",
       "  </thead><tbody><tr>\n",
       "<td style=\"vertical-align:middle; text-align:left\">\n",
       "<a href=https://mwouts.github.io/itables/><svg class=\"main-svg\" xmlns=\"http://www.w3.org/2000/svg\" xmlns:xlink=\"http://www.w3.org/1999/xlink\"\n",
       "width=\"64\" viewBox=\"0 0 500 400\" style=\"font-family: 'Droid Sans', sans-serif;\">\n",
       "    <g style=\"fill:#d9d7fc\">\n",
       "        <path d=\"M100,400H500V357H100Z\" />\n",
       "        <path d=\"M100,300H400V257H100Z\" />\n",
       "        <path d=\"M0,200H400V157H0Z\" />\n",
       "        <path d=\"M100,100H500V57H100Z\" />\n",
       "        <path d=\"M100,350H500V307H100Z\" />\n",
       "        <path d=\"M100,250H400V207H100Z\" />\n",
       "        <path d=\"M0,150H400V107H0Z\" />\n",
       "        <path d=\"M100,50H500V7H100Z\" />\n",
       "    </g>\n",
       "    <g style=\"fill:#1a1366;stroke:#1a1366;\">\n",
       "   <rect x=\"100\" y=\"7\" width=\"400\" height=\"43\">\n",
       "    <animate\n",
       "      attributeName=\"width\"\n",
       "      values=\"0;400;0\"\n",
       "      dur=\"5s\"\n",
       "      repeatCount=\"indefinite\" />\n",
       "      <animate\n",
       "      attributeName=\"x\"\n",
       "      values=\"100;100;500\"\n",
       "      dur=\"5s\"\n",
       "      repeatCount=\"indefinite\" />\n",
       "  </rect>\n",
       "        <rect x=\"0\" y=\"107\" width=\"400\" height=\"43\">\n",
       "    <animate\n",
       "      attributeName=\"width\"\n",
       "      values=\"0;400;0\"\n",
       "      dur=\"3.5s\"\n",
       "      repeatCount=\"indefinite\" />\n",
       "    <animate\n",
       "      attributeName=\"x\"\n",
       "      values=\"0;0;400\"\n",
       "      dur=\"3.5s\"\n",
       "      repeatCount=\"indefinite\" />\n",
       "  </rect>\n",
       "        <rect x=\"100\" y=\"207\" width=\"300\" height=\"43\">\n",
       "    <animate\n",
       "      attributeName=\"width\"\n",
       "      values=\"0;300;0\"\n",
       "      dur=\"3s\"\n",
       "      repeatCount=\"indefinite\" />\n",
       "    <animate\n",
       "      attributeName=\"x\"\n",
       "      values=\"100;100;400\"\n",
       "      dur=\"3s\"\n",
       "      repeatCount=\"indefinite\" />\n",
       "  </rect>\n",
       "        <rect x=\"100\" y=\"307\" width=\"400\" height=\"43\">\n",
       "    <animate\n",
       "      attributeName=\"width\"\n",
       "      values=\"0;400;0\"\n",
       "      dur=\"4s\"\n",
       "      repeatCount=\"indefinite\" />\n",
       "      <animate\n",
       "      attributeName=\"x\"\n",
       "      values=\"100;100;500\"\n",
       "      dur=\"4s\"\n",
       "      repeatCount=\"indefinite\" />\n",
       "  </rect>\n",
       "        <g style=\"fill:transparent;stroke-width:8; stroke-linejoin:round\" rx=\"5\">\n",
       "            <g transform=\"translate(45 50) rotate(-45)\">\n",
       "                <circle r=\"33\" cx=\"0\" cy=\"0\" />\n",
       "                <rect x=\"-8\" y=\"32\" width=\"16\" height=\"30\" />\n",
       "            </g>\n",
       "\n",
       "            <g transform=\"translate(450 152)\">\n",
       "                <polyline points=\"-15,-20 -35,-20 -35,40 25,40 25,20\" />\n",
       "                <rect x=\"-15\" y=\"-40\" width=\"60\" height=\"60\" />\n",
       "            </g>\n",
       "\n",
       "            <g transform=\"translate(50 352)\">\n",
       "                <polygon points=\"-35,-5 0,-40 35,-5\" />\n",
       "                <polygon points=\"-35,10 0,45 35,10\" />\n",
       "            </g>\n",
       "\n",
       "            <g transform=\"translate(75 250)\">\n",
       "                <polyline points=\"-30,30 -60,0 -30,-30\" />\n",
       "                <polyline points=\"0,30 -30,0 0,-30\" />\n",
       "            </g>\n",
       "\n",
       "            <g transform=\"translate(425 250) rotate(180)\">\n",
       "                <polyline points=\"-30,30 -60,0 -30,-30\" />\n",
       "                <polyline points=\"0,30 -30,0 0,-30\" />\n",
       "            </g>\n",
       "        </g>\n",
       "    </g>\n",
       "</svg>\n",
       "</a>\n",
       "Loading ITables v2.3.0 from the internet...\n",
       "(need <a href=https://mwouts.github.io/itables/troubleshooting.html>help</a>?)</td>\n",
       "</tr></tbody>\n",
       "</table>\n",
       "<link href=\"https://www.unpkg.com/dt_for_itables@2.2.0/dt_bundle.css\" rel=\"stylesheet\">\n",
       "<script type=\"module\">\n",
       "    import {DataTable, jQuery as $} from 'https://www.unpkg.com/dt_for_itables@2.2.0/dt_bundle.js';\n",
       "\n",
       "    document.querySelectorAll(\"#itables_569ad4a7_c9df_4695_9fba_9a228629add7:not(.dataTable)\").forEach(table => {\n",
       "        if (!(table instanceof HTMLTableElement))\n",
       "            return;\n",
       "\n",
       "        // Define the table data\n",
       "        const data = [[\"Clothing\", -443, 680, 13325, 1, 14, 3516, 4, 3151, 144323], [\"Electronics\", -916, 1698, 13162, 1, 13, 1154, 20, 4141, 166267], [\"Furniture\", -1981, 1864, 10476, 1, 14, 945, 20, 5729, 127181]];\n",
       "\n",
       "        // Define the dt_args\n",
       "        let dt_args = {\"layout\": {\"topStart\": null, \"topEnd\": null, \"bottomStart\": null, \"bottomEnd\": null}, \"order\": [], \"warn_on_selected_rows_not_rendered\": true};\n",
       "        dt_args[\"data\"] = data;\n",
       "\n",
       "        \n",
       "        new DataTable(table, dt_args);\n",
       "    });\n",
       "</script>\n"
      ],
      "text/plain": [
       "<IPython.core.display.HTML object>"
      ]
     },
     "metadata": {},
     "output_type": "display_data"
    }
   ],
   "source": [
    "\n",
    "category = data.groupby(\"Category\").agg({\n",
    "     \"Profit\":[\"min\",\"max\",\"sum\"],\n",
    "     \"Quantity\":[\"min\",\"max\",\"sum\"],\n",
    "     \"Amount\":[\"min\",\"max\",\"sum\"]})\n",
    "show(category)"
   ]
  },
  {
   "cell_type": "markdown",
   "id": "e325f0c5",
   "metadata": {},
   "source": [
    "- **Which Sub-Category  perform better?**"
   ]
  },
  {
   "cell_type": "code",
   "execution_count": 191,
   "id": "f688163d",
   "metadata": {},
   "outputs": [
    {
     "data": {
      "text/html": [
       "<table id=\"itables_87eb33fd_e2cb_4aef_8527_59c1394790c2\" class=\"display nowrap\" data-quarto-disable-processing=\"true\" style=\"table-layout:auto;width:auto;margin:auto;caption-side:bottom\">\n",
       "<thead>\n",
       "    <tr>\n",
       "      <th></th>\n",
       "      <th colspan=\"3\" halign=\"left\">Profit</th>\n",
       "      <th colspan=\"3\" halign=\"left\">Quantity</th>\n",
       "      <th colspan=\"3\" halign=\"left\">Amount</th>\n",
       "    </tr>\n",
       "    <tr>\n",
       "      <th></th>\n",
       "      <th>min</th>\n",
       "      <th>max</th>\n",
       "      <th>sum</th>\n",
       "      <th>min</th>\n",
       "      <th>max</th>\n",
       "      <th>sum</th>\n",
       "      <th>min</th>\n",
       "      <th>max</th>\n",
       "      <th>sum</th>\n",
       "    </tr>\n",
       "    <tr>\n",
       "      <th>Sub-Category</th>\n",
       "      <th></th>\n",
       "      <th></th>\n",
       "      <th></th>\n",
       "      <th></th>\n",
       "      <th></th>\n",
       "      <th></th>\n",
       "      <th></th>\n",
       "      <th></th>\n",
       "      <th></th>\n",
       "    </tr>\n",
       "  </thead><tbody><tr>\n",
       "<td style=\"vertical-align:middle; text-align:left\">\n",
       "<a href=https://mwouts.github.io/itables/><svg class=\"main-svg\" xmlns=\"http://www.w3.org/2000/svg\" xmlns:xlink=\"http://www.w3.org/1999/xlink\"\n",
       "width=\"64\" viewBox=\"0 0 500 400\" style=\"font-family: 'Droid Sans', sans-serif;\">\n",
       "    <g style=\"fill:#d9d7fc\">\n",
       "        <path d=\"M100,400H500V357H100Z\" />\n",
       "        <path d=\"M100,300H400V257H100Z\" />\n",
       "        <path d=\"M0,200H400V157H0Z\" />\n",
       "        <path d=\"M100,100H500V57H100Z\" />\n",
       "        <path d=\"M100,350H500V307H100Z\" />\n",
       "        <path d=\"M100,250H400V207H100Z\" />\n",
       "        <path d=\"M0,150H400V107H0Z\" />\n",
       "        <path d=\"M100,50H500V7H100Z\" />\n",
       "    </g>\n",
       "    <g style=\"fill:#1a1366;stroke:#1a1366;\">\n",
       "   <rect x=\"100\" y=\"7\" width=\"400\" height=\"43\">\n",
       "    <animate\n",
       "      attributeName=\"width\"\n",
       "      values=\"0;400;0\"\n",
       "      dur=\"5s\"\n",
       "      repeatCount=\"indefinite\" />\n",
       "      <animate\n",
       "      attributeName=\"x\"\n",
       "      values=\"100;100;500\"\n",
       "      dur=\"5s\"\n",
       "      repeatCount=\"indefinite\" />\n",
       "  </rect>\n",
       "        <rect x=\"0\" y=\"107\" width=\"400\" height=\"43\">\n",
       "    <animate\n",
       "      attributeName=\"width\"\n",
       "      values=\"0;400;0\"\n",
       "      dur=\"3.5s\"\n",
       "      repeatCount=\"indefinite\" />\n",
       "    <animate\n",
       "      attributeName=\"x\"\n",
       "      values=\"0;0;400\"\n",
       "      dur=\"3.5s\"\n",
       "      repeatCount=\"indefinite\" />\n",
       "  </rect>\n",
       "        <rect x=\"100\" y=\"207\" width=\"300\" height=\"43\">\n",
       "    <animate\n",
       "      attributeName=\"width\"\n",
       "      values=\"0;300;0\"\n",
       "      dur=\"3s\"\n",
       "      repeatCount=\"indefinite\" />\n",
       "    <animate\n",
       "      attributeName=\"x\"\n",
       "      values=\"100;100;400\"\n",
       "      dur=\"3s\"\n",
       "      repeatCount=\"indefinite\" />\n",
       "  </rect>\n",
       "        <rect x=\"100\" y=\"307\" width=\"400\" height=\"43\">\n",
       "    <animate\n",
       "      attributeName=\"width\"\n",
       "      values=\"0;400;0\"\n",
       "      dur=\"4s\"\n",
       "      repeatCount=\"indefinite\" />\n",
       "      <animate\n",
       "      attributeName=\"x\"\n",
       "      values=\"100;100;500\"\n",
       "      dur=\"4s\"\n",
       "      repeatCount=\"indefinite\" />\n",
       "  </rect>\n",
       "        <g style=\"fill:transparent;stroke-width:8; stroke-linejoin:round\" rx=\"5\">\n",
       "            <g transform=\"translate(45 50) rotate(-45)\">\n",
       "                <circle r=\"33\" cx=\"0\" cy=\"0\" />\n",
       "                <rect x=\"-8\" y=\"32\" width=\"16\" height=\"30\" />\n",
       "            </g>\n",
       "\n",
       "            <g transform=\"translate(450 152)\">\n",
       "                <polyline points=\"-15,-20 -35,-20 -35,40 25,40 25,20\" />\n",
       "                <rect x=\"-15\" y=\"-40\" width=\"60\" height=\"60\" />\n",
       "            </g>\n",
       "\n",
       "            <g transform=\"translate(50 352)\">\n",
       "                <polygon points=\"-35,-5 0,-40 35,-5\" />\n",
       "                <polygon points=\"-35,10 0,45 35,10\" />\n",
       "            </g>\n",
       "\n",
       "            <g transform=\"translate(75 250)\">\n",
       "                <polyline points=\"-30,30 -60,0 -30,-30\" />\n",
       "                <polyline points=\"0,30 -30,0 0,-30\" />\n",
       "            </g>\n",
       "\n",
       "            <g transform=\"translate(425 250) rotate(180)\">\n",
       "                <polyline points=\"-30,30 -60,0 -30,-30\" />\n",
       "                <polyline points=\"0,30 -30,0 0,-30\" />\n",
       "            </g>\n",
       "        </g>\n",
       "    </g>\n",
       "</svg>\n",
       "</a>\n",
       "Loading ITables v2.3.0 from the internet...\n",
       "(need <a href=https://mwouts.github.io/itables/troubleshooting.html>help</a>?)</td>\n",
       "</tr></tbody>\n",
       "</table>\n",
       "<link href=\"https://www.unpkg.com/dt_for_itables@2.2.0/dt_bundle.css\" rel=\"stylesheet\">\n",
       "<script type=\"module\">\n",
       "    import {DataTable, jQuery as $} from 'https://www.unpkg.com/dt_for_itables@2.2.0/dt_bundle.js';\n",
       "\n",
       "    document.querySelectorAll(\"#itables_87eb33fd_e2cb_4aef_8527_59c1394790c2:not(.dataTable)\").forEach(table => {\n",
       "        if (!(table instanceof HTMLTableElement))\n",
       "            return;\n",
       "\n",
       "        // Define the table data\n",
       "        const data = [[\"Accessories\", -633, 573, 3353, 1, 11, 262, 20, 1716, 21728], [\"Bookcases\", -1981, 1148, 6516, 1, 13, 297, 73, 2927, 56861], [\"Chairs\", -314, 721, 1627, 1, 14, 277, 24, 5729, 34222], [\"Electronic Games\", -916, 665, -644, 1, 11, 297, 36, 2457, 39168], [\"Furnishings\", -307, 262, -806, 1, 11, 310, 20, 880, 13484], [\"Hankerchief\", -190, 131, 1823, 1, 10, 741, 6, 473, 14294], [\"Kurti\", -83, 99, -401, 1, 7, 164, 6, 287, 3361], [\"Leggings\", -48, 24, -130, 1, 8, 186, 7, 105, 2106], [\"Phones\", -891, 1303, 1847, 1, 11, 304, 46, 3873, 46119], [\"Printers\", -640, 1698, 8606, 1, 13, 291, 133, 4141, 59252], [\"Saree\", -349, 680, 4057, 1, 13, 795, 25, 1603, 59094], [\"Shirt\", -75, 241, 1513, 1, 14, 271, 15, 434, 7555], [\"Skirt\", -124, 18, -315, 1, 12, 248, 4, 101, 1946], [\"Stole\", -114, 160, 2431, 1, 12, 671, 8, 571, 18546], [\"T-shirt\", -46, 175, 1500, 1, 13, 305, 13, 585, 7382], [\"Tables\", -624, 1864, 3139, 2, 6, 61, 610, 4363, 22614], [\"Trousers\", -443, 624, 2847, 1, 7, 135, 68, 3151, 30039]];\n",
       "\n",
       "        // Define the dt_args\n",
       "        let dt_args = {\"layout\": {\"topStart\": \"pageLength\", \"topEnd\": \"search\", \"bottomStart\": \"info\", \"bottomEnd\": \"paging\"}, \"order\": [], \"warn_on_selected_rows_not_rendered\": true};\n",
       "        dt_args[\"data\"] = data;\n",
       "\n",
       "        \n",
       "        new DataTable(table, dt_args);\n",
       "    });\n",
       "</script>\n"
      ],
      "text/plain": [
       "<IPython.core.display.HTML object>"
      ]
     },
     "metadata": {},
     "output_type": "display_data"
    }
   ],
   "source": [
    "\n",
    "Subcategory = data.groupby(\"Sub-Category\").agg({\n",
    "     \"Profit\":[\"min\",\"max\",\"sum\"],\n",
    "     \"Quantity\":[\"min\",\"max\",\"sum\"],\n",
    "     \"Amount\":[\"min\",\"max\",\"sum\"]})\n",
    "show(Subcategory)"
   ]
  },
  {
   "cell_type": "code",
   "execution_count": 192,
   "id": "60235908",
   "metadata": {},
   "outputs": [
    {
     "data": {
      "text/html": [
       "<table id=\"itables_de9791c2_3c34_4772_9585_90717951accd\" class=\"display nowrap\" data-quarto-disable-processing=\"true\" style=\"table-layout:auto;width:auto;margin:auto;caption-side:bottom\">\n",
       "<thead>\n",
       "    <tr>\n",
       "      <th></th>\n",
       "      <th></th>\n",
       "      <th colspan=\"3\" halign=\"left\">Profit</th>\n",
       "      <th colspan=\"3\" halign=\"left\">Quantity</th>\n",
       "      <th colspan=\"3\" halign=\"left\">Amount</th>\n",
       "    </tr>\n",
       "    <tr>\n",
       "      <th></th>\n",
       "      <th></th>\n",
       "      <th>min</th>\n",
       "      <th>max</th>\n",
       "      <th>sum</th>\n",
       "      <th>min</th>\n",
       "      <th>max</th>\n",
       "      <th>sum</th>\n",
       "      <th>min</th>\n",
       "      <th>max</th>\n",
       "      <th>sum</th>\n",
       "    </tr>\n",
       "    <tr>\n",
       "      <th>Category</th>\n",
       "      <th>Sub-Category</th>\n",
       "      <th></th>\n",
       "      <th></th>\n",
       "      <th></th>\n",
       "      <th></th>\n",
       "      <th></th>\n",
       "      <th></th>\n",
       "      <th></th>\n",
       "      <th></th>\n",
       "      <th></th>\n",
       "    </tr>\n",
       "  </thead><tbody><tr>\n",
       "<td style=\"vertical-align:middle; text-align:left\">\n",
       "<a href=https://mwouts.github.io/itables/><svg class=\"main-svg\" xmlns=\"http://www.w3.org/2000/svg\" xmlns:xlink=\"http://www.w3.org/1999/xlink\"\n",
       "width=\"64\" viewBox=\"0 0 500 400\" style=\"font-family: 'Droid Sans', sans-serif;\">\n",
       "    <g style=\"fill:#d9d7fc\">\n",
       "        <path d=\"M100,400H500V357H100Z\" />\n",
       "        <path d=\"M100,300H400V257H100Z\" />\n",
       "        <path d=\"M0,200H400V157H0Z\" />\n",
       "        <path d=\"M100,100H500V57H100Z\" />\n",
       "        <path d=\"M100,350H500V307H100Z\" />\n",
       "        <path d=\"M100,250H400V207H100Z\" />\n",
       "        <path d=\"M0,150H400V107H0Z\" />\n",
       "        <path d=\"M100,50H500V7H100Z\" />\n",
       "    </g>\n",
       "    <g style=\"fill:#1a1366;stroke:#1a1366;\">\n",
       "   <rect x=\"100\" y=\"7\" width=\"400\" height=\"43\">\n",
       "    <animate\n",
       "      attributeName=\"width\"\n",
       "      values=\"0;400;0\"\n",
       "      dur=\"5s\"\n",
       "      repeatCount=\"indefinite\" />\n",
       "      <animate\n",
       "      attributeName=\"x\"\n",
       "      values=\"100;100;500\"\n",
       "      dur=\"5s\"\n",
       "      repeatCount=\"indefinite\" />\n",
       "  </rect>\n",
       "        <rect x=\"0\" y=\"107\" width=\"400\" height=\"43\">\n",
       "    <animate\n",
       "      attributeName=\"width\"\n",
       "      values=\"0;400;0\"\n",
       "      dur=\"3.5s\"\n",
       "      repeatCount=\"indefinite\" />\n",
       "    <animate\n",
       "      attributeName=\"x\"\n",
       "      values=\"0;0;400\"\n",
       "      dur=\"3.5s\"\n",
       "      repeatCount=\"indefinite\" />\n",
       "  </rect>\n",
       "        <rect x=\"100\" y=\"207\" width=\"300\" height=\"43\">\n",
       "    <animate\n",
       "      attributeName=\"width\"\n",
       "      values=\"0;300;0\"\n",
       "      dur=\"3s\"\n",
       "      repeatCount=\"indefinite\" />\n",
       "    <animate\n",
       "      attributeName=\"x\"\n",
       "      values=\"100;100;400\"\n",
       "      dur=\"3s\"\n",
       "      repeatCount=\"indefinite\" />\n",
       "  </rect>\n",
       "        <rect x=\"100\" y=\"307\" width=\"400\" height=\"43\">\n",
       "    <animate\n",
       "      attributeName=\"width\"\n",
       "      values=\"0;400;0\"\n",
       "      dur=\"4s\"\n",
       "      repeatCount=\"indefinite\" />\n",
       "      <animate\n",
       "      attributeName=\"x\"\n",
       "      values=\"100;100;500\"\n",
       "      dur=\"4s\"\n",
       "      repeatCount=\"indefinite\" />\n",
       "  </rect>\n",
       "        <g style=\"fill:transparent;stroke-width:8; stroke-linejoin:round\" rx=\"5\">\n",
       "            <g transform=\"translate(45 50) rotate(-45)\">\n",
       "                <circle r=\"33\" cx=\"0\" cy=\"0\" />\n",
       "                <rect x=\"-8\" y=\"32\" width=\"16\" height=\"30\" />\n",
       "            </g>\n",
       "\n",
       "            <g transform=\"translate(450 152)\">\n",
       "                <polyline points=\"-15,-20 -35,-20 -35,40 25,40 25,20\" />\n",
       "                <rect x=\"-15\" y=\"-40\" width=\"60\" height=\"60\" />\n",
       "            </g>\n",
       "\n",
       "            <g transform=\"translate(50 352)\">\n",
       "                <polygon points=\"-35,-5 0,-40 35,-5\" />\n",
       "                <polygon points=\"-35,10 0,45 35,10\" />\n",
       "            </g>\n",
       "\n",
       "            <g transform=\"translate(75 250)\">\n",
       "                <polyline points=\"-30,30 -60,0 -30,-30\" />\n",
       "                <polyline points=\"0,30 -30,0 0,-30\" />\n",
       "            </g>\n",
       "\n",
       "            <g transform=\"translate(425 250) rotate(180)\">\n",
       "                <polyline points=\"-30,30 -60,0 -30,-30\" />\n",
       "                <polyline points=\"0,30 -30,0 0,-30\" />\n",
       "            </g>\n",
       "        </g>\n",
       "    </g>\n",
       "</svg>\n",
       "</a>\n",
       "Loading ITables v2.3.0 from the internet...\n",
       "(need <a href=https://mwouts.github.io/itables/troubleshooting.html>help</a>?)</td>\n",
       "</tr></tbody>\n",
       "</table>\n",
       "<link href=\"https://www.unpkg.com/dt_for_itables@2.2.0/dt_bundle.css\" rel=\"stylesheet\">\n",
       "<script type=\"module\">\n",
       "    import {DataTable, jQuery as $} from 'https://www.unpkg.com/dt_for_itables@2.2.0/dt_bundle.js';\n",
       "\n",
       "    document.querySelectorAll(\"#itables_de9791c2_3c34_4772_9585_90717951accd:not(.dataTable)\").forEach(table => {\n",
       "        if (!(table instanceof HTMLTableElement))\n",
       "            return;\n",
       "\n",
       "        // Define the table data\n",
       "        const data = [[\"Clothing\", \"Hankerchief\", -190, 131, 1823, 1, 10, 741, 6, 473, 14294], [\"Clothing\", \"Kurti\", -83, 99, -401, 1, 7, 164, 6, 287, 3361], [\"Clothing\", \"Leggings\", -48, 24, -130, 1, 8, 186, 7, 105, 2106], [\"Clothing\", \"Saree\", -349, 680, 4057, 1, 13, 795, 25, 1603, 59094], [\"Clothing\", \"Shirt\", -75, 241, 1513, 1, 14, 271, 15, 434, 7555], [\"Clothing\", \"Skirt\", -124, 18, -315, 1, 12, 248, 4, 101, 1946], [\"Clothing\", \"Stole\", -114, 160, 2431, 1, 12, 671, 8, 571, 18546], [\"Clothing\", \"T-shirt\", -46, 175, 1500, 1, 13, 305, 13, 585, 7382], [\"Clothing\", \"Trousers\", -443, 624, 2847, 1, 7, 135, 68, 3151, 30039], [\"Electronics\", \"Accessories\", -633, 573, 3353, 1, 11, 262, 20, 1716, 21728], [\"Electronics\", \"Electronic Games\", -916, 665, -644, 1, 11, 297, 36, 2457, 39168], [\"Electronics\", \"Phones\", -891, 1303, 1847, 1, 11, 304, 46, 3873, 46119], [\"Electronics\", \"Printers\", -640, 1698, 8606, 1, 13, 291, 133, 4141, 59252], [\"Furniture\", \"Bookcases\", -1981, 1148, 6516, 1, 13, 297, 73, 2927, 56861], [\"Furniture\", \"Chairs\", -314, 721, 1627, 1, 14, 277, 24, 5729, 34222], [\"Furniture\", \"Furnishings\", -307, 262, -806, 1, 11, 310, 20, 880, 13484], [\"Furniture\", \"Tables\", -624, 1864, 3139, 2, 6, 61, 610, 4363, 22614]];\n",
       "\n",
       "        // Define the dt_args\n",
       "        let dt_args = {\"layout\": {\"topStart\": \"pageLength\", \"topEnd\": \"search\", \"bottomStart\": \"info\", \"bottomEnd\": \"paging\"}, \"order\": [], \"warn_on_selected_rows_not_rendered\": true};\n",
       "        dt_args[\"data\"] = data;\n",
       "\n",
       "        \n",
       "        new DataTable(table, dt_args);\n",
       "    });\n",
       "</script>\n"
      ],
      "text/plain": [
       "<IPython.core.display.HTML object>"
      ]
     },
     "metadata": {},
     "output_type": "display_data"
    }
   ],
   "source": [
    "\n",
    "category = data.groupby([\"Category\",\"Sub-Category\"]).agg({\n",
    "     \"Profit\":[\"min\",\"max\",\"sum\"],\n",
    "     \"Quantity\":[\"min\",\"max\",\"sum\"],\n",
    "     \"Amount\":[\"min\",\"max\",\"sum\"]})\n",
    "show(category)"
   ]
  },
  {
   "cell_type": "markdown",
   "id": "ea47a67c",
   "metadata": {},
   "source": [
    "- **Is there any correlation between profit and Quantity?**"
   ]
  },
  {
   "cell_type": "code",
   "execution_count": 193,
   "id": "97a831f0",
   "metadata": {},
   "outputs": [
    {
     "name": "stdout",
     "output_type": "stream",
     "text": [
      "pearson_coef is: 0.0631, p_value is: 0.0145\n"
     ]
    }
   ],
   "source": [
    "from  scipy import stats\n",
    "pearson_coef , p_value = stats.pearsonr(data[\"Profit\"],data[\"Quantity\"])\n",
    "print(f\"pearson_coef is: {pearson_coef:.4f}, p_value is: {p_value:.4f}\")\n"
   ]
  },
  {
   "cell_type": "markdown",
   "id": "d18da558",
   "metadata": {},
   "source": [
    "- **Is there any correlation between Amount and Quantity?**"
   ]
  },
  {
   "cell_type": "code",
   "execution_count": 194,
   "id": "f2195f1d",
   "metadata": {},
   "outputs": [
    {
     "name": "stdout",
     "output_type": "stream",
     "text": [
      "pearson_coef is: 0.3525, p_value is: 0.0000\n"
     ]
    }
   ],
   "source": [
    "from  scipy import stats\n",
    "pearson_coef , p_value = stats.pearsonr(data[\"Amount\"],data[\"Quantity\"])\n",
    "print(f\"pearson_coef is: {pearson_coef:.4f}, p_value is: {p_value:.4f}\")"
   ]
  },
  {
   "cell_type": "code",
   "execution_count": 195,
   "id": "87bf6d31",
   "metadata": {},
   "outputs": [
    {
     "name": "stdout",
     "output_type": "stream",
     "text": [
      "<class 'pandas.core.frame.DataFrame'>\n",
      "RangeIndex: 1500 entries, 0 to 1499\n",
      "Data columns (total 7 columns):\n",
      " #   Column        Non-Null Count  Dtype \n",
      "---  ------        --------------  ----- \n",
      " 0   Order ID      1500 non-null   object\n",
      " 1   Amount        1500 non-null   int64 \n",
      " 2   Profit        1500 non-null   int64 \n",
      " 3   Quantity      1500 non-null   int64 \n",
      " 4   Category      1500 non-null   object\n",
      " 5   Sub-Category  1500 non-null   object\n",
      " 6   PaymentMode   1500 non-null   object\n",
      "dtypes: int64(3), object(4)\n",
      "memory usage: 82.2+ KB\n"
     ]
    }
   ],
   "source": [
    "# check the datatypes of the data\n",
    "data.info()"
   ]
  },
  {
   "cell_type": "code",
   "execution_count": 196,
   "id": "ccb718ea",
   "metadata": {},
   "outputs": [
    {
     "data": {
      "text/plain": [
       "Order ID        0\n",
       "Amount          0\n",
       "Profit          0\n",
       "Quantity        0\n",
       "Category        0\n",
       "Sub-Category    0\n",
       "PaymentMode     0\n",
       "dtype: int64"
      ]
     },
     "execution_count": 196,
     "metadata": {},
     "output_type": "execute_result"
    }
   ],
   "source": [
    "# check the missing values\n",
    "data.isnull().sum()*100"
   ]
  },
  {
   "cell_type": "code",
   "execution_count": 197,
   "id": "1e82d35b",
   "metadata": {},
   "outputs": [
    {
     "data": {
      "application/vnd.microsoft.datawrangler.viewer.v0+json": {
       "columns": [
        {
         "name": "index",
         "rawType": "int64",
         "type": "integer"
        },
        {
         "name": "Order ID",
         "rawType": "object",
         "type": "string"
        },
        {
         "name": "Amount",
         "rawType": "int64",
         "type": "integer"
        },
        {
         "name": "Profit",
         "rawType": "int64",
         "type": "integer"
        },
        {
         "name": "Quantity",
         "rawType": "int64",
         "type": "integer"
        },
        {
         "name": "Category",
         "rawType": "object",
         "type": "string"
        },
        {
         "name": "Sub-Category",
         "rawType": "object",
         "type": "string"
        },
        {
         "name": "PaymentMode",
         "rawType": "object",
         "type": "string"
        }
       ],
       "conversionMethod": "pd.DataFrame",
       "ref": "244a6c88-55b4-46cc-85b8-92828ce70b2d",
       "rows": [],
       "shape": {
        "columns": 7,
        "rows": 0
       }
      },
      "text/html": [
       "<div>\n",
       "<style scoped>\n",
       "    .dataframe tbody tr th:only-of-type {\n",
       "        vertical-align: middle;\n",
       "    }\n",
       "\n",
       "    .dataframe tbody tr th {\n",
       "        vertical-align: top;\n",
       "    }\n",
       "\n",
       "    .dataframe thead th {\n",
       "        text-align: right;\n",
       "    }\n",
       "</style>\n",
       "<table border=\"1\" class=\"dataframe\">\n",
       "  <thead>\n",
       "    <tr style=\"text-align: right;\">\n",
       "      <th></th>\n",
       "      <th>Order ID</th>\n",
       "      <th>Amount</th>\n",
       "      <th>Profit</th>\n",
       "      <th>Quantity</th>\n",
       "      <th>Category</th>\n",
       "      <th>Sub-Category</th>\n",
       "      <th>PaymentMode</th>\n",
       "    </tr>\n",
       "  </thead>\n",
       "  <tbody>\n",
       "  </tbody>\n",
       "</table>\n",
       "</div>"
      ],
      "text/plain": [
       "Empty DataFrame\n",
       "Columns: [Order ID, Amount, Profit, Quantity, Category, Sub-Category, PaymentMode]\n",
       "Index: []"
      ]
     },
     "execution_count": 197,
     "metadata": {},
     "output_type": "execute_result"
    }
   ],
   "source": [
    "_ = data[data.duplicated()]\n",
    "_"
   ]
  },
  {
   "cell_type": "code",
   "execution_count": 198,
   "id": "0b7c825e",
   "metadata": {},
   "outputs": [
    {
     "data": {
      "application/vnd.microsoft.datawrangler.viewer.v0+json": {
       "columns": [
        {
         "name": "index",
         "rawType": "object",
         "type": "string"
        },
        {
         "name": "Order ID",
         "rawType": "object",
         "type": "unknown"
        },
        {
         "name": "Amount",
         "rawType": "float64",
         "type": "float"
        },
        {
         "name": "Profit",
         "rawType": "float64",
         "type": "float"
        },
        {
         "name": "Quantity",
         "rawType": "float64",
         "type": "float"
        },
        {
         "name": "Category",
         "rawType": "object",
         "type": "unknown"
        },
        {
         "name": "Sub-Category",
         "rawType": "object",
         "type": "unknown"
        },
        {
         "name": "PaymentMode",
         "rawType": "object",
         "type": "unknown"
        }
       ],
       "conversionMethod": "pd.DataFrame",
       "ref": "1c7f5540-4a06-467e-a9c2-dc0c9e860b69",
       "rows": [
        [
         "count",
         "1500",
         "1500.0",
         "1500.0",
         "1500.0",
         "1500",
         "1500",
         "1500"
        ],
        [
         "unique",
         "500",
         null,
         null,
         null,
         "3",
         "17",
         "5"
        ],
        [
         "top",
         "B-25656",
         null,
         null,
         null,
         "Clothing",
         "Saree",
         "COD"
        ],
        [
         "freq",
         "12",
         null,
         null,
         null,
         "949",
         "211",
         "684"
        ],
        [
         "mean",
         null,
         "291.8473333333333",
         "24.642",
         "3.743333333333333",
         null,
         null,
         null
        ],
        [
         "std",
         null,
         "461.9246203976451",
         "168.5588103631312",
         "2.1849419984475427",
         null,
         null,
         null
        ],
        [
         "min",
         null,
         "4.0",
         "-1981.0",
         "1.0",
         null,
         null,
         null
        ],
        [
         "25%",
         null,
         "47.75",
         "-12.0",
         "2.0",
         null,
         null,
         null
        ],
        [
         "50%",
         null,
         "122.0",
         "8.0",
         "3.0",
         null,
         null,
         null
        ],
        [
         "75%",
         null,
         "326.25",
         "38.0",
         "5.0",
         null,
         null,
         null
        ],
        [
         "max",
         null,
         "5729.0",
         "1864.0",
         "14.0",
         null,
         null,
         null
        ]
       ],
       "shape": {
        "columns": 7,
        "rows": 11
       }
      },
      "text/html": [
       "<div>\n",
       "<style scoped>\n",
       "    .dataframe tbody tr th:only-of-type {\n",
       "        vertical-align: middle;\n",
       "    }\n",
       "\n",
       "    .dataframe tbody tr th {\n",
       "        vertical-align: top;\n",
       "    }\n",
       "\n",
       "    .dataframe thead th {\n",
       "        text-align: right;\n",
       "    }\n",
       "</style>\n",
       "<table border=\"1\" class=\"dataframe\">\n",
       "  <thead>\n",
       "    <tr style=\"text-align: right;\">\n",
       "      <th></th>\n",
       "      <th>Order ID</th>\n",
       "      <th>Amount</th>\n",
       "      <th>Profit</th>\n",
       "      <th>Quantity</th>\n",
       "      <th>Category</th>\n",
       "      <th>Sub-Category</th>\n",
       "      <th>PaymentMode</th>\n",
       "    </tr>\n",
       "  </thead>\n",
       "  <tbody>\n",
       "    <tr>\n",
       "      <th>count</th>\n",
       "      <td>1500</td>\n",
       "      <td>1500.000000</td>\n",
       "      <td>1500.00000</td>\n",
       "      <td>1500.000000</td>\n",
       "      <td>1500</td>\n",
       "      <td>1500</td>\n",
       "      <td>1500</td>\n",
       "    </tr>\n",
       "    <tr>\n",
       "      <th>unique</th>\n",
       "      <td>500</td>\n",
       "      <td>NaN</td>\n",
       "      <td>NaN</td>\n",
       "      <td>NaN</td>\n",
       "      <td>3</td>\n",
       "      <td>17</td>\n",
       "      <td>5</td>\n",
       "    </tr>\n",
       "    <tr>\n",
       "      <th>top</th>\n",
       "      <td>B-25656</td>\n",
       "      <td>NaN</td>\n",
       "      <td>NaN</td>\n",
       "      <td>NaN</td>\n",
       "      <td>Clothing</td>\n",
       "      <td>Saree</td>\n",
       "      <td>COD</td>\n",
       "    </tr>\n",
       "    <tr>\n",
       "      <th>freq</th>\n",
       "      <td>12</td>\n",
       "      <td>NaN</td>\n",
       "      <td>NaN</td>\n",
       "      <td>NaN</td>\n",
       "      <td>949</td>\n",
       "      <td>211</td>\n",
       "      <td>684</td>\n",
       "    </tr>\n",
       "    <tr>\n",
       "      <th>mean</th>\n",
       "      <td>NaN</td>\n",
       "      <td>291.847333</td>\n",
       "      <td>24.64200</td>\n",
       "      <td>3.743333</td>\n",
       "      <td>NaN</td>\n",
       "      <td>NaN</td>\n",
       "      <td>NaN</td>\n",
       "    </tr>\n",
       "    <tr>\n",
       "      <th>std</th>\n",
       "      <td>NaN</td>\n",
       "      <td>461.924620</td>\n",
       "      <td>168.55881</td>\n",
       "      <td>2.184942</td>\n",
       "      <td>NaN</td>\n",
       "      <td>NaN</td>\n",
       "      <td>NaN</td>\n",
       "    </tr>\n",
       "    <tr>\n",
       "      <th>min</th>\n",
       "      <td>NaN</td>\n",
       "      <td>4.000000</td>\n",
       "      <td>-1981.00000</td>\n",
       "      <td>1.000000</td>\n",
       "      <td>NaN</td>\n",
       "      <td>NaN</td>\n",
       "      <td>NaN</td>\n",
       "    </tr>\n",
       "    <tr>\n",
       "      <th>25%</th>\n",
       "      <td>NaN</td>\n",
       "      <td>47.750000</td>\n",
       "      <td>-12.00000</td>\n",
       "      <td>2.000000</td>\n",
       "      <td>NaN</td>\n",
       "      <td>NaN</td>\n",
       "      <td>NaN</td>\n",
       "    </tr>\n",
       "    <tr>\n",
       "      <th>50%</th>\n",
       "      <td>NaN</td>\n",
       "      <td>122.000000</td>\n",
       "      <td>8.00000</td>\n",
       "      <td>3.000000</td>\n",
       "      <td>NaN</td>\n",
       "      <td>NaN</td>\n",
       "      <td>NaN</td>\n",
       "    </tr>\n",
       "    <tr>\n",
       "      <th>75%</th>\n",
       "      <td>NaN</td>\n",
       "      <td>326.250000</td>\n",
       "      <td>38.00000</td>\n",
       "      <td>5.000000</td>\n",
       "      <td>NaN</td>\n",
       "      <td>NaN</td>\n",
       "      <td>NaN</td>\n",
       "    </tr>\n",
       "    <tr>\n",
       "      <th>max</th>\n",
       "      <td>NaN</td>\n",
       "      <td>5729.000000</td>\n",
       "      <td>1864.00000</td>\n",
       "      <td>14.000000</td>\n",
       "      <td>NaN</td>\n",
       "      <td>NaN</td>\n",
       "      <td>NaN</td>\n",
       "    </tr>\n",
       "  </tbody>\n",
       "</table>\n",
       "</div>"
      ],
      "text/plain": [
       "       Order ID       Amount      Profit     Quantity  Category Sub-Category  \\\n",
       "count      1500  1500.000000  1500.00000  1500.000000      1500         1500   \n",
       "unique      500          NaN         NaN          NaN         3           17   \n",
       "top     B-25656          NaN         NaN          NaN  Clothing        Saree   \n",
       "freq         12          NaN         NaN          NaN       949          211   \n",
       "mean        NaN   291.847333    24.64200     3.743333       NaN          NaN   \n",
       "std         NaN   461.924620   168.55881     2.184942       NaN          NaN   \n",
       "min         NaN     4.000000 -1981.00000     1.000000       NaN          NaN   \n",
       "25%         NaN    47.750000   -12.00000     2.000000       NaN          NaN   \n",
       "50%         NaN   122.000000     8.00000     3.000000       NaN          NaN   \n",
       "75%         NaN   326.250000    38.00000     5.000000       NaN          NaN   \n",
       "max         NaN  5729.000000  1864.00000    14.000000       NaN          NaN   \n",
       "\n",
       "       PaymentMode  \n",
       "count         1500  \n",
       "unique           5  \n",
       "top            COD  \n",
       "freq           684  \n",
       "mean           NaN  \n",
       "std            NaN  \n",
       "min            NaN  \n",
       "25%            NaN  \n",
       "50%            NaN  \n",
       "75%            NaN  \n",
       "max            NaN  "
      ]
     },
     "execution_count": 198,
     "metadata": {},
     "output_type": "execute_result"
    }
   ],
   "source": [
    "# check the statistics of the data \n",
    "data.describe(include=\"all\")"
   ]
  },
  {
   "cell_type": "markdown",
   "id": "93489765",
   "metadata": {},
   "source": [
    "- ## 2 Sales analysis"
   ]
  },
  {
   "cell_type": "markdown",
   "id": "ba768f1a",
   "metadata": {},
   "source": [
    "---\n",
    "\n",
    "### 📊 **Revenue & Profit**\n",
    "\n",
    "1. What is the total **revenue** (`Amount.sum()`)?\n",
    "2. What is the total **profit** (`Profit.sum()`)?\n",
    "3. What is the **average profit margin** per order?\n",
    "4. Which **orders** had the highest revenue and profit?\n",
    "\n",
    "---"
   ]
  },
  {
   "cell_type": "markdown",
   "id": "03eb397d",
   "metadata": {},
   "source": [
    "***1. What is the total revenue (`Amount.sum()`)?***\n"
   ]
  },
  {
   "cell_type": "code",
   "execution_count": 199,
   "id": "a595b2f6",
   "metadata": {},
   "outputs": [
    {
     "name": "stdout",
     "output_type": "stream",
     "text": [
      "Total revenue is  437771\n"
     ]
    }
   ],
   "source": [
    "total_revenue =data[\"Amount\"].sum()\n",
    "print(\"Total revenue is \",total_revenue)"
   ]
  },
  {
   "cell_type": "markdown",
   "id": "055c8465",
   "metadata": {},
   "source": [
    "***2. What is the total profit (`Profit.sum()`)?***\n"
   ]
  },
  {
   "cell_type": "code",
   "execution_count": 200,
   "id": "d2d1d6f6",
   "metadata": {},
   "outputs": [
    {
     "name": "stdout",
     "output_type": "stream",
     "text": [
      "Total revenue is  36963\n"
     ]
    }
   ],
   "source": [
    "total_profit =data[\"Profit\"].sum()\n",
    "print(\"Total revenue is \",total_profit)"
   ]
  },
  {
   "cell_type": "markdown",
   "id": "7574d199",
   "metadata": {},
   "source": [
    "***3. What is the average profit margin per order?***\n"
   ]
  },
  {
   "cell_type": "code",
   "execution_count": 201,
   "id": "580a9c23",
   "metadata": {},
   "outputs": [
    {
     "name": "stdout",
     "output_type": "stream",
     "text": [
      "Average profit margin per order: 1.92 %\n"
     ]
    }
   ],
   "source": [
    "# Avoid division by zero\n",
    "data = data[data[\"Amount\"] != 0]\n",
    "\n",
    "# Calculate profit margin per order\n",
    "data[\"Profit_Margin\"] = data[\"Profit\"] / data[\"Amount\"]\n",
    "\n",
    "# Average profit margin\n",
    "avg_profit_margin = data[\"Profit_Margin\"].mean()\n",
    "\n",
    "print(\"Average profit margin per order:\", round(avg_profit_margin * 100, 2), \"%\")\n"
   ]
  },
  {
   "cell_type": "markdown",
   "id": "a107b4b6",
   "metadata": {},
   "source": [
    "***4. Which orders had the highest revenue and profit?***"
   ]
  },
  {
   "cell_type": "code",
   "execution_count": 202,
   "id": "c8cbb496",
   "metadata": {},
   "outputs": [
    {
     "name": "stdout",
     "output_type": "stream",
     "text": [
      "Top 5 orders by revenue:\n",
      "     Order ID  Amount  Profit\n",
      "1     B-26055    5729      64\n",
      "1499  B-25993    4363     305\n",
      "1497  B-25973    4141    1698\n",
      "12    B-25923    3873    -891\n",
      "1496  B-25757    3151     -35\n"
     ]
    }
   ],
   "source": [
    "# Top 5 orders by revenue\n",
    "top_revenue_orders = data.sort_values(by=\"Amount\", ascending=False).head(5)\n",
    "print(\"Top 5 orders by revenue:\")\n",
    "print(top_revenue_orders[[\"Order ID\", \"Amount\", \"Profit\"]])\n"
   ]
  },
  {
   "cell_type": "code",
   "execution_count": 203,
   "id": "0d88e9ef",
   "metadata": {},
   "outputs": [
    {
     "name": "stdout",
     "output_type": "stream",
     "text": [
      "\n",
      "Top 5 orders by profit:\n",
      "     Order ID  Amount  Profit\n",
      "59    B-25608    1364    1864\n",
      "1497  B-25973    4141    1698\n",
      "32    B-26022    1824    1303\n",
      "4     B-25602    2617    1151\n",
      "1423  B-25601    1275    1148\n"
     ]
    }
   ],
   "source": [
    "# Top 5 orders by profit\n",
    "top_profit_orders = data.sort_values(by=\"Profit\", ascending=False).head(5)\n",
    "print(\"\\nTop 5 orders by profit:\")\n",
    "print(top_profit_orders[[\"Order ID\", \"Amount\", \"Profit\"]])"
   ]
  },
  {
   "cell_type": "markdown",
   "id": "15f37626",
   "metadata": {},
   "source": [
    "---\n",
    "### 📦 **Product & Category Performance**\n",
    "\n",
    "5. Which **categories** generate the most revenue and profit?\n",
    "6. Which **sub-categories** are performing the best and worst?\n",
    "7. What is the **average quantity** sold per category or sub-category?\n",
    "8. Which sub-categories have **high sales but low profit**?\n",
    "\n",
    "---"
   ]
  },
  {
   "cell_type": "markdown",
   "id": "e16d07a2",
   "metadata": {},
   "source": [
    "***5. Which categories generate the most revenue and profit?***\n",
    "\n"
   ]
  },
  {
   "cell_type": "code",
   "execution_count": 204,
   "id": "fb4be5e2",
   "metadata": {},
   "outputs": [
    {
     "name": "stdout",
     "output_type": "stream",
     "text": [
      "Revenue and Profit by Category:\n",
      "             Amount  Profit\n",
      "Category                   \n",
      "Electronics  166267   13162\n",
      "Clothing     144323   13325\n",
      "Furniture    127181   10476\n"
     ]
    }
   ],
   "source": [
    "# Group by Category and sum Amount and Profit\n",
    "category_summary = data.groupby(\"Category\")[[\"Amount\", \"Profit\"]].sum().sort_values(by=\"Amount\", ascending=False)\n",
    "\n",
    "print(\"Revenue and Profit by Category:\")\n",
    "print(category_summary)\n"
   ]
  },
  {
   "cell_type": "code",
   "execution_count": 205,
   "id": "ffee94f0",
   "metadata": {},
   "outputs": [
    {
     "data": {
      "image/png": "[encoded data removed]",
      "text/plain": [
       "<Figure size 800x500 with 1 Axes>"
      ]
     },
     "metadata": {},
     "output_type": "display_data"
    }
   ],
   "source": [
    "category_summary.plot(kind=\"bar\", figsize=(8,5))\n",
    "plt.title(\"Revenue and Profit by Category\")\n",
    "plt.ylabel(\"Amount\")\n",
    "plt.xticks(rotation=45)\n",
    "plt.grid(axis='y')\n",
    "plt.tight_layout()\n",
    "plt.show()\n"
   ]
  },
  {
   "cell_type": "markdown",
   "id": "47069a6d",
   "metadata": {},
   "source": [
    "***6. Which sub-categories are performing the best and worst?***\n"
   ]
  },
  {
   "cell_type": "code",
   "execution_count": 206,
   "id": "e34f2dd9",
   "metadata": {},
   "outputs": [
    {
     "name": "stdout",
     "output_type": "stream",
     "text": [
      "🔝 Top 5 Sub-Categories by Revenue:\n",
      "                   Amount  Profit\n",
      "Sub-Category                    \n",
      "Printers           59252    8606\n",
      "Saree              59094    4057\n",
      "Bookcases          56861    6516\n",
      "Phones             46119    1847\n",
      "Electronic Games   39168    -644\n",
      "\n",
      "💰 Top 5 Sub-Categories by Profit:\n",
      "               Amount  Profit\n",
      "Sub-Category                \n",
      "Printers       59252    8606\n",
      "Bookcases      56861    6516\n",
      "Saree          59094    4057\n",
      "Accessories    21728    3353\n",
      "Tables         22614    3139\n",
      "\n",
      "🔻 Bottom 5 Sub-Categories by Revenue:\n",
      "               Amount  Profit\n",
      "Sub-Category                \n",
      "Skirt           1946    -315\n",
      "Leggings        2106    -130\n",
      "Kurti           3361    -401\n",
      "T-shirt         7382    1500\n",
      "Shirt           7555    1513\n",
      "\n",
      "📉 Bottom 5 Sub-Categories by Profit:\n",
      "                   Amount  Profit\n",
      "Sub-Category                    \n",
      "Furnishings        13484    -806\n",
      "Electronic Games   39168    -644\n",
      "Kurti               3361    -401\n",
      "Skirt               1946    -315\n",
      "Leggings            2106    -130\n"
     ]
    }
   ],
   "source": [
    "# Group by Sub-Category and sum Amount and Profit\n",
    "subcat_summary = data.groupby(\"Sub-Category\")[[\"Amount\", \"Profit\"]].sum()\n",
    "\n",
    "# Best performing (highest revenue & profit)\n",
    "best_revenue = subcat_summary.sort_values(by=\"Amount\", ascending=False).head(5)\n",
    "best_profit = subcat_summary.sort_values(by=\"Profit\", ascending=False).head(5)\n",
    "\n",
    "# Worst performing (lowest revenue & profit)\n",
    "worst_revenue = subcat_summary.sort_values(by=\"Amount\", ascending=True).head(5)\n",
    "worst_profit = subcat_summary.sort_values(by=\"Profit\", ascending=True).head(5)\n",
    "\n",
    "print(\"🔝 Top 5 Sub-Categories by Revenue:\\n\", best_revenue)\n",
    "print(\"\\n💰 Top 5 Sub-Categories by Profit:\\n\", best_profit)\n",
    "print(\"\\n🔻 Bottom 5 Sub-Categories by Revenue:\\n\", worst_revenue)\n",
    "print(\"\\n📉 Bottom 5 Sub-Categories by Profit:\\n\", worst_profit)\n"
   ]
  },
  {
   "cell_type": "markdown",
   "id": "208bf8a8",
   "metadata": {},
   "source": [
    "***7. What is the average quantity sold per category or sub-category?***\n"
   ]
  },
  {
   "cell_type": "code",
   "execution_count": 207,
   "id": "874c5a38",
   "metadata": {},
   "outputs": [
    {
     "name": "stdout",
     "output_type": "stream",
     "text": [
      "Average Quantity Sold per Category:\n",
      " Category\n",
      "Clothing       3.704953\n",
      "Electronics    3.746753\n",
      "Furniture      3.888889\n",
      "Name: Quantity, dtype: float64\n",
      "\n",
      "Average Quantity Sold per Sub-Category:\n",
      " Sub-Category\n",
      "Accessories         3.638889\n",
      "Bookcases           3.759494\n",
      "Chairs              3.743243\n",
      "Electronic Games    3.759494\n",
      "Furnishings         4.246575\n",
      "Hankerchief         3.761421\n",
      "Kurti               3.489362\n",
      "Leggings            3.509434\n",
      "Phones              3.662651\n",
      "Printers            3.932432\n",
      "Saree               3.767773\n",
      "Shirt               3.927536\n",
      "Skirt               3.875000\n",
      "Stole               3.494792\n",
      "T-shirt             3.961039\n",
      "Tables              3.588235\n",
      "Trousers            3.461538\n",
      "Name: Quantity, dtype: float64\n"
     ]
    }
   ],
   "source": [
    "# Average quantity sold per category\n",
    "avg_quantity_by_category = data.groupby(\"Category\")[\"Quantity\"].mean()\n",
    "\n",
    "# Average quantity sold per sub-category\n",
    "avg_quantity_by_subcategory = data.groupby(\"Sub-Category\")[\"Quantity\"].mean()\n",
    "\n",
    "print(\"Average Quantity Sold per Category:\\n\", avg_quantity_by_category)\n",
    "print(\"\\nAverage Quantity Sold per Sub-Category:\\n\", avg_quantity_by_subcategory)\n"
   ]
  },
  {
   "cell_type": "markdown",
   "id": "d29e517f",
   "metadata": {},
   "source": [
    "***8. Which sub-categories have high sales but low profit?***"
   ]
  },
  {
   "cell_type": "code",
   "execution_count": 208,
   "id": "2c61541f",
   "metadata": {},
   "outputs": [
    {
     "name": "stdout",
     "output_type": "stream",
     "text": [
      "Revenue and Profit by Category:\n",
      "             Amount  Profit\n",
      "Category                   \n",
      "Electronics  166267   13162\n",
      "Clothing     144323   13325\n",
      "Furniture    127181   10476\n"
     ]
    }
   ],
   "source": [
    "# Group by Category and sum Amount and Profit\n",
    "category_summary = data.groupby(\"Category\")[[\"Amount\", \"Profit\"]].sum().sort_values(by=\"Amount\", ascending=False)\n",
    "\n",
    "print(\"Revenue and Profit by Category:\")\n",
    "print(category_summary)\n"
   ]
  },
  {
   "cell_type": "code",
   "execution_count": 209,
   "id": "569db7cc",
   "metadata": {},
   "outputs": [
    {
     "data": {
      "image/png": "[encoded data removed]",
      "text/plain": [
       "<Figure size 800x500 with 1 Axes>"
      ]
     },
     "metadata": {},
     "output_type": "display_data"
    }
   ],
   "source": [
    "category_summary.plot(kind=\"bar\", figsize=(8,5))\n",
    "plt.title(\"Revenue and Profit by Category\")\n",
    "plt.ylabel(\"Amount\")\n",
    "plt.xticks(rotation=45)\n",
    "plt.grid(axis='y')\n",
    "plt.tight_layout()\n",
    "plt.show()\n"
   ]
  },
  {
   "cell_type": "markdown",
   "id": "dd998124",
   "metadata": {},
   "source": [
    "\n",
    "---\n",
    "### 💳 **Payment Behavior**\n",
    "\n",
    "9. What are the most used **payment modes**?\n",
    "10. Is there a difference in **profit or quantity sold by payment method**?\n",
    "\n",
    "---"
   ]
  },
  {
   "cell_type": "markdown",
   "id": "3b831375",
   "metadata": {},
   "source": [
    "***9. What are the most used payment modes?***\n"
   ]
  },
  {
   "cell_type": "code",
   "execution_count": 210,
   "id": "daf3e2c1",
   "metadata": {},
   "outputs": [
    {
     "data": {
      "text/plain": [
       "PaymentMode\n",
       "COD            684\n",
       "UPI            331\n",
       "Debit Card     202\n",
       "Credit Card    163\n",
       "EMI            120\n",
       "Name: count, dtype: int64"
      ]
     },
     "execution_count": 210,
     "metadata": {},
     "output_type": "execute_result"
    }
   ],
   "source": [
    "data[\"PaymentMode\"].value_counts()"
   ]
  },
  {
   "cell_type": "markdown",
   "id": "fb052008",
   "metadata": {},
   "source": [
    "***10. Is there a difference in profit or quantity sold by payment method?***"
   ]
  },
  {
   "cell_type": "code",
   "execution_count": 211,
   "id": "7fb08d76",
   "metadata": {},
   "outputs": [
    {
     "name": "stdout",
     "output_type": "stream",
     "text": [
      "Total Profit and Quantity Sold by Payment Method:\n",
      "              Profit  Quantity\n",
      "PaymentMode                  \n",
      "COD           12547      2456\n",
      "Credit Card   12612       672\n",
      "Debit Card     3694       741\n",
      "EMI            4824       589\n",
      "UPI            3286      1157\n",
      "\n",
      "Average Profit and Quantity Sold by Payment Method:\n",
      "                 Profit  Quantity\n",
      "PaymentMode                     \n",
      "COD          18.343567  3.590643\n",
      "Credit Card  77.374233  4.122699\n",
      "Debit Card   18.287129  3.668317\n",
      "EMI          40.200000  4.908333\n",
      "UPI           9.927492  3.495468\n"
     ]
    }
   ],
   "source": [
    "# Group by PaymentMode and calculate total profit and total quantity sold\n",
    "payment_summary = data.groupby(\"PaymentMode\")[[\"Profit\", \"Quantity\"]].sum()\n",
    "\n",
    "# You can also calculate the average for each\n",
    "payment_avg = data.groupby(\"PaymentMode\")[[\"Profit\", \"Quantity\"]].mean()\n",
    "\n",
    "print(\"Total Profit and Quantity Sold by Payment Method:\\n\", payment_summary)\n",
    "print(\"\\nAverage Profit and Quantity Sold by Payment Method:\\n\", payment_avg)\n"
   ]
  },
  {
   "cell_type": "code",
   "execution_count": 212,
   "id": "5e781c94",
   "metadata": {},
   "outputs": [
    {
     "data": {
      "image/png": "[encoded data removed]",
      "text/plain": [
       "<Figure size 1000x500 with 1 Axes>"
      ]
     },
     "metadata": {},
     "output_type": "display_data"
    },
    {
     "data": {
      "image/png": "[encoded data removed]",
      "text/plain": [
       "<Figure size 1000x500 with 1 Axes>"
      ]
     },
     "metadata": {},
     "output_type": "display_data"
    }
   ],
   "source": [
    "# Plot for total profit by PaymentMode\n",
    "payment_summary[\"Profit\"].plot(kind=\"bar\", figsize=(10,5), color='orange')\n",
    "plt.title(\"Total Profit by Payment Method\")\n",
    "plt.ylabel(\"Total Profit\")\n",
    "plt.xticks(rotation=45)\n",
    "plt.tight_layout()\n",
    "plt.show()\n",
    "\n",
    "# Plot for total quantity sold by PaymentMode\n",
    "payment_summary[\"Quantity\"].plot(kind=\"bar\", figsize=(10,5), color='lightblue')\n",
    "plt.title(\"Total Quantity Sold by Payment Method\")\n",
    "plt.ylabel(\"Total Quantity Sold\")\n",
    "plt.xticks(rotation=45)\n",
    "plt.tight_layout()\n",
    "plt.show()\n"
   ]
  },
  {
   "cell_type": "markdown",
   "id": "8fa711ed",
   "metadata": {},
   "source": [
    "---\n",
    "### 🔍 **Order-level Analysis**\n",
    "\n",
    "11. What is the **average order value** (AOV)?\n",
    "12. How many total **orders** were placed?\n",
    "13. What is the **distribution of profit and amount per order**?\n",
    "\n",
    "---\n",
    "\n"
   ]
  },
  {
   "cell_type": "markdown",
   "id": "64408e7d",
   "metadata": {},
   "source": [
    "***11. What is the average order value (AOV)?***\n",
    "\n"
   ]
  },
  {
   "cell_type": "markdown",
   "id": "f3863657",
   "metadata": {},
   "source": [
    "The **Average Order Value** (AOV) is the average amount spent per order. It can be calculated by dividing the total **revenue** (or **Amount**) by the total number of **orders**.\n",
    "\n",
    "---\n",
    "\n",
    "### ✅ Formula for AOV:\n",
    "\n",
    "$$\n",
    "\\text{AOV} = \\frac{\\text{Total Revenue (Amount)}}{\\text{Number of Orders}}\n",
    "$$\n",
    "\n",
    "\n",
    "```"
   ]
  },
  {
   "cell_type": "code",
   "execution_count": 213,
   "id": "4e3694df",
   "metadata": {},
   "outputs": [
    {
     "name": "stdout",
     "output_type": "stream",
     "text": [
      "Average Order Value (AOV): 875.54\n"
     ]
    }
   ],
   "source": [
    "# Calculate the total revenue (Amount)\n",
    "total_revenue = data[\"Amount\"].sum()\n",
    "\n",
    "# Calculate the total number of unique orders\n",
    "total_orders = data[\"Order ID\"].nunique()\n",
    "\n",
    "# Calculate Average Order Value (AOV)\n",
    "AOV = total_revenue / total_orders\n",
    "\n",
    "print(\"Average Order Value (AOV):\", round(AOV, 2))"
   ]
  },
  {
   "cell_type": "markdown",
   "id": "ddc5804c",
   "metadata": {},
   "source": [
    "***12. How many total orders were placed?***\n"
   ]
  },
  {
   "cell_type": "code",
   "execution_count": 214,
   "id": "d6c4514d",
   "metadata": {},
   "outputs": [
    {
     "name": "stdout",
     "output_type": "stream",
     "text": [
      "Total number of orders placed: 500\n"
     ]
    }
   ],
   "source": [
    "# Calculate the total number of unique orders\n",
    "total_orders = data[\"Order ID\"].nunique()\n",
    "print(\"Total number of orders placed:\", total_orders)"
   ]
  },
  {
   "cell_type": "markdown",
   "id": "0864da04",
   "metadata": {},
   "source": [
    "***13. What is the distribution of profit and amount per order?***"
   ]
  },
  {
   "cell_type": "code",
   "execution_count": 215,
   "id": "7174f648",
   "metadata": {},
   "outputs": [
    {
     "data": {
      "image/png": "[encoded data removed]",
      "text/plain": [
       "<Figure size 1200x600 with 2 Axes>"
      ]
     },
     "metadata": {},
     "output_type": "display_data"
    }
   ],
   "source": [
    "import matplotlib.pyplot as plt\n",
    "\n",
    "# Plot the distribution of profit per order\n",
    "plt.figure(figsize=(12, 6))\n",
    "\n",
    "# Profit distribution\n",
    "plt.subplot(1, 2, 1)\n",
    "plt.hist(data[\"Profit\"], bins=30, color='skyblue', edgecolor='black')\n",
    "plt.title(\"Distribution of Profit per Order\")\n",
    "plt.xlabel(\"Profit\")\n",
    "plt.ylabel(\"Frequency\")\n",
    "\n",
    "# Amount distribution\n",
    "plt.subplot(1, 2, 2)\n",
    "plt.hist(data[\"Amount\"], bins=30, color='lightgreen', edgecolor='black')\n",
    "plt.title(\"Distribution of Amount per Order\")\n",
    "plt.xlabel(\"Amount\")\n",
    "plt.ylabel(\"Frequency\")\n",
    "\n",
    "plt.tight_layout()\n",
    "plt.show()\n",
    "\n"
   ]
  },
  {
   "cell_type": "code",
   "execution_count": 216,
   "id": "33baa953",
   "metadata": {},
   "outputs": [
    {
     "data": {
      "image/png": "[encoded data removed]",
      "text/plain": [
       "<Figure size 1200x600 with 2 Axes>"
      ]
     },
     "metadata": {},
     "output_type": "display_data"
    }
   ],
   "source": [
    "import seaborn as sns\n",
    "# Plot the distribution of profit per order\n",
    "plt.figure(figsize=(12, 6))\n",
    "\n",
    "# Profit distribution\n",
    "plt.subplot(1, 2, 1)\n",
    "sns.kdeplot(data[\"Profit\"], fill=True, color='skyblue')\n",
    "plt.title(\"Profit Distribution per Order\")\n",
    "plt.xlabel(\"Profit\")\n",
    "plt.ylabel(\"Density\")\n",
    "\n",
    "# Amount distribution\n",
    "plt.subplot(1, 2, 2)\n",
    "sns.kdeplot(data[\"Amount\"], fill=True, color='lightgreen')\n",
    "plt.title(\"Amount Distribution per Order\")\n",
    "plt.xlabel(\"Amount\")\n",
    "plt.ylabel(\"Density\")\n",
    "\n",
    "plt.tight_layout()\n",
    "plt.show()\n"
   ]
  }
 ],
 "metadata": {
  "kernelspec": {
   "display_name": "Timo",
   "language": "python",
   "name": "python3"
  },
  "language_info": {
   "codemirror_mode": {
    "name": "ipython",
    "version": 3
   },
   "file_extension": ".py",
   "mimetype": "text/x-python",
   "name": "python",
   "nbconvert_exporter": "python",
   "pygments_lexer": "ipython3",
   "version": "3.13.2"
  }
 },
 "nbformat": 4,
 "nbformat_minor": 5
}
