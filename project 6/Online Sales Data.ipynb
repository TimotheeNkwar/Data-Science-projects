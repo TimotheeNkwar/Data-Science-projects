{
 "cells": [
  {
   "cell_type": "markdown",
   "id": "f6f06478",
   "metadata": {},
   "source": [
    "## 1 The Data"
   ]
  },
  {
   "cell_type": "code",
   "execution_count": 1,
   "id": "3c5927b3",
   "metadata": {},
   "outputs": [
    {
     "name": "stdout",
     "output_type": "stream",
     "text": [
      "Warning: Looks like you're using an outdated `kagglehub` version (installed: 0.3.10), please consider upgrading to the latest version (0.3.12).\n",
      "Path to dataset files: C:\\Users\\KOVVO\\.cache\\kagglehub\\datasets\\samruddhi4040\\online-sales-data\\versions\\1\n"
     ]
    }
   ],
   "source": [
    "import kagglehub\n",
    "\n",
    "# Download latest version\n",
    "path = kagglehub.dataset_download(\"samruddhi4040/online-sales-data\")\n",
    "\n",
    "print(\"Path to dataset files:\", path)"
   ]
  },
  {
   "cell_type": "code",
   "execution_count": 2,
   "id": "917bcfda-c9a6-4c35-aced-4428d0955652",
   "metadata": {},
   "outputs": [],
   "source": [
    "# import some necessary libraries\n",
    "import pandas as pd\n",
    "import seaborn as sns\n",
    "import matplotlib.pyplot as plt\n",
    "%matplotlib inline\n",
    "import plotly.express as px"
   ]
  },
  {
   "cell_type": "code",
   "execution_count": 3,
   "id": "1d0f068b",
   "metadata": {},
   "outputs": [
    {
     "data": {
      "application/vnd.microsoft.datawrangler.viewer.v0+json": {
       "columns": [
        {
         "name": "index",
         "rawType": "int64",
         "type": "integer"
        },
        {
         "name": "Order ID",
         "rawType": "object",
         "type": "string"
        },
        {
         "name": "Amount",
         "rawType": "int64",
         "type": "integer"
        },
        {
         "name": "Profit",
         "rawType": "int64",
         "type": "integer"
        },
        {
         "name": "Quantity",
         "rawType": "int64",
         "type": "integer"
        },
        {
         "name": "Category",
         "rawType": "object",
         "type": "string"
        },
        {
         "name": "Sub-Category",
         "rawType": "object",
         "type": "string"
        },
        {
         "name": "PaymentMode",
         "rawType": "object",
         "type": "string"
        }
       ],
       "conversionMethod": "pd.DataFrame",
       "ref": "18bef930-28fa-4870-a174-425722babc7f",
       "rows": [
        [
         "0",
         "B-25681",
         "1096",
         "658",
         "7",
         "Electronics",
         "Electronic Games",
         "COD"
        ],
        [
         "1",
         "B-26055",
         "5729",
         "64",
         "14",
         "Furniture",
         "Chairs",
         "EMI"
        ],
        [
         "2",
         "B-25955",
         "2927",
         "146",
         "8",
         "Furniture",
         "Bookcases",
         "EMI"
        ],
        [
         "3",
         "B-26093",
         "2847",
         "712",
         "8",
         "Electronics",
         "Printers",
         "Credit Card"
        ],
        [
         "4",
         "B-25602",
         "2617",
         "1151",
         "4",
         "Electronics",
         "Phones",
         "Credit Card"
        ],
        [
         "5",
         "B-25881",
         "2244",
         "247",
         "4",
         "Clothing",
         "Trousers",
         "Credit Card"
        ],
        [
         "6",
         "B-25696",
         "275",
         "-275",
         "4",
         "Clothing",
         "Saree",
         "COD"
        ],
        [
         "7",
         "B-25687",
         "387",
         "-213",
         "5",
         "Clothing",
         "Saree",
         "UPI"
        ],
        [
         "8",
         "B-25643",
         "50",
         "-44",
         "2",
         "Clothing",
         "Hankerchief",
         "UPI"
        ],
        [
         "9",
         "B-25851",
         "135",
         "-54",
         "5",
         "Clothing",
         "Kurti",
         "COD"
        ],
        [
         "10",
         "B-25703",
         "231",
         "-190",
         "9",
         "Clothing",
         "Hankerchief",
         "COD"
        ],
        [
         "11",
         "B-25887",
         "2125",
         "-234",
         "6",
         "Electronics",
         "Printers",
         "EMI"
        ],
        [
         "12",
         "B-25923",
         "3873",
         "-891",
         "6",
         "Electronics",
         "Phones",
         "Credit Card"
        ],
        [
         "13",
         "B-25756",
         "729",
         "-492",
         "5",
         "Furniture",
         "Bookcases",
         "UPI"
        ],
        [
         "14",
         "B-25761",
         "2188",
         "1050",
         "5",
         "Furniture",
         "Bookcases",
         "Credit Card"
        ],
        [
         "15",
         "B-25655",
         "6",
         "-3",
         "1",
         "Clothing",
         "Hankerchief",
         "UPI"
        ],
        [
         "16",
         "B-25786",
         "1854",
         "433",
         "5",
         "Furniture",
         "Bookcases",
         "Credit Card"
        ],
        [
         "17",
         "B-26095",
         "6",
         "1",
         "1",
         "Clothing",
         "Kurti",
         "UPI"
        ],
        [
         "18",
         "B-25853",
         "2093",
         "721",
         "5",
         "Furniture",
         "Chairs",
         "Credit Card"
        ],
        [
         "19",
         "B-25735",
         "7",
         "-1",
         "2",
         "Clothing",
         "Skirt",
         "UPI"
        ],
        [
         "20",
         "B-25910",
         "1622",
         "-624",
         "5",
         "Furniture",
         "Tables",
         "Credit Card"
        ],
        [
         "21",
         "B-25950",
         "1622",
         "95",
         "5",
         "Electronics",
         "Printers",
         "Credit Card"
        ],
        [
         "22",
         "B-25744",
         "373",
         "254",
         "6",
         "Electronics",
         "Printers",
         "UPI"
        ],
        [
         "23",
         "B-25845",
         "82",
         "-33",
         "4",
         "Clothing",
         "Kurti",
         "COD"
        ],
        [
         "24",
         "B-26001",
         "8",
         "2",
         "2",
         "Clothing",
         "Skirt",
         "UPI"
        ],
        [
         "25",
         "B-25830",
         "1954",
         "782",
         "3",
         "Electronics",
         "Phones",
         "Credit Card"
        ],
        [
         "26",
         "B-25842",
         "1543",
         "370",
         "8",
         "Electronics",
         "Printers",
         "Credit Card"
        ],
        [
         "27",
         "B-25778",
         "1506",
         "-266",
         "6",
         "Electronics",
         "Printers",
         "Credit Card"
        ],
        [
         "28",
         "B-25686",
         "1829",
         "-56",
         "6",
         "Furniture",
         "Tables",
         "Credit Card"
        ],
        [
         "29",
         "B-25754",
         "9",
         "-1",
         "3",
         "Clothing",
         "Skirt",
         "UPI"
        ],
        [
         "30",
         "B-26048",
         "1461",
         "202",
         "5",
         "Furniture",
         "Tables",
         "EMI"
        ],
        [
         "31",
         "B-25816",
         "391",
         "113",
         "8",
         "Clothing",
         "Stole",
         "COD"
        ],
        [
         "32",
         "B-26022",
         "1824",
         "1303",
         "8",
         "Electronics",
         "Phones",
         "Credit Card"
        ],
        [
         "33",
         "B-25883",
         "16",
         "-15",
         "4",
         "Clothing",
         "Hankerchief",
         "UPI"
        ],
        [
         "34",
         "B-26003",
         "1745",
         "122",
         "2",
         "Furniture",
         "Tables",
         "Credit Card"
        ],
        [
         "35",
         "B-26097",
         "663",
         "-212",
         "5",
         "Electronics",
         "Printers",
         "UPI"
        ],
        [
         "36",
         "B-25710",
         "10",
         "-1",
         "1",
         "Clothing",
         "Leggings",
         "UPI"
        ],
        [
         "37",
         "B-25797",
         "1630",
         "802",
         "5",
         "Furniture",
         "Tables",
         "EMI"
        ],
        [
         "38",
         "B-25618",
         "12",
         "0",
         "2",
         "Clothing",
         "Hankerchief",
         "UPI"
        ],
        [
         "39",
         "B-25723",
         "12",
         "-7",
         "2",
         "Clothing",
         "Leggings",
         "UPI"
        ],
        [
         "40",
         "B-25755",
         "1709",
         "564",
         "3",
         "Clothing",
         "Trousers",
         "Credit Card"
        ],
        [
         "41",
         "B-25788",
         "12",
         "3",
         "1",
         "Clothing",
         "Stole",
         "UPI"
        ],
        [
         "42",
         "B-25681",
         "1625",
         "-77",
         "3",
         "Electronics",
         "Phones",
         "EMI"
        ],
        [
         "43",
         "B-25991",
         "13",
         "5",
         "2",
         "Clothing",
         "Hankerchief",
         "UPI"
        ],
        [
         "44",
         "B-25779",
         "1361",
         "980",
         "3",
         "Furniture",
         "Tables",
         "COD"
        ],
        [
         "45",
         "B-25909",
         "1622",
         "-448",
         "3",
         "Electronics",
         "Phones",
         "EMI"
        ],
        [
         "46",
         "B-25943",
         "1547",
         "340",
         "6",
         "Electronics",
         "Accessories",
         "EMI"
        ],
        [
         "47",
         "B-25935",
         "1657",
         "460",
         "4",
         "Furniture",
         "Chairs",
         "Credit Card"
        ],
        [
         "48",
         "B-25613",
         "1603",
         "0",
         "9",
         "Clothing",
         "Saree",
         "Credit Card"
        ],
        [
         "49",
         "B-25729",
         "1549",
         "-439",
         "4",
         "Electronics",
         "Phones",
         "Credit Card"
        ]
       ],
       "shape": {
        "columns": 7,
        "rows": 1500
       }
      },
      "text/html": [
       "<div>\n",
       "<style scoped>\n",
       "    .dataframe tbody tr th:only-of-type {\n",
       "        vertical-align: middle;\n",
       "    }\n",
       "\n",
       "    .dataframe tbody tr th {\n",
       "        vertical-align: top;\n",
       "    }\n",
       "\n",
       "    .dataframe thead th {\n",
       "        text-align: right;\n",
       "    }\n",
       "</style>\n",
       "<table border=\"1\" class=\"dataframe\">\n",
       "  <thead>\n",
       "    <tr style=\"text-align: right;\">\n",
       "      <th></th>\n",
       "      <th>Order ID</th>\n",
       "      <th>Amount</th>\n",
       "      <th>Profit</th>\n",
       "      <th>Quantity</th>\n",
       "      <th>Category</th>\n",
       "      <th>Sub-Category</th>\n",
       "      <th>PaymentMode</th>\n",
       "    </tr>\n",
       "  </thead>\n",
       "  <tbody>\n",
       "    <tr>\n",
       "      <th>0</th>\n",
       "      <td>B-25681</td>\n",
       "      <td>1096</td>\n",
       "      <td>658</td>\n",
       "      <td>7</td>\n",
       "      <td>Electronics</td>\n",
       "      <td>Electronic Games</td>\n",
       "      <td>COD</td>\n",
       "    </tr>\n",
       "    <tr>\n",
       "      <th>1</th>\n",
       "      <td>B-26055</td>\n",
       "      <td>5729</td>\n",
       "      <td>64</td>\n",
       "      <td>14</td>\n",
       "      <td>Furniture</td>\n",
       "      <td>Chairs</td>\n",
       "      <td>EMI</td>\n",
       "    </tr>\n",
       "    <tr>\n",
       "      <th>2</th>\n",
       "      <td>B-25955</td>\n",
       "      <td>2927</td>\n",
       "      <td>146</td>\n",
       "      <td>8</td>\n",
       "      <td>Furniture</td>\n",
       "      <td>Bookcases</td>\n",
       "      <td>EMI</td>\n",
       "    </tr>\n",
       "    <tr>\n",
       "      <th>3</th>\n",
       "      <td>B-26093</td>\n",
       "      <td>2847</td>\n",
       "      <td>712</td>\n",
       "      <td>8</td>\n",
       "      <td>Electronics</td>\n",
       "      <td>Printers</td>\n",
       "      <td>Credit Card</td>\n",
       "    </tr>\n",
       "    <tr>\n",
       "      <th>4</th>\n",
       "      <td>B-25602</td>\n",
       "      <td>2617</td>\n",
       "      <td>1151</td>\n",
       "      <td>4</td>\n",
       "      <td>Electronics</td>\n",
       "      <td>Phones</td>\n",
       "      <td>Credit Card</td>\n",
       "    </tr>\n",
       "    <tr>\n",
       "      <th>...</th>\n",
       "      <td>...</td>\n",
       "      <td>...</td>\n",
       "      <td>...</td>\n",
       "      <td>...</td>\n",
       "      <td>...</td>\n",
       "      <td>...</td>\n",
       "      <td>...</td>\n",
       "    </tr>\n",
       "    <tr>\n",
       "      <th>1495</th>\n",
       "      <td>B-25700</td>\n",
       "      <td>7</td>\n",
       "      <td>-3</td>\n",
       "      <td>2</td>\n",
       "      <td>Clothing</td>\n",
       "      <td>Hankerchief</td>\n",
       "      <td>COD</td>\n",
       "    </tr>\n",
       "    <tr>\n",
       "      <th>1496</th>\n",
       "      <td>B-25757</td>\n",
       "      <td>3151</td>\n",
       "      <td>-35</td>\n",
       "      <td>7</td>\n",
       "      <td>Clothing</td>\n",
       "      <td>Trousers</td>\n",
       "      <td>EMI</td>\n",
       "    </tr>\n",
       "    <tr>\n",
       "      <th>1497</th>\n",
       "      <td>B-25973</td>\n",
       "      <td>4141</td>\n",
       "      <td>1698</td>\n",
       "      <td>13</td>\n",
       "      <td>Electronics</td>\n",
       "      <td>Printers</td>\n",
       "      <td>COD</td>\n",
       "    </tr>\n",
       "    <tr>\n",
       "      <th>1498</th>\n",
       "      <td>B-25698</td>\n",
       "      <td>7</td>\n",
       "      <td>-2</td>\n",
       "      <td>1</td>\n",
       "      <td>Clothing</td>\n",
       "      <td>Hankerchief</td>\n",
       "      <td>COD</td>\n",
       "    </tr>\n",
       "    <tr>\n",
       "      <th>1499</th>\n",
       "      <td>B-25993</td>\n",
       "      <td>4363</td>\n",
       "      <td>305</td>\n",
       "      <td>5</td>\n",
       "      <td>Furniture</td>\n",
       "      <td>Tables</td>\n",
       "      <td>EMI</td>\n",
       "    </tr>\n",
       "  </tbody>\n",
       "</table>\n",
       "<p>1500 rows × 7 columns</p>\n",
       "</div>"
      ],
      "text/plain": [
       "     Order ID  Amount  Profit  Quantity     Category      Sub-Category  \\\n",
       "0     B-25681    1096     658         7  Electronics  Electronic Games   \n",
       "1     B-26055    5729      64        14    Furniture            Chairs   \n",
       "2     B-25955    2927     146         8    Furniture         Bookcases   \n",
       "3     B-26093    2847     712         8  Electronics          Printers   \n",
       "4     B-25602    2617    1151         4  Electronics            Phones   \n",
       "...       ...     ...     ...       ...          ...               ...   \n",
       "1495  B-25700       7      -3         2     Clothing       Hankerchief   \n",
       "1496  B-25757    3151     -35         7     Clothing          Trousers   \n",
       "1497  B-25973    4141    1698        13  Electronics          Printers   \n",
       "1498  B-25698       7      -2         1     Clothing       Hankerchief   \n",
       "1499  B-25993    4363     305         5    Furniture            Tables   \n",
       "\n",
       "      PaymentMode  \n",
       "0             COD  \n",
       "1             EMI  \n",
       "2             EMI  \n",
       "3     Credit Card  \n",
       "4     Credit Card  \n",
       "...           ...  \n",
       "1495          COD  \n",
       "1496          EMI  \n",
       "1497          COD  \n",
       "1498          COD  \n",
       "1499          EMI  \n",
       "\n",
       "[1500 rows x 7 columns]"
      ]
     },
     "execution_count": 3,
     "metadata": {},
     "output_type": "execute_result"
    }
   ],
   "source": [
    "#read the Details dataset\n",
    "data = pd.read_csv(\"Details.csv\")\n",
    "data"
   ]
  },
  {
   "cell_type": "code",
   "execution_count": 4,
   "id": "87bf6d31",
   "metadata": {},
   "outputs": [
    {
     "name": "stdout",
     "output_type": "stream",
     "text": [
      "<class 'pandas.core.frame.DataFrame'>\n",
      "RangeIndex: 1500 entries, 0 to 1499\n",
      "Data columns (total 7 columns):\n",
      " #   Column        Non-Null Count  Dtype \n",
      "---  ------        --------------  ----- \n",
      " 0   Order ID      1500 non-null   object\n",
      " 1   Amount        1500 non-null   int64 \n",
      " 2   Profit        1500 non-null   int64 \n",
      " 3   Quantity      1500 non-null   int64 \n",
      " 4   Category      1500 non-null   object\n",
      " 5   Sub-Category  1500 non-null   object\n",
      " 6   PaymentMode   1500 non-null   object\n",
      "dtypes: int64(3), object(4)\n",
      "memory usage: 82.2+ KB\n"
     ]
    }
   ],
   "source": [
    "# check the datatypes of the data\n",
    "data.info()"
   ]
  },
  {
   "cell_type": "code",
   "execution_count": 5,
   "id": "ccb718ea",
   "metadata": {},
   "outputs": [
    {
     "data": {
      "text/plain": [
       "Order ID        0\n",
       "Amount          0\n",
       "Profit          0\n",
       "Quantity        0\n",
       "Category        0\n",
       "Sub-Category    0\n",
       "PaymentMode     0\n",
       "dtype: int64"
      ]
     },
     "execution_count": 5,
     "metadata": {},
     "output_type": "execute_result"
    }
   ],
   "source": [
    "# check the missing values\n",
    "data.isnull().sum()*100"
   ]
  },
  {
   "cell_type": "code",
   "execution_count": 6,
   "id": "0b7c825e",
   "metadata": {},
   "outputs": [
    {
     "data": {
      "application/vnd.microsoft.datawrangler.viewer.v0+json": {
       "columns": [
        {
         "name": "index",
         "rawType": "object",
         "type": "string"
        },
        {
         "name": "Amount",
         "rawType": "float64",
         "type": "float"
        },
        {
         "name": "Profit",
         "rawType": "float64",
         "type": "float"
        },
        {
         "name": "Quantity",
         "rawType": "float64",
         "type": "float"
        }
       ],
       "conversionMethod": "pd.DataFrame",
       "ref": "f8c35c52-5f6b-4cea-89e1-bbf6b544377a",
       "rows": [
        [
         "count",
         "1500.0",
         "1500.0",
         "1500.0"
        ],
        [
         "mean",
         "291.8473333333333",
         "24.642",
         "3.743333333333333"
        ],
        [
         "std",
         "461.9246203976451",
         "168.5588103631312",
         "2.1849419984475427"
        ],
        [
         "min",
         "4.0",
         "-1981.0",
         "1.0"
        ],
        [
         "25%",
         "47.75",
         "-12.0",
         "2.0"
        ],
        [
         "50%",
         "122.0",
         "8.0",
         "3.0"
        ],
        [
         "75%",
         "326.25",
         "38.0",
         "5.0"
        ],
        [
         "max",
         "5729.0",
         "1864.0",
         "14.0"
        ]
       ],
       "shape": {
        "columns": 3,
        "rows": 8
       }
      },
      "text/html": [
       "<div>\n",
       "<style scoped>\n",
       "    .dataframe tbody tr th:only-of-type {\n",
       "        vertical-align: middle;\n",
       "    }\n",
       "\n",
       "    .dataframe tbody tr th {\n",
       "        vertical-align: top;\n",
       "    }\n",
       "\n",
       "    .dataframe thead th {\n",
       "        text-align: right;\n",
       "    }\n",
       "</style>\n",
       "<table border=\"1\" class=\"dataframe\">\n",
       "  <thead>\n",
       "    <tr style=\"text-align: right;\">\n",
       "      <th></th>\n",
       "      <th>Amount</th>\n",
       "      <th>Profit</th>\n",
       "      <th>Quantity</th>\n",
       "    </tr>\n",
       "  </thead>\n",
       "  <tbody>\n",
       "    <tr>\n",
       "      <th>count</th>\n",
       "      <td>1500.000000</td>\n",
       "      <td>1500.00000</td>\n",
       "      <td>1500.000000</td>\n",
       "    </tr>\n",
       "    <tr>\n",
       "      <th>mean</th>\n",
       "      <td>291.847333</td>\n",
       "      <td>24.64200</td>\n",
       "      <td>3.743333</td>\n",
       "    </tr>\n",
       "    <tr>\n",
       "      <th>std</th>\n",
       "      <td>461.924620</td>\n",
       "      <td>168.55881</td>\n",
       "      <td>2.184942</td>\n",
       "    </tr>\n",
       "    <tr>\n",
       "      <th>min</th>\n",
       "      <td>4.000000</td>\n",
       "      <td>-1981.00000</td>\n",
       "      <td>1.000000</td>\n",
       "    </tr>\n",
       "    <tr>\n",
       "      <th>25%</th>\n",
       "      <td>47.750000</td>\n",
       "      <td>-12.00000</td>\n",
       "      <td>2.000000</td>\n",
       "    </tr>\n",
       "    <tr>\n",
       "      <th>50%</th>\n",
       "      <td>122.000000</td>\n",
       "      <td>8.00000</td>\n",
       "      <td>3.000000</td>\n",
       "    </tr>\n",
       "    <tr>\n",
       "      <th>75%</th>\n",
       "      <td>326.250000</td>\n",
       "      <td>38.00000</td>\n",
       "      <td>5.000000</td>\n",
       "    </tr>\n",
       "    <tr>\n",
       "      <th>max</th>\n",
       "      <td>5729.000000</td>\n",
       "      <td>1864.00000</td>\n",
       "      <td>14.000000</td>\n",
       "    </tr>\n",
       "  </tbody>\n",
       "</table>\n",
       "</div>"
      ],
      "text/plain": [
       "            Amount      Profit     Quantity\n",
       "count  1500.000000  1500.00000  1500.000000\n",
       "mean    291.847333    24.64200     3.743333\n",
       "std     461.924620   168.55881     2.184942\n",
       "min       4.000000 -1981.00000     1.000000\n",
       "25%      47.750000   -12.00000     2.000000\n",
       "50%     122.000000     8.00000     3.000000\n",
       "75%     326.250000    38.00000     5.000000\n",
       "max    5729.000000  1864.00000    14.000000"
      ]
     },
     "execution_count": 6,
     "metadata": {},
     "output_type": "execute_result"
    }
   ],
   "source": [
    "# check the statistics of the data \n",
    "data.describe()"
   ]
  },
  {
   "cell_type": "markdown",
   "id": "93489765",
   "metadata": {},
   "source": [
    "## 2 Sales analysis"
   ]
  },
  {
   "cell_type": "markdown",
   "id": "ba768f1a",
   "metadata": {},
   "source": [
    "---\n",
    "\n",
    "### 📊 **Revenue & Profit**\n",
    "\n",
    "1. What is the total **revenue** (`Amount.sum()`)?\n",
    "2. What is the total **profit** (`Profit.sum()`)?\n",
    "3. What is the **average profit margin** per order?\n",
    "4. Which **orders** had the highest revenue and profit?\n",
    "\n",
    "---"
   ]
  },
  {
   "cell_type": "markdown",
   "id": "03eb397d",
   "metadata": {},
   "source": [
    "***1. What is the total revenue (`Amount.sum()`)?***\n"
   ]
  },
  {
   "cell_type": "code",
   "execution_count": 7,
   "id": "a595b2f6",
   "metadata": {},
   "outputs": [
    {
     "name": "stdout",
     "output_type": "stream",
     "text": [
      "Total revenue is  437771\n"
     ]
    }
   ],
   "source": [
    "total_revenue =data[\"Amount\"].sum()\n",
    "print(\"Total revenue is \",total_revenue)"
   ]
  },
  {
   "cell_type": "markdown",
   "id": "055c8465",
   "metadata": {},
   "source": [
    "***2. What is the total profit (`Profit.sum()`)?***\n"
   ]
  },
  {
   "cell_type": "code",
   "execution_count": 8,
   "id": "d2d1d6f6",
   "metadata": {},
   "outputs": [
    {
     "name": "stdout",
     "output_type": "stream",
     "text": [
      "Total revenue is  36963\n"
     ]
    }
   ],
   "source": [
    "total_profit =data[\"Profit\"].sum()\n",
    "print(\"Total revenue is \",total_profit)"
   ]
  },
  {
   "cell_type": "markdown",
   "id": "7574d199",
   "metadata": {},
   "source": [
    "***3. What is the average profit margin per order?***\n"
   ]
  },
  {
   "cell_type": "code",
   "execution_count": 9,
   "id": "580a9c23",
   "metadata": {},
   "outputs": [
    {
     "name": "stdout",
     "output_type": "stream",
     "text": [
      "Average profit margin per order: 1.92 %\n"
     ]
    }
   ],
   "source": [
    "# Avoid division by zero\n",
    "data = data[data[\"Amount\"] != 0]\n",
    "\n",
    "# Calculate profit margin per order\n",
    "data[\"Profit_Margin\"] = data[\"Profit\"] / data[\"Amount\"]\n",
    "\n",
    "# Average profit margin\n",
    "avg_profit_margin = data[\"Profit_Margin\"].mean()\n",
    "\n",
    "print(\"Average profit margin per order:\", round(avg_profit_margin * 100, 2), \"%\")\n"
   ]
  },
  {
   "cell_type": "markdown",
   "id": "a107b4b6",
   "metadata": {},
   "source": [
    "***4. Which orders had the highest revenue and profit?***"
   ]
  },
  {
   "cell_type": "code",
   "execution_count": 10,
   "id": "0d88e9ef",
   "metadata": {},
   "outputs": [
    {
     "name": "stdout",
     "output_type": "stream",
     "text": [
      "Top 5 orders by revenue:\n",
      "     Order ID  Amount  Profit\n",
      "1     B-26055    5729      64\n",
      "1499  B-25993    4363     305\n",
      "1497  B-25973    4141    1698\n",
      "12    B-25923    3873    -891\n",
      "1496  B-25757    3151     -35\n",
      "\n",
      "Top 5 orders by profit:\n",
      "     Order ID  Amount  Profit\n",
      "59    B-25608    1364    1864\n",
      "1497  B-25973    4141    1698\n",
      "32    B-26022    1824    1303\n",
      "4     B-25602    2617    1151\n",
      "1423  B-25601    1275    1148\n"
     ]
    }
   ],
   "source": [
    "# Top 5 orders by revenue\n",
    "top_revenue_orders = data.sort_values(by=\"Amount\", ascending=False).head(5)\n",
    "print(\"Top 5 orders by revenue:\")\n",
    "print(top_revenue_orders[[\"Order ID\", \"Amount\", \"Profit\"]])\n",
    "\n",
    "# Top 5 orders by profit\n",
    "top_profit_orders = data.sort_values(by=\"Profit\", ascending=False).head(5)\n",
    "print(\"\\nTop 5 orders by profit:\")\n",
    "print(top_profit_orders[[\"Order ID\", \"Amount\", \"Profit\"]])\n"
   ]
  },
  {
   "cell_type": "markdown",
   "id": "15f37626",
   "metadata": {},
   "source": [
    "---\n",
    "### 📦 **Product & Category Performance**\n",
    "\n",
    "5. Which **categories** generate the most revenue and profit?\n",
    "6. Which **sub-categories** are performing the best and worst?\n",
    "7. What is the **average quantity** sold per category or sub-category?\n",
    "8. Which sub-categories have **high sales but low profit**?\n",
    "\n",
    "---"
   ]
  },
  {
   "cell_type": "markdown",
   "id": "e16d07a2",
   "metadata": {},
   "source": [
    "***5. Which categories generate the most revenue and profit?***\n",
    "\n"
   ]
  },
  {
   "cell_type": "code",
   "execution_count": 11,
   "id": "fb4be5e2",
   "metadata": {},
   "outputs": [
    {
     "name": "stdout",
     "output_type": "stream",
     "text": [
      "Revenue and Profit by Category:\n",
      "             Amount  Profit\n",
      "Category                   \n",
      "Electronics  166267   13162\n",
      "Clothing     144323   13325\n",
      "Furniture    127181   10476\n"
     ]
    }
   ],
   "source": [
    "# Group by Category and sum Amount and Profit\n",
    "category_summary = data.groupby(\"Category\")[[\"Amount\", \"Profit\"]].sum().sort_values(by=\"Amount\", ascending=False)\n",
    "\n",
    "print(\"Revenue and Profit by Category:\")\n",
    "print(category_summary)\n"
   ]
  },
  {
   "cell_type": "code",
   "execution_count": null,
   "id": "ffee94f0",
   "metadata": {},
   "outputs": [
    {
     "data": {
      "image/png": "[encoded data removed]",
      "text/plain": [
       "<Figure size 800x500 with 1 Axes>"
      ]
     },
     "metadata": {},
     "output_type": "display_data"
    }
   ],
   "source": [
    "category_summary.plot(kind=\"bar\", figsize=(8,5))\n",
    "plt.title(\"Revenue and Profit by Category\")\n",
    "plt.ylabel(\"Amount\")\n",
    "plt.xticks(rotation=45)\n",
    "plt.grid(axis='y')\n",
    "plt.tight_layout()\n",
    "plt.show()\n"
   ]
  },
  {
   "cell_type": "markdown",
   "id": "47069a6d",
   "metadata": {},
   "source": [
    "***6. Which sub-categories are performing the best and worst?***\n"
   ]
  },
  {
   "cell_type": "code",
   "execution_count": 12,
   "id": "e34f2dd9",
   "metadata": {},
   "outputs": [
    {
     "name": "stdout",
     "output_type": "stream",
     "text": [
      "🔝 Top 5 Sub-Categories by Revenue:\n",
      "                   Amount  Profit\n",
      "Sub-Category                    \n",
      "Printers           59252    8606\n",
      "Saree              59094    4057\n",
      "Bookcases          56861    6516\n",
      "Phones             46119    1847\n",
      "Electronic Games   39168    -644\n",
      "\n",
      "💰 Top 5 Sub-Categories by Profit:\n",
      "               Amount  Profit\n",
      "Sub-Category                \n",
      "Printers       59252    8606\n",
      "Bookcases      56861    6516\n",
      "Saree          59094    4057\n",
      "Accessories    21728    3353\n",
      "Tables         22614    3139\n",
      "\n",
      "🔻 Bottom 5 Sub-Categories by Revenue:\n",
      "               Amount  Profit\n",
      "Sub-Category                \n",
      "Skirt           1946    -315\n",
      "Leggings        2106    -130\n",
      "Kurti           3361    -401\n",
      "T-shirt         7382    1500\n",
      "Shirt           7555    1513\n",
      "\n",
      "📉 Bottom 5 Sub-Categories by Profit:\n",
      "                   Amount  Profit\n",
      "Sub-Category                    \n",
      "Furnishings        13484    -806\n",
      "Electronic Games   39168    -644\n",
      "Kurti               3361    -401\n",
      "Skirt               1946    -315\n",
      "Leggings            2106    -130\n"
     ]
    }
   ],
   "source": [
    "# Group by Sub-Category and sum Amount and Profit\n",
    "subcat_summary = data.groupby(\"Sub-Category\")[[\"Amount\", \"Profit\"]].sum()\n",
    "\n",
    "# Best performing (highest revenue & profit)\n",
    "best_revenue = subcat_summary.sort_values(by=\"Amount\", ascending=False).head(5)\n",
    "best_profit = subcat_summary.sort_values(by=\"Profit\", ascending=False).head(5)\n",
    "\n",
    "# Worst performing (lowest revenue & profit)\n",
    "worst_revenue = subcat_summary.sort_values(by=\"Amount\", ascending=True).head(5)\n",
    "worst_profit = subcat_summary.sort_values(by=\"Profit\", ascending=True).head(5)\n",
    "\n",
    "print(\"🔝 Top 5 Sub-Categories by Revenue:\\n\", best_revenue)\n",
    "print(\"\\n💰 Top 5 Sub-Categories by Profit:\\n\", best_profit)\n",
    "print(\"\\n🔻 Bottom 5 Sub-Categories by Revenue:\\n\", worst_revenue)\n",
    "print(\"\\n📉 Bottom 5 Sub-Categories by Profit:\\n\", worst_profit)\n"
   ]
  },
  {
   "cell_type": "markdown",
   "id": "208bf8a8",
   "metadata": {},
   "source": [
    "***7. What is the average quantity sold per category or sub-category?***\n"
   ]
  },
  {
   "cell_type": "code",
   "execution_count": 13,
   "id": "874c5a38",
   "metadata": {},
   "outputs": [
    {
     "name": "stdout",
     "output_type": "stream",
     "text": [
      "Average Quantity Sold per Category:\n",
      " Category\n",
      "Clothing       3.704953\n",
      "Electronics    3.746753\n",
      "Furniture      3.888889\n",
      "Name: Quantity, dtype: float64\n",
      "\n",
      "Average Quantity Sold per Sub-Category:\n",
      " Sub-Category\n",
      "Accessories         3.638889\n",
      "Bookcases           3.759494\n",
      "Chairs              3.743243\n",
      "Electronic Games    3.759494\n",
      "Furnishings         4.246575\n",
      "Hankerchief         3.761421\n",
      "Kurti               3.489362\n",
      "Leggings            3.509434\n",
      "Phones              3.662651\n",
      "Printers            3.932432\n",
      "Saree               3.767773\n",
      "Shirt               3.927536\n",
      "Skirt               3.875000\n",
      "Stole               3.494792\n",
      "T-shirt             3.961039\n",
      "Tables              3.588235\n",
      "Trousers            3.461538\n",
      "Name: Quantity, dtype: float64\n"
     ]
    }
   ],
   "source": [
    "# Average quantity sold per category\n",
    "avg_quantity_by_category = data.groupby(\"Category\")[\"Quantity\"].mean()\n",
    "\n",
    "# Average quantity sold per sub-category\n",
    "avg_quantity_by_subcategory = data.groupby(\"Sub-Category\")[\"Quantity\"].mean()\n",
    "\n",
    "print(\"Average Quantity Sold per Category:\\n\", avg_quantity_by_category)\n",
    "print(\"\\nAverage Quantity Sold per Sub-Category:\\n\", avg_quantity_by_subcategory)\n"
   ]
  },
  {
   "cell_type": "markdown",
   "id": "d29e517f",
   "metadata": {},
   "source": [
    "***8. Which sub-categories have high sales but low profit?***"
   ]
  },
  {
   "cell_type": "code",
   "execution_count": 14,
   "id": "2c61541f",
   "metadata": {},
   "outputs": [
    {
     "name": "stdout",
     "output_type": "stream",
     "text": [
      "Revenue and Profit by Category:\n",
      "             Amount  Profit\n",
      "Category                   \n",
      "Electronics  166267   13162\n",
      "Clothing     144323   13325\n",
      "Furniture    127181   10476\n"
     ]
    }
   ],
   "source": [
    "# Group by Category and sum Amount and Profit\n",
    "category_summary = data.groupby(\"Category\")[[\"Amount\", \"Profit\"]].sum().sort_values(by=\"Amount\", ascending=False)\n",
    "\n",
    "print(\"Revenue and Profit by Category:\")\n",
    "print(category_summary)\n"
   ]
  },
  {
   "cell_type": "code",
   "execution_count": null,
   "id": "569db7cc",
   "metadata": {},
   "outputs": [
    {
     "data": {
      "image/png": "[encoded data removed]",
      "text/plain": [
       "<Figure size 800x500 with 1 Axes>"
      ]
     },
     "metadata": {},
     "output_type": "display_data"
    }
   ],
   "source": [
    "category_summary.plot(kind=\"bar\", figsize=(8,5))\n",
    "plt.title(\"Revenue and Profit by Category\")\n",
    "plt.ylabel(\"Amount\")\n",
    "plt.xticks(rotation=45)\n",
    "plt.grid(axis='y')\n",
    "plt.tight_layout()\n",
    "plt.show()\n"
   ]
  },
  {
   "cell_type": "markdown",
   "id": "dd998124",
   "metadata": {},
   "source": [
    "\n",
    "---\n",
    "### 💳 **Payment Behavior**\n",
    "\n",
    "9. What are the most used **payment modes**?\n",
    "10. Is there a difference in **profit or quantity sold by payment method**?\n",
    "\n",
    "---"
   ]
  },
  {
   "cell_type": "markdown",
   "id": "3b831375",
   "metadata": {},
   "source": [
    "***9. What are the most used payment modes?***\n"
   ]
  },
  {
   "cell_type": "code",
   "execution_count": 21,
   "id": "daf3e2c1",
   "metadata": {},
   "outputs": [
    {
     "data": {
      "text/plain": [
       "PaymentMode\n",
       "COD            684\n",
       "UPI            331\n",
       "Debit Card     202\n",
       "Credit Card    163\n",
       "EMI            120\n",
       "Name: count, dtype: int64"
      ]
     },
     "execution_count": 21,
     "metadata": {},
     "output_type": "execute_result"
    }
   ],
   "source": [
    "data[\"PaymentMode\"].value_counts()"
   ]
  },
  {
   "cell_type": "markdown",
   "id": "fb052008",
   "metadata": {},
   "source": [
    "***10. Is there a difference in profit or quantity sold by payment method?***"
   ]
  },
  {
   "cell_type": "code",
   "execution_count": 22,
   "id": "7fb08d76",
   "metadata": {},
   "outputs": [
    {
     "name": "stdout",
     "output_type": "stream",
     "text": [
      "Total Profit and Quantity Sold by Payment Method:\n",
      "              Profit  Quantity\n",
      "PaymentMode                  \n",
      "COD           12547      2456\n",
      "Credit Card   12612       672\n",
      "Debit Card     3694       741\n",
      "EMI            4824       589\n",
      "UPI            3286      1157\n",
      "\n",
      "Average Profit and Quantity Sold by Payment Method:\n",
      "                 Profit  Quantity\n",
      "PaymentMode                     \n",
      "COD          18.343567  3.590643\n",
      "Credit Card  77.374233  4.122699\n",
      "Debit Card   18.287129  3.668317\n",
      "EMI          40.200000  4.908333\n",
      "UPI           9.927492  3.495468\n"
     ]
    }
   ],
   "source": [
    "# Group by PaymentMode and calculate total profit and total quantity sold\n",
    "payment_summary = data.groupby(\"PaymentMode\")[[\"Profit\", \"Quantity\"]].sum()\n",
    "\n",
    "# You can also calculate the average for each\n",
    "payment_avg = data.groupby(\"PaymentMode\")[[\"Profit\", \"Quantity\"]].mean()\n",
    "\n",
    "print(\"Total Profit and Quantity Sold by Payment Method:\\n\", payment_summary)\n",
    "print(\"\\nAverage Profit and Quantity Sold by Payment Method:\\n\", payment_avg)\n"
   ]
  },
  {
   "cell_type": "code",
   "execution_count": 23,
   "id": "5e781c94",
   "metadata": {},
   "outputs": [
    {
     "data": {
      "image/png": "[encoded data removed]",
      "text/plain": [
       "<Figure size 1000x500 with 1 Axes>"
      ]
     },
     "metadata": {},
     "output_type": "display_data"
    },
    {
     "data": {
      "image/png": "[encoded data removed]",
      "text/plain": [
       "<Figure size 1000x500 with 1 Axes>"
      ]
     },
     "metadata": {},
     "output_type": "display_data"
    }
   ],
   "source": [
    "# Plot for total profit by PaymentMode\n",
    "payment_summary[\"Profit\"].plot(kind=\"bar\", figsize=(10,5), color='orange')\n",
    "plt.title(\"Total Profit by Payment Method\")\n",
    "plt.ylabel(\"Total Profit\")\n",
    "plt.xticks(rotation=45)\n",
    "plt.tight_layout()\n",
    "plt.show()\n",
    "\n",
    "# Plot for total quantity sold by PaymentMode\n",
    "payment_summary[\"Quantity\"].plot(kind=\"bar\", figsize=(10,5), color='lightblue')\n",
    "plt.title(\"Total Quantity Sold by Payment Method\")\n",
    "plt.ylabel(\"Total Quantity Sold\")\n",
    "plt.xticks(rotation=45)\n",
    "plt.tight_layout()\n",
    "plt.show()\n"
   ]
  },
  {
   "cell_type": "markdown",
   "id": "8fa711ed",
   "metadata": {},
   "source": [
    "---\n",
    "### 🔍 **Order-level Analysis**\n",
    "\n",
    "11. What is the **average order value** (AOV)?\n",
    "12. How many total **orders** were placed?\n",
    "13. What is the **distribution of profit and amount per order**?\n",
    "\n",
    "---\n",
    "\n"
   ]
  },
  {
   "cell_type": "markdown",
   "id": "64408e7d",
   "metadata": {},
   "source": [
    "***11. What is the average order value (AOV)?***\n",
    "\n"
   ]
  },
  {
   "cell_type": "markdown",
   "id": "f3863657",
   "metadata": {},
   "source": [
    "The **Average Order Value** (AOV) is the average amount spent per order. It can be calculated by dividing the total **revenue** (or **Amount**) by the total number of **orders**.\n",
    "\n",
    "---\n",
    "\n",
    "### ✅ Formula for AOV:\n",
    "\n",
    "$$\n",
    "\\text{AOV} = \\frac{\\text{Total Revenue (Amount)}}{\\text{Number of Orders}}\n",
    "$$\n",
    "\n",
    "\n",
    "```"
   ]
  },
  {
   "cell_type": "code",
   "execution_count": 24,
   "id": "4e3694df",
   "metadata": {},
   "outputs": [
    {
     "name": "stdout",
     "output_type": "stream",
     "text": [
      "Average Order Value (AOV): 875.54\n"
     ]
    }
   ],
   "source": [
    "# Calculate the total revenue (Amount)\n",
    "total_revenue = data[\"Amount\"].sum()\n",
    "\n",
    "# Calculate the total number of unique orders\n",
    "total_orders = data[\"Order ID\"].nunique()\n",
    "\n",
    "# Calculate Average Order Value (AOV)\n",
    "AOV = total_revenue / total_orders\n",
    "\n",
    "print(\"Average Order Value (AOV):\", round(AOV, 2))"
   ]
  },
  {
   "cell_type": "markdown",
   "id": "ddc5804c",
   "metadata": {},
   "source": [
    "***12. How many total orders were placed?***\n"
   ]
  },
  {
   "cell_type": "code",
   "execution_count": null,
   "id": "d6c4514d",
   "metadata": {},
   "outputs": [
    {
     "name": "stdout",
     "output_type": "stream",
     "text": [
      "Total number of orders placed: 500\n"
     ]
    }
   ],
   "source": [
    "# Calculate the total number of unique orders\n",
    "total_orders = data[\"Order ID\"].nunique()\n",
    "print(\"Total number of orders placed:\", total_orders)"
   ]
  },
  {
   "cell_type": "markdown",
   "id": "0864da04",
   "metadata": {},
   "source": [
    "***13. What is the distribution of profit and amount per order?***"
   ]
  },
  {
   "cell_type": "code",
   "execution_count": 38,
   "id": "7174f648",
   "metadata": {},
   "outputs": [
    {
     "data": {
      "image/png": "[encoded data removed]",
      "text/plain": [
       "<Figure size 1200x600 with 2 Axes>"
      ]
     },
     "metadata": {},
     "output_type": "display_data"
    }
   ],
   "source": [
    "import matplotlib.pyplot as plt\n",
    "\n",
    "# Plot the distribution of profit per order\n",
    "plt.figure(figsize=(12, 6))\n",
    "\n",
    "# Profit distribution\n",
    "plt.subplot(1, 2, 1)\n",
    "plt.hist(data[\"Profit\"], bins=30, color='skyblue', edgecolor='black')\n",
    "plt.title(\"Distribution of Profit per Order\")\n",
    "plt.xlabel(\"Profit\")\n",
    "plt.ylabel(\"Frequency\")\n",
    "\n",
    "# Amount distribution\n",
    "plt.subplot(1, 2, 2)\n",
    "plt.hist(data[\"Amount\"], bins=30, color='lightgreen', edgecolor='black')\n",
    "plt.title(\"Distribution of Amount per Order\")\n",
    "plt.xlabel(\"Amount\")\n",
    "plt.ylabel(\"Frequency\")\n",
    "\n",
    "plt.tight_layout()\n",
    "plt.show()\n",
    "\n"
   ]
  },
  {
   "cell_type": "code",
   "execution_count": 39,
   "id": "33baa953",
   "metadata": {},
   "outputs": [
    {
     "data": {
      "image/png": "[encoded data removed]",
      "text/plain": [
       "<Figure size 1200x600 with 2 Axes>"
      ]
     },
     "metadata": {},
     "output_type": "display_data"
    }
   ],
   "source": [
    "import seaborn as sns\n",
    "# Plot the distribution of profit per order\n",
    "plt.figure(figsize=(12, 6))\n",
    "\n",
    "# Profit distribution\n",
    "plt.subplot(1, 2, 1)\n",
    "sns.kdeplot(data[\"Profit\"], fill=True, color='skyblue')\n",
    "plt.title(\"Profit Distribution per Order\")\n",
    "plt.xlabel(\"Profit\")\n",
    "plt.ylabel(\"Density\")\n",
    "\n",
    "# Amount distribution\n",
    "plt.subplot(1, 2, 2)\n",
    "sns.kdeplot(data[\"Amount\"], fill=True, color='lightgreen')\n",
    "plt.title(\"Amount Distribution per Order\")\n",
    "plt.xlabel(\"Amount\")\n",
    "plt.ylabel(\"Density\")\n",
    "\n",
    "plt.tight_layout()\n",
    "plt.show()\n"
   ]
  }
 ],
 "metadata": {
  "kernelspec": {
   "display_name": "Timo",
   "language": "python",
   "name": "python3"
  },
  "language_info": {
   "codemirror_mode": {
    "name": "ipython",
    "version": 3
   },
   "file_extension": ".py",
   "mimetype": "text/x-python",
   "name": "python",
   "nbconvert_exporter": "python",
   "pygments_lexer": "ipython3",
   "version": "3.13.2"
  }
 },
 "nbformat": 4,
 "nbformat_minor": 5
}
